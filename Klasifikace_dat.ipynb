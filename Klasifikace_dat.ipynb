{
 "cells": [
  {
   "cell_type": "code",
   "execution_count": null,
   "id": "30e31da4",
   "metadata": {},
   "outputs": [],
   "source": [
    "Cíle:\n",
    "Provést průzkumnou faktorovou analýzu s cílem zjistit latentní proměnné a pochopit, \n",
    "které faktory spokojenosti zákazníků se sdružují do skupin\n",
    "\n",
    "Které faktory ovlivňují spokojenost nejvíce? K tomu využijeme lineární regresi.\n",
    "\n",
    "Prozkoumat významné proměnné a vizualizovat je."
   ]
  },
  {
   "cell_type": "code",
   "execution_count": 16,
   "id": "a5b76bda",
   "metadata": {},
   "outputs": [],
   "source": [
    "# Načtení průzkumu z .xlsx formátu.\n",
    "\n",
    "library(readxl)\n",
    "f <- read_excel(\"satisfaction.xlsx\")"
   ]
  },
  {
   "cell_type": "code",
   "execution_count": 173,
   "id": "27cece9d",
   "metadata": {},
   "outputs": [
    {
     "data": {
      "text/html": [
       "<style>\n",
       ".list-inline {list-style: none; margin:0; padding: 0}\n",
       ".list-inline>li {display: inline-block}\n",
       ".list-inline>li:not(:last-child)::after {content: \"\\00b7\"; padding: 0 .5ex}\n",
       "</style>\n",
       "<ol class=list-inline><li>'id'</li><li>'satisfaction_v2'</li><li>'Gender'</li><li>'Customer Type'</li><li>'Age'</li><li>'Type of Travel'</li><li>'Class'</li><li>'Flight Distance'</li><li>'Seat comfort'</li><li>'Departure/Arrival time convenient'</li><li>'Food and drink'</li><li>'Gate location'</li><li>'Inflight wifi service'</li><li>'Inflight entertainment'</li><li>'Online support'</li><li>'Ease of Online booking'</li><li>'On-board service'</li><li>'Leg room service'</li><li>'Baggage handling'</li><li>'Checkin service'</li><li>'Cleanliness'</li><li>'Online boarding'</li><li>'Departure Delay in Minutes'</li><li>'Arrival Delay in Minutes'</li></ol>\n"
      ],
      "text/latex": [
       "\\begin{enumerate*}\n",
       "\\item 'id'\n",
       "\\item 'satisfaction\\_v2'\n",
       "\\item 'Gender'\n",
       "\\item 'Customer Type'\n",
       "\\item 'Age'\n",
       "\\item 'Type of Travel'\n",
       "\\item 'Class'\n",
       "\\item 'Flight Distance'\n",
       "\\item 'Seat comfort'\n",
       "\\item 'Departure/Arrival time convenient'\n",
       "\\item 'Food and drink'\n",
       "\\item 'Gate location'\n",
       "\\item 'Inflight wifi service'\n",
       "\\item 'Inflight entertainment'\n",
       "\\item 'Online support'\n",
       "\\item 'Ease of Online booking'\n",
       "\\item 'On-board service'\n",
       "\\item 'Leg room service'\n",
       "\\item 'Baggage handling'\n",
       "\\item 'Checkin service'\n",
       "\\item 'Cleanliness'\n",
       "\\item 'Online boarding'\n",
       "\\item 'Departure Delay in Minutes'\n",
       "\\item 'Arrival Delay in Minutes'\n",
       "\\end{enumerate*}\n"
      ],
      "text/markdown": [
       "1. 'id'\n",
       "2. 'satisfaction_v2'\n",
       "3. 'Gender'\n",
       "4. 'Customer Type'\n",
       "5. 'Age'\n",
       "6. 'Type of Travel'\n",
       "7. 'Class'\n",
       "8. 'Flight Distance'\n",
       "9. 'Seat comfort'\n",
       "10. 'Departure/Arrival time convenient'\n",
       "11. 'Food and drink'\n",
       "12. 'Gate location'\n",
       "13. 'Inflight wifi service'\n",
       "14. 'Inflight entertainment'\n",
       "15. 'Online support'\n",
       "16. 'Ease of Online booking'\n",
       "17. 'On-board service'\n",
       "18. 'Leg room service'\n",
       "19. 'Baggage handling'\n",
       "20. 'Checkin service'\n",
       "21. 'Cleanliness'\n",
       "22. 'Online boarding'\n",
       "23. 'Departure Delay in Minutes'\n",
       "24. 'Arrival Delay in Minutes'\n",
       "\n",
       "\n"
      ],
      "text/plain": [
       " [1] \"id\"                                \"satisfaction_v2\"                  \n",
       " [3] \"Gender\"                            \"Customer Type\"                    \n",
       " [5] \"Age\"                               \"Type of Travel\"                   \n",
       " [7] \"Class\"                             \"Flight Distance\"                  \n",
       " [9] \"Seat comfort\"                      \"Departure/Arrival time convenient\"\n",
       "[11] \"Food and drink\"                    \"Gate location\"                    \n",
       "[13] \"Inflight wifi service\"             \"Inflight entertainment\"           \n",
       "[15] \"Online support\"                    \"Ease of Online booking\"           \n",
       "[17] \"On-board service\"                  \"Leg room service\"                 \n",
       "[19] \"Baggage handling\"                  \"Checkin service\"                  \n",
       "[21] \"Cleanliness\"                       \"Online boarding\"                  \n",
       "[23] \"Departure Delay in Minutes\"        \"Arrival Delay in Minutes\"         "
      ]
     },
     "metadata": {},
     "output_type": "display_data"
    }
   ],
   "source": [
    "# Názvy sloupců jsou v angličtině\n",
    "\n",
    "colnames(f)"
   ]
  },
  {
   "cell_type": "code",
   "execution_count": 17,
   "id": "55ca48f1",
   "metadata": {},
   "outputs": [],
   "source": [
    "# Změníme je raději na české\n",
    "\n",
    "colnames(f) <- c(\"id\", \"spokojenost\", \"pohlavi\", \"typ_zakaznika\", \"vek\", \"typ_cestovani\", \"trida\", \"vzdalenost_letu\", \"komfort_sedadla\",\n",
    "                 \"cas_odlet_prilet_pohodlnost\", \"jidlo_a_piti\", \"poloha_gate\", \"wifi_na_palube\", \"zabava_na_palube\", \"online_podpora\",\n",
    "                 \"snadnost_online_rezervace\", \"sluzby_na_palube\", \"sluzby_pro_prostor_na_nohy\", \"manipulace_s_batohem\",\n",
    "                 \"checkin_sluzba\", \"cistota\", \"online_nastup\", \"zpozdeni_odletu_v_minutach\", \"zpozdeni_priletu_v_minutach\")"
   ]
  },
  {
   "cell_type": "code",
   "execution_count": 156,
   "id": "4e2c1790",
   "metadata": {},
   "outputs": [
    {
     "data": {
      "text/html": [
       "<style>\n",
       ".list-inline {list-style: none; margin:0; padding: 0}\n",
       ".list-inline>li {display: inline-block}\n",
       ".list-inline>li:not(:last-child)::after {content: \"\\00b7\"; padding: 0 .5ex}\n",
       "</style>\n",
       "<ol class=list-inline><li>'id'</li><li>'spokojenost'</li><li>'pohlavi'</li><li>'typ_zakaznika'</li><li>'vek'</li><li>'typ_cestovani'</li><li>'trida'</li><li>'vzdalenost_letu'</li><li>'wifi_na_palube'</li><li>'pohodli_pri_case_odlotu_priletu'</li><li>'snadnost_online_rezervace'</li><li>'poloha_gate'</li><li>'jidlo_a_piti'</li><li>'online_nastup'</li><li>'komfort_sedadla'</li><li>'zabava_na_palube'</li><li>'sluzby_na_palube'</li><li>'sluzby_pro_prostor_na_nohy'</li><li>'manipulace_s_batohem'</li><li>'checkin_sluzba'</li><li>'sluzby_na_palube'</li><li>'cistota'</li><li>'zpozdeni_odlotu_v_minutach'</li><li>'zpozdeni_priletu_v_minutach'</li></ol>\n"
      ],
      "text/latex": [
       "\\begin{enumerate*}\n",
       "\\item 'id'\n",
       "\\item 'spokojenost'\n",
       "\\item 'pohlavi'\n",
       "\\item 'typ\\_zakaznika'\n",
       "\\item 'vek'\n",
       "\\item 'typ\\_cestovani'\n",
       "\\item 'trida'\n",
       "\\item 'vzdalenost\\_letu'\n",
       "\\item 'wifi\\_na\\_palube'\n",
       "\\item 'pohodli\\_pri\\_case\\_odlotu\\_priletu'\n",
       "\\item 'snadnost\\_online\\_rezervace'\n",
       "\\item 'poloha\\_gate'\n",
       "\\item 'jidlo\\_a\\_piti'\n",
       "\\item 'online\\_nastup'\n",
       "\\item 'komfort\\_sedadla'\n",
       "\\item 'zabava\\_na\\_palube'\n",
       "\\item 'sluzby\\_na\\_palube'\n",
       "\\item 'sluzby\\_pro\\_prostor\\_na\\_nohy'\n",
       "\\item 'manipulace\\_s\\_batohem'\n",
       "\\item 'checkin\\_sluzba'\n",
       "\\item 'sluzby\\_na\\_palube'\n",
       "\\item 'cistota'\n",
       "\\item 'zpozdeni\\_odlotu\\_v\\_minutach'\n",
       "\\item 'zpozdeni\\_priletu\\_v\\_minutach'\n",
       "\\end{enumerate*}\n"
      ],
      "text/markdown": [
       "1. 'id'\n",
       "2. 'spokojenost'\n",
       "3. 'pohlavi'\n",
       "4. 'typ_zakaznika'\n",
       "5. 'vek'\n",
       "6. 'typ_cestovani'\n",
       "7. 'trida'\n",
       "8. 'vzdalenost_letu'\n",
       "9. 'wifi_na_palube'\n",
       "10. 'pohodli_pri_case_odlotu_priletu'\n",
       "11. 'snadnost_online_rezervace'\n",
       "12. 'poloha_gate'\n",
       "13. 'jidlo_a_piti'\n",
       "14. 'online_nastup'\n",
       "15. 'komfort_sedadla'\n",
       "16. 'zabava_na_palube'\n",
       "17. 'sluzby_na_palube'\n",
       "18. 'sluzby_pro_prostor_na_nohy'\n",
       "19. 'manipulace_s_batohem'\n",
       "20. 'checkin_sluzba'\n",
       "21. 'sluzby_na_palube'\n",
       "22. 'cistota'\n",
       "23. 'zpozdeni_odlotu_v_minutach'\n",
       "24. 'zpozdeni_priletu_v_minutach'\n",
       "\n",
       "\n"
      ],
      "text/plain": [
       " [1] \"id\"                              \"spokojenost\"                    \n",
       " [3] \"pohlavi\"                         \"typ_zakaznika\"                  \n",
       " [5] \"vek\"                             \"typ_cestovani\"                  \n",
       " [7] \"trida\"                           \"vzdalenost_letu\"                \n",
       " [9] \"wifi_na_palube\"                  \"pohodli_pri_case_odlotu_priletu\"\n",
       "[11] \"snadnost_online_rezervace\"       \"poloha_gate\"                    \n",
       "[13] \"jidlo_a_piti\"                    \"online_nastup\"                  \n",
       "[15] \"komfort_sedadla\"                 \"zabava_na_palube\"               \n",
       "[17] \"sluzby_na_palube\"                \"sluzby_pro_prostor_na_nohy\"     \n",
       "[19] \"manipulace_s_batohem\"            \"checkin_sluzba\"                 \n",
       "[21] \"sluzby_na_palube\"                \"cistota\"                        \n",
       "[23] \"zpozdeni_odlotu_v_minutach\"      \"zpozdeni_priletu_v_minutach\"    "
      ]
     },
     "metadata": {},
     "output_type": "display_data"
    }
   ],
   "source": [
    "# Kontrola\n",
    "\n",
    "colnames(f)\n",
    "length(colnames(f))"
   ]
  },
  {
   "cell_type": "code",
   "execution_count": 125,
   "id": "4d526920",
   "metadata": {},
   "outputs": [
    {
     "data": {
      "text/html": [
       "<style>\n",
       ".list-inline {list-style: none; margin:0; padding: 0}\n",
       ".list-inline>li {display: inline-block}\n",
       ".list-inline>li:not(:last-child)::after {content: \"\\00b7\"; padding: 0 .5ex}\n",
       "</style>\n",
       "<ol class=list-inline><li>129880</li><li>24</li></ol>\n"
      ],
      "text/latex": [
       "\\begin{enumerate*}\n",
       "\\item 129880\n",
       "\\item 24\n",
       "\\end{enumerate*}\n"
      ],
      "text/markdown": [
       "1. 129880\n",
       "2. 24\n",
       "\n",
       "\n"
      ],
      "text/plain": [
       "[1] 129880     24"
      ]
     },
     "metadata": {},
     "output_type": "display_data"
    }
   ],
   "source": [
    "# Rozměry souboru\n",
    "\n",
    "dim(f)"
   ]
  },
  {
   "cell_type": "code",
   "execution_count": 18,
   "id": "84a63ab9",
   "metadata": {},
   "outputs": [
    {
     "data": {
      "text/html": [
       "393"
      ],
      "text/latex": [
       "393"
      ],
      "text/markdown": [
       "393"
      ],
      "text/plain": [
       "[1] 393"
      ]
     },
     "metadata": {},
     "output_type": "display_data"
    },
    {
     "name": "stderr",
     "output_type": "stream",
     "text": [
      "Warning message in is.na(df):\n",
      "\"is.na() applied to non-(list or vector) of type 'closure'\"\n"
     ]
    },
    {
     "data": {
      "text/html": [
       "0"
      ],
      "text/latex": [
       "0"
      ],
      "text/markdown": [
       "0"
      ],
      "text/plain": [
       "[1] 0"
      ]
     },
     "metadata": {},
     "output_type": "display_data"
    }
   ],
   "source": [
    "# Zkontrolujeme, zda se v datasetu vyskytují chybějící hodnoty\n",
    "\n",
    "sum(is.na(f))\n",
    "\n",
    "# Čištění, zbavme se prázdných hodnot\n",
    "f <- na.omit(f)\n",
    "\n",
    "# Zkontrolujeme\n",
    "sum(is.na(df))"
   ]
  },
  {
   "cell_type": "code",
   "execution_count": 183,
   "id": "01e12e71",
   "metadata": {
    "scrolled": true
   },
   "outputs": [
    {
     "data": {
      "text/html": [
       "<table class=\"dataframe\">\n",
       "<caption>A tibble: 3 × 24</caption>\n",
       "<thead>\n",
       "\t<tr><th scope=col>id</th><th scope=col>spokojenost</th><th scope=col>pohlavi</th><th scope=col>typ_zakaznika</th><th scope=col>vek</th><th scope=col>typ_cestovani</th><th scope=col>trida</th><th scope=col>vzdalenost_letu</th><th scope=col>komfort_sedadla</th><th scope=col>cas_odlet_prilet_pohodlnost</th><th scope=col>...</th><th scope=col>online_podpora</th><th scope=col>snadnost_online_rezervace</th><th scope=col>sluzby_na_palube</th><th scope=col>sluzby_pro_prostor_na_nohy</th><th scope=col>manipulace_s_batohem</th><th scope=col>checkin_sluzba</th><th scope=col>cistota</th><th scope=col>online_nastup</th><th scope=col>zpozdeni_odletu_v_minutach</th><th scope=col>zpozdeni_priletu_v_minutach</th></tr>\n",
       "\t<tr><th scope=col>&lt;dbl&gt;</th><th scope=col>&lt;chr&gt;</th><th scope=col>&lt;chr&gt;</th><th scope=col>&lt;chr&gt;</th><th scope=col>&lt;dbl&gt;</th><th scope=col>&lt;chr&gt;</th><th scope=col>&lt;chr&gt;</th><th scope=col>&lt;dbl&gt;</th><th scope=col>&lt;dbl&gt;</th><th scope=col>&lt;dbl&gt;</th><th scope=col>...</th><th scope=col>&lt;dbl&gt;</th><th scope=col>&lt;dbl&gt;</th><th scope=col>&lt;dbl&gt;</th><th scope=col>&lt;dbl&gt;</th><th scope=col>&lt;dbl&gt;</th><th scope=col>&lt;dbl&gt;</th><th scope=col>&lt;dbl&gt;</th><th scope=col>&lt;dbl&gt;</th><th scope=col>&lt;dbl&gt;</th><th scope=col>&lt;dbl&gt;</th></tr>\n",
       "</thead>\n",
       "<tbody>\n",
       "\t<tr><td> 11112</td><td>satisfied</td><td>Female</td><td>Loyal Customer</td><td>65</td><td>Personal Travel</td><td>Eco     </td><td> 265</td><td>0</td><td>0</td><td>...</td><td>2</td><td>3</td><td>3</td><td>0</td><td>3</td><td>5</td><td>3</td><td>2</td><td>  0</td><td>  0</td></tr>\n",
       "\t<tr><td>110278</td><td>satisfied</td><td>Male  </td><td>Loyal Customer</td><td>47</td><td>Personal Travel</td><td>Business</td><td>2464</td><td>0</td><td>0</td><td>...</td><td>2</td><td>3</td><td>4</td><td>4</td><td>4</td><td>2</td><td>3</td><td>2</td><td>310</td><td>305</td></tr>\n",
       "\t<tr><td>103199</td><td>satisfied</td><td>Female</td><td>Loyal Customer</td><td>15</td><td>Personal Travel</td><td>Eco     </td><td>2138</td><td>0</td><td>0</td><td>...</td><td>2</td><td>2</td><td>3</td><td>3</td><td>4</td><td>4</td><td>4</td><td>2</td><td>  0</td><td>  0</td></tr>\n",
       "</tbody>\n",
       "</table>\n"
      ],
      "text/latex": [
       "A tibble: 3 × 24\n",
       "\\begin{tabular}{lllllllllllllllllllll}\n",
       " id & spokojenost & pohlavi & typ\\_zakaznika & vek & typ\\_cestovani & trida & vzdalenost\\_letu & komfort\\_sedadla & cas\\_odlet\\_prilet\\_pohodlnost & ... & online\\_podpora & snadnost\\_online\\_rezervace & sluzby\\_na\\_palube & sluzby\\_pro\\_prostor\\_na\\_nohy & manipulace\\_s\\_batohem & checkin\\_sluzba & cistota & online\\_nastup & zpozdeni\\_odletu\\_v\\_minutach & zpozdeni\\_priletu\\_v\\_minutach\\\\\n",
       " <dbl> & <chr> & <chr> & <chr> & <dbl> & <chr> & <chr> & <dbl> & <dbl> & <dbl> & ... & <dbl> & <dbl> & <dbl> & <dbl> & <dbl> & <dbl> & <dbl> & <dbl> & <dbl> & <dbl>\\\\\n",
       "\\hline\n",
       "\t  11112 & satisfied & Female & Loyal Customer & 65 & Personal Travel & Eco      &  265 & 0 & 0 & ... & 2 & 3 & 3 & 0 & 3 & 5 & 3 & 2 &   0 &   0\\\\\n",
       "\t 110278 & satisfied & Male   & Loyal Customer & 47 & Personal Travel & Business & 2464 & 0 & 0 & ... & 2 & 3 & 4 & 4 & 4 & 2 & 3 & 2 & 310 & 305\\\\\n",
       "\t 103199 & satisfied & Female & Loyal Customer & 15 & Personal Travel & Eco      & 2138 & 0 & 0 & ... & 2 & 2 & 3 & 3 & 4 & 4 & 4 & 2 &   0 &   0\\\\\n",
       "\\end{tabular}\n"
      ],
      "text/markdown": [
       "\n",
       "A tibble: 3 × 24\n",
       "\n",
       "| id &lt;dbl&gt; | spokojenost &lt;chr&gt; | pohlavi &lt;chr&gt; | typ_zakaznika &lt;chr&gt; | vek &lt;dbl&gt; | typ_cestovani &lt;chr&gt; | trida &lt;chr&gt; | vzdalenost_letu &lt;dbl&gt; | komfort_sedadla &lt;dbl&gt; | cas_odlet_prilet_pohodlnost &lt;dbl&gt; | ... ... | online_podpora &lt;dbl&gt; | snadnost_online_rezervace &lt;dbl&gt; | sluzby_na_palube &lt;dbl&gt; | sluzby_pro_prostor_na_nohy &lt;dbl&gt; | manipulace_s_batohem &lt;dbl&gt; | checkin_sluzba &lt;dbl&gt; | cistota &lt;dbl&gt; | online_nastup &lt;dbl&gt; | zpozdeni_odletu_v_minutach &lt;dbl&gt; | zpozdeni_priletu_v_minutach &lt;dbl&gt; |\n",
       "|---|---|---|---|---|---|---|---|---|---|---|---|---|---|---|---|---|---|---|---|---|\n",
       "|  11112 | satisfied | Female | Loyal Customer | 65 | Personal Travel | Eco      |  265 | 0 | 0 | ... | 2 | 3 | 3 | 0 | 3 | 5 | 3 | 2 |   0 |   0 |\n",
       "| 110278 | satisfied | Male   | Loyal Customer | 47 | Personal Travel | Business | 2464 | 0 | 0 | ... | 2 | 3 | 4 | 4 | 4 | 2 | 3 | 2 | 310 | 305 |\n",
       "| 103199 | satisfied | Female | Loyal Customer | 15 | Personal Travel | Eco      | 2138 | 0 | 0 | ... | 2 | 2 | 3 | 3 | 4 | 4 | 4 | 2 |   0 |   0 |\n",
       "\n"
      ],
      "text/plain": [
       "  id     spokojenost pohlavi typ_zakaznika  vek typ_cestovani   trida   \n",
       "1  11112 satisfied   Female  Loyal Customer 65  Personal Travel Eco     \n",
       "2 110278 satisfied   Male    Loyal Customer 47  Personal Travel Business\n",
       "3 103199 satisfied   Female  Loyal Customer 15  Personal Travel Eco     \n",
       "  vzdalenost_letu komfort_sedadla cas_odlet_prilet_pohodlnost ...\n",
       "1  265            0               0                           ...\n",
       "2 2464            0               0                           ...\n",
       "3 2138            0               0                           ...\n",
       "  online_podpora snadnost_online_rezervace sluzby_na_palube\n",
       "1 2              3                         3               \n",
       "2 2              3                         4               \n",
       "3 2              2                         3               \n",
       "  sluzby_pro_prostor_na_nohy manipulace_s_batohem checkin_sluzba cistota\n",
       "1 0                          3                    5              3      \n",
       "2 4                          4                    2              3      \n",
       "3 3                          4                    4              4      \n",
       "  online_nastup zpozdeni_odletu_v_minutach zpozdeni_priletu_v_minutach\n",
       "1 2               0                          0                        \n",
       "2 2             310                        305                        \n",
       "3 2               0                          0                        "
      ]
     },
     "metadata": {},
     "output_type": "display_data"
    }
   ],
   "source": [
    "# Začněme seznámením s obsahem sloupců\n",
    "\n",
    "head(f, 3)"
   ]
  },
  {
   "cell_type": "code",
   "execution_count": 7,
   "id": "baaf4de2",
   "metadata": {
    "scrolled": true
   },
   "outputs": [
    {
     "data": {
      "text/plain": [
       "       X                id            Gender          Customer.Type     \n",
       " Min.   :     0   Min.   :     1   Length:103904      Length:103904     \n",
       " 1st Qu.: 25976   1st Qu.: 32534   Class :character   Class :character  \n",
       " Median : 51952   Median : 64857   Mode  :character   Mode  :character  \n",
       " Mean   : 51952   Mean   : 64924                                        \n",
       " 3rd Qu.: 77927   3rd Qu.: 97368                                        \n",
       " Max.   :103903   Max.   :129880                                        \n",
       "                                                                        \n",
       "      Age        Type.of.Travel        Class           Flight.Distance\n",
       " Min.   : 7.00   Length:103904      Length:103904      Min.   :  31   \n",
       " 1st Qu.:27.00   Class :character   Class :character   1st Qu.: 414   \n",
       " Median :40.00   Mode  :character   Mode  :character   Median : 843   \n",
       " Mean   :39.38                                         Mean   :1189   \n",
       " 3rd Qu.:51.00                                         3rd Qu.:1743   \n",
       " Max.   :85.00                                         Max.   :4983   \n",
       "                                                                      \n",
       " Inflight.wifi.service Departure.Arrival.time.convenient Ease.of.Online.booking\n",
       " Min.   :0.00          Min.   :0.00                      Min.   :0.000         \n",
       " 1st Qu.:2.00          1st Qu.:2.00                      1st Qu.:2.000         \n",
       " Median :3.00          Median :3.00                      Median :3.000         \n",
       " Mean   :2.73          Mean   :3.06                      Mean   :2.757         \n",
       " 3rd Qu.:4.00          3rd Qu.:4.00                      3rd Qu.:4.000         \n",
       " Max.   :5.00          Max.   :5.00                      Max.   :5.000         \n",
       "                                                                               \n",
       " Gate.location   Food.and.drink  Online.boarding  Seat.comfort  \n",
       " Min.   :0.000   Min.   :0.000   Min.   :0.00    Min.   :0.000  \n",
       " 1st Qu.:2.000   1st Qu.:2.000   1st Qu.:2.00    1st Qu.:2.000  \n",
       " Median :3.000   Median :3.000   Median :3.00    Median :4.000  \n",
       " Mean   :2.977   Mean   :3.202   Mean   :3.25    Mean   :3.439  \n",
       " 3rd Qu.:4.000   3rd Qu.:4.000   3rd Qu.:4.00    3rd Qu.:5.000  \n",
       " Max.   :5.000   Max.   :5.000   Max.   :5.00    Max.   :5.000  \n",
       "                                                                \n",
       " Inflight.entertainment On.board.service Leg.room.service Baggage.handling\n",
       " Min.   :0.000          Min.   :0.000    Min.   :0.000    Min.   :1.000   \n",
       " 1st Qu.:2.000          1st Qu.:2.000    1st Qu.:2.000    1st Qu.:3.000   \n",
       " Median :4.000          Median :4.000    Median :4.000    Median :4.000   \n",
       " Mean   :3.358          Mean   :3.382    Mean   :3.351    Mean   :3.632   \n",
       " 3rd Qu.:4.000          3rd Qu.:4.000    3rd Qu.:4.000    3rd Qu.:5.000   \n",
       " Max.   :5.000          Max.   :5.000    Max.   :5.000    Max.   :5.000   \n",
       "                                                                          \n",
       " Checkin.service Inflight.service  Cleanliness    Departure.Delay.in.Minutes\n",
       " Min.   :0.000   Min.   :0.00     Min.   :0.000   Min.   :   0.00           \n",
       " 1st Qu.:3.000   1st Qu.:3.00     1st Qu.:2.000   1st Qu.:   0.00           \n",
       " Median :3.000   Median :4.00     Median :3.000   Median :   0.00           \n",
       " Mean   :3.304   Mean   :3.64     Mean   :3.286   Mean   :  14.82           \n",
       " 3rd Qu.:4.000   3rd Qu.:5.00     3rd Qu.:4.000   3rd Qu.:  12.00           \n",
       " Max.   :5.000   Max.   :5.00     Max.   :5.000   Max.   :1592.00           \n",
       "                                                                            \n",
       " Arrival.Delay.in.Minutes satisfaction      \n",
       " Min.   :   0.00          Length:103904     \n",
       " 1st Qu.:   0.00          Class :character  \n",
       " Median :   0.00          Mode  :character  \n",
       " Mean   :  15.18                            \n",
       " 3rd Qu.:  13.00                            \n",
       " Max.   :1584.00                            \n",
       " NA's   :310                                "
      ]
     },
     "metadata": {},
     "output_type": "display_data"
    }
   ],
   "source": [
    "# Popisná statistika\n",
    "\n",
    "summary(f)"
   ]
  },
  {
   "cell_type": "code",
   "execution_count": 178,
   "id": "1dc21850",
   "metadata": {},
   "outputs": [
    {
     "data": {
      "text/html": [
       "<table class=\"dataframe\">\n",
       "<caption>A skim_df: 24 × 17</caption>\n",
       "<thead>\n",
       "\t<tr><th></th><th scope=col>skim_type</th><th scope=col>skim_variable</th><th scope=col>n_missing</th><th scope=col>complete_rate</th><th scope=col>character.min</th><th scope=col>character.max</th><th scope=col>character.empty</th><th scope=col>character.n_unique</th><th scope=col>character.whitespace</th><th scope=col>numeric.mean</th><th scope=col>numeric.sd</th><th scope=col>numeric.p0</th><th scope=col>numeric.p25</th><th scope=col>numeric.p50</th><th scope=col>numeric.p75</th><th scope=col>numeric.p100</th><th scope=col>numeric.hist</th></tr>\n",
       "\t<tr><th></th><th scope=col>&lt;chr&gt;</th><th scope=col>&lt;chr&gt;</th><th scope=col>&lt;int&gt;</th><th scope=col>&lt;dbl&gt;</th><th scope=col>&lt;int&gt;</th><th scope=col>&lt;int&gt;</th><th scope=col>&lt;int&gt;</th><th scope=col>&lt;int&gt;</th><th scope=col>&lt;int&gt;</th><th scope=col>&lt;dbl&gt;</th><th scope=col>&lt;dbl&gt;</th><th scope=col>&lt;dbl&gt;</th><th scope=col>&lt;dbl&gt;</th><th scope=col>&lt;dbl&gt;</th><th scope=col>&lt;dbl&gt;</th><th scope=col>&lt;dbl&gt;</th><th scope=col>&lt;chr&gt;</th></tr>\n",
       "</thead>\n",
       "<tbody>\n",
       "\t<tr><th scope=row>1</th><td>character</td><td>spokojenost                </td><td>0</td><td>1</td><td> 9</td><td>23</td><td> 0</td><td> 2</td><td> 0</td><td>          NA</td><td>          NA</td><td>NA</td><td>     NA</td><td>   NA</td><td>     NA</td><td>    NA</td><td>NA                                      </td></tr>\n",
       "\t<tr><th scope=row>2</th><td>character</td><td>pohlavi                    </td><td>0</td><td>1</td><td> 4</td><td> 6</td><td> 0</td><td> 2</td><td> 0</td><td>          NA</td><td>          NA</td><td>NA</td><td>     NA</td><td>   NA</td><td>     NA</td><td>    NA</td><td>NA                                      </td></tr>\n",
       "\t<tr><th scope=row>3</th><td>character</td><td>typ_zakaznika              </td><td>0</td><td>1</td><td>14</td><td>17</td><td> 0</td><td> 2</td><td> 0</td><td>          NA</td><td>          NA</td><td>NA</td><td>     NA</td><td>   NA</td><td>     NA</td><td>    NA</td><td>NA                                      </td></tr>\n",
       "\t<tr><th scope=row>4</th><td>character</td><td>typ_cestovani              </td><td>0</td><td>1</td><td>15</td><td>15</td><td> 0</td><td> 2</td><td> 0</td><td>          NA</td><td>          NA</td><td>NA</td><td>     NA</td><td>   NA</td><td>     NA</td><td>    NA</td><td>NA                                      </td></tr>\n",
       "\t<tr><th scope=row>5</th><td>character</td><td>trida                      </td><td>0</td><td>1</td><td> 3</td><td> 8</td><td> 0</td><td> 3</td><td> 0</td><td>          NA</td><td>          NA</td><td>NA</td><td>     NA</td><td>   NA</td><td>     NA</td><td>    NA</td><td>NA                                      </td></tr>\n",
       "\t<tr><th scope=row>6</th><td><span style=white-space:pre-wrap>numeric  </span></td><td><span style=white-space:pre-wrap>id                         </span></td><td>0</td><td>1</td><td>NA</td><td>NA</td><td>NA</td><td>NA</td><td>NA</td><td>64958.335169</td><td>37489.781165</td><td> 1</td><td>32494.5</td><td>64972</td><td>97415.5</td><td>129880</td><td>&lt;U+2587&gt;&lt;U+2587&gt;&lt;U+2587&gt;&lt;U+2587&gt;&lt;U+2587&gt;</td></tr>\n",
       "\t<tr><th scope=row>7</th><td><span style=white-space:pre-wrap>numeric  </span></td><td><span style=white-space:pre-wrap>vek                        </span></td><td>0</td><td>1</td><td>NA</td><td>NA</td><td>NA</td><td>NA</td><td>NA</td><td><span style=white-space:pre-wrap>   39.428761</span></td><td><span style=white-space:pre-wrap>   15.117597</span></td><td> 7</td><td><span style=white-space:pre-wrap>   27.0</span></td><td><span style=white-space:pre-wrap>   40</span></td><td><span style=white-space:pre-wrap>   51.0</span></td><td><span style=white-space:pre-wrap>    85</span></td><td>&lt;U+2583&gt;&lt;U+2587&gt;&lt;U+2587&gt;&lt;U+2585&gt;&lt;U+2581&gt;</td></tr>\n",
       "\t<tr><th scope=row>8</th><td><span style=white-space:pre-wrap>numeric  </span></td><td><span style=white-space:pre-wrap>vzdalenost_letu            </span></td><td>0</td><td>1</td><td>NA</td><td>NA</td><td>NA</td><td>NA</td><td>NA</td><td> 1981.008974</td><td> 1026.884131</td><td>50</td><td> 1359.0</td><td> 1924</td><td> 2543.0</td><td><span style=white-space:pre-wrap>  6951</span></td><td>&lt;U+2583&gt;&lt;U+2587&gt;&lt;U+2582&gt;&lt;U+2581&gt;&lt;U+2581&gt;</td></tr>\n",
       "\t<tr><th scope=row>9</th><td><span style=white-space:pre-wrap>numeric  </span></td><td><span style=white-space:pre-wrap>komfort_sedadla            </span></td><td>0</td><td>1</td><td>NA</td><td>NA</td><td>NA</td><td>NA</td><td>NA</td><td><span style=white-space:pre-wrap>    2.838586</span></td><td><span style=white-space:pre-wrap>    1.392873</span></td><td> 0</td><td><span style=white-space:pre-wrap>    2.0</span></td><td><span style=white-space:pre-wrap>    3</span></td><td><span style=white-space:pre-wrap>    4.0</span></td><td><span style=white-space:pre-wrap>     5</span></td><td>&lt;U+2587&gt;&lt;U+2587&gt;&lt;U+2587&gt;&lt;U+2587&gt;&lt;U+2585&gt;</td></tr>\n",
       "\t<tr><th scope=row>10</th><td><span style=white-space:pre-wrap>numeric  </span></td><td>cas_odlet_prilet_pohodlnost</td><td>0</td><td>1</td><td>NA</td><td>NA</td><td>NA</td><td>NA</td><td>NA</td><td><span style=white-space:pre-wrap>    2.990277</span></td><td><span style=white-space:pre-wrap>    1.527183</span></td><td> 0</td><td><span style=white-space:pre-wrap>    2.0</span></td><td><span style=white-space:pre-wrap>    3</span></td><td><span style=white-space:pre-wrap>    4.0</span></td><td><span style=white-space:pre-wrap>     5</span></td><td>&lt;U+2587&gt;&lt;U+2586&gt;&lt;U+2586&gt;&lt;U+2587&gt;&lt;U+2587&gt;</td></tr>\n",
       "\t<tr><th scope=row>11</th><td><span style=white-space:pre-wrap>numeric  </span></td><td><span style=white-space:pre-wrap>jidlo_a_piti               </span></td><td>0</td><td>1</td><td>NA</td><td>NA</td><td>NA</td><td>NA</td><td>NA</td><td><span style=white-space:pre-wrap>    2.852024</span></td><td><span style=white-space:pre-wrap>    1.443587</span></td><td> 0</td><td><span style=white-space:pre-wrap>    2.0</span></td><td><span style=white-space:pre-wrap>    3</span></td><td><span style=white-space:pre-wrap>    4.0</span></td><td><span style=white-space:pre-wrap>     5</span></td><td>&lt;U+2587&gt;&lt;U+2587&gt;&lt;U+2587&gt;&lt;U+2587&gt;&lt;U+2586&gt;</td></tr>\n",
       "\t<tr><th scope=row>12</th><td><span style=white-space:pre-wrap>numeric  </span></td><td><span style=white-space:pre-wrap>poloha_gate                </span></td><td>0</td><td>1</td><td>NA</td><td>NA</td><td>NA</td><td>NA</td><td>NA</td><td><span style=white-space:pre-wrap>    2.990377</span></td><td><span style=white-space:pre-wrap>    1.305917</span></td><td> 0</td><td><span style=white-space:pre-wrap>    2.0</span></td><td><span style=white-space:pre-wrap>    3</span></td><td><span style=white-space:pre-wrap>    4.0</span></td><td><span style=white-space:pre-wrap>     5</span></td><td>&lt;U+2586&gt;&lt;U+2586&gt;&lt;U+2587&gt;&lt;U+2587&gt;&lt;U+2585&gt;</td></tr>\n",
       "\t<tr><th scope=row>13</th><td><span style=white-space:pre-wrap>numeric  </span></td><td><span style=white-space:pre-wrap>wifi_na_palube             </span></td><td>0</td><td>1</td><td>NA</td><td>NA</td><td>NA</td><td>NA</td><td>NA</td><td><span style=white-space:pre-wrap>    3.249160</span></td><td><span style=white-space:pre-wrap>    1.318765</span></td><td> 0</td><td><span style=white-space:pre-wrap>    2.0</span></td><td><span style=white-space:pre-wrap>    3</span></td><td><span style=white-space:pre-wrap>    4.0</span></td><td><span style=white-space:pre-wrap>     5</span></td><td>&lt;U+2583&gt;&lt;U+2587&gt;&lt;U+2587&gt;&lt;U+2587&gt;&lt;U+2587&gt;</td></tr>\n",
       "\t<tr><th scope=row>14</th><td><span style=white-space:pre-wrap>numeric  </span></td><td><span style=white-space:pre-wrap>zabava_na_palube           </span></td><td>0</td><td>1</td><td>NA</td><td>NA</td><td>NA</td><td>NA</td><td>NA</td><td><span style=white-space:pre-wrap>    3.383745</span></td><td><span style=white-space:pre-wrap>    1.345959</span></td><td> 0</td><td><span style=white-space:pre-wrap>    2.0</span></td><td><span style=white-space:pre-wrap>    4</span></td><td><span style=white-space:pre-wrap>    4.0</span></td><td><span style=white-space:pre-wrap>     5</span></td><td>&lt;U+2583&gt;&lt;U+2583&gt;&lt;U+2585&gt;&lt;U+2587&gt;&lt;U+2586&gt;</td></tr>\n",
       "\t<tr><th scope=row>15</th><td><span style=white-space:pre-wrap>numeric  </span></td><td><span style=white-space:pre-wrap>online_podpora             </span></td><td>0</td><td>1</td><td>NA</td><td>NA</td><td>NA</td><td>NA</td><td>NA</td><td><span style=white-space:pre-wrap>    3.519967</span></td><td><span style=white-space:pre-wrap>    1.306326</span></td><td> 0</td><td><span style=white-space:pre-wrap>    3.0</span></td><td><span style=white-space:pre-wrap>    4</span></td><td><span style=white-space:pre-wrap>    5.0</span></td><td><span style=white-space:pre-wrap>     5</span></td><td>&lt;U+2583&gt;&lt;U+2583&gt;&lt;U+2585&gt;&lt;U+2587&gt;&lt;U+2587&gt;</td></tr>\n",
       "\t<tr><th scope=row>16</th><td><span style=white-space:pre-wrap>numeric  </span></td><td><span style=white-space:pre-wrap>snadnost_online_rezervace  </span></td><td>0</td><td>1</td><td>NA</td><td>NA</td><td>NA</td><td>NA</td><td>NA</td><td><span style=white-space:pre-wrap>    3.472171</span></td><td><span style=white-space:pre-wrap>    1.305573</span></td><td> 0</td><td><span style=white-space:pre-wrap>    2.0</span></td><td><span style=white-space:pre-wrap>    4</span></td><td><span style=white-space:pre-wrap>    5.0</span></td><td><span style=white-space:pre-wrap>     5</span></td><td>&lt;U+2583&gt;&lt;U+2583&gt;&lt;U+2585&gt;&lt;U+2587&gt;&lt;U+2587&gt;</td></tr>\n",
       "\t<tr><th scope=row>17</th><td><span style=white-space:pre-wrap>numeric  </span></td><td><span style=white-space:pre-wrap>sluzby_na_palube           </span></td><td>0</td><td>1</td><td>NA</td><td>NA</td><td>NA</td><td>NA</td><td>NA</td><td><span style=white-space:pre-wrap>    3.465143</span></td><td><span style=white-space:pre-wrap>    1.270755</span></td><td> 0</td><td><span style=white-space:pre-wrap>    3.0</span></td><td><span style=white-space:pre-wrap>    4</span></td><td><span style=white-space:pre-wrap>    4.0</span></td><td><span style=white-space:pre-wrap>     5</span></td><td>&lt;U+2582&gt;&lt;U+2583&gt;&lt;U+2585&gt;&lt;U+2587&gt;&lt;U+2586&gt;</td></tr>\n",
       "\t<tr><th scope=row>18</th><td><span style=white-space:pre-wrap>numeric  </span></td><td>sluzby_pro_prostor_na_nohy </td><td>0</td><td>1</td><td>NA</td><td>NA</td><td>NA</td><td>NA</td><td>NA</td><td><span style=white-space:pre-wrap>    3.486118</span></td><td><span style=white-space:pre-wrap>    1.292079</span></td><td> 0</td><td><span style=white-space:pre-wrap>    2.0</span></td><td><span style=white-space:pre-wrap>    4</span></td><td><span style=white-space:pre-wrap>    5.0</span></td><td><span style=white-space:pre-wrap>     5</span></td><td>&lt;U+2582&gt;&lt;U+2585&gt;&lt;U+2585&gt;&lt;U+2587&gt;&lt;U+2587&gt;</td></tr>\n",
       "\t<tr><th scope=row>19</th><td><span style=white-space:pre-wrap>numeric  </span></td><td><span style=white-space:pre-wrap>manipulace_s_batohem       </span></td><td>0</td><td>1</td><td>NA</td><td>NA</td><td>NA</td><td>NA</td><td>NA</td><td><span style=white-space:pre-wrap>    3.695460</span></td><td><span style=white-space:pre-wrap>    1.156487</span></td><td> 1</td><td><span style=white-space:pre-wrap>    3.0</span></td><td><span style=white-space:pre-wrap>    4</span></td><td><span style=white-space:pre-wrap>    5.0</span></td><td><span style=white-space:pre-wrap>     5</span></td><td>&lt;U+2581&gt;&lt;U+2582&gt;&lt;U+2585&gt;&lt;U+2587&gt;&lt;U+2586&gt;</td></tr>\n",
       "\t<tr><th scope=row>20</th><td><span style=white-space:pre-wrap>numeric  </span></td><td><span style=white-space:pre-wrap>checkin_sluzba             </span></td><td>0</td><td>1</td><td>NA</td><td>NA</td><td>NA</td><td>NA</td><td>NA</td><td><span style=white-space:pre-wrap>    3.340729</span></td><td><span style=white-space:pre-wrap>    1.260561</span></td><td> 0</td><td><span style=white-space:pre-wrap>    3.0</span></td><td><span style=white-space:pre-wrap>    3</span></td><td><span style=white-space:pre-wrap>    4.0</span></td><td><span style=white-space:pre-wrap>     5</span></td><td>&lt;U+2583&gt;&lt;U+2583&gt;&lt;U+2587&gt;&lt;U+2587&gt;&lt;U+2586&gt;</td></tr>\n",
       "\t<tr><th scope=row>21</th><td><span style=white-space:pre-wrap>numeric  </span></td><td><span style=white-space:pre-wrap>cistota                    </span></td><td>0</td><td>1</td><td>NA</td><td>NA</td><td>NA</td><td>NA</td><td>NA</td><td><span style=white-space:pre-wrap>    3.705886</span></td><td><span style=white-space:pre-wrap>    1.151683</span></td><td> 0</td><td><span style=white-space:pre-wrap>    3.0</span></td><td><span style=white-space:pre-wrap>    4</span></td><td><span style=white-space:pre-wrap>    5.0</span></td><td><span style=white-space:pre-wrap>     5</span></td><td>&lt;U+2581&gt;&lt;U+2582&gt;&lt;U+2583&gt;&lt;U+2587&gt;&lt;U+2586&gt;</td></tr>\n",
       "\t<tr><th scope=row>22</th><td><span style=white-space:pre-wrap>numeric  </span></td><td><span style=white-space:pre-wrap>online_nastup              </span></td><td>0</td><td>1</td><td>NA</td><td>NA</td><td>NA</td><td>NA</td><td>NA</td><td><span style=white-space:pre-wrap>    3.352545</span></td><td><span style=white-space:pre-wrap>    1.298624</span></td><td> 0</td><td><span style=white-space:pre-wrap>    2.0</span></td><td><span style=white-space:pre-wrap>    4</span></td><td><span style=white-space:pre-wrap>    4.0</span></td><td><span style=white-space:pre-wrap>     5</span></td><td>&lt;U+2583&gt;&lt;U+2585&gt;&lt;U+2587&gt;&lt;U+2587&gt;&lt;U+2587&gt;</td></tr>\n",
       "\t<tr><th scope=row>23</th><td><span style=white-space:pre-wrap>numeric  </span></td><td>zpozdeni_odletu_v_minutach </td><td>0</td><td>1</td><td>NA</td><td>NA</td><td>NA</td><td>NA</td><td>NA</td><td><span style=white-space:pre-wrap>   14.643385</span></td><td><span style=white-space:pre-wrap>   37.932867</span></td><td> 0</td><td><span style=white-space:pre-wrap>    0.0</span></td><td><span style=white-space:pre-wrap>    0</span></td><td><span style=white-space:pre-wrap>   12.0</span></td><td><span style=white-space:pre-wrap>  1592</span></td><td>&lt;U+2587&gt;&lt;U+2581&gt;&lt;U+2581&gt;&lt;U+2581&gt;&lt;U+2581&gt;</td></tr>\n",
       "\t<tr><th scope=row>24</th><td><span style=white-space:pre-wrap>numeric  </span></td><td>zpozdeni_priletu_v_minutach</td><td>0</td><td>1</td><td>NA</td><td>NA</td><td>NA</td><td>NA</td><td>NA</td><td><span style=white-space:pre-wrap>   15.091129</span></td><td><span style=white-space:pre-wrap>   38.465650</span></td><td> 0</td><td><span style=white-space:pre-wrap>    0.0</span></td><td><span style=white-space:pre-wrap>    0</span></td><td><span style=white-space:pre-wrap>   13.0</span></td><td><span style=white-space:pre-wrap>  1584</span></td><td>&lt;U+2587&gt;&lt;U+2581&gt;&lt;U+2581&gt;&lt;U+2581&gt;&lt;U+2581&gt;</td></tr>\n",
       "</tbody>\n",
       "</table>\n"
      ],
      "text/latex": [
       "A skim\\_df: 24 × 17\n",
       "\\begin{tabular}{r|lllllllllllllllll}\n",
       "  & skim\\_type & skim\\_variable & n\\_missing & complete\\_rate & character.min & character.max & character.empty & character.n\\_unique & character.whitespace & numeric.mean & numeric.sd & numeric.p0 & numeric.p25 & numeric.p50 & numeric.p75 & numeric.p100 & numeric.hist\\\\\n",
       "  & <chr> & <chr> & <int> & <dbl> & <int> & <int> & <int> & <int> & <int> & <dbl> & <dbl> & <dbl> & <dbl> & <dbl> & <dbl> & <dbl> & <chr>\\\\\n",
       "\\hline\n",
       "\t1 & character & spokojenost                 & 0 & 1 &  9 & 23 &  0 &  2 &  0 &           NA &           NA & NA &      NA &    NA &      NA &     NA & NA                                      \\\\\n",
       "\t2 & character & pohlavi                     & 0 & 1 &  4 &  6 &  0 &  2 &  0 &           NA &           NA & NA &      NA &    NA &      NA &     NA & NA                                      \\\\\n",
       "\t3 & character & typ\\_zakaznika               & 0 & 1 & 14 & 17 &  0 &  2 &  0 &           NA &           NA & NA &      NA &    NA &      NA &     NA & NA                                      \\\\\n",
       "\t4 & character & typ\\_cestovani               & 0 & 1 & 15 & 15 &  0 &  2 &  0 &           NA &           NA & NA &      NA &    NA &      NA &     NA & NA                                      \\\\\n",
       "\t5 & character & trida                       & 0 & 1 &  3 &  8 &  0 &  3 &  0 &           NA &           NA & NA &      NA &    NA &      NA &     NA & NA                                      \\\\\n",
       "\t6 & numeric   & id                          & 0 & 1 & NA & NA & NA & NA & NA & 64958.335169 & 37489.781165 &  1 & 32494.5 & 64972 & 97415.5 & 129880 & <U+2587><U+2587><U+2587><U+2587><U+2587>\\\\\n",
       "\t7 & numeric   & vek                         & 0 & 1 & NA & NA & NA & NA & NA &    39.428761 &    15.117597 &  7 &    27.0 &    40 &    51.0 &     85 & <U+2583><U+2587><U+2587><U+2585><U+2581>\\\\\n",
       "\t8 & numeric   & vzdalenost\\_letu             & 0 & 1 & NA & NA & NA & NA & NA &  1981.008974 &  1026.884131 & 50 &  1359.0 &  1924 &  2543.0 &   6951 & <U+2583><U+2587><U+2582><U+2581><U+2581>\\\\\n",
       "\t9 & numeric   & komfort\\_sedadla             & 0 & 1 & NA & NA & NA & NA & NA &     2.838586 &     1.392873 &  0 &     2.0 &     3 &     4.0 &      5 & <U+2587><U+2587><U+2587><U+2587><U+2585>\\\\\n",
       "\t10 & numeric   & cas\\_odlet\\_prilet\\_pohodlnost & 0 & 1 & NA & NA & NA & NA & NA &     2.990277 &     1.527183 &  0 &     2.0 &     3 &     4.0 &      5 & <U+2587><U+2586><U+2586><U+2587><U+2587>\\\\\n",
       "\t11 & numeric   & jidlo\\_a\\_piti                & 0 & 1 & NA & NA & NA & NA & NA &     2.852024 &     1.443587 &  0 &     2.0 &     3 &     4.0 &      5 & <U+2587><U+2587><U+2587><U+2587><U+2586>\\\\\n",
       "\t12 & numeric   & poloha\\_gate                 & 0 & 1 & NA & NA & NA & NA & NA &     2.990377 &     1.305917 &  0 &     2.0 &     3 &     4.0 &      5 & <U+2586><U+2586><U+2587><U+2587><U+2585>\\\\\n",
       "\t13 & numeric   & wifi\\_na\\_palube              & 0 & 1 & NA & NA & NA & NA & NA &     3.249160 &     1.318765 &  0 &     2.0 &     3 &     4.0 &      5 & <U+2583><U+2587><U+2587><U+2587><U+2587>\\\\\n",
       "\t14 & numeric   & zabava\\_na\\_palube            & 0 & 1 & NA & NA & NA & NA & NA &     3.383745 &     1.345959 &  0 &     2.0 &     4 &     4.0 &      5 & <U+2583><U+2583><U+2585><U+2587><U+2586>\\\\\n",
       "\t15 & numeric   & online\\_podpora              & 0 & 1 & NA & NA & NA & NA & NA &     3.519967 &     1.306326 &  0 &     3.0 &     4 &     5.0 &      5 & <U+2583><U+2583><U+2585><U+2587><U+2587>\\\\\n",
       "\t16 & numeric   & snadnost\\_online\\_rezervace   & 0 & 1 & NA & NA & NA & NA & NA &     3.472171 &     1.305573 &  0 &     2.0 &     4 &     5.0 &      5 & <U+2583><U+2583><U+2585><U+2587><U+2587>\\\\\n",
       "\t17 & numeric   & sluzby\\_na\\_palube            & 0 & 1 & NA & NA & NA & NA & NA &     3.465143 &     1.270755 &  0 &     3.0 &     4 &     4.0 &      5 & <U+2582><U+2583><U+2585><U+2587><U+2586>\\\\\n",
       "\t18 & numeric   & sluzby\\_pro\\_prostor\\_na\\_nohy  & 0 & 1 & NA & NA & NA & NA & NA &     3.486118 &     1.292079 &  0 &     2.0 &     4 &     5.0 &      5 & <U+2582><U+2585><U+2585><U+2587><U+2587>\\\\\n",
       "\t19 & numeric   & manipulace\\_s\\_batohem        & 0 & 1 & NA & NA & NA & NA & NA &     3.695460 &     1.156487 &  1 &     3.0 &     4 &     5.0 &      5 & <U+2581><U+2582><U+2585><U+2587><U+2586>\\\\\n",
       "\t20 & numeric   & checkin\\_sluzba              & 0 & 1 & NA & NA & NA & NA & NA &     3.340729 &     1.260561 &  0 &     3.0 &     3 &     4.0 &      5 & <U+2583><U+2583><U+2587><U+2587><U+2586>\\\\\n",
       "\t21 & numeric   & cistota                     & 0 & 1 & NA & NA & NA & NA & NA &     3.705886 &     1.151683 &  0 &     3.0 &     4 &     5.0 &      5 & <U+2581><U+2582><U+2583><U+2587><U+2586>\\\\\n",
       "\t22 & numeric   & online\\_nastup               & 0 & 1 & NA & NA & NA & NA & NA &     3.352545 &     1.298624 &  0 &     2.0 &     4 &     4.0 &      5 & <U+2583><U+2585><U+2587><U+2587><U+2587>\\\\\n",
       "\t23 & numeric   & zpozdeni\\_odletu\\_v\\_minutach  & 0 & 1 & NA & NA & NA & NA & NA &    14.643385 &    37.932867 &  0 &     0.0 &     0 &    12.0 &   1592 & <U+2587><U+2581><U+2581><U+2581><U+2581>\\\\\n",
       "\t24 & numeric   & zpozdeni\\_priletu\\_v\\_minutach & 0 & 1 & NA & NA & NA & NA & NA &    15.091129 &    38.465650 &  0 &     0.0 &     0 &    13.0 &   1584 & <U+2587><U+2581><U+2581><U+2581><U+2581>\\\\\n",
       "\\end{tabular}\n"
      ],
      "text/markdown": [
       "\n",
       "A skim_df: 24 × 17\n",
       "\n",
       "| <!--/--> | skim_type &lt;chr&gt; | skim_variable &lt;chr&gt; | n_missing &lt;int&gt; | complete_rate &lt;dbl&gt; | character.min &lt;int&gt; | character.max &lt;int&gt; | character.empty &lt;int&gt; | character.n_unique &lt;int&gt; | character.whitespace &lt;int&gt; | numeric.mean &lt;dbl&gt; | numeric.sd &lt;dbl&gt; | numeric.p0 &lt;dbl&gt; | numeric.p25 &lt;dbl&gt; | numeric.p50 &lt;dbl&gt; | numeric.p75 &lt;dbl&gt; | numeric.p100 &lt;dbl&gt; | numeric.hist &lt;chr&gt; |\n",
       "|---|---|---|---|---|---|---|---|---|---|---|---|---|---|---|---|---|---|\n",
       "| 1 | character | spokojenost                 | 0 | 1 |  9 | 23 |  0 |  2 |  0 |           NA |           NA | NA |      NA |    NA |      NA |     NA | NA                                       |\n",
       "| 2 | character | pohlavi                     | 0 | 1 |  4 |  6 |  0 |  2 |  0 |           NA |           NA | NA |      NA |    NA |      NA |     NA | NA                                       |\n",
       "| 3 | character | typ_zakaznika               | 0 | 1 | 14 | 17 |  0 |  2 |  0 |           NA |           NA | NA |      NA |    NA |      NA |     NA | NA                                       |\n",
       "| 4 | character | typ_cestovani               | 0 | 1 | 15 | 15 |  0 |  2 |  0 |           NA |           NA | NA |      NA |    NA |      NA |     NA | NA                                       |\n",
       "| 5 | character | trida                       | 0 | 1 |  3 |  8 |  0 |  3 |  0 |           NA |           NA | NA |      NA |    NA |      NA |     NA | NA                                       |\n",
       "| 6 | numeric   | id                          | 0 | 1 | NA | NA | NA | NA | NA | 64958.335169 | 37489.781165 |  1 | 32494.5 | 64972 | 97415.5 | 129880 | &lt;U+2587&gt;&lt;U+2587&gt;&lt;U+2587&gt;&lt;U+2587&gt;&lt;U+2587&gt; |\n",
       "| 7 | numeric   | vek                         | 0 | 1 | NA | NA | NA | NA | NA |    39.428761 |    15.117597 |  7 |    27.0 |    40 |    51.0 |     85 | &lt;U+2583&gt;&lt;U+2587&gt;&lt;U+2587&gt;&lt;U+2585&gt;&lt;U+2581&gt; |\n",
       "| 8 | numeric   | vzdalenost_letu             | 0 | 1 | NA | NA | NA | NA | NA |  1981.008974 |  1026.884131 | 50 |  1359.0 |  1924 |  2543.0 |   6951 | &lt;U+2583&gt;&lt;U+2587&gt;&lt;U+2582&gt;&lt;U+2581&gt;&lt;U+2581&gt; |\n",
       "| 9 | numeric   | komfort_sedadla             | 0 | 1 | NA | NA | NA | NA | NA |     2.838586 |     1.392873 |  0 |     2.0 |     3 |     4.0 |      5 | &lt;U+2587&gt;&lt;U+2587&gt;&lt;U+2587&gt;&lt;U+2587&gt;&lt;U+2585&gt; |\n",
       "| 10 | numeric   | cas_odlet_prilet_pohodlnost | 0 | 1 | NA | NA | NA | NA | NA |     2.990277 |     1.527183 |  0 |     2.0 |     3 |     4.0 |      5 | &lt;U+2587&gt;&lt;U+2586&gt;&lt;U+2586&gt;&lt;U+2587&gt;&lt;U+2587&gt; |\n",
       "| 11 | numeric   | jidlo_a_piti                | 0 | 1 | NA | NA | NA | NA | NA |     2.852024 |     1.443587 |  0 |     2.0 |     3 |     4.0 |      5 | &lt;U+2587&gt;&lt;U+2587&gt;&lt;U+2587&gt;&lt;U+2587&gt;&lt;U+2586&gt; |\n",
       "| 12 | numeric   | poloha_gate                 | 0 | 1 | NA | NA | NA | NA | NA |     2.990377 |     1.305917 |  0 |     2.0 |     3 |     4.0 |      5 | &lt;U+2586&gt;&lt;U+2586&gt;&lt;U+2587&gt;&lt;U+2587&gt;&lt;U+2585&gt; |\n",
       "| 13 | numeric   | wifi_na_palube              | 0 | 1 | NA | NA | NA | NA | NA |     3.249160 |     1.318765 |  0 |     2.0 |     3 |     4.0 |      5 | &lt;U+2583&gt;&lt;U+2587&gt;&lt;U+2587&gt;&lt;U+2587&gt;&lt;U+2587&gt; |\n",
       "| 14 | numeric   | zabava_na_palube            | 0 | 1 | NA | NA | NA | NA | NA |     3.383745 |     1.345959 |  0 |     2.0 |     4 |     4.0 |      5 | &lt;U+2583&gt;&lt;U+2583&gt;&lt;U+2585&gt;&lt;U+2587&gt;&lt;U+2586&gt; |\n",
       "| 15 | numeric   | online_podpora              | 0 | 1 | NA | NA | NA | NA | NA |     3.519967 |     1.306326 |  0 |     3.0 |     4 |     5.0 |      5 | &lt;U+2583&gt;&lt;U+2583&gt;&lt;U+2585&gt;&lt;U+2587&gt;&lt;U+2587&gt; |\n",
       "| 16 | numeric   | snadnost_online_rezervace   | 0 | 1 | NA | NA | NA | NA | NA |     3.472171 |     1.305573 |  0 |     2.0 |     4 |     5.0 |      5 | &lt;U+2583&gt;&lt;U+2583&gt;&lt;U+2585&gt;&lt;U+2587&gt;&lt;U+2587&gt; |\n",
       "| 17 | numeric   | sluzby_na_palube            | 0 | 1 | NA | NA | NA | NA | NA |     3.465143 |     1.270755 |  0 |     3.0 |     4 |     4.0 |      5 | &lt;U+2582&gt;&lt;U+2583&gt;&lt;U+2585&gt;&lt;U+2587&gt;&lt;U+2586&gt; |\n",
       "| 18 | numeric   | sluzby_pro_prostor_na_nohy  | 0 | 1 | NA | NA | NA | NA | NA |     3.486118 |     1.292079 |  0 |     2.0 |     4 |     5.0 |      5 | &lt;U+2582&gt;&lt;U+2585&gt;&lt;U+2585&gt;&lt;U+2587&gt;&lt;U+2587&gt; |\n",
       "| 19 | numeric   | manipulace_s_batohem        | 0 | 1 | NA | NA | NA | NA | NA |     3.695460 |     1.156487 |  1 |     3.0 |     4 |     5.0 |      5 | &lt;U+2581&gt;&lt;U+2582&gt;&lt;U+2585&gt;&lt;U+2587&gt;&lt;U+2586&gt; |\n",
       "| 20 | numeric   | checkin_sluzba              | 0 | 1 | NA | NA | NA | NA | NA |     3.340729 |     1.260561 |  0 |     3.0 |     3 |     4.0 |      5 | &lt;U+2583&gt;&lt;U+2583&gt;&lt;U+2587&gt;&lt;U+2587&gt;&lt;U+2586&gt; |\n",
       "| 21 | numeric   | cistota                     | 0 | 1 | NA | NA | NA | NA | NA |     3.705886 |     1.151683 |  0 |     3.0 |     4 |     5.0 |      5 | &lt;U+2581&gt;&lt;U+2582&gt;&lt;U+2583&gt;&lt;U+2587&gt;&lt;U+2586&gt; |\n",
       "| 22 | numeric   | online_nastup               | 0 | 1 | NA | NA | NA | NA | NA |     3.352545 |     1.298624 |  0 |     2.0 |     4 |     4.0 |      5 | &lt;U+2583&gt;&lt;U+2585&gt;&lt;U+2587&gt;&lt;U+2587&gt;&lt;U+2587&gt; |\n",
       "| 23 | numeric   | zpozdeni_odletu_v_minutach  | 0 | 1 | NA | NA | NA | NA | NA |    14.643385 |    37.932867 |  0 |     0.0 |     0 |    12.0 |   1592 | &lt;U+2587&gt;&lt;U+2581&gt;&lt;U+2581&gt;&lt;U+2581&gt;&lt;U+2581&gt; |\n",
       "| 24 | numeric   | zpozdeni_priletu_v_minutach | 0 | 1 | NA | NA | NA | NA | NA |    15.091129 |    38.465650 |  0 |     0.0 |     0 |    13.0 |   1584 | &lt;U+2587&gt;&lt;U+2581&gt;&lt;U+2581&gt;&lt;U+2581&gt;&lt;U+2581&gt; |\n",
       "\n"
      ]
     },
     "metadata": {},
     "output_type": "display_data"
    },
    {
     "name": "stdout",
     "output_type": "stream",
     "text": [
      "-- Data Summary ------------------------\n",
      "                           Values\n",
      "Name                       f     \n",
      "Number of rows             129487\n",
      "Number of columns          24    \n",
      "_______________________          \n",
      "Column type frequency:           \n",
      "  character                5     \n",
      "  numeric                  19    \n",
      "________________________         \n",
      "Group variables            None  \n",
      "\n",
      "-- Variable type: character ----------------------------------------------------\n",
      "  skim_variable n_missing complete_rate min max empty n_unique whitespace\n",
      "\u001b[90m1\u001b[39m spokojenost           0             1   9  23     0        2          0\n",
      "\u001b[90m2\u001b[39m pohlavi               0             1   4   6     0        2          0\n",
      "\u001b[90m3\u001b[39m typ_zakaznika         0             1  14  17     0        2          0\n",
      "\u001b[90m4\u001b[39m typ_cestovani         0             1  15  15     0        2          0\n",
      "\u001b[90m5\u001b[39m trida                 0             1   3   8     0        3          0\n",
      "\n",
      "-- Variable type: numeric ------------------------------------------------------\n",
      "   skim_variable               n_missing complete_rate     mean       sd p0\n",
      "\u001b[90m 1\u001b[39m id                                  0             1 \u001b[4m6\u001b[24m\u001b[4m4\u001b[24m958.   \u001b[4m3\u001b[24m\u001b[4m7\u001b[24m490.    1\n",
      "\u001b[90m 2\u001b[39m vek                                 0             1    39.4     15.1   7\n",
      "\u001b[90m 3\u001b[39m vzdalenost_letu                     0             1  \u001b[4m1\u001b[24m981.    \u001b[4m1\u001b[24m027.   50\n",
      "\u001b[90m 4\u001b[39m komfort_sedadla                     0             1     2.84     1.39  0\n",
      "\u001b[90m 5\u001b[39m cas_odlet_prilet_pohodlnost         0             1     2.99     1.53  0\n",
      "\u001b[90m 6\u001b[39m jidlo_a_piti                        0             1     2.85     1.44  0\n",
      "\u001b[90m 7\u001b[39m poloha_gate                         0             1     2.99     1.31  0\n",
      "\u001b[90m 8\u001b[39m wifi_na_palube                      0             1     3.25     1.32  0\n",
      "\u001b[90m 9\u001b[39m zabava_na_palube                    0             1     3.38     1.35  0\n",
      "\u001b[90m10\u001b[39m online_podpora                      0             1     3.52     1.31  0\n",
      "\u001b[90m11\u001b[39m snadnost_online_rezervace           0             1     3.47     1.31  0\n",
      "\u001b[90m12\u001b[39m sluzby_na_palube                    0             1     3.47     1.27  0\n",
      "\u001b[90m13\u001b[39m sluzby_pro_prostor_na_nohy          0             1     3.49     1.29  0\n",
      "\u001b[90m14\u001b[39m manipulace_s_batohem                0             1     3.70     1.16  1\n",
      "\u001b[90m15\u001b[39m checkin_sluzba                      0             1     3.34     1.26  0\n",
      "\u001b[90m16\u001b[39m cistota                             0             1     3.71     1.15  0\n",
      "\u001b[90m17\u001b[39m online_nastup                       0             1     3.35     1.30  0\n",
      "\u001b[90m18\u001b[39m zpozdeni_odletu_v_minutach          0             1    14.6     37.9   0\n",
      "\u001b[90m19\u001b[39m zpozdeni_priletu_v_minutach         0             1    15.1     38.5   0\n",
      "      p25   p50    p75   p100 hist \n",
      "\u001b[90m 1\u001b[39m \u001b[4m3\u001b[24m\u001b[4m2\u001b[24m494. \u001b[4m6\u001b[24m\u001b[4m4\u001b[24m972 \u001b[4m9\u001b[24m\u001b[4m7\u001b[24m416. \u001b[4m1\u001b[24m\u001b[4m2\u001b[24m\u001b[4m9\u001b[24m880 <U+2587><U+2587><U+2587><U+2587><U+2587>\n",
      "\u001b[90m 2\u001b[39m    27     40    51      85 <U+2583><U+2587><U+2587><U+2585><U+2581>\n",
      "\u001b[90m 3\u001b[39m  \u001b[4m1\u001b[24m359   \u001b[4m1\u001b[24m924  \u001b[4m2\u001b[24m543    \u001b[4m6\u001b[24m951 <U+2583><U+2587><U+2582><U+2581><U+2581>\n",
      "\u001b[90m 4\u001b[39m     2      3     4       5 <U+2587><U+2587><U+2587><U+2587><U+2585>\n",
      "\u001b[90m 5\u001b[39m     2      3     4       5 <U+2587><U+2586><U+2586><U+2587><U+2587>\n",
      "\u001b[90m 6\u001b[39m     2      3     4       5 <U+2587><U+2587><U+2587><U+2587><U+2586>\n",
      "\u001b[90m 7\u001b[39m     2      3     4       5 <U+2586><U+2586><U+2587><U+2587><U+2585>\n",
      "\u001b[90m 8\u001b[39m     2      3     4       5 <U+2583><U+2587><U+2587><U+2587><U+2587>\n",
      "\u001b[90m 9\u001b[39m     2      4     4       5 <U+2583><U+2583><U+2585><U+2587><U+2586>\n",
      "\u001b[90m10\u001b[39m     3      4     5       5 <U+2583><U+2583><U+2585><U+2587><U+2587>\n",
      "\u001b[90m11\u001b[39m     2      4     5       5 <U+2583><U+2583><U+2585><U+2587><U+2587>\n",
      "\u001b[90m12\u001b[39m     3      4     4       5 <U+2582><U+2583><U+2585><U+2587><U+2586>\n",
      "\u001b[90m13\u001b[39m     2      4     5       5 <U+2582><U+2585><U+2585><U+2587><U+2587>\n",
      "\u001b[90m14\u001b[39m     3      4     5       5 <U+2581><U+2582><U+2585><U+2587><U+2586>\n",
      "\u001b[90m15\u001b[39m     3      3     4       5 <U+2583><U+2583><U+2587><U+2587><U+2586>\n",
      "\u001b[90m16\u001b[39m     3      4     5       5 <U+2581><U+2582><U+2583><U+2587><U+2586>\n",
      "\u001b[90m17\u001b[39m     2      4     4       5 <U+2583><U+2585><U+2587><U+2587><U+2587>\n",
      "\u001b[90m18\u001b[39m     0      0    12    \u001b[4m1\u001b[24m592 <U+2587><U+2581><U+2581><U+2581><U+2581>\n",
      "\u001b[90m19\u001b[39m     0      0    13    \u001b[4m1\u001b[24m584 <U+2587><U+2581><U+2581><U+2581><U+2581>\n"
     ]
    }
   ],
   "source": [
    "library(skimr)\n",
    "\n",
    "skim(f)"
   ]
  },
  {
   "cell_type": "code",
   "execution_count": 57,
   "id": "f254a5ae",
   "metadata": {},
   "outputs": [
    {
     "data": {
      "image/png": "[encoded data removed]",
      "text/plain": [
       "plot without title"
      ]
     },
     "metadata": {
      "image/png": {
       "height": 420,
       "width": 420
      }
     },
     "output_type": "display_data"
    }
   ],
   "source": [
    "gender_statis_bar <- ggplot(f, aes(x=pohlavi, fill=spokojenost)) +\n",
    "  geom_bar() +\n",
    "  theme_classic() +\n",
    "  labs(title = \"Spokojenost dle pohlaví\")\n",
    "\n",
    "\n",
    "gender_statis_bar"
   ]
  },
  {
   "cell_type": "code",
   "execution_count": 65,
   "id": "fe47a2d9",
   "metadata": {
    "scrolled": false
   },
   "outputs": [
    {
     "data": {
      "image/png": "[encoded data removed]",
      "text/plain": [
       "plot without title"
      ]
     },
     "metadata": {
      "image/png": {
       "height": 420,
       "width": 420
      }
     },
     "output_type": "display_data"
    }
   ],
   "source": [
    "# Muži a ženy představují v celkovém souboru údajů téměř stejný podíl. \n",
    "# Vidíme, že nespokojených zákazníků mužského pohlaví je více než žen.\n",
    "\n",
    "vek_hist <- ggplot(f, aes(x=vek, fill=spokojenost, color=spokojenost)) +\n",
    "  geom_histogram(aes(y=after_stat(density)), position=\"identity\", alpha=0.2, bins=30)+ \n",
    "  geom_density(alpha=0.6)+\n",
    "  labs(title=\"Distribuce věku podle pohlaví a spokojenosti\") +\n",
    "  theme_classic() +\n",
    "  facet_grid(~pohlavi)\n",
    "\n",
    "vek_hist"
   ]
  },
  {
   "cell_type": "code",
   "execution_count": 185,
   "id": "6f4bf7fd",
   "metadata": {},
   "outputs": [
    {
     "data": {
      "image/png": "[encoded data removed]",
      "text/plain": [
       "plot without title"
      ]
     },
     "metadata": {
      "image/png": {
       "height": 420,
       "width": 420
      }
     },
     "output_type": "display_data"
    }
   ],
   "source": [
    "\n",
    "\n",
    "gender_statis_type_bar <- ggplot(f, aes(x=typ_zakaznika, fill=spokojenost)) +\n",
    "      geom_bar() +\n",
    "      theme_classic() +\n",
    "      labs(title = \"Spokojenost zákazníků podle typu zákazníka a pohlaví\") +\n",
    "      facet_grid(~pohlavi)\n",
    "    \n",
    "print(gender_statis_type_bar)"
   ]
  },
  {
   "cell_type": "code",
   "execution_count": null,
   "id": "26625688",
   "metadata": {},
   "outputs": [],
   "source": [
    "Nejvíce nespokojených zákazníků je ve věku 25 a 35 let. \n",
    "Dalo by se říci, že nejvíce nespokojených zákazníků je ve věku 18 až 40 let. \n",
    "Ženy mají vyšší vrcholy ve srovnání s muži, ale ve věku od 45 do 70 let \n",
    "je více nespokojených mužů.\n",
    "\n",
    "Jak můžeme vidět na grafu spokojených vpravo, zákazníci dosahují vrcholu kolem 40 let. \n",
    "Předtím je pouze jeden mírný vrchol ve věku 25 let. Z toho bychom mohli říci, že mezi ženami\n",
    "je více nespokojených v mladším věku, zatímco muži jsou více rozděleni, speciálně ve vyšším věku."
   ]
  },
  {
   "cell_type": "code",
   "execution_count": 187,
   "id": "6994d5f0",
   "metadata": {
    "scrolled": true
   },
   "outputs": [
    {
     "data": {
      "image/png": "[encoded data removed]",
      "text/plain": [
       "Plot with title \"Využití cestovních tříd\n",
       " (with sample sizes)\""
      ]
     },
     "metadata": {
      "image/png": {
       "height": 420,
       "width": 420
      }
     },
     "output_type": "display_data"
    }
   ],
   "source": [
    "# Koláčový graf zobrazující zastoupení zakoupené třídy mezi dotazovanými\n",
    "\n",
    "tab <- table(f$trida)\n",
    "kol <- paste(names(tab), \"\\n\", tab, sep=\"\")\n",
    "pie(tab, labels = kol,\n",
    "    main=\"Využití cestovních tříd\\n (with sample sizes)\")"
   ]
  },
  {
   "cell_type": "code",
   "execution_count": null,
   "id": "46f6c428",
   "metadata": {},
   "outputs": [],
   "source": [
    "Jaka jsou omezeni datasetu?\n",
    "\n",
    "1. Neznáme ceny letenek\n",
    "2. Spokojenost je definována velmi úzce dvěmi hodnotami, chtělo by to škálu 1 až 5, \n",
    "kterou by šlo získat leda zprůměrováním odpovědí v jednotlivých kategoriích\n",
    "3. V první časti se podívame na obsah datasetu (popisná statistika a explorativní analýza). "
   ]
  },
  {
   "cell_type": "code",
   "execution_count": 188,
   "id": "d2212640",
   "metadata": {},
   "outputs": [
    {
     "data": {
      "image/png": "[encoded data removed]",
      "text/plain": [
       "Plot with title \"Zastoupení pohlaví\n",
       " (with sample sizes)\""
      ]
     },
     "metadata": {
      "image/png": {
       "height": 420,
       "width": 420
      }
     },
     "output_type": "display_data"
    }
   ],
   "source": [
    "# Koláčový graf zobrazující zastoupení zakoupené třídy mezi dotazovanými\n",
    "\n",
    "tab <- table(f$pohlavi)\n",
    "kol <- paste(names(tab), \"\\n\", tab, sep=\"\")\n",
    "pie(tab, labels = kol,\n",
    "    main=\"Zastoupení pohlaví\\n (with sample sizes)\") "
   ]
  },
  {
   "cell_type": "code",
   "execution_count": 191,
   "id": "b6692e03",
   "metadata": {},
   "outputs": [
    {
     "data": {
      "image/png": "[encoded data removed]",
      "text/plain": [
       "Plot with title \"Spokojenost s wifi\n",
       " (with sample sizes)\""
      ]
     },
     "metadata": {
      "image/png": {
       "height": 420,
       "width": 420
      }
     },
     "output_type": "display_data"
    }
   ],
   "source": [
    "tab <- table(f$wifi_na_palube)\n",
    "kol <- paste(names(tab), \"\\n\", tab, sep=\"\")\n",
    "pie(tab, labels = kol,\n",
    "    main=\"Spokojenost s wifi\\n (with sample sizes)\") "
   ]
  },
  {
   "cell_type": "code",
   "execution_count": 194,
   "id": "46a4255c",
   "metadata": {},
   "outputs": [
    {
     "data": {
      "image/png": "[encoded data removed]",
      "text/plain": [
       "Plot with title \"Hisotgram zpoždění příletu v minutách\""
      ]
     },
     "metadata": {
      "image/png": {
       "height": 420,
       "width": 420
      }
     },
     "output_type": "display_data"
    }
   ],
   "source": [
    "# Nejčastější zpoždění pozorujeme mezi dvěmi až čtyřmi minutami\n",
    "\n",
    "hist(log(f$zpozdeni_priletu_v_minutach), col=\"brown\", main = \"Hisotgram zpoždění příletu v minutách\")\n",
    "# Pro vykreslení je použit histogram s logaritmickou škálou"
   ]
  },
  {
   "cell_type": "code",
   "execution_count": 205,
   "id": "2478ceaf",
   "metadata": {},
   "outputs": [
    {
     "data": {
      "image/png": "[encoded data removed]",
      "text/plain": [
       "Plot with title \"Histogram of log(f$vek)\""
      ]
     },
     "metadata": {
      "image/png": {
       "height": 420,
       "width": 420
      }
     },
     "output_type": "display_data"
    }
   ],
   "source": [
    "# Nejčastější zpoždění pozorujeme mezi dvěmi až čtyřmi minutami\n",
    "\n",
    "hist(log(f$vek), col=\"brown\")\n",
    "# Pro vykreslení je použit histogram s "
   ]
  },
  {
   "cell_type": "code",
   "execution_count": 198,
   "id": "062a8d11",
   "metadata": {
    "scrolled": false
   },
   "outputs": [
    {
     "data": {
      "image/png": "[encoded data removed]",
      "text/plain": [
       "Plot with title \"Histogram of (f$vek)\""
      ]
     },
     "metadata": {
      "image/png": {
       "height": 420,
       "width": 420
      }
     },
     "output_type": "display_data"
    }
   ],
   "source": [
    "hist((f$vek), col=\"brown\")"
   ]
  },
  {
   "cell_type": "code",
   "execution_count": 207,
   "id": "de42610f",
   "metadata": {},
   "outputs": [
    {
     "data": {
      "text/plain": [
       "\n",
       "neutral or dissatisfied               satisfied \n",
       "                  58605                   70882 "
      ]
     },
     "metadata": {},
     "output_type": "display_data"
    },
    {
     "data": {
      "image/png": "[encoded data removed]",
      "text/plain": [
       "plot without title"
      ]
     },
     "metadata": {
      "image/png": {
       "height": 420,
       "width": 420
      }
     },
     "output_type": "display_data"
    }
   ],
   "source": [
    "# Zobrazení proměnné s třídou character (pomocí table)\n",
    "\n",
    "tabledata <- table(f$spokojenost)\n",
    "\n",
    "barplot(tabledata)\n",
    "table(f$spokojenost)"
   ]
  },
  {
   "cell_type": "code",
   "execution_count": 5,
   "id": "d14a6cd1",
   "metadata": {},
   "outputs": [
    {
     "ename": "ERROR",
     "evalue": "Error in parse(text = x, srcfile = src): <text>:10:6: unexpected '/'\n9:            colors = c(\"#6D9EC1\", \"white\", \"#E46726\"))\n10: http:/\n         ^\n",
     "output_type": "error",
     "traceback": [
      "Error in parse(text = x, srcfile = src): <text>:10:6: unexpected '/'\n9:            colors = c(\"#6D9EC1\", \"white\", \"#E46726\"))\n10: http:/\n         ^\nTraceback:\n"
     ]
    }
   ],
   "source": [
    "# Musim zprovoznit korelacni matrix, bere jen numericke hodnoty, takze vybrat jen numericke sloupce\n",
    "\n",
    "library(ggcorrplot)\n",
    "library(ggplot2)\n",
    "\n",
    "ggcorrplot(f, hc.order = T, type = \"lower\",\n",
    "           outline.col = \"white\",\n",
    "           ggtheme = ggplot2::theme_gray,\n",
    "           colors = c(\"#6D9EC1\", \"white\", \"#E46726\"))\n",
    "http://www.sthda.com/english/wiki/ggcorrplot-visualization-of-a-correlation-matrix-using-ggplot2\n"
   ]
  },
  {
   "cell_type": "code",
   "execution_count": null,
   "id": "e4266cad",
   "metadata": {},
   "outputs": [],
   "source": [
    "Random forest?"
   ]
  },
  {
   "cell_type": "code",
   "execution_count": 199,
   "id": "2de21780",
   "metadata": {},
   "outputs": [
    {
     "data": {
      "image/png": "[encoded data removed]",
      "text/plain": [
       "Plot with title \"Histogram of f$wifi_na_palube\""
      ]
     },
     "metadata": {
      "image/png": {
       "height": 420,
       "width": 420
      }
     },
     "output_type": "display_data"
    }
   ],
   "source": [
    "# Net Promoter Score\n",
    "# První pokus přes histogram\n",
    "\n",
    "hist(f$wifi_na_palube, breaks=-1:5, col=c(rep(\"red\",3), rep(\"yellow\",2), rep(\"green\", 1)))"
   ]
  },
  {
   "cell_type": "code",
   "execution_count": 184,
   "id": "88833fbc",
   "metadata": {
    "scrolled": false
   },
   "outputs": [
    {
     "data": {
      "text/html": [
       "<style>\n",
       ".list-inline {list-style: none; margin:0; padding: 0}\n",
       ".list-inline>li {display: inline-block}\n",
       ".list-inline>li:not(:last-child)::after {content: \"\\00b7\"; padding: 0 .5ex}\n",
       "</style>\n",
       "<ol class=list-inline><li>'id'</li><li>'spokojenost'</li><li>'pohlavi'</li><li>'typ_zakaznika'</li><li>'vek'</li><li>'typ_cestovani'</li><li>'trida'</li><li>'vzdalenost_letu'</li><li>'komfort_sedadla'</li><li>'cas_odlet_prilet_pohodlnost'</li><li>'jidlo_a_piti'</li><li>'poloha_gate'</li><li>'wifi_na_palube'</li><li>'zabava_na_palube'</li><li>'online_podpora'</li><li>'snadnost_online_rezervace'</li><li>'sluzby_na_palube'</li><li>'sluzby_pro_prostor_na_nohy'</li><li>'manipulace_s_batohem'</li><li>'checkin_sluzba'</li><li>'cistota'</li><li>'online_nastup'</li><li>'zpozdeni_odletu_v_minutach'</li><li>'zpozdeni_priletu_v_minutach'</li></ol>\n"
      ],
      "text/latex": [
       "\\begin{enumerate*}\n",
       "\\item 'id'\n",
       "\\item 'spokojenost'\n",
       "\\item 'pohlavi'\n",
       "\\item 'typ\\_zakaznika'\n",
       "\\item 'vek'\n",
       "\\item 'typ\\_cestovani'\n",
       "\\item 'trida'\n",
       "\\item 'vzdalenost\\_letu'\n",
       "\\item 'komfort\\_sedadla'\n",
       "\\item 'cas\\_odlet\\_prilet\\_pohodlnost'\n",
       "\\item 'jidlo\\_a\\_piti'\n",
       "\\item 'poloha\\_gate'\n",
       "\\item 'wifi\\_na\\_palube'\n",
       "\\item 'zabava\\_na\\_palube'\n",
       "\\item 'online\\_podpora'\n",
       "\\item 'snadnost\\_online\\_rezervace'\n",
       "\\item 'sluzby\\_na\\_palube'\n",
       "\\item 'sluzby\\_pro\\_prostor\\_na\\_nohy'\n",
       "\\item 'manipulace\\_s\\_batohem'\n",
       "\\item 'checkin\\_sluzba'\n",
       "\\item 'cistota'\n",
       "\\item 'online\\_nastup'\n",
       "\\item 'zpozdeni\\_odletu\\_v\\_minutach'\n",
       "\\item 'zpozdeni\\_priletu\\_v\\_minutach'\n",
       "\\end{enumerate*}\n"
      ],
      "text/markdown": [
       "1. 'id'\n",
       "2. 'spokojenost'\n",
       "3. 'pohlavi'\n",
       "4. 'typ_zakaznika'\n",
       "5. 'vek'\n",
       "6. 'typ_cestovani'\n",
       "7. 'trida'\n",
       "8. 'vzdalenost_letu'\n",
       "9. 'komfort_sedadla'\n",
       "10. 'cas_odlet_prilet_pohodlnost'\n",
       "11. 'jidlo_a_piti'\n",
       "12. 'poloha_gate'\n",
       "13. 'wifi_na_palube'\n",
       "14. 'zabava_na_palube'\n",
       "15. 'online_podpora'\n",
       "16. 'snadnost_online_rezervace'\n",
       "17. 'sluzby_na_palube'\n",
       "18. 'sluzby_pro_prostor_na_nohy'\n",
       "19. 'manipulace_s_batohem'\n",
       "20. 'checkin_sluzba'\n",
       "21. 'cistota'\n",
       "22. 'online_nastup'\n",
       "23. 'zpozdeni_odletu_v_minutach'\n",
       "24. 'zpozdeni_priletu_v_minutach'\n",
       "\n",
       "\n"
      ],
      "text/plain": [
       " [1] \"id\"                          \"spokojenost\"                \n",
       " [3] \"pohlavi\"                     \"typ_zakaznika\"              \n",
       " [5] \"vek\"                         \"typ_cestovani\"              \n",
       " [7] \"trida\"                       \"vzdalenost_letu\"            \n",
       " [9] \"komfort_sedadla\"             \"cas_odlet_prilet_pohodlnost\"\n",
       "[11] \"jidlo_a_piti\"                \"poloha_gate\"                \n",
       "[13] \"wifi_na_palube\"              \"zabava_na_palube\"           \n",
       "[15] \"online_podpora\"              \"snadnost_online_rezervace\"  \n",
       "[17] \"sluzby_na_palube\"            \"sluzby_pro_prostor_na_nohy\" \n",
       "[19] \"manipulace_s_batohem\"        \"checkin_sluzba\"             \n",
       "[21] \"cistota\"                     \"online_nastup\"              \n",
       "[23] \"zpozdeni_odletu_v_minutach\"  \"zpozdeni_priletu_v_minutach\""
      ]
     },
     "metadata": {},
     "output_type": "display_data"
    }
   ],
   "source": [
    "colnames(f)"
   ]
  },
  {
   "cell_type": "code",
   "execution_count": 209,
   "id": "0c387641",
   "metadata": {},
   "outputs": [
    {
     "data": {
      "image/png": "[encoded data removed]",
      "text/plain": [
       "plot without title"
      ]
     },
     "metadata": {
      "image/png": {
       "height": 420,
       "width": 420
      }
     },
     "output_type": "display_data"
    }
   ],
   "source": [
    "# Pracovní cesty jsou celkem \n",
    "\n",
    "ggplot(f, aes(x = vek, fill = typ_cestovani)) +\n",
    "  geom_bar(position = \"dodge\") +\n",
    "  facet_grid(. ~ pohlavi) +\n",
    "  labs(x = \"Věk\", y = \"Počet\", fill = \"Typ cestování\")"
   ]
  },
  {
   "cell_type": "code",
   "execution_count": 203,
   "id": "8be98cb9",
   "metadata": {
    "scrolled": false
   },
   "outputs": [
    {
     "data": {
      "image/png": "[encoded data removed]",
      "text/plain": [
       "plot without title"
      ]
     },
     "metadata": {
      "image/png": {
       "height": 420,
       "width": 420
      }
     },
     "output_type": "display_data"
    }
   ],
   "source": [
    "# \n",
    "\n",
    "ggplot(f, aes(x = vek, fill = typ_cestovani)) +\n",
    "  geom_bar(position = \"dodge\") +\n",
    "  facet_grid(. ~ trida) +\n",
    "  labs(x = \"Věk\", y = \"Počet\", fill = \"Typ cestování\")"
   ]
  },
  {
   "cell_type": "code",
   "execution_count": 19,
   "id": "34fab557",
   "metadata": {},
   "outputs": [
    {
     "data": {
      "image/png": "[encoded data removed]",
      "text/plain": [
       "plot without title"
      ]
     },
     "metadata": {
      "image/png": {
       "height": 420,
       "width": 420
      }
     },
     "output_type": "display_data"
    }
   ],
   "source": [
    "ggplot(f, aes(x = vek, fill = typ_cestovani)) +\n",
    "  geom_bar(position = \"dodge\") +\n",
    "  facet_grid(. ~ typ_zakaznika) +\n",
    "  labs(x = \"Věk\", y = \"Počet\", fill = \"Typ cestování\")"
   ]
  },
  {
   "cell_type": "code",
   "execution_count": 20,
   "id": "a54206ad",
   "metadata": {},
   "outputs": [
    {
     "data": {
      "image/png": "[encoded data removed]",
      "text/plain": [
       "plot without title"
      ]
     },
     "metadata": {
      "image/png": {
       "height": 420,
       "width": 420
      }
     },
     "output_type": "display_data"
    }
   ],
   "source": [
    "\n",
    "library(ggplot2)\n",
    "\n",
    "ggplot(f, aes(x = vzdalenost_letu, fill = typ_cestovani)) +\n",
    "  geom_bar(position = \"dodge\") +\n",
    "  facet_grid(. ~ trida) +\n",
    "  labs(x = \"Věk\", y = \"Počet\", fill = \"Typ cestování\")"
   ]
  },
  {
   "cell_type": "code",
   "execution_count": 12,
   "id": "a37e51b0",
   "metadata": {},
   "outputs": [
    {
     "data": {
      "text/html": [
       "<table class=\"dataframe\">\n",
       "<caption>A tibble: 129880 × 24</caption>\n",
       "<thead>\n",
       "\t<tr><th scope=col>id</th><th scope=col>satisfaction_v2</th><th scope=col>Gender</th><th scope=col>Customer Type</th><th scope=col>Age</th><th scope=col>Type of Travel</th><th scope=col>Class</th><th scope=col>Flight Distance</th><th scope=col>Seat comfort</th><th scope=col>Departure/Arrival time convenient</th><th scope=col>...</th><th scope=col>Online support</th><th scope=col>Ease of Online booking</th><th scope=col>On-board service</th><th scope=col>Leg room service</th><th scope=col>Baggage handling</th><th scope=col>Checkin service</th><th scope=col>Cleanliness</th><th scope=col>Online boarding</th><th scope=col>Departure Delay in Minutes</th><th scope=col>Arrival Delay in Minutes</th></tr>\n",
       "\t<tr><th scope=col>&lt;dbl&gt;</th><th scope=col>&lt;chr&gt;</th><th scope=col>&lt;chr&gt;</th><th scope=col>&lt;chr&gt;</th><th scope=col>&lt;dbl&gt;</th><th scope=col>&lt;chr&gt;</th><th scope=col>&lt;chr&gt;</th><th scope=col>&lt;dbl&gt;</th><th scope=col>&lt;dbl&gt;</th><th scope=col>&lt;dbl&gt;</th><th scope=col>...</th><th scope=col>&lt;dbl&gt;</th><th scope=col>&lt;dbl&gt;</th><th scope=col>&lt;dbl&gt;</th><th scope=col>&lt;dbl&gt;</th><th scope=col>&lt;dbl&gt;</th><th scope=col>&lt;dbl&gt;</th><th scope=col>&lt;dbl&gt;</th><th scope=col>&lt;dbl&gt;</th><th scope=col>&lt;dbl&gt;</th><th scope=col>&lt;dbl&gt;</th></tr>\n",
       "</thead>\n",
       "<tbody>\n",
       "\t<tr><td> 11112</td><td>satisfied</td><td>Female</td><td>Loyal Customer</td><td>65</td><td>Personal Travel</td><td>Eco     </td><td> 265</td><td>0</td><td>0</td><td>...</td><td>2</td><td>3</td><td>3</td><td>0</td><td>3</td><td>5</td><td>3</td><td>2</td><td>  0</td><td>  0</td></tr>\n",
       "\t<tr><td>110278</td><td>satisfied</td><td>Male  </td><td>Loyal Customer</td><td>47</td><td>Personal Travel</td><td>Business</td><td>2464</td><td>0</td><td>0</td><td>...</td><td>2</td><td>3</td><td>4</td><td>4</td><td>4</td><td>2</td><td>3</td><td>2</td><td>310</td><td>305</td></tr>\n",
       "\t<tr><td>103199</td><td>satisfied</td><td>Female</td><td>Loyal Customer</td><td>15</td><td>Personal Travel</td><td>Eco     </td><td>2138</td><td>0</td><td>0</td><td>...</td><td>2</td><td>2</td><td>3</td><td>3</td><td>4</td><td>4</td><td>4</td><td>2</td><td>  0</td><td>  0</td></tr>\n",
       "\t<tr><td> 47462</td><td>satisfied</td><td>Female</td><td>Loyal Customer</td><td>60</td><td>Personal Travel</td><td>Eco     </td><td> 623</td><td>0</td><td>0</td><td>...</td><td>3</td><td>1</td><td>1</td><td>0</td><td>1</td><td>4</td><td>1</td><td>3</td><td>  0</td><td>  0</td></tr>\n",
       "\t<tr><td>120011</td><td>satisfied</td><td>Female</td><td>Loyal Customer</td><td>70</td><td>Personal Travel</td><td>Eco     </td><td> 354</td><td>0</td><td>0</td><td>...</td><td>4</td><td>2</td><td>2</td><td>0</td><td>2</td><td>4</td><td>2</td><td>5</td><td>  0</td><td>  0</td></tr>\n",
       "\t<tr><td>100744</td><td>satisfied</td><td>Male  </td><td>Loyal Customer</td><td>30</td><td>Personal Travel</td><td>Eco     </td><td>1894</td><td>0</td><td>0</td><td>...</td><td>2</td><td>2</td><td>5</td><td>4</td><td>5</td><td>5</td><td>4</td><td>2</td><td>  0</td><td>  0</td></tr>\n",
       "\t<tr><td> 32838</td><td>satisfied</td><td>Female</td><td>Loyal Customer</td><td>66</td><td>Personal Travel</td><td>Eco     </td><td> 227</td><td>0</td><td>0</td><td>...</td><td>5</td><td>5</td><td>5</td><td>0</td><td>5</td><td>5</td><td>5</td><td>3</td><td> 17</td><td> 15</td></tr>\n",
       "\t<tr><td> 32864</td><td>satisfied</td><td>Male  </td><td>Loyal Customer</td><td>10</td><td>Personal Travel</td><td>Eco     </td><td>1812</td><td>0</td><td>0</td><td>...</td><td>2</td><td>2</td><td>3</td><td>3</td><td>4</td><td>5</td><td>4</td><td>2</td><td>  0</td><td>  0</td></tr>\n",
       "\t<tr><td> 53786</td><td>satisfied</td><td>Female</td><td>Loyal Customer</td><td>56</td><td>Personal Travel</td><td>Business</td><td>  73</td><td>0</td><td>0</td><td>...</td><td>5</td><td>4</td><td>4</td><td>0</td><td>1</td><td>5</td><td>4</td><td>4</td><td>  0</td><td>  0</td></tr>\n",
       "\t<tr><td>  7243</td><td>satisfied</td><td>Male  </td><td>Loyal Customer</td><td>22</td><td>Personal Travel</td><td>Eco     </td><td>1556</td><td>0</td><td>0</td><td>...</td><td>2</td><td>2</td><td>2</td><td>4</td><td>5</td><td>3</td><td>4</td><td>2</td><td> 30</td><td> 26</td></tr>\n",
       "\t<tr><td> 89429</td><td>satisfied</td><td>Female</td><td>Loyal Customer</td><td>58</td><td>Personal Travel</td><td>Eco     </td><td> 104</td><td>0</td><td>0</td><td>...</td><td>3</td><td>3</td><td>3</td><td>0</td><td>1</td><td>2</td><td>3</td><td>5</td><td> 47</td><td> 48</td></tr>\n",
       "\t<tr><td>126744</td><td>satisfied</td><td>Female</td><td>Loyal Customer</td><td>34</td><td>Personal Travel</td><td>Eco     </td><td>3633</td><td>0</td><td>0</td><td>...</td><td>2</td><td>2</td><td>3</td><td>2</td><td>5</td><td>2</td><td>5</td><td>2</td><td>  0</td><td>  0</td></tr>\n",
       "\t<tr><td> 89717</td><td>satisfied</td><td>Male  </td><td>Loyal Customer</td><td>62</td><td>Personal Travel</td><td>Eco     </td><td>1695</td><td>0</td><td>0</td><td>...</td><td>5</td><td>5</td><td>1</td><td>3</td><td>2</td><td>2</td><td>4</td><td>5</td><td>  0</td><td>  0</td></tr>\n",
       "\t<tr><td>121486</td><td>satisfied</td><td>Male  </td><td>Loyal Customer</td><td>35</td><td>Personal Travel</td><td>Eco     </td><td>1766</td><td>0</td><td>1</td><td>...</td><td>4</td><td>4</td><td>3</td><td>5</td><td>2</td><td>3</td><td>2</td><td>4</td><td>  0</td><td>  0</td></tr>\n",
       "\t<tr><td> 32848</td><td>satisfied</td><td>Female</td><td>Loyal Customer</td><td>47</td><td>Personal Travel</td><td>Eco     </td><td>  84</td><td>0</td><td>1</td><td>...</td><td>1</td><td>5</td><td>5</td><td>0</td><td>5</td><td>2</td><td>5</td><td>2</td><td> 40</td><td> 48</td></tr>\n",
       "\t<tr><td> 32923</td><td>satisfied</td><td>Male  </td><td>Loyal Customer</td><td>60</td><td>Personal Travel</td><td>Eco     </td><td>1373</td><td>0</td><td>1</td><td>...</td><td>1</td><td>1</td><td>3</td><td>4</td><td>1</td><td>4</td><td>2</td><td>1</td><td>  0</td><td>  0</td></tr>\n",
       "\t<tr><td>129341</td><td>satisfied</td><td>Female</td><td>Loyal Customer</td><td>13</td><td>Personal Travel</td><td>Eco     </td><td>3693</td><td>0</td><td>1</td><td>...</td><td>4</td><td>4</td><td>4</td><td>4</td><td>1</td><td>3</td><td>1</td><td>4</td><td>  5</td><td>  0</td></tr>\n",
       "\t<tr><td>129306</td><td>satisfied</td><td>Female</td><td>Loyal Customer</td><td>52</td><td>Personal Travel</td><td>Business</td><td>2610</td><td>0</td><td>1</td><td>...</td><td>2</td><td>1</td><td>1</td><td>0</td><td>1</td><td>2</td><td>1</td><td>3</td><td>  0</td><td>  0</td></tr>\n",
       "\t<tr><td> 55441</td><td>satisfied</td><td>Female</td><td>Loyal Customer</td><td>55</td><td>Personal Travel</td><td>Eco     </td><td>2554</td><td>0</td><td>1</td><td>...</td><td>1</td><td>2</td><td>1</td><td>1</td><td>2</td><td>1</td><td>3</td><td>1</td><td>  0</td><td>  0</td></tr>\n",
       "\t<tr><td> 99352</td><td>satisfied</td><td>Female</td><td>Loyal Customer</td><td>28</td><td>Personal Travel</td><td>Eco     </td><td>3095</td><td>0</td><td>1</td><td>...</td><td>3</td><td>3</td><td>2</td><td>5</td><td>2</td><td>3</td><td>2</td><td>3</td><td>  0</td><td>  0</td></tr>\n",
       "\t<tr><td> 74225</td><td>satisfied</td><td>Female</td><td>Loyal Customer</td><td> 9</td><td>Personal Travel</td><td>Eco     </td><td>3305</td><td>0</td><td>1</td><td>...</td><td>5</td><td>3</td><td>1</td><td>1</td><td>1</td><td>3</td><td>3</td><td>3</td><td>  0</td><td>  0</td></tr>\n",
       "\t<tr><td> 98290</td><td>satisfied</td><td>Female</td><td>Loyal Customer</td><td>10</td><td>Personal Travel</td><td>Eco     </td><td>2090</td><td>0</td><td>1</td><td>...</td><td>1</td><td>1</td><td>3</td><td>5</td><td>1</td><td>4</td><td>2</td><td>1</td><td>  0</td><td>  0</td></tr>\n",
       "\t<tr><td> 79465</td><td>satisfied</td><td>Female</td><td>Loyal Customer</td><td>25</td><td>Personal Travel</td><td>Eco     </td><td>2122</td><td>0</td><td>1</td><td>...</td><td>4</td><td>2</td><td>4</td><td>1</td><td>3</td><td>1</td><td>3</td><td>2</td><td>  0</td><td>  0</td></tr>\n",
       "\t<tr><td> 17764</td><td>satisfied</td><td>Male  </td><td>Loyal Customer</td><td>53</td><td>Personal Travel</td><td>Business</td><td>1099</td><td>0</td><td>1</td><td>...</td><td>3</td><td>1</td><td>1</td><td>0</td><td>1</td><td>3</td><td>1</td><td>1</td><td>  0</td><td>  0</td></tr>\n",
       "\t<tr><td> 77851</td><td>satisfied</td><td>Female</td><td>Loyal Customer</td><td>16</td><td>Personal Travel</td><td>Eco Plus</td><td>1747</td><td>0</td><td>1</td><td>...</td><td>2</td><td>2</td><td>3</td><td>3</td><td>2</td><td>4</td><td>3</td><td>2</td><td>  0</td><td>  0</td></tr>\n",
       "\t<tr><td> 82474</td><td>satisfied</td><td>Male  </td><td>Loyal Customer</td><td>30</td><td>Personal Travel</td><td>Eco     </td><td>1817</td><td>0</td><td>1</td><td>...</td><td>4</td><td>4</td><td>2</td><td>1</td><td>3</td><td>3</td><td>2</td><td>4</td><td>  0</td><td>  0</td></tr>\n",
       "\t<tr><td> 95756</td><td>satisfied</td><td>Male  </td><td>Loyal Customer</td><td>64</td><td>Personal Travel</td><td>Eco     </td><td>1707</td><td>0</td><td>1</td><td>...</td><td>3</td><td>5</td><td>4</td><td>4</td><td>2</td><td>3</td><td>2</td><td>5</td><td>  0</td><td>  0</td></tr>\n",
       "\t<tr><td> 50537</td><td>satisfied</td><td>Female</td><td>Loyal Customer</td><td>42</td><td>Personal Travel</td><td>Eco     </td><td> 470</td><td>0</td><td>1</td><td>...</td><td>2</td><td>3</td><td>3</td><td>0</td><td>3</td><td>1</td><td>3</td><td>4</td><td>  2</td><td> 23</td></tr>\n",
       "\t<tr><td> 34981</td><td>satisfied</td><td>Male  </td><td>Loyal Customer</td><td> 9</td><td>Personal Travel</td><td>Eco     </td><td> 972</td><td>0</td><td>1</td><td>...</td><td>4</td><td>4</td><td>4</td><td>3</td><td>3</td><td>1</td><td>3</td><td>4</td><td>  0</td><td>  0</td></tr>\n",
       "\t<tr><td> 35696</td><td>satisfied</td><td>Female</td><td>Loyal Customer</td><td>35</td><td>Personal Travel</td><td>Eco     </td><td>3695</td><td>0</td><td>1</td><td>...</td><td>4</td><td>2</td><td>2</td><td>3</td><td>4</td><td>4</td><td>3</td><td>4</td><td>  0</td><td>  0</td></tr>\n",
       "\t<tr><td>...</td><td>...</td><td>...</td><td>...</td><td>...</td><td>...</td><td>...</td><td>...</td><td>...</td><td>...</td><td></td><td>...</td><td>...</td><td>...</td><td>...</td><td>...</td><td>...</td><td>...</td><td>...</td><td>...</td><td>...</td></tr>\n",
       "\t<tr><td> 72868</td><td>neutral or dissatisfied</td><td>Female</td><td>disloyal Customer</td><td>68</td><td>Personal Travel</td><td>Eco     </td><td>2375</td><td>3</td><td>5</td><td>...</td><td>5</td><td>5</td><td>4</td><td>4</td><td>4</td><td>4</td><td>5</td><td>5</td><td>  0</td><td>  0</td></tr>\n",
       "\t<tr><td>  5573</td><td>neutral or dissatisfied</td><td>Female</td><td>disloyal Customer</td><td>21</td><td>Personal Travel</td><td>Eco     </td><td>1267</td><td>3</td><td>5</td><td>...</td><td>1</td><td>1</td><td>5</td><td>2</td><td>5</td><td>5</td><td>4</td><td>1</td><td>  0</td><td>  0</td></tr>\n",
       "\t<tr><td>116510</td><td>neutral or dissatisfied</td><td>Female</td><td>disloyal Customer</td><td>63</td><td>Personal Travel</td><td>Eco     </td><td>1303</td><td>3</td><td>5</td><td>...</td><td>1</td><td>5</td><td>3</td><td>4</td><td>5</td><td>3</td><td>4</td><td>5</td><td>  0</td><td>  0</td></tr>\n",
       "\t<tr><td> 41356</td><td>neutral or dissatisfied</td><td>Female</td><td>disloyal Customer</td><td>14</td><td>Personal Travel</td><td>Business</td><td>1966</td><td>3</td><td>5</td><td>...</td><td>1</td><td>1</td><td>5</td><td>5</td><td>4</td><td>4</td><td>4</td><td>1</td><td>  0</td><td>  0</td></tr>\n",
       "\t<tr><td>  7536</td><td>neutral or dissatisfied</td><td>Female</td><td>disloyal Customer</td><td>14</td><td>Personal Travel</td><td>Eco     </td><td>1972</td><td>3</td><td>5</td><td>...</td><td>5</td><td>5</td><td>3</td><td>4</td><td>5</td><td>4</td><td>4</td><td>5</td><td>  0</td><td>  0</td></tr>\n",
       "\t<tr><td>124546</td><td>neutral or dissatisfied</td><td>Female</td><td>disloyal Customer</td><td>13</td><td>Personal Travel</td><td>Eco     </td><td>2921</td><td>4</td><td>3</td><td>...</td><td>5</td><td>5</td><td>5</td><td>2</td><td>3</td><td>1</td><td>5</td><td>5</td><td> 39</td><td> 26</td></tr>\n",
       "\t<tr><td> 74890</td><td>neutral or dissatisfied</td><td>Female</td><td>disloyal Customer</td><td>53</td><td>Personal Travel</td><td>Business</td><td>4000</td><td>4</td><td>5</td><td>...</td><td>1</td><td>1</td><td>4</td><td>2</td><td>5</td><td>3</td><td>5</td><td>1</td><td>  0</td><td>  0</td></tr>\n",
       "\t<tr><td> 47688</td><td>neutral or dissatisfied</td><td>Female</td><td>disloyal Customer</td><td>70</td><td>Personal Travel</td><td>Eco     </td><td>2661</td><td>4</td><td>5</td><td>...</td><td>2</td><td>5</td><td>3</td><td>3</td><td>3</td><td>3</td><td>4</td><td>5</td><td> 15</td><td> 11</td></tr>\n",
       "\t<tr><td> 67840</td><td>neutral or dissatisfied</td><td>Female</td><td>disloyal Customer</td><td>16</td><td>Personal Travel</td><td>Eco     </td><td>3006</td><td>4</td><td>5</td><td>...</td><td>1</td><td>4</td><td>4</td><td>2</td><td>5</td><td>5</td><td>4</td><td>4</td><td>  0</td><td>  0</td></tr>\n",
       "\t<tr><td> 58803</td><td>neutral or dissatisfied</td><td>Female</td><td>disloyal Customer</td><td>29</td><td>Personal Travel</td><td>Eco     </td><td>2370</td><td>4</td><td>5</td><td>...</td><td>4</td><td>4</td><td>5</td><td>3</td><td>4</td><td>3</td><td>4</td><td>4</td><td>  2</td><td>  0</td></tr>\n",
       "\t<tr><td> 67201</td><td>neutral or dissatisfied</td><td>Female</td><td>disloyal Customer</td><td>43</td><td>Personal Travel</td><td>Eco     </td><td>2748</td><td>4</td><td>5</td><td>...</td><td>5</td><td>5</td><td>4</td><td>3</td><td>4</td><td>5</td><td>4</td><td>5</td><td>  0</td><td>  3</td></tr>\n",
       "\t<tr><td> 81849</td><td>satisfied              </td><td>Female</td><td>disloyal Customer</td><td>36</td><td>Personal Travel</td><td>Eco     </td><td>3466</td><td>0</td><td>4</td><td>...</td><td>4</td><td>4</td><td>5</td><td>4</td><td>5</td><td>5</td><td>5</td><td>4</td><td>  0</td><td>  0</td></tr>\n",
       "\t<tr><td> 81488</td><td>satisfied              </td><td>Female</td><td>disloyal Customer</td><td>25</td><td>Personal Travel</td><td>Eco     </td><td>2220</td><td>4</td><td>4</td><td>...</td><td>4</td><td>4</td><td>3</td><td>3</td><td>3</td><td>4</td><td>3</td><td>4</td><td>  0</td><td>  0</td></tr>\n",
       "\t<tr><td>119213</td><td>satisfied              </td><td>Female</td><td>disloyal Customer</td><td>52</td><td>Personal Travel</td><td>Eco     </td><td>1602</td><td>4</td><td>5</td><td>...</td><td>3</td><td>4</td><td>3</td><td>2</td><td>2</td><td>2</td><td>1</td><td>4</td><td>  0</td><td>  0</td></tr>\n",
       "\t<tr><td> 22856</td><td>satisfied              </td><td>Female</td><td>disloyal Customer</td><td>24</td><td>Personal Travel</td><td>Eco     </td><td>2039</td><td>4</td><td>5</td><td>...</td><td>2</td><td>2</td><td>4</td><td>5</td><td>5</td><td>5</td><td>4</td><td>2</td><td>  0</td><td>  0</td></tr>\n",
       "\t<tr><td> 82526</td><td>satisfied              </td><td>Female</td><td>disloyal Customer</td><td>59</td><td>Personal Travel</td><td>Eco     </td><td>2641</td><td>4</td><td>5</td><td>...</td><td>2</td><td>2</td><td>1</td><td>5</td><td>2</td><td>3</td><td>3</td><td>2</td><td>  5</td><td>  0</td></tr>\n",
       "\t<tr><td> 51023</td><td>satisfied              </td><td>Female</td><td>disloyal Customer</td><td>18</td><td>Personal Travel</td><td>Eco     </td><td>1243</td><td>5</td><td>0</td><td>...</td><td>2</td><td>2</td><td>4</td><td>5</td><td>5</td><td>3</td><td>5</td><td>2</td><td>  0</td><td>  0</td></tr>\n",
       "\t<tr><td> 86234</td><td>satisfied              </td><td>Female</td><td>disloyal Customer</td><td>30</td><td>Personal Travel</td><td>Eco     </td><td>1961</td><td>5</td><td>1</td><td>...</td><td>5</td><td>5</td><td>3</td><td>2</td><td>3</td><td>4</td><td>4</td><td>5</td><td>  0</td><td>  0</td></tr>\n",
       "\t<tr><td>  8518</td><td>satisfied              </td><td>Female</td><td>disloyal Customer</td><td>45</td><td>Personal Travel</td><td>Eco     </td><td>1612</td><td>5</td><td>2</td><td>...</td><td>2</td><td>2</td><td>2</td><td>5</td><td>4</td><td>3</td><td>4</td><td>2</td><td>  0</td><td>  0</td></tr>\n",
       "\t<tr><td> 80330</td><td>satisfied              </td><td>Female</td><td>disloyal Customer</td><td>55</td><td>Personal Travel</td><td>Eco     </td><td>1953</td><td>5</td><td>2</td><td>...</td><td>5</td><td>1</td><td>1</td><td>1</td><td>3</td><td>3</td><td>4</td><td>1</td><td>  0</td><td>  0</td></tr>\n",
       "\t<tr><td> 22432</td><td>satisfied              </td><td>Female</td><td>disloyal Customer</td><td>70</td><td>Personal Travel</td><td>Eco     </td><td>1674</td><td>5</td><td>4</td><td>...</td><td>5</td><td>5</td><td>3</td><td>2</td><td>4</td><td>5</td><td>4</td><td>5</td><td> 54</td><td> 46</td></tr>\n",
       "\t<tr><td> 91851</td><td>satisfied              </td><td>Female</td><td>disloyal Customer</td><td>35</td><td>Personal Travel</td><td>Eco     </td><td>3287</td><td>5</td><td>4</td><td>...</td><td>2</td><td>2</td><td>4</td><td>5</td><td>4</td><td>4</td><td>3</td><td>2</td><td>  9</td><td>  0</td></tr>\n",
       "\t<tr><td> 41573</td><td>satisfied              </td><td>Female</td><td>disloyal Customer</td><td>69</td><td>Personal Travel</td><td>Eco     </td><td>2240</td><td>5</td><td>4</td><td>...</td><td>4</td><td>4</td><td>5</td><td>4</td><td>4</td><td>3</td><td>4</td><td>4</td><td>  4</td><td>  0</td></tr>\n",
       "\t<tr><td> 46936</td><td>satisfied              </td><td>Female</td><td>disloyal Customer</td><td>63</td><td>Personal Travel</td><td>Eco     </td><td>1942</td><td>5</td><td>5</td><td>...</td><td>3</td><td>3</td><td>5</td><td>2</td><td>5</td><td>3</td><td>5</td><td>3</td><td>  7</td><td> NA</td></tr>\n",
       "\t<tr><td> 53969</td><td>satisfied              </td><td>Female</td><td>disloyal Customer</td><td>11</td><td>Personal Travel</td><td>Eco     </td><td>2752</td><td>5</td><td>5</td><td>...</td><td>2</td><td>2</td><td>3</td><td>5</td><td>3</td><td>5</td><td>4</td><td>2</td><td>  5</td><td>  0</td></tr>\n",
       "\t<tr><td>119211</td><td>satisfied              </td><td>Female</td><td>disloyal Customer</td><td>29</td><td>Personal Travel</td><td>Eco     </td><td>1731</td><td>5</td><td>5</td><td>...</td><td>2</td><td>2</td><td>3</td><td>3</td><td>4</td><td>4</td><td>4</td><td>2</td><td>  0</td><td>  0</td></tr>\n",
       "\t<tr><td> 97768</td><td>neutral or dissatisfied</td><td>Male  </td><td>disloyal Customer</td><td>63</td><td>Personal Travel</td><td>Business</td><td>2087</td><td>2</td><td>3</td><td>...</td><td>1</td><td>3</td><td>2</td><td>3</td><td>3</td><td>1</td><td>2</td><td>1</td><td>174</td><td>172</td></tr>\n",
       "\t<tr><td>125368</td><td>neutral or dissatisfied</td><td>Male  </td><td>disloyal Customer</td><td>69</td><td>Personal Travel</td><td>Eco     </td><td>2320</td><td>3</td><td>0</td><td>...</td><td>2</td><td>4</td><td>4</td><td>3</td><td>4</td><td>2</td><td>3</td><td>2</td><td>155</td><td>163</td></tr>\n",
       "\t<tr><td>   251</td><td>neutral or dissatisfied</td><td>Male  </td><td>disloyal Customer</td><td>66</td><td>Personal Travel</td><td>Eco     </td><td>2450</td><td>3</td><td>2</td><td>...</td><td>2</td><td>3</td><td>3</td><td>2</td><td>3</td><td>2</td><td>1</td><td>2</td><td>193</td><td>205</td></tr>\n",
       "\t<tr><td> 84566</td><td>neutral or dissatisfied</td><td>Female</td><td>disloyal Customer</td><td>38</td><td>Personal Travel</td><td>Eco     </td><td>4307</td><td>3</td><td>4</td><td>...</td><td>3</td><td>4</td><td>5</td><td>5</td><td>5</td><td>3</td><td>3</td><td>3</td><td>185</td><td>186</td></tr>\n",
       "</tbody>\n",
       "</table>\n"
      ],
      "text/latex": [
       "A tibble: 129880 × 24\n",
       "\\begin{tabular}{lllllllllllllllllllll}\n",
       " id & satisfaction\\_v2 & Gender & Customer Type & Age & Type of Travel & Class & Flight Distance & Seat comfort & Departure/Arrival time convenient & ... & Online support & Ease of Online booking & On-board service & Leg room service & Baggage handling & Checkin service & Cleanliness & Online boarding & Departure Delay in Minutes & Arrival Delay in Minutes\\\\\n",
       " <dbl> & <chr> & <chr> & <chr> & <dbl> & <chr> & <chr> & <dbl> & <dbl> & <dbl> & ... & <dbl> & <dbl> & <dbl> & <dbl> & <dbl> & <dbl> & <dbl> & <dbl> & <dbl> & <dbl>\\\\\n",
       "\\hline\n",
       "\t  11112 & satisfied & Female & Loyal Customer & 65 & Personal Travel & Eco      &  265 & 0 & 0 & ... & 2 & 3 & 3 & 0 & 3 & 5 & 3 & 2 &   0 &   0\\\\\n",
       "\t 110278 & satisfied & Male   & Loyal Customer & 47 & Personal Travel & Business & 2464 & 0 & 0 & ... & 2 & 3 & 4 & 4 & 4 & 2 & 3 & 2 & 310 & 305\\\\\n",
       "\t 103199 & satisfied & Female & Loyal Customer & 15 & Personal Travel & Eco      & 2138 & 0 & 0 & ... & 2 & 2 & 3 & 3 & 4 & 4 & 4 & 2 &   0 &   0\\\\\n",
       "\t  47462 & satisfied & Female & Loyal Customer & 60 & Personal Travel & Eco      &  623 & 0 & 0 & ... & 3 & 1 & 1 & 0 & 1 & 4 & 1 & 3 &   0 &   0\\\\\n",
       "\t 120011 & satisfied & Female & Loyal Customer & 70 & Personal Travel & Eco      &  354 & 0 & 0 & ... & 4 & 2 & 2 & 0 & 2 & 4 & 2 & 5 &   0 &   0\\\\\n",
       "\t 100744 & satisfied & Male   & Loyal Customer & 30 & Personal Travel & Eco      & 1894 & 0 & 0 & ... & 2 & 2 & 5 & 4 & 5 & 5 & 4 & 2 &   0 &   0\\\\\n",
       "\t  32838 & satisfied & Female & Loyal Customer & 66 & Personal Travel & Eco      &  227 & 0 & 0 & ... & 5 & 5 & 5 & 0 & 5 & 5 & 5 & 3 &  17 &  15\\\\\n",
       "\t  32864 & satisfied & Male   & Loyal Customer & 10 & Personal Travel & Eco      & 1812 & 0 & 0 & ... & 2 & 2 & 3 & 3 & 4 & 5 & 4 & 2 &   0 &   0\\\\\n",
       "\t  53786 & satisfied & Female & Loyal Customer & 56 & Personal Travel & Business &   73 & 0 & 0 & ... & 5 & 4 & 4 & 0 & 1 & 5 & 4 & 4 &   0 &   0\\\\\n",
       "\t   7243 & satisfied & Male   & Loyal Customer & 22 & Personal Travel & Eco      & 1556 & 0 & 0 & ... & 2 & 2 & 2 & 4 & 5 & 3 & 4 & 2 &  30 &  26\\\\\n",
       "\t  89429 & satisfied & Female & Loyal Customer & 58 & Personal Travel & Eco      &  104 & 0 & 0 & ... & 3 & 3 & 3 & 0 & 1 & 2 & 3 & 5 &  47 &  48\\\\\n",
       "\t 126744 & satisfied & Female & Loyal Customer & 34 & Personal Travel & Eco      & 3633 & 0 & 0 & ... & 2 & 2 & 3 & 2 & 5 & 2 & 5 & 2 &   0 &   0\\\\\n",
       "\t  89717 & satisfied & Male   & Loyal Customer & 62 & Personal Travel & Eco      & 1695 & 0 & 0 & ... & 5 & 5 & 1 & 3 & 2 & 2 & 4 & 5 &   0 &   0\\\\\n",
       "\t 121486 & satisfied & Male   & Loyal Customer & 35 & Personal Travel & Eco      & 1766 & 0 & 1 & ... & 4 & 4 & 3 & 5 & 2 & 3 & 2 & 4 &   0 &   0\\\\\n",
       "\t  32848 & satisfied & Female & Loyal Customer & 47 & Personal Travel & Eco      &   84 & 0 & 1 & ... & 1 & 5 & 5 & 0 & 5 & 2 & 5 & 2 &  40 &  48\\\\\n",
       "\t  32923 & satisfied & Male   & Loyal Customer & 60 & Personal Travel & Eco      & 1373 & 0 & 1 & ... & 1 & 1 & 3 & 4 & 1 & 4 & 2 & 1 &   0 &   0\\\\\n",
       "\t 129341 & satisfied & Female & Loyal Customer & 13 & Personal Travel & Eco      & 3693 & 0 & 1 & ... & 4 & 4 & 4 & 4 & 1 & 3 & 1 & 4 &   5 &   0\\\\\n",
       "\t 129306 & satisfied & Female & Loyal Customer & 52 & Personal Travel & Business & 2610 & 0 & 1 & ... & 2 & 1 & 1 & 0 & 1 & 2 & 1 & 3 &   0 &   0\\\\\n",
       "\t  55441 & satisfied & Female & Loyal Customer & 55 & Personal Travel & Eco      & 2554 & 0 & 1 & ... & 1 & 2 & 1 & 1 & 2 & 1 & 3 & 1 &   0 &   0\\\\\n",
       "\t  99352 & satisfied & Female & Loyal Customer & 28 & Personal Travel & Eco      & 3095 & 0 & 1 & ... & 3 & 3 & 2 & 5 & 2 & 3 & 2 & 3 &   0 &   0\\\\\n",
       "\t  74225 & satisfied & Female & Loyal Customer &  9 & Personal Travel & Eco      & 3305 & 0 & 1 & ... & 5 & 3 & 1 & 1 & 1 & 3 & 3 & 3 &   0 &   0\\\\\n",
       "\t  98290 & satisfied & Female & Loyal Customer & 10 & Personal Travel & Eco      & 2090 & 0 & 1 & ... & 1 & 1 & 3 & 5 & 1 & 4 & 2 & 1 &   0 &   0\\\\\n",
       "\t  79465 & satisfied & Female & Loyal Customer & 25 & Personal Travel & Eco      & 2122 & 0 & 1 & ... & 4 & 2 & 4 & 1 & 3 & 1 & 3 & 2 &   0 &   0\\\\\n",
       "\t  17764 & satisfied & Male   & Loyal Customer & 53 & Personal Travel & Business & 1099 & 0 & 1 & ... & 3 & 1 & 1 & 0 & 1 & 3 & 1 & 1 &   0 &   0\\\\\n",
       "\t  77851 & satisfied & Female & Loyal Customer & 16 & Personal Travel & Eco Plus & 1747 & 0 & 1 & ... & 2 & 2 & 3 & 3 & 2 & 4 & 3 & 2 &   0 &   0\\\\\n",
       "\t  82474 & satisfied & Male   & Loyal Customer & 30 & Personal Travel & Eco      & 1817 & 0 & 1 & ... & 4 & 4 & 2 & 1 & 3 & 3 & 2 & 4 &   0 &   0\\\\\n",
       "\t  95756 & satisfied & Male   & Loyal Customer & 64 & Personal Travel & Eco      & 1707 & 0 & 1 & ... & 3 & 5 & 4 & 4 & 2 & 3 & 2 & 5 &   0 &   0\\\\\n",
       "\t  50537 & satisfied & Female & Loyal Customer & 42 & Personal Travel & Eco      &  470 & 0 & 1 & ... & 2 & 3 & 3 & 0 & 3 & 1 & 3 & 4 &   2 &  23\\\\\n",
       "\t  34981 & satisfied & Male   & Loyal Customer &  9 & Personal Travel & Eco      &  972 & 0 & 1 & ... & 4 & 4 & 4 & 3 & 3 & 1 & 3 & 4 &   0 &   0\\\\\n",
       "\t  35696 & satisfied & Female & Loyal Customer & 35 & Personal Travel & Eco      & 3695 & 0 & 1 & ... & 4 & 2 & 2 & 3 & 4 & 4 & 3 & 4 &   0 &   0\\\\\n",
       "\t ... & ... & ... & ... & ... & ... & ... & ... & ... & ... &  & ... & ... & ... & ... & ... & ... & ... & ... & ... & ...\\\\\n",
       "\t  72868 & neutral or dissatisfied & Female & disloyal Customer & 68 & Personal Travel & Eco      & 2375 & 3 & 5 & ... & 5 & 5 & 4 & 4 & 4 & 4 & 5 & 5 &   0 &   0\\\\\n",
       "\t   5573 & neutral or dissatisfied & Female & disloyal Customer & 21 & Personal Travel & Eco      & 1267 & 3 & 5 & ... & 1 & 1 & 5 & 2 & 5 & 5 & 4 & 1 &   0 &   0\\\\\n",
       "\t 116510 & neutral or dissatisfied & Female & disloyal Customer & 63 & Personal Travel & Eco      & 1303 & 3 & 5 & ... & 1 & 5 & 3 & 4 & 5 & 3 & 4 & 5 &   0 &   0\\\\\n",
       "\t  41356 & neutral or dissatisfied & Female & disloyal Customer & 14 & Personal Travel & Business & 1966 & 3 & 5 & ... & 1 & 1 & 5 & 5 & 4 & 4 & 4 & 1 &   0 &   0\\\\\n",
       "\t   7536 & neutral or dissatisfied & Female & disloyal Customer & 14 & Personal Travel & Eco      & 1972 & 3 & 5 & ... & 5 & 5 & 3 & 4 & 5 & 4 & 4 & 5 &   0 &   0\\\\\n",
       "\t 124546 & neutral or dissatisfied & Female & disloyal Customer & 13 & Personal Travel & Eco      & 2921 & 4 & 3 & ... & 5 & 5 & 5 & 2 & 3 & 1 & 5 & 5 &  39 &  26\\\\\n",
       "\t  74890 & neutral or dissatisfied & Female & disloyal Customer & 53 & Personal Travel & Business & 4000 & 4 & 5 & ... & 1 & 1 & 4 & 2 & 5 & 3 & 5 & 1 &   0 &   0\\\\\n",
       "\t  47688 & neutral or dissatisfied & Female & disloyal Customer & 70 & Personal Travel & Eco      & 2661 & 4 & 5 & ... & 2 & 5 & 3 & 3 & 3 & 3 & 4 & 5 &  15 &  11\\\\\n",
       "\t  67840 & neutral or dissatisfied & Female & disloyal Customer & 16 & Personal Travel & Eco      & 3006 & 4 & 5 & ... & 1 & 4 & 4 & 2 & 5 & 5 & 4 & 4 &   0 &   0\\\\\n",
       "\t  58803 & neutral or dissatisfied & Female & disloyal Customer & 29 & Personal Travel & Eco      & 2370 & 4 & 5 & ... & 4 & 4 & 5 & 3 & 4 & 3 & 4 & 4 &   2 &   0\\\\\n",
       "\t  67201 & neutral or dissatisfied & Female & disloyal Customer & 43 & Personal Travel & Eco      & 2748 & 4 & 5 & ... & 5 & 5 & 4 & 3 & 4 & 5 & 4 & 5 &   0 &   3\\\\\n",
       "\t  81849 & satisfied               & Female & disloyal Customer & 36 & Personal Travel & Eco      & 3466 & 0 & 4 & ... & 4 & 4 & 5 & 4 & 5 & 5 & 5 & 4 &   0 &   0\\\\\n",
       "\t  81488 & satisfied               & Female & disloyal Customer & 25 & Personal Travel & Eco      & 2220 & 4 & 4 & ... & 4 & 4 & 3 & 3 & 3 & 4 & 3 & 4 &   0 &   0\\\\\n",
       "\t 119213 & satisfied               & Female & disloyal Customer & 52 & Personal Travel & Eco      & 1602 & 4 & 5 & ... & 3 & 4 & 3 & 2 & 2 & 2 & 1 & 4 &   0 &   0\\\\\n",
       "\t  22856 & satisfied               & Female & disloyal Customer & 24 & Personal Travel & Eco      & 2039 & 4 & 5 & ... & 2 & 2 & 4 & 5 & 5 & 5 & 4 & 2 &   0 &   0\\\\\n",
       "\t  82526 & satisfied               & Female & disloyal Customer & 59 & Personal Travel & Eco      & 2641 & 4 & 5 & ... & 2 & 2 & 1 & 5 & 2 & 3 & 3 & 2 &   5 &   0\\\\\n",
       "\t  51023 & satisfied               & Female & disloyal Customer & 18 & Personal Travel & Eco      & 1243 & 5 & 0 & ... & 2 & 2 & 4 & 5 & 5 & 3 & 5 & 2 &   0 &   0\\\\\n",
       "\t  86234 & satisfied               & Female & disloyal Customer & 30 & Personal Travel & Eco      & 1961 & 5 & 1 & ... & 5 & 5 & 3 & 2 & 3 & 4 & 4 & 5 &   0 &   0\\\\\n",
       "\t   8518 & satisfied               & Female & disloyal Customer & 45 & Personal Travel & Eco      & 1612 & 5 & 2 & ... & 2 & 2 & 2 & 5 & 4 & 3 & 4 & 2 &   0 &   0\\\\\n",
       "\t  80330 & satisfied               & Female & disloyal Customer & 55 & Personal Travel & Eco      & 1953 & 5 & 2 & ... & 5 & 1 & 1 & 1 & 3 & 3 & 4 & 1 &   0 &   0\\\\\n",
       "\t  22432 & satisfied               & Female & disloyal Customer & 70 & Personal Travel & Eco      & 1674 & 5 & 4 & ... & 5 & 5 & 3 & 2 & 4 & 5 & 4 & 5 &  54 &  46\\\\\n",
       "\t  91851 & satisfied               & Female & disloyal Customer & 35 & Personal Travel & Eco      & 3287 & 5 & 4 & ... & 2 & 2 & 4 & 5 & 4 & 4 & 3 & 2 &   9 &   0\\\\\n",
       "\t  41573 & satisfied               & Female & disloyal Customer & 69 & Personal Travel & Eco      & 2240 & 5 & 4 & ... & 4 & 4 & 5 & 4 & 4 & 3 & 4 & 4 &   4 &   0\\\\\n",
       "\t  46936 & satisfied               & Female & disloyal Customer & 63 & Personal Travel & Eco      & 1942 & 5 & 5 & ... & 3 & 3 & 5 & 2 & 5 & 3 & 5 & 3 &   7 &  NA\\\\\n",
       "\t  53969 & satisfied               & Female & disloyal Customer & 11 & Personal Travel & Eco      & 2752 & 5 & 5 & ... & 2 & 2 & 3 & 5 & 3 & 5 & 4 & 2 &   5 &   0\\\\\n",
       "\t 119211 & satisfied               & Female & disloyal Customer & 29 & Personal Travel & Eco      & 1731 & 5 & 5 & ... & 2 & 2 & 3 & 3 & 4 & 4 & 4 & 2 &   0 &   0\\\\\n",
       "\t  97768 & neutral or dissatisfied & Male   & disloyal Customer & 63 & Personal Travel & Business & 2087 & 2 & 3 & ... & 1 & 3 & 2 & 3 & 3 & 1 & 2 & 1 & 174 & 172\\\\\n",
       "\t 125368 & neutral or dissatisfied & Male   & disloyal Customer & 69 & Personal Travel & Eco      & 2320 & 3 & 0 & ... & 2 & 4 & 4 & 3 & 4 & 2 & 3 & 2 & 155 & 163\\\\\n",
       "\t    251 & neutral or dissatisfied & Male   & disloyal Customer & 66 & Personal Travel & Eco      & 2450 & 3 & 2 & ... & 2 & 3 & 3 & 2 & 3 & 2 & 1 & 2 & 193 & 205\\\\\n",
       "\t  84566 & neutral or dissatisfied & Female & disloyal Customer & 38 & Personal Travel & Eco      & 4307 & 3 & 4 & ... & 3 & 4 & 5 & 5 & 5 & 3 & 3 & 3 & 185 & 186\\\\\n",
       "\\end{tabular}\n"
      ],
      "text/markdown": [
       "\n",
       "A tibble: 129880 × 24\n",
       "\n",
       "| id &lt;dbl&gt; | satisfaction_v2 &lt;chr&gt; | Gender &lt;chr&gt; | Customer Type &lt;chr&gt; | Age &lt;dbl&gt; | Type of Travel &lt;chr&gt; | Class &lt;chr&gt; | Flight Distance &lt;dbl&gt; | Seat comfort &lt;dbl&gt; | Departure/Arrival time convenient &lt;dbl&gt; | ... ... | Online support &lt;dbl&gt; | Ease of Online booking &lt;dbl&gt; | On-board service &lt;dbl&gt; | Leg room service &lt;dbl&gt; | Baggage handling &lt;dbl&gt; | Checkin service &lt;dbl&gt; | Cleanliness &lt;dbl&gt; | Online boarding &lt;dbl&gt; | Departure Delay in Minutes &lt;dbl&gt; | Arrival Delay in Minutes &lt;dbl&gt; |\n",
       "|---|---|---|---|---|---|---|---|---|---|---|---|---|---|---|---|---|---|---|---|---|\n",
       "|  11112 | satisfied | Female | Loyal Customer | 65 | Personal Travel | Eco      |  265 | 0 | 0 | ... | 2 | 3 | 3 | 0 | 3 | 5 | 3 | 2 |   0 |   0 |\n",
       "| 110278 | satisfied | Male   | Loyal Customer | 47 | Personal Travel | Business | 2464 | 0 | 0 | ... | 2 | 3 | 4 | 4 | 4 | 2 | 3 | 2 | 310 | 305 |\n",
       "| 103199 | satisfied | Female | Loyal Customer | 15 | Personal Travel | Eco      | 2138 | 0 | 0 | ... | 2 | 2 | 3 | 3 | 4 | 4 | 4 | 2 |   0 |   0 |\n",
       "|  47462 | satisfied | Female | Loyal Customer | 60 | Personal Travel | Eco      |  623 | 0 | 0 | ... | 3 | 1 | 1 | 0 | 1 | 4 | 1 | 3 |   0 |   0 |\n",
       "| 120011 | satisfied | Female | Loyal Customer | 70 | Personal Travel | Eco      |  354 | 0 | 0 | ... | 4 | 2 | 2 | 0 | 2 | 4 | 2 | 5 |   0 |   0 |\n",
       "| 100744 | satisfied | Male   | Loyal Customer | 30 | Personal Travel | Eco      | 1894 | 0 | 0 | ... | 2 | 2 | 5 | 4 | 5 | 5 | 4 | 2 |   0 |   0 |\n",
       "|  32838 | satisfied | Female | Loyal Customer | 66 | Personal Travel | Eco      |  227 | 0 | 0 | ... | 5 | 5 | 5 | 0 | 5 | 5 | 5 | 3 |  17 |  15 |\n",
       "|  32864 | satisfied | Male   | Loyal Customer | 10 | Personal Travel | Eco      | 1812 | 0 | 0 | ... | 2 | 2 | 3 | 3 | 4 | 5 | 4 | 2 |   0 |   0 |\n",
       "|  53786 | satisfied | Female | Loyal Customer | 56 | Personal Travel | Business |   73 | 0 | 0 | ... | 5 | 4 | 4 | 0 | 1 | 5 | 4 | 4 |   0 |   0 |\n",
       "|   7243 | satisfied | Male   | Loyal Customer | 22 | Personal Travel | Eco      | 1556 | 0 | 0 | ... | 2 | 2 | 2 | 4 | 5 | 3 | 4 | 2 |  30 |  26 |\n",
       "|  89429 | satisfied | Female | Loyal Customer | 58 | Personal Travel | Eco      |  104 | 0 | 0 | ... | 3 | 3 | 3 | 0 | 1 | 2 | 3 | 5 |  47 |  48 |\n",
       "| 126744 | satisfied | Female | Loyal Customer | 34 | Personal Travel | Eco      | 3633 | 0 | 0 | ... | 2 | 2 | 3 | 2 | 5 | 2 | 5 | 2 |   0 |   0 |\n",
       "|  89717 | satisfied | Male   | Loyal Customer | 62 | Personal Travel | Eco      | 1695 | 0 | 0 | ... | 5 | 5 | 1 | 3 | 2 | 2 | 4 | 5 |   0 |   0 |\n",
       "| 121486 | satisfied | Male   | Loyal Customer | 35 | Personal Travel | Eco      | 1766 | 0 | 1 | ... | 4 | 4 | 3 | 5 | 2 | 3 | 2 | 4 |   0 |   0 |\n",
       "|  32848 | satisfied | Female | Loyal Customer | 47 | Personal Travel | Eco      |   84 | 0 | 1 | ... | 1 | 5 | 5 | 0 | 5 | 2 | 5 | 2 |  40 |  48 |\n",
       "|  32923 | satisfied | Male   | Loyal Customer | 60 | Personal Travel | Eco      | 1373 | 0 | 1 | ... | 1 | 1 | 3 | 4 | 1 | 4 | 2 | 1 |   0 |   0 |\n",
       "| 129341 | satisfied | Female | Loyal Customer | 13 | Personal Travel | Eco      | 3693 | 0 | 1 | ... | 4 | 4 | 4 | 4 | 1 | 3 | 1 | 4 |   5 |   0 |\n",
       "| 129306 | satisfied | Female | Loyal Customer | 52 | Personal Travel | Business | 2610 | 0 | 1 | ... | 2 | 1 | 1 | 0 | 1 | 2 | 1 | 3 |   0 |   0 |\n",
       "|  55441 | satisfied | Female | Loyal Customer | 55 | Personal Travel | Eco      | 2554 | 0 | 1 | ... | 1 | 2 | 1 | 1 | 2 | 1 | 3 | 1 |   0 |   0 |\n",
       "|  99352 | satisfied | Female | Loyal Customer | 28 | Personal Travel | Eco      | 3095 | 0 | 1 | ... | 3 | 3 | 2 | 5 | 2 | 3 | 2 | 3 |   0 |   0 |\n",
       "|  74225 | satisfied | Female | Loyal Customer |  9 | Personal Travel | Eco      | 3305 | 0 | 1 | ... | 5 | 3 | 1 | 1 | 1 | 3 | 3 | 3 |   0 |   0 |\n",
       "|  98290 | satisfied | Female | Loyal Customer | 10 | Personal Travel | Eco      | 2090 | 0 | 1 | ... | 1 | 1 | 3 | 5 | 1 | 4 | 2 | 1 |   0 |   0 |\n",
       "|  79465 | satisfied | Female | Loyal Customer | 25 | Personal Travel | Eco      | 2122 | 0 | 1 | ... | 4 | 2 | 4 | 1 | 3 | 1 | 3 | 2 |   0 |   0 |\n",
       "|  17764 | satisfied | Male   | Loyal Customer | 53 | Personal Travel | Business | 1099 | 0 | 1 | ... | 3 | 1 | 1 | 0 | 1 | 3 | 1 | 1 |   0 |   0 |\n",
       "|  77851 | satisfied | Female | Loyal Customer | 16 | Personal Travel | Eco Plus | 1747 | 0 | 1 | ... | 2 | 2 | 3 | 3 | 2 | 4 | 3 | 2 |   0 |   0 |\n",
       "|  82474 | satisfied | Male   | Loyal Customer | 30 | Personal Travel | Eco      | 1817 | 0 | 1 | ... | 4 | 4 | 2 | 1 | 3 | 3 | 2 | 4 |   0 |   0 |\n",
       "|  95756 | satisfied | Male   | Loyal Customer | 64 | Personal Travel | Eco      | 1707 | 0 | 1 | ... | 3 | 5 | 4 | 4 | 2 | 3 | 2 | 5 |   0 |   0 |\n",
       "|  50537 | satisfied | Female | Loyal Customer | 42 | Personal Travel | Eco      |  470 | 0 | 1 | ... | 2 | 3 | 3 | 0 | 3 | 1 | 3 | 4 |   2 |  23 |\n",
       "|  34981 | satisfied | Male   | Loyal Customer |  9 | Personal Travel | Eco      |  972 | 0 | 1 | ... | 4 | 4 | 4 | 3 | 3 | 1 | 3 | 4 |   0 |   0 |\n",
       "|  35696 | satisfied | Female | Loyal Customer | 35 | Personal Travel | Eco      | 3695 | 0 | 1 | ... | 4 | 2 | 2 | 3 | 4 | 4 | 3 | 4 |   0 |   0 |\n",
       "| ... | ... | ... | ... | ... | ... | ... | ... | ... | ... | <!----> | ... | ... | ... | ... | ... | ... | ... | ... | ... | ... |\n",
       "|  72868 | neutral or dissatisfied | Female | disloyal Customer | 68 | Personal Travel | Eco      | 2375 | 3 | 5 | ... | 5 | 5 | 4 | 4 | 4 | 4 | 5 | 5 |   0 |   0 |\n",
       "|   5573 | neutral or dissatisfied | Female | disloyal Customer | 21 | Personal Travel | Eco      | 1267 | 3 | 5 | ... | 1 | 1 | 5 | 2 | 5 | 5 | 4 | 1 |   0 |   0 |\n",
       "| 116510 | neutral or dissatisfied | Female | disloyal Customer | 63 | Personal Travel | Eco      | 1303 | 3 | 5 | ... | 1 | 5 | 3 | 4 | 5 | 3 | 4 | 5 |   0 |   0 |\n",
       "|  41356 | neutral or dissatisfied | Female | disloyal Customer | 14 | Personal Travel | Business | 1966 | 3 | 5 | ... | 1 | 1 | 5 | 5 | 4 | 4 | 4 | 1 |   0 |   0 |\n",
       "|   7536 | neutral or dissatisfied | Female | disloyal Customer | 14 | Personal Travel | Eco      | 1972 | 3 | 5 | ... | 5 | 5 | 3 | 4 | 5 | 4 | 4 | 5 |   0 |   0 |\n",
       "| 124546 | neutral or dissatisfied | Female | disloyal Customer | 13 | Personal Travel | Eco      | 2921 | 4 | 3 | ... | 5 | 5 | 5 | 2 | 3 | 1 | 5 | 5 |  39 |  26 |\n",
       "|  74890 | neutral or dissatisfied | Female | disloyal Customer | 53 | Personal Travel | Business | 4000 | 4 | 5 | ... | 1 | 1 | 4 | 2 | 5 | 3 | 5 | 1 |   0 |   0 |\n",
       "|  47688 | neutral or dissatisfied | Female | disloyal Customer | 70 | Personal Travel | Eco      | 2661 | 4 | 5 | ... | 2 | 5 | 3 | 3 | 3 | 3 | 4 | 5 |  15 |  11 |\n",
       "|  67840 | neutral or dissatisfied | Female | disloyal Customer | 16 | Personal Travel | Eco      | 3006 | 4 | 5 | ... | 1 | 4 | 4 | 2 | 5 | 5 | 4 | 4 |   0 |   0 |\n",
       "|  58803 | neutral or dissatisfied | Female | disloyal Customer | 29 | Personal Travel | Eco      | 2370 | 4 | 5 | ... | 4 | 4 | 5 | 3 | 4 | 3 | 4 | 4 |   2 |   0 |\n",
       "|  67201 | neutral or dissatisfied | Female | disloyal Customer | 43 | Personal Travel | Eco      | 2748 | 4 | 5 | ... | 5 | 5 | 4 | 3 | 4 | 5 | 4 | 5 |   0 |   3 |\n",
       "|  81849 | satisfied               | Female | disloyal Customer | 36 | Personal Travel | Eco      | 3466 | 0 | 4 | ... | 4 | 4 | 5 | 4 | 5 | 5 | 5 | 4 |   0 |   0 |\n",
       "|  81488 | satisfied               | Female | disloyal Customer | 25 | Personal Travel | Eco      | 2220 | 4 | 4 | ... | 4 | 4 | 3 | 3 | 3 | 4 | 3 | 4 |   0 |   0 |\n",
       "| 119213 | satisfied               | Female | disloyal Customer | 52 | Personal Travel | Eco      | 1602 | 4 | 5 | ... | 3 | 4 | 3 | 2 | 2 | 2 | 1 | 4 |   0 |   0 |\n",
       "|  22856 | satisfied               | Female | disloyal Customer | 24 | Personal Travel | Eco      | 2039 | 4 | 5 | ... | 2 | 2 | 4 | 5 | 5 | 5 | 4 | 2 |   0 |   0 |\n",
       "|  82526 | satisfied               | Female | disloyal Customer | 59 | Personal Travel | Eco      | 2641 | 4 | 5 | ... | 2 | 2 | 1 | 5 | 2 | 3 | 3 | 2 |   5 |   0 |\n",
       "|  51023 | satisfied               | Female | disloyal Customer | 18 | Personal Travel | Eco      | 1243 | 5 | 0 | ... | 2 | 2 | 4 | 5 | 5 | 3 | 5 | 2 |   0 |   0 |\n",
       "|  86234 | satisfied               | Female | disloyal Customer | 30 | Personal Travel | Eco      | 1961 | 5 | 1 | ... | 5 | 5 | 3 | 2 | 3 | 4 | 4 | 5 |   0 |   0 |\n",
       "|   8518 | satisfied               | Female | disloyal Customer | 45 | Personal Travel | Eco      | 1612 | 5 | 2 | ... | 2 | 2 | 2 | 5 | 4 | 3 | 4 | 2 |   0 |   0 |\n",
       "|  80330 | satisfied               | Female | disloyal Customer | 55 | Personal Travel | Eco      | 1953 | 5 | 2 | ... | 5 | 1 | 1 | 1 | 3 | 3 | 4 | 1 |   0 |   0 |\n",
       "|  22432 | satisfied               | Female | disloyal Customer | 70 | Personal Travel | Eco      | 1674 | 5 | 4 | ... | 5 | 5 | 3 | 2 | 4 | 5 | 4 | 5 |  54 |  46 |\n",
       "|  91851 | satisfied               | Female | disloyal Customer | 35 | Personal Travel | Eco      | 3287 | 5 | 4 | ... | 2 | 2 | 4 | 5 | 4 | 4 | 3 | 2 |   9 |   0 |\n",
       "|  41573 | satisfied               | Female | disloyal Customer | 69 | Personal Travel | Eco      | 2240 | 5 | 4 | ... | 4 | 4 | 5 | 4 | 4 | 3 | 4 | 4 |   4 |   0 |\n",
       "|  46936 | satisfied               | Female | disloyal Customer | 63 | Personal Travel | Eco      | 1942 | 5 | 5 | ... | 3 | 3 | 5 | 2 | 5 | 3 | 5 | 3 |   7 |  NA |\n",
       "|  53969 | satisfied               | Female | disloyal Customer | 11 | Personal Travel | Eco      | 2752 | 5 | 5 | ... | 2 | 2 | 3 | 5 | 3 | 5 | 4 | 2 |   5 |   0 |\n",
       "| 119211 | satisfied               | Female | disloyal Customer | 29 | Personal Travel | Eco      | 1731 | 5 | 5 | ... | 2 | 2 | 3 | 3 | 4 | 4 | 4 | 2 |   0 |   0 |\n",
       "|  97768 | neutral or dissatisfied | Male   | disloyal Customer | 63 | Personal Travel | Business | 2087 | 2 | 3 | ... | 1 | 3 | 2 | 3 | 3 | 1 | 2 | 1 | 174 | 172 |\n",
       "| 125368 | neutral or dissatisfied | Male   | disloyal Customer | 69 | Personal Travel | Eco      | 2320 | 3 | 0 | ... | 2 | 4 | 4 | 3 | 4 | 2 | 3 | 2 | 155 | 163 |\n",
       "|    251 | neutral or dissatisfied | Male   | disloyal Customer | 66 | Personal Travel | Eco      | 2450 | 3 | 2 | ... | 2 | 3 | 3 | 2 | 3 | 2 | 1 | 2 | 193 | 205 |\n",
       "|  84566 | neutral or dissatisfied | Female | disloyal Customer | 38 | Personal Travel | Eco      | 4307 | 3 | 4 | ... | 3 | 4 | 5 | 5 | 5 | 3 | 3 | 3 | 185 | 186 |\n",
       "\n"
      ],
      "text/plain": [
       "       id     satisfaction_v2         Gender Customer Type     Age\n",
       "1       11112 satisfied               Female Loyal Customer    65 \n",
       "2      110278 satisfied               Male   Loyal Customer    47 \n",
       "3      103199 satisfied               Female Loyal Customer    15 \n",
       "4       47462 satisfied               Female Loyal Customer    60 \n",
       "5      120011 satisfied               Female Loyal Customer    70 \n",
       "6      100744 satisfied               Male   Loyal Customer    30 \n",
       "7       32838 satisfied               Female Loyal Customer    66 \n",
       "8       32864 satisfied               Male   Loyal Customer    10 \n",
       "9       53786 satisfied               Female Loyal Customer    56 \n",
       "10       7243 satisfied               Male   Loyal Customer    22 \n",
       "11      89429 satisfied               Female Loyal Customer    58 \n",
       "12     126744 satisfied               Female Loyal Customer    34 \n",
       "13      89717 satisfied               Male   Loyal Customer    62 \n",
       "14     121486 satisfied               Male   Loyal Customer    35 \n",
       "15      32848 satisfied               Female Loyal Customer    47 \n",
       "16      32923 satisfied               Male   Loyal Customer    60 \n",
       "17     129341 satisfied               Female Loyal Customer    13 \n",
       "18     129306 satisfied               Female Loyal Customer    52 \n",
       "19      55441 satisfied               Female Loyal Customer    55 \n",
       "20      99352 satisfied               Female Loyal Customer    28 \n",
       "21      74225 satisfied               Female Loyal Customer     9 \n",
       "22      98290 satisfied               Female Loyal Customer    10 \n",
       "23      79465 satisfied               Female Loyal Customer    25 \n",
       "24      17764 satisfied               Male   Loyal Customer    53 \n",
       "25      77851 satisfied               Female Loyal Customer    16 \n",
       "26      82474 satisfied               Male   Loyal Customer    30 \n",
       "27      95756 satisfied               Male   Loyal Customer    64 \n",
       "28      50537 satisfied               Female Loyal Customer    42 \n",
       "29      34981 satisfied               Male   Loyal Customer     9 \n",
       "30      35696 satisfied               Female Loyal Customer    35 \n",
       "...    ...    ...                     ...    ...               ...\n",
       "129851  72868 neutral or dissatisfied Female disloyal Customer 68 \n",
       "129852   5573 neutral or dissatisfied Female disloyal Customer 21 \n",
       "129853 116510 neutral or dissatisfied Female disloyal Customer 63 \n",
       "129854  41356 neutral or dissatisfied Female disloyal Customer 14 \n",
       "129855   7536 neutral or dissatisfied Female disloyal Customer 14 \n",
       "129856 124546 neutral or dissatisfied Female disloyal Customer 13 \n",
       "129857  74890 neutral or dissatisfied Female disloyal Customer 53 \n",
       "129858  47688 neutral or dissatisfied Female disloyal Customer 70 \n",
       "129859  67840 neutral or dissatisfied Female disloyal Customer 16 \n",
       "129860  58803 neutral or dissatisfied Female disloyal Customer 29 \n",
       "129861  67201 neutral or dissatisfied Female disloyal Customer 43 \n",
       "129862  81849 satisfied               Female disloyal Customer 36 \n",
       "129863  81488 satisfied               Female disloyal Customer 25 \n",
       "129864 119213 satisfied               Female disloyal Customer 52 \n",
       "129865  22856 satisfied               Female disloyal Customer 24 \n",
       "129866  82526 satisfied               Female disloyal Customer 59 \n",
       "129867  51023 satisfied               Female disloyal Customer 18 \n",
       "129868  86234 satisfied               Female disloyal Customer 30 \n",
       "129869   8518 satisfied               Female disloyal Customer 45 \n",
       "129870  80330 satisfied               Female disloyal Customer 55 \n",
       "129871  22432 satisfied               Female disloyal Customer 70 \n",
       "129872  91851 satisfied               Female disloyal Customer 35 \n",
       "129873  41573 satisfied               Female disloyal Customer 69 \n",
       "129874  46936 satisfied               Female disloyal Customer 63 \n",
       "129875  53969 satisfied               Female disloyal Customer 11 \n",
       "129876 119211 satisfied               Female disloyal Customer 29 \n",
       "129877  97768 neutral or dissatisfied Male   disloyal Customer 63 \n",
       "129878 125368 neutral or dissatisfied Male   disloyal Customer 69 \n",
       "129879    251 neutral or dissatisfied Male   disloyal Customer 66 \n",
       "129880  84566 neutral or dissatisfied Female disloyal Customer 38 \n",
       "       Type of Travel  Class    Flight Distance Seat comfort\n",
       "1      Personal Travel Eco       265            0           \n",
       "2      Personal Travel Business 2464            0           \n",
       "3      Personal Travel Eco      2138            0           \n",
       "4      Personal Travel Eco       623            0           \n",
       "5      Personal Travel Eco       354            0           \n",
       "6      Personal Travel Eco      1894            0           \n",
       "7      Personal Travel Eco       227            0           \n",
       "8      Personal Travel Eco      1812            0           \n",
       "9      Personal Travel Business   73            0           \n",
       "10     Personal Travel Eco      1556            0           \n",
       "11     Personal Travel Eco       104            0           \n",
       "12     Personal Travel Eco      3633            0           \n",
       "13     Personal Travel Eco      1695            0           \n",
       "14     Personal Travel Eco      1766            0           \n",
       "15     Personal Travel Eco        84            0           \n",
       "16     Personal Travel Eco      1373            0           \n",
       "17     Personal Travel Eco      3693            0           \n",
       "18     Personal Travel Business 2610            0           \n",
       "19     Personal Travel Eco      2554            0           \n",
       "20     Personal Travel Eco      3095            0           \n",
       "21     Personal Travel Eco      3305            0           \n",
       "22     Personal Travel Eco      2090            0           \n",
       "23     Personal Travel Eco      2122            0           \n",
       "24     Personal Travel Business 1099            0           \n",
       "25     Personal Travel Eco Plus 1747            0           \n",
       "26     Personal Travel Eco      1817            0           \n",
       "27     Personal Travel Eco      1707            0           \n",
       "28     Personal Travel Eco       470            0           \n",
       "29     Personal Travel Eco       972            0           \n",
       "30     Personal Travel Eco      3695            0           \n",
       "...    ...             ...      ...             ...         \n",
       "129851 Personal Travel Eco      2375            3           \n",
       "129852 Personal Travel Eco      1267            3           \n",
       "129853 Personal Travel Eco      1303            3           \n",
       "129854 Personal Travel Business 1966            3           \n",
       "129855 Personal Travel Eco      1972            3           \n",
       "129856 Personal Travel Eco      2921            4           \n",
       "129857 Personal Travel Business 4000            4           \n",
       "129858 Personal Travel Eco      2661            4           \n",
       "129859 Personal Travel Eco      3006            4           \n",
       "129860 Personal Travel Eco      2370            4           \n",
       "129861 Personal Travel Eco      2748            4           \n",
       "129862 Personal Travel Eco      3466            0           \n",
       "129863 Personal Travel Eco      2220            4           \n",
       "129864 Personal Travel Eco      1602            4           \n",
       "129865 Personal Travel Eco      2039            4           \n",
       "129866 Personal Travel Eco      2641            4           \n",
       "129867 Personal Travel Eco      1243            5           \n",
       "129868 Personal Travel Eco      1961            5           \n",
       "129869 Personal Travel Eco      1612            5           \n",
       "129870 Personal Travel Eco      1953            5           \n",
       "129871 Personal Travel Eco      1674            5           \n",
       "129872 Personal Travel Eco      3287            5           \n",
       "129873 Personal Travel Eco      2240            5           \n",
       "129874 Personal Travel Eco      1942            5           \n",
       "129875 Personal Travel Eco      2752            5           \n",
       "129876 Personal Travel Eco      1731            5           \n",
       "129877 Personal Travel Business 2087            2           \n",
       "129878 Personal Travel Eco      2320            3           \n",
       "129879 Personal Travel Eco      2450            3           \n",
       "129880 Personal Travel Eco      4307            3           \n",
       "       Departure/Arrival time convenient ... Online support\n",
       "1      0                                 ... 2             \n",
       "2      0                                 ... 2             \n",
       "3      0                                 ... 2             \n",
       "4      0                                 ... 3             \n",
       "5      0                                 ... 4             \n",
       "6      0                                 ... 2             \n",
       "7      0                                 ... 5             \n",
       "8      0                                 ... 2             \n",
       "9      0                                 ... 5             \n",
       "10     0                                 ... 2             \n",
       "11     0                                 ... 3             \n",
       "12     0                                 ... 2             \n",
       "13     0                                 ... 5             \n",
       "14     1                                 ... 4             \n",
       "15     1                                 ... 1             \n",
       "16     1                                 ... 1             \n",
       "17     1                                 ... 4             \n",
       "18     1                                 ... 2             \n",
       "19     1                                 ... 1             \n",
       "20     1                                 ... 3             \n",
       "21     1                                 ... 5             \n",
       "22     1                                 ... 1             \n",
       "23     1                                 ... 4             \n",
       "24     1                                 ... 3             \n",
       "25     1                                 ... 2             \n",
       "26     1                                 ... 4             \n",
       "27     1                                 ... 3             \n",
       "28     1                                 ... 2             \n",
       "29     1                                 ... 4             \n",
       "30     1                                 ... 4             \n",
       "...    ...                                   ...           \n",
       "129851 5                                 ... 5             \n",
       "129852 5                                 ... 1             \n",
       "129853 5                                 ... 1             \n",
       "129854 5                                 ... 1             \n",
       "129855 5                                 ... 5             \n",
       "129856 3                                 ... 5             \n",
       "129857 5                                 ... 1             \n",
       "129858 5                                 ... 2             \n",
       "129859 5                                 ... 1             \n",
       "129860 5                                 ... 4             \n",
       "129861 5                                 ... 5             \n",
       "129862 4                                 ... 4             \n",
       "129863 4                                 ... 4             \n",
       "129864 5                                 ... 3             \n",
       "129865 5                                 ... 2             \n",
       "129866 5                                 ... 2             \n",
       "129867 0                                 ... 2             \n",
       "129868 1                                 ... 5             \n",
       "129869 2                                 ... 2             \n",
       "129870 2                                 ... 5             \n",
       "129871 4                                 ... 5             \n",
       "129872 4                                 ... 2             \n",
       "129873 4                                 ... 4             \n",
       "129874 5                                 ... 3             \n",
       "129875 5                                 ... 2             \n",
       "129876 5                                 ... 2             \n",
       "129877 3                                 ... 1             \n",
       "129878 0                                 ... 2             \n",
       "129879 2                                 ... 2             \n",
       "129880 4                                 ... 3             \n",
       "       Ease of Online booking On-board service Leg room service\n",
       "1      3                      3                0               \n",
       "2      3                      4                4               \n",
       "3      2                      3                3               \n",
       "4      1                      1                0               \n",
       "5      2                      2                0               \n",
       "6      2                      5                4               \n",
       "7      5                      5                0               \n",
       "8      2                      3                3               \n",
       "9      4                      4                0               \n",
       "10     2                      2                4               \n",
       "11     3                      3                0               \n",
       "12     2                      3                2               \n",
       "13     5                      1                3               \n",
       "14     4                      3                5               \n",
       "15     5                      5                0               \n",
       "16     1                      3                4               \n",
       "17     4                      4                4               \n",
       "18     1                      1                0               \n",
       "19     2                      1                1               \n",
       "20     3                      2                5               \n",
       "21     3                      1                1               \n",
       "22     1                      3                5               \n",
       "23     2                      4                1               \n",
       "24     1                      1                0               \n",
       "25     2                      3                3               \n",
       "26     4                      2                1               \n",
       "27     5                      4                4               \n",
       "28     3                      3                0               \n",
       "29     4                      4                3               \n",
       "30     2                      2                3               \n",
       "...    ...                    ...              ...             \n",
       "129851 5                      4                4               \n",
       "129852 1                      5                2               \n",
       "129853 5                      3                4               \n",
       "129854 1                      5                5               \n",
       "129855 5                      3                4               \n",
       "129856 5                      5                2               \n",
       "129857 1                      4                2               \n",
       "129858 5                      3                3               \n",
       "129859 4                      4                2               \n",
       "129860 4                      5                3               \n",
       "129861 5                      4                3               \n",
       "129862 4                      5                4               \n",
       "129863 4                      3                3               \n",
       "129864 4                      3                2               \n",
       "129865 2                      4                5               \n",
       "129866 2                      1                5               \n",
       "129867 2                      4                5               \n",
       "129868 5                      3                2               \n",
       "129869 2                      2                5               \n",
       "129870 1                      1                1               \n",
       "129871 5                      3                2               \n",
       "129872 2                      4                5               \n",
       "129873 4                      5                4               \n",
       "129874 3                      5                2               \n",
       "129875 2                      3                5               \n",
       "129876 2                      3                3               \n",
       "129877 3                      2                3               \n",
       "129878 4                      4                3               \n",
       "129879 3                      3                2               \n",
       "129880 4                      5                5               \n",
       "       Baggage handling Checkin service Cleanliness Online boarding\n",
       "1      3                5               3           2              \n",
       "2      4                2               3           2              \n",
       "3      4                4               4           2              \n",
       "4      1                4               1           3              \n",
       "5      2                4               2           5              \n",
       "6      5                5               4           2              \n",
       "7      5                5               5           3              \n",
       "8      4                5               4           2              \n",
       "9      1                5               4           4              \n",
       "10     5                3               4           2              \n",
       "11     1                2               3           5              \n",
       "12     5                2               5           2              \n",
       "13     2                2               4           5              \n",
       "14     2                3               2           4              \n",
       "15     5                2               5           2              \n",
       "16     1                4               2           1              \n",
       "17     1                3               1           4              \n",
       "18     1                2               1           3              \n",
       "19     2                1               3           1              \n",
       "20     2                3               2           3              \n",
       "21     1                3               3           3              \n",
       "22     1                4               2           1              \n",
       "23     3                1               3           2              \n",
       "24     1                3               1           1              \n",
       "25     2                4               3           2              \n",
       "26     3                3               2           4              \n",
       "27     2                3               2           5              \n",
       "28     3                1               3           4              \n",
       "29     3                1               3           4              \n",
       "30     4                4               3           4              \n",
       "...    ...              ...             ...         ...            \n",
       "129851 4                4               5           5              \n",
       "129852 5                5               4           1              \n",
       "129853 5                3               4           5              \n",
       "129854 4                4               4           1              \n",
       "129855 5                4               4           5              \n",
       "129856 3                1               5           5              \n",
       "129857 5                3               5           1              \n",
       "129858 3                3               4           5              \n",
       "129859 5                5               4           4              \n",
       "129860 4                3               4           4              \n",
       "129861 4                5               4           5              \n",
       "129862 5                5               5           4              \n",
       "129863 3                4               3           4              \n",
       "129864 2                2               1           4              \n",
       "129865 5                5               4           2              \n",
       "129866 2                3               3           2              \n",
       "129867 5                3               5           2              \n",
       "129868 3                4               4           5              \n",
       "129869 4                3               4           2              \n",
       "129870 3                3               4           1              \n",
       "129871 4                5               4           5              \n",
       "129872 4                4               3           2              \n",
       "129873 4                3               4           4              \n",
       "129874 5                3               5           3              \n",
       "129875 3                5               4           2              \n",
       "129876 4                4               4           2              \n",
       "129877 3                1               2           1              \n",
       "129878 4                2               3           2              \n",
       "129879 3                2               1           2              \n",
       "129880 5                3               3           3              \n",
       "       Departure Delay in Minutes Arrival Delay in Minutes\n",
       "1        0                          0                     \n",
       "2      310                        305                     \n",
       "3        0                          0                     \n",
       "4        0                          0                     \n",
       "5        0                          0                     \n",
       "6        0                          0                     \n",
       "7       17                         15                     \n",
       "8        0                          0                     \n",
       "9        0                          0                     \n",
       "10      30                         26                     \n",
       "11      47                         48                     \n",
       "12       0                          0                     \n",
       "13       0                          0                     \n",
       "14       0                          0                     \n",
       "15      40                         48                     \n",
       "16       0                          0                     \n",
       "17       5                          0                     \n",
       "18       0                          0                     \n",
       "19       0                          0                     \n",
       "20       0                          0                     \n",
       "21       0                          0                     \n",
       "22       0                          0                     \n",
       "23       0                          0                     \n",
       "24       0                          0                     \n",
       "25       0                          0                     \n",
       "26       0                          0                     \n",
       "27       0                          0                     \n",
       "28       2                         23                     \n",
       "29       0                          0                     \n",
       "30       0                          0                     \n",
       "...    ...                        ...                     \n",
       "129851   0                          0                     \n",
       "129852   0                          0                     \n",
       "129853   0                          0                     \n",
       "129854   0                          0                     \n",
       "129855   0                          0                     \n",
       "129856  39                         26                     \n",
       "129857   0                          0                     \n",
       "129858  15                         11                     \n",
       "129859   0                          0                     \n",
       "129860   2                          0                     \n",
       "129861   0                          3                     \n",
       "129862   0                          0                     \n",
       "129863   0                          0                     \n",
       "129864   0                          0                     \n",
       "129865   0                          0                     \n",
       "129866   5                          0                     \n",
       "129867   0                          0                     \n",
       "129868   0                          0                     \n",
       "129869   0                          0                     \n",
       "129870   0                          0                     \n",
       "129871  54                         46                     \n",
       "129872   9                          0                     \n",
       "129873   4                          0                     \n",
       "129874   7                         NA                     \n",
       "129875   5                          0                     \n",
       "129876   0                          0                     \n",
       "129877 174                        172                     \n",
       "129878 155                        163                     \n",
       "129879 193                        205                     \n",
       "129880 185                        186                     "
      ]
     },
     "metadata": {},
     "output_type": "display_data"
    }
   ],
   "source": [
    "f"
   ]
  },
  {
   "cell_type": "code",
   "execution_count": 21,
   "id": "b9ee0082",
   "metadata": {},
   "outputs": [
    {
     "data": {
      "text/html": [
       "0"
      ],
      "text/latex": [
       "0"
      ],
      "text/markdown": [
       "0"
      ],
      "text/plain": [
       "[1] 0"
      ]
     },
     "metadata": {},
     "output_type": "display_data"
    }
   ],
   "source": [
    "sum(is.na(f))"
   ]
  },
  {
   "cell_type": "code",
   "execution_count": 208,
   "id": "16b23322",
   "metadata": {
    "scrolled": true
   },
   "outputs": [
    {
     "data": {
      "image/png": "[encoded data removed]",
      "text/plain": [
       "plot without title"
      ]
     },
     "metadata": {
      "image/png": {
       "height": 420,
       "width": 420
      }
     },
     "output_type": "display_data"
    }
   ],
   "source": [
    "o <- f$wifi_na_palube\n",
    "\n",
    "# Výpočet procenta promotérů, pasivních a kritiků\n",
    "promoters <- sum(o >= 5) / length(o) * 100\n",
    "passives <- sum(o >= 3 & o <= 4) / length(o) * 100\n",
    "detractors <- sum(o <= 2) / length(o) * 100\n",
    "\n",
    "# Výpočet Net Promoter Score (NPS)\n",
    "nps <- promoters - detractors\n",
    "\n",
    "# Vytvoření datového rámce pro graf\n",
    "nps_data <- data.frame(Category = c(\"Promotéři\", \"Pasivní\", \"Kritici\"),\n",
    "                       Percentage = c(promoters, passives, detractors))\n",
    "\n",
    "# Vykreslení grafu pomocí ggplot2\n",
    "ggplot(nps_data, aes(x = \"\", y = Percentage, fill = Category)) +\n",
    "  geom_bar(stat = \"identity\", width = 1) +\n",
    "  coord_polar(theta = \"y\") +\n",
    "  theme_classic() +\n",
    "  theme(legend.position = \"bottom\") +\n",
    "  labs(title = \"Net Promoter Score (NPS)\",\n",
    "       subtitle = paste0(\"NPS = \", nps),\n",
    "       fill = \"Kategorie\")"
   ]
  },
  {
   "cell_type": "code",
   "execution_count": null,
   "id": "036dc837",
   "metadata": {},
   "outputs": [],
   "source": [
    "Respondents that selected 0-1 (0, for a scale 0-5) are called Promoters, \n",
    "people who selected values 2-3 (2, for a scale 0-5) are called Passives, \n",
    "values above 3 (above 2, for a scale 0-5) are called Detractors. \n",
    "The bigger NPS value the better you are. It is assumed that 70% NPS is a good score."
   ]
  },
  {
   "cell_type": "code",
   "execution_count": 27,
   "id": "abdf34db",
   "metadata": {},
   "outputs": [
    {
     "data": {
      "text/plain": [
       "\n",
       "    0     1     2     3     4     5 \n",
       "  130 14670 26957 27518 31474 28738 "
      ]
     },
     "metadata": {},
     "output_type": "display_data"
    }
   ],
   "source": [
    "table(f$wifi_na_palube)"
   ]
  },
  {
   "cell_type": "code",
   "execution_count": 29,
   "id": "729fe699",
   "metadata": {
    "scrolled": false
   },
   "outputs": [
    {
     "data": {
      "image/png": "[encoded data removed]",
      "text/plain": [
       "Plot with title \"Hodnocení wifi na palubě\""
      ]
     },
     "metadata": {
      "image/png": {
       "height": 420,
       "width": 420
      }
     },
     "output_type": "display_data"
    }
   ],
   "source": [
    "# \n",
    "\n",
    "tab <- table(f$wifi_na_palube)\n",
    "kol <- paste(names(tab), \"\\n\", tab, sep=\"\")\n",
    "pie(tab, labels = kol,\n",
    "    main=\"Hodnocení wifi na palubě\") "
   ]
  },
  {
   "cell_type": "code",
   "execution_count": 33,
   "id": "0e2364e4",
   "metadata": {
    "scrolled": false
   },
   "outputs": [
    {
     "name": "stderr",
     "output_type": "stream",
     "text": [
      "Warning message in brewer.pal(length(unique(f$spokojenost)), \"Set1\"):\n",
      "\"minimal value for n is 3, returning requested palette with 3 different levels\n",
      "\"\n"
     ]
    },
    {
     "data": {
      "image/png": "[encoded data removed]",
      "text/plain": [
       "plot without title"
      ]
     },
     "metadata": {
      "image/png": {
       "height": 420,
       "width": 420
      }
     },
     "output_type": "display_data"
    }
   ],
   "source": [
    "library(ggplot2)\n",
    "library(RColorBrewer)\n",
    "\n",
    "# Vytvoření palety barev pro jednotlivé hodnoty spokojenosti\n",
    "palette <- brewer.pal(length(unique(f$spokojenost)), \"Set1\")\n",
    "\n",
    "# Vykreslení spokojenosti pomocí ggplotu s různými barvami\n",
    "ggplot(f, aes(x = spokojenost, fill = spokojenost)) +\n",
    "  geom_bar() +\n",
    "  scale_fill_manual(values = palette) +\n",
    "  labs(x = \"Spokojenost\", y = \"Počet\") +\n",
    "  ggtitle(\"Graf spokojenosti s různými barvami\")"
   ]
  },
  {
   "cell_type": "code",
   "execution_count": 35,
   "id": "da281982",
   "metadata": {},
   "outputs": [
    {
     "data": {
      "text/html": [
       "<style>\n",
       ".list-inline {list-style: none; margin:0; padding: 0}\n",
       ".list-inline>li {display: inline-block}\n",
       ".list-inline>li:not(:last-child)::after {content: \"\\00b7\"; padding: 0 .5ex}\n",
       "</style>\n",
       "<ol class=list-inline><li>'id'</li><li>'spokojenost'</li><li>'pohlavi'</li><li>'typ_zakaznika'</li><li>'vek'</li><li>'typ_cestovani'</li><li>'trida'</li><li>'vzdalenost_letu'</li><li>'komfort_sedadla'</li><li>'cas_odlet_prilet_pohodlnost'</li><li>'jidlo_a_piti'</li><li>'poloha_gate'</li><li>'wifi_na_palube'</li><li>'zabava_na_palube'</li><li>'online_podpora'</li><li>'snadnost_online_rezervace'</li><li>'sluzby_na_palube'</li><li>'sluzby_pro_prostor_na_nohy'</li><li>'manipulace_s_batohem'</li><li>'checkin_sluzba'</li><li>'cistota'</li><li>'online_nastup'</li><li>'zpozdeni_odletu_v_minutach'</li><li>'zpozdeni_priletu_v_minutach'</li></ol>\n"
      ],
      "text/latex": [
       "\\begin{enumerate*}\n",
       "\\item 'id'\n",
       "\\item 'spokojenost'\n",
       "\\item 'pohlavi'\n",
       "\\item 'typ\\_zakaznika'\n",
       "\\item 'vek'\n",
       "\\item 'typ\\_cestovani'\n",
       "\\item 'trida'\n",
       "\\item 'vzdalenost\\_letu'\n",
       "\\item 'komfort\\_sedadla'\n",
       "\\item 'cas\\_odlet\\_prilet\\_pohodlnost'\n",
       "\\item 'jidlo\\_a\\_piti'\n",
       "\\item 'poloha\\_gate'\n",
       "\\item 'wifi\\_na\\_palube'\n",
       "\\item 'zabava\\_na\\_palube'\n",
       "\\item 'online\\_podpora'\n",
       "\\item 'snadnost\\_online\\_rezervace'\n",
       "\\item 'sluzby\\_na\\_palube'\n",
       "\\item 'sluzby\\_pro\\_prostor\\_na\\_nohy'\n",
       "\\item 'manipulace\\_s\\_batohem'\n",
       "\\item 'checkin\\_sluzba'\n",
       "\\item 'cistota'\n",
       "\\item 'online\\_nastup'\n",
       "\\item 'zpozdeni\\_odletu\\_v\\_minutach'\n",
       "\\item 'zpozdeni\\_priletu\\_v\\_minutach'\n",
       "\\end{enumerate*}\n"
      ],
      "text/markdown": [
       "1. 'id'\n",
       "2. 'spokojenost'\n",
       "3. 'pohlavi'\n",
       "4. 'typ_zakaznika'\n",
       "5. 'vek'\n",
       "6. 'typ_cestovani'\n",
       "7. 'trida'\n",
       "8. 'vzdalenost_letu'\n",
       "9. 'komfort_sedadla'\n",
       "10. 'cas_odlet_prilet_pohodlnost'\n",
       "11. 'jidlo_a_piti'\n",
       "12. 'poloha_gate'\n",
       "13. 'wifi_na_palube'\n",
       "14. 'zabava_na_palube'\n",
       "15. 'online_podpora'\n",
       "16. 'snadnost_online_rezervace'\n",
       "17. 'sluzby_na_palube'\n",
       "18. 'sluzby_pro_prostor_na_nohy'\n",
       "19. 'manipulace_s_batohem'\n",
       "20. 'checkin_sluzba'\n",
       "21. 'cistota'\n",
       "22. 'online_nastup'\n",
       "23. 'zpozdeni_odletu_v_minutach'\n",
       "24. 'zpozdeni_priletu_v_minutach'\n",
       "\n",
       "\n"
      ],
      "text/plain": [
       " [1] \"id\"                          \"spokojenost\"                \n",
       " [3] \"pohlavi\"                     \"typ_zakaznika\"              \n",
       " [5] \"vek\"                         \"typ_cestovani\"              \n",
       " [7] \"trida\"                       \"vzdalenost_letu\"            \n",
       " [9] \"komfort_sedadla\"             \"cas_odlet_prilet_pohodlnost\"\n",
       "[11] \"jidlo_a_piti\"                \"poloha_gate\"                \n",
       "[13] \"wifi_na_palube\"              \"zabava_na_palube\"           \n",
       "[15] \"online_podpora\"              \"snadnost_online_rezervace\"  \n",
       "[17] \"sluzby_na_palube\"            \"sluzby_pro_prostor_na_nohy\" \n",
       "[19] \"manipulace_s_batohem\"        \"checkin_sluzba\"             \n",
       "[21] \"cistota\"                     \"online_nastup\"              \n",
       "[23] \"zpozdeni_odletu_v_minutach\"  \"zpozdeni_priletu_v_minutach\""
      ]
     },
     "metadata": {},
     "output_type": "display_data"
    }
   ],
   "source": [
    "colnames(f)"
   ]
  },
  {
   "cell_type": "code",
   "execution_count": 36,
   "id": "62a5a2a6",
   "metadata": {
    "scrolled": true
   },
   "outputs": [
    {
     "name": "stderr",
     "output_type": "stream",
     "text": [
      "Warning message:\n",
      "\"Unknown or uninitialised column: `pohodli_pri_case_odlotu_prilet`.\"\n"
     ]
    },
    {
     "data": {
      "text/plain": [
       "NULL"
      ]
     },
     "metadata": {},
     "output_type": "display_data"
    }
   ],
   "source": [
    "f$pohodli_pri_case_odlotu_prilet"
   ]
  },
  {
   "cell_type": "code",
   "execution_count": 55,
   "id": "0b918f9c",
   "metadata": {},
   "outputs": [
    {
     "data": {
      "image/png": "[encoded data removed]",
      "text/plain": [
       "plot without title"
      ]
     },
     "metadata": {
      "image/png": {
       "height": 420,
       "width": 420
      }
     },
     "output_type": "display_data"
    }
   ],
   "source": [
    "library(tidyverse)\n",
    "\n",
    "# Vezmeme všechny sloupce s hodnocením 0 až 5 a převedeme na faktory\n",
    "f <- f %>%\n",
    "  mutate_at(vars(komfort_sedadla:online_nastup), factor, levels = 0:5)\n",
    "\n",
    "# Definujeme si kritiky, pasivní zákazníky a promotéry.\n",
    "# Čím vyšší hodnocení, tím lepší\n",
    "# Taktéž si zadefinujeme výpočet Net promoter score \n",
    "calculate_nps <- function(x) {\n",
    "  promoters <- sum(x %in% c(4, 5))\n",
    "  detractors <- sum(x %in% c(0, 1))\n",
    "  nps <- (promoters - detractors) / length(x) * 100\n",
    "  return(nps)\n",
    "}\n",
    "\n",
    "nps_data <- f %>%\n",
    "  summarize(across(komfort_sedadla:online_nastup, calculate_nps)) %>%\n",
    "  pivot_longer(everything(), names_to = \"sloupec\", values_to = \"nps\")\n",
    "\n",
    "# Vykreslení grafů\n",
    "ggplot(nps_data, aes(x = sloupec, y = nps, fill = nps)) +\n",
    "  geom_bar(stat = \"identity\") +\n",
    "  labs(x = \"hodnocené služby\", y = \"Net Promoter Score (%)\") +\n",
    "  ggtitle(\"Net Promoter Score pro jednotlivé služby\") +\n",
    "  theme_classic() +\n",
    "  theme(legend.position = \"none\") +\n",
    "  coord_flip() +\n",
    "  scale_fill_gradient(low = \"#D1EAFB\", high = \"#00539F\")"
   ]
  },
  {
   "cell_type": "code",
   "execution_count": 97,
   "id": "3670e512",
   "metadata": {},
   "outputs": [
    {
     "data": {
      "text/html": [
       "<table class=\"dataframe\">\n",
       "<caption>A tibble: 129487 × 14</caption>\n",
       "<thead>\n",
       "\t<tr><th scope=col>komfort_sedadla</th><th scope=col>cas_odlet_prilet_pohodlnost</th><th scope=col>jidlo_a_piti</th><th scope=col>poloha_gate</th><th scope=col>wifi_na_palube</th><th scope=col>zabava_na_palube</th><th scope=col>online_podpora</th><th scope=col>snadnost_online_rezervace</th><th scope=col>sluzby_na_palube</th><th scope=col>sluzby_pro_prostor_na_nohy</th><th scope=col>manipulace_s_batohem</th><th scope=col>checkin_sluzba</th><th scope=col>cistota</th><th scope=col>online_nastup</th></tr>\n",
       "\t<tr><th scope=col>&lt;dbl&gt;</th><th scope=col>&lt;dbl&gt;</th><th scope=col>&lt;dbl&gt;</th><th scope=col>&lt;dbl&gt;</th><th scope=col>&lt;dbl&gt;</th><th scope=col>&lt;dbl&gt;</th><th scope=col>&lt;dbl&gt;</th><th scope=col>&lt;dbl&gt;</th><th scope=col>&lt;dbl&gt;</th><th scope=col>&lt;dbl&gt;</th><th scope=col>&lt;dbl&gt;</th><th scope=col>&lt;dbl&gt;</th><th scope=col>&lt;dbl&gt;</th><th scope=col>&lt;dbl&gt;</th></tr>\n",
       "</thead>\n",
       "<tbody>\n",
       "\t<tr><td>1</td><td>1</td><td>1</td><td>3</td><td>3</td><td>5</td><td>3</td><td>4</td><td>4</td><td>1</td><td>4</td><td>6</td><td>4</td><td>3</td></tr>\n",
       "\t<tr><td>1</td><td>1</td><td>1</td><td>4</td><td>1</td><td>3</td><td>3</td><td>4</td><td>5</td><td>5</td><td>5</td><td>3</td><td>4</td><td>3</td></tr>\n",
       "\t<tr><td>1</td><td>1</td><td>1</td><td>4</td><td>3</td><td>1</td><td>3</td><td>3</td><td>4</td><td>4</td><td>5</td><td>5</td><td>5</td><td>3</td></tr>\n",
       "\t<tr><td>1</td><td>1</td><td>1</td><td>4</td><td>4</td><td>5</td><td>4</td><td>2</td><td>2</td><td>1</td><td>2</td><td>5</td><td>2</td><td>4</td></tr>\n",
       "\t<tr><td>1</td><td>1</td><td>1</td><td>4</td><td>5</td><td>4</td><td>5</td><td>3</td><td>3</td><td>1</td><td>3</td><td>5</td><td>3</td><td>6</td></tr>\n",
       "\t<tr><td>1</td><td>1</td><td>1</td><td>4</td><td>3</td><td>1</td><td>3</td><td>3</td><td>6</td><td>5</td><td>6</td><td>6</td><td>5</td><td>3</td></tr>\n",
       "\t<tr><td>1</td><td>1</td><td>1</td><td>4</td><td>3</td><td>6</td><td>6</td><td>6</td><td>6</td><td>1</td><td>6</td><td>6</td><td>6</td><td>4</td></tr>\n",
       "\t<tr><td>1</td><td>1</td><td>1</td><td>4</td><td>3</td><td>1</td><td>3</td><td>3</td><td>4</td><td>4</td><td>5</td><td>6</td><td>5</td><td>3</td></tr>\n",
       "\t<tr><td>1</td><td>1</td><td>1</td><td>4</td><td>6</td><td>4</td><td>6</td><td>5</td><td>5</td><td>1</td><td>2</td><td>6</td><td>5</td><td>5</td></tr>\n",
       "\t<tr><td>1</td><td>1</td><td>1</td><td>4</td><td>3</td><td>1</td><td>3</td><td>3</td><td>3</td><td>5</td><td>6</td><td>4</td><td>5</td><td>3</td></tr>\n",
       "\t<tr><td>1</td><td>1</td><td>1</td><td>4</td><td>4</td><td>4</td><td>4</td><td>4</td><td>4</td><td>1</td><td>2</td><td>3</td><td>4</td><td>6</td></tr>\n",
       "\t<tr><td>1</td><td>1</td><td>1</td><td>5</td><td>3</td><td>1</td><td>3</td><td>3</td><td>4</td><td>3</td><td>6</td><td>3</td><td>6</td><td>3</td></tr>\n",
       "\t<tr><td>1</td><td>1</td><td>1</td><td>5</td><td>6</td><td>1</td><td>6</td><td>6</td><td>2</td><td>4</td><td>3</td><td>3</td><td>5</td><td>6</td></tr>\n",
       "\t<tr><td>1</td><td>2</td><td>1</td><td>2</td><td>5</td><td>1</td><td>5</td><td>5</td><td>4</td><td>6</td><td>3</td><td>4</td><td>3</td><td>5</td></tr>\n",
       "\t<tr><td>1</td><td>2</td><td>1</td><td>2</td><td>6</td><td>3</td><td>2</td><td>6</td><td>6</td><td>1</td><td>6</td><td>3</td><td>6</td><td>3</td></tr>\n",
       "\t<tr><td>1</td><td>2</td><td>1</td><td>2</td><td>2</td><td>1</td><td>2</td><td>2</td><td>4</td><td>5</td><td>2</td><td>5</td><td>3</td><td>2</td></tr>\n",
       "\t<tr><td>1</td><td>2</td><td>1</td><td>3</td><td>5</td><td>1</td><td>5</td><td>5</td><td>5</td><td>5</td><td>2</td><td>4</td><td>2</td><td>5</td></tr>\n",
       "\t<tr><td>1</td><td>2</td><td>1</td><td>3</td><td>2</td><td>3</td><td>3</td><td>2</td><td>2</td><td>1</td><td>2</td><td>3</td><td>2</td><td>4</td></tr>\n",
       "\t<tr><td>1</td><td>2</td><td>1</td><td>3</td><td>1</td><td>2</td><td>2</td><td>3</td><td>2</td><td>2</td><td>3</td><td>2</td><td>4</td><td>2</td></tr>\n",
       "\t<tr><td>1</td><td>2</td><td>1</td><td>3</td><td>4</td><td>1</td><td>4</td><td>4</td><td>3</td><td>6</td><td>3</td><td>4</td><td>3</td><td>4</td></tr>\n",
       "\t<tr><td>1</td><td>2</td><td>1</td><td>3</td><td>4</td><td>1</td><td>6</td><td>4</td><td>2</td><td>2</td><td>2</td><td>4</td><td>4</td><td>4</td></tr>\n",
       "\t<tr><td>1</td><td>2</td><td>1</td><td>3</td><td>2</td><td>1</td><td>2</td><td>2</td><td>4</td><td>6</td><td>2</td><td>5</td><td>3</td><td>2</td></tr>\n",
       "\t<tr><td>1</td><td>2</td><td>1</td><td>3</td><td>3</td><td>1</td><td>5</td><td>3</td><td>5</td><td>2</td><td>4</td><td>2</td><td>4</td><td>3</td></tr>\n",
       "\t<tr><td>1</td><td>2</td><td>1</td><td>3</td><td>2</td><td>4</td><td>4</td><td>2</td><td>2</td><td>1</td><td>2</td><td>4</td><td>2</td><td>2</td></tr>\n",
       "\t<tr><td>1</td><td>2</td><td>1</td><td>3</td><td>3</td><td>1</td><td>3</td><td>3</td><td>4</td><td>4</td><td>3</td><td>5</td><td>4</td><td>3</td></tr>\n",
       "\t<tr><td>1</td><td>2</td><td>1</td><td>3</td><td>5</td><td>1</td><td>5</td><td>5</td><td>3</td><td>2</td><td>4</td><td>4</td><td>3</td><td>5</td></tr>\n",
       "\t<tr><td>1</td><td>2</td><td>1</td><td>3</td><td>6</td><td>1</td><td>4</td><td>6</td><td>5</td><td>5</td><td>3</td><td>4</td><td>3</td><td>6</td></tr>\n",
       "\t<tr><td>1</td><td>2</td><td>1</td><td>3</td><td>4</td><td>3</td><td>3</td><td>4</td><td>4</td><td>1</td><td>4</td><td>2</td><td>4</td><td>5</td></tr>\n",
       "\t<tr><td>1</td><td>2</td><td>1</td><td>3</td><td>5</td><td>1</td><td>5</td><td>5</td><td>5</td><td>4</td><td>4</td><td>2</td><td>4</td><td>5</td></tr>\n",
       "\t<tr><td>1</td><td>2</td><td>1</td><td>4</td><td>1</td><td>5</td><td>5</td><td>3</td><td>3</td><td>4</td><td>5</td><td>5</td><td>4</td><td>5</td></tr>\n",
       "\t<tr><td>...</td><td>...</td><td>...</td><td>...</td><td>...</td><td>...</td><td>...</td><td>...</td><td>...</td><td>...</td><td>...</td><td>...</td><td>...</td><td>...</td></tr>\n",
       "\t<tr><td>4</td><td>6</td><td>4</td><td>4</td><td>3</td><td>4</td><td>3</td><td>3</td><td>5</td><td>4</td><td>5</td><td>4</td><td>5</td><td>3</td></tr>\n",
       "\t<tr><td>4</td><td>6</td><td>4</td><td>4</td><td>6</td><td>4</td><td>6</td><td>6</td><td>5</td><td>5</td><td>5</td><td>5</td><td>6</td><td>6</td></tr>\n",
       "\t<tr><td>4</td><td>6</td><td>4</td><td>4</td><td>2</td><td>4</td><td>2</td><td>2</td><td>6</td><td>3</td><td>6</td><td>6</td><td>5</td><td>2</td></tr>\n",
       "\t<tr><td>4</td><td>6</td><td>4</td><td>4</td><td>6</td><td>4</td><td>2</td><td>6</td><td>4</td><td>5</td><td>6</td><td>4</td><td>5</td><td>6</td></tr>\n",
       "\t<tr><td>4</td><td>6</td><td>4</td><td>5</td><td>2</td><td>4</td><td>2</td><td>2</td><td>6</td><td>6</td><td>5</td><td>5</td><td>5</td><td>2</td></tr>\n",
       "\t<tr><td>4</td><td>6</td><td>4</td><td>6</td><td>6</td><td>4</td><td>6</td><td>6</td><td>4</td><td>5</td><td>6</td><td>5</td><td>5</td><td>6</td></tr>\n",
       "\t<tr><td>5</td><td>4</td><td>5</td><td>4</td><td>6</td><td>5</td><td>6</td><td>6</td><td>6</td><td>3</td><td>4</td><td>2</td><td>6</td><td>6</td></tr>\n",
       "\t<tr><td>5</td><td>6</td><td>5</td><td>2</td><td>2</td><td>5</td><td>2</td><td>2</td><td>5</td><td>3</td><td>6</td><td>4</td><td>6</td><td>2</td></tr>\n",
       "\t<tr><td>5</td><td>6</td><td>5</td><td>3</td><td>6</td><td>5</td><td>3</td><td>6</td><td>4</td><td>4</td><td>4</td><td>4</td><td>5</td><td>6</td></tr>\n",
       "\t<tr><td>5</td><td>6</td><td>5</td><td>3</td><td>5</td><td>5</td><td>2</td><td>5</td><td>5</td><td>3</td><td>6</td><td>6</td><td>5</td><td>5</td></tr>\n",
       "\t<tr><td>5</td><td>6</td><td>5</td><td>4</td><td>5</td><td>5</td><td>5</td><td>5</td><td>6</td><td>4</td><td>5</td><td>4</td><td>5</td><td>5</td></tr>\n",
       "\t<tr><td>5</td><td>6</td><td>6</td><td>2</td><td>6</td><td>6</td><td>6</td><td>6</td><td>5</td><td>4</td><td>5</td><td>6</td><td>5</td><td>6</td></tr>\n",
       "\t<tr><td>1</td><td>5</td><td>1</td><td>4</td><td>5</td><td>1</td><td>5</td><td>5</td><td>6</td><td>5</td><td>6</td><td>6</td><td>6</td><td>5</td></tr>\n",
       "\t<tr><td>5</td><td>5</td><td>4</td><td>5</td><td>5</td><td>4</td><td>5</td><td>5</td><td>4</td><td>4</td><td>4</td><td>5</td><td>4</td><td>5</td></tr>\n",
       "\t<tr><td>5</td><td>6</td><td>5</td><td>3</td><td>5</td><td>5</td><td>4</td><td>5</td><td>4</td><td>3</td><td>3</td><td>3</td><td>2</td><td>5</td></tr>\n",
       "\t<tr><td>5</td><td>6</td><td>5</td><td>3</td><td>3</td><td>5</td><td>3</td><td>3</td><td>5</td><td>6</td><td>6</td><td>6</td><td>5</td><td>3</td></tr>\n",
       "\t<tr><td>5</td><td>6</td><td>5</td><td>4</td><td>3</td><td>5</td><td>3</td><td>3</td><td>2</td><td>6</td><td>3</td><td>4</td><td>4</td><td>3</td></tr>\n",
       "\t<tr><td>6</td><td>1</td><td>6</td><td>2</td><td>3</td><td>6</td><td>3</td><td>3</td><td>5</td><td>6</td><td>6</td><td>4</td><td>6</td><td>3</td></tr>\n",
       "\t<tr><td>6</td><td>2</td><td>6</td><td>5</td><td>6</td><td>6</td><td>6</td><td>6</td><td>4</td><td>3</td><td>4</td><td>5</td><td>5</td><td>6</td></tr>\n",
       "\t<tr><td>6</td><td>3</td><td>6</td><td>4</td><td>3</td><td>6</td><td>3</td><td>3</td><td>3</td><td>6</td><td>5</td><td>4</td><td>5</td><td>3</td></tr>\n",
       "\t<tr><td>6</td><td>3</td><td>6</td><td>5</td><td>2</td><td>6</td><td>6</td><td>2</td><td>2</td><td>2</td><td>4</td><td>4</td><td>5</td><td>2</td></tr>\n",
       "\t<tr><td>6</td><td>5</td><td>6</td><td>2</td><td>6</td><td>6</td><td>6</td><td>6</td><td>4</td><td>3</td><td>5</td><td>6</td><td>5</td><td>6</td></tr>\n",
       "\t<tr><td>6</td><td>5</td><td>6</td><td>4</td><td>3</td><td>6</td><td>3</td><td>3</td><td>5</td><td>6</td><td>5</td><td>5</td><td>4</td><td>3</td></tr>\n",
       "\t<tr><td>6</td><td>5</td><td>6</td><td>4</td><td>5</td><td>6</td><td>5</td><td>5</td><td>6</td><td>5</td><td>5</td><td>4</td><td>5</td><td>5</td></tr>\n",
       "\t<tr><td>6</td><td>6</td><td>6</td><td>3</td><td>3</td><td>6</td><td>3</td><td>3</td><td>4</td><td>6</td><td>4</td><td>6</td><td>5</td><td>3</td></tr>\n",
       "\t<tr><td>6</td><td>6</td><td>6</td><td>4</td><td>3</td><td>6</td><td>3</td><td>3</td><td>4</td><td>4</td><td>5</td><td>5</td><td>5</td><td>3</td></tr>\n",
       "\t<tr><td>3</td><td>4</td><td>3</td><td>5</td><td>3</td><td>2</td><td>2</td><td>4</td><td>3</td><td>4</td><td>4</td><td>2</td><td>3</td><td>2</td></tr>\n",
       "\t<tr><td>4</td><td>1</td><td>4</td><td>4</td><td>4</td><td>3</td><td>3</td><td>5</td><td>5</td><td>4</td><td>5</td><td>3</td><td>4</td><td>3</td></tr>\n",
       "\t<tr><td>4</td><td>3</td><td>4</td><td>3</td><td>4</td><td>3</td><td>3</td><td>4</td><td>4</td><td>3</td><td>4</td><td>3</td><td>2</td><td>3</td></tr>\n",
       "\t<tr><td>4</td><td>5</td><td>4</td><td>4</td><td>4</td><td>4</td><td>4</td><td>5</td><td>6</td><td>6</td><td>6</td><td>4</td><td>4</td><td>4</td></tr>\n",
       "</tbody>\n",
       "</table>\n"
      ],
      "text/latex": [
       "A tibble: 129487 × 14\n",
       "\\begin{tabular}{llllllllllllll}\n",
       " komfort\\_sedadla & cas\\_odlet\\_prilet\\_pohodlnost & jidlo\\_a\\_piti & poloha\\_gate & wifi\\_na\\_palube & zabava\\_na\\_palube & online\\_podpora & snadnost\\_online\\_rezervace & sluzby\\_na\\_palube & sluzby\\_pro\\_prostor\\_na\\_nohy & manipulace\\_s\\_batohem & checkin\\_sluzba & cistota & online\\_nastup\\\\\n",
       " <dbl> & <dbl> & <dbl> & <dbl> & <dbl> & <dbl> & <dbl> & <dbl> & <dbl> & <dbl> & <dbl> & <dbl> & <dbl> & <dbl>\\\\\n",
       "\\hline\n",
       "\t 1 & 1 & 1 & 3 & 3 & 5 & 3 & 4 & 4 & 1 & 4 & 6 & 4 & 3\\\\\n",
       "\t 1 & 1 & 1 & 4 & 1 & 3 & 3 & 4 & 5 & 5 & 5 & 3 & 4 & 3\\\\\n",
       "\t 1 & 1 & 1 & 4 & 3 & 1 & 3 & 3 & 4 & 4 & 5 & 5 & 5 & 3\\\\\n",
       "\t 1 & 1 & 1 & 4 & 4 & 5 & 4 & 2 & 2 & 1 & 2 & 5 & 2 & 4\\\\\n",
       "\t 1 & 1 & 1 & 4 & 5 & 4 & 5 & 3 & 3 & 1 & 3 & 5 & 3 & 6\\\\\n",
       "\t 1 & 1 & 1 & 4 & 3 & 1 & 3 & 3 & 6 & 5 & 6 & 6 & 5 & 3\\\\\n",
       "\t 1 & 1 & 1 & 4 & 3 & 6 & 6 & 6 & 6 & 1 & 6 & 6 & 6 & 4\\\\\n",
       "\t 1 & 1 & 1 & 4 & 3 & 1 & 3 & 3 & 4 & 4 & 5 & 6 & 5 & 3\\\\\n",
       "\t 1 & 1 & 1 & 4 & 6 & 4 & 6 & 5 & 5 & 1 & 2 & 6 & 5 & 5\\\\\n",
       "\t 1 & 1 & 1 & 4 & 3 & 1 & 3 & 3 & 3 & 5 & 6 & 4 & 5 & 3\\\\\n",
       "\t 1 & 1 & 1 & 4 & 4 & 4 & 4 & 4 & 4 & 1 & 2 & 3 & 4 & 6\\\\\n",
       "\t 1 & 1 & 1 & 5 & 3 & 1 & 3 & 3 & 4 & 3 & 6 & 3 & 6 & 3\\\\\n",
       "\t 1 & 1 & 1 & 5 & 6 & 1 & 6 & 6 & 2 & 4 & 3 & 3 & 5 & 6\\\\\n",
       "\t 1 & 2 & 1 & 2 & 5 & 1 & 5 & 5 & 4 & 6 & 3 & 4 & 3 & 5\\\\\n",
       "\t 1 & 2 & 1 & 2 & 6 & 3 & 2 & 6 & 6 & 1 & 6 & 3 & 6 & 3\\\\\n",
       "\t 1 & 2 & 1 & 2 & 2 & 1 & 2 & 2 & 4 & 5 & 2 & 5 & 3 & 2\\\\\n",
       "\t 1 & 2 & 1 & 3 & 5 & 1 & 5 & 5 & 5 & 5 & 2 & 4 & 2 & 5\\\\\n",
       "\t 1 & 2 & 1 & 3 & 2 & 3 & 3 & 2 & 2 & 1 & 2 & 3 & 2 & 4\\\\\n",
       "\t 1 & 2 & 1 & 3 & 1 & 2 & 2 & 3 & 2 & 2 & 3 & 2 & 4 & 2\\\\\n",
       "\t 1 & 2 & 1 & 3 & 4 & 1 & 4 & 4 & 3 & 6 & 3 & 4 & 3 & 4\\\\\n",
       "\t 1 & 2 & 1 & 3 & 4 & 1 & 6 & 4 & 2 & 2 & 2 & 4 & 4 & 4\\\\\n",
       "\t 1 & 2 & 1 & 3 & 2 & 1 & 2 & 2 & 4 & 6 & 2 & 5 & 3 & 2\\\\\n",
       "\t 1 & 2 & 1 & 3 & 3 & 1 & 5 & 3 & 5 & 2 & 4 & 2 & 4 & 3\\\\\n",
       "\t 1 & 2 & 1 & 3 & 2 & 4 & 4 & 2 & 2 & 1 & 2 & 4 & 2 & 2\\\\\n",
       "\t 1 & 2 & 1 & 3 & 3 & 1 & 3 & 3 & 4 & 4 & 3 & 5 & 4 & 3\\\\\n",
       "\t 1 & 2 & 1 & 3 & 5 & 1 & 5 & 5 & 3 & 2 & 4 & 4 & 3 & 5\\\\\n",
       "\t 1 & 2 & 1 & 3 & 6 & 1 & 4 & 6 & 5 & 5 & 3 & 4 & 3 & 6\\\\\n",
       "\t 1 & 2 & 1 & 3 & 4 & 3 & 3 & 4 & 4 & 1 & 4 & 2 & 4 & 5\\\\\n",
       "\t 1 & 2 & 1 & 3 & 5 & 1 & 5 & 5 & 5 & 4 & 4 & 2 & 4 & 5\\\\\n",
       "\t 1 & 2 & 1 & 4 & 1 & 5 & 5 & 3 & 3 & 4 & 5 & 5 & 4 & 5\\\\\n",
       "\t ... & ... & ... & ... & ... & ... & ... & ... & ... & ... & ... & ... & ... & ...\\\\\n",
       "\t 4 & 6 & 4 & 4 & 3 & 4 & 3 & 3 & 5 & 4 & 5 & 4 & 5 & 3\\\\\n",
       "\t 4 & 6 & 4 & 4 & 6 & 4 & 6 & 6 & 5 & 5 & 5 & 5 & 6 & 6\\\\\n",
       "\t 4 & 6 & 4 & 4 & 2 & 4 & 2 & 2 & 6 & 3 & 6 & 6 & 5 & 2\\\\\n",
       "\t 4 & 6 & 4 & 4 & 6 & 4 & 2 & 6 & 4 & 5 & 6 & 4 & 5 & 6\\\\\n",
       "\t 4 & 6 & 4 & 5 & 2 & 4 & 2 & 2 & 6 & 6 & 5 & 5 & 5 & 2\\\\\n",
       "\t 4 & 6 & 4 & 6 & 6 & 4 & 6 & 6 & 4 & 5 & 6 & 5 & 5 & 6\\\\\n",
       "\t 5 & 4 & 5 & 4 & 6 & 5 & 6 & 6 & 6 & 3 & 4 & 2 & 6 & 6\\\\\n",
       "\t 5 & 6 & 5 & 2 & 2 & 5 & 2 & 2 & 5 & 3 & 6 & 4 & 6 & 2\\\\\n",
       "\t 5 & 6 & 5 & 3 & 6 & 5 & 3 & 6 & 4 & 4 & 4 & 4 & 5 & 6\\\\\n",
       "\t 5 & 6 & 5 & 3 & 5 & 5 & 2 & 5 & 5 & 3 & 6 & 6 & 5 & 5\\\\\n",
       "\t 5 & 6 & 5 & 4 & 5 & 5 & 5 & 5 & 6 & 4 & 5 & 4 & 5 & 5\\\\\n",
       "\t 5 & 6 & 6 & 2 & 6 & 6 & 6 & 6 & 5 & 4 & 5 & 6 & 5 & 6\\\\\n",
       "\t 1 & 5 & 1 & 4 & 5 & 1 & 5 & 5 & 6 & 5 & 6 & 6 & 6 & 5\\\\\n",
       "\t 5 & 5 & 4 & 5 & 5 & 4 & 5 & 5 & 4 & 4 & 4 & 5 & 4 & 5\\\\\n",
       "\t 5 & 6 & 5 & 3 & 5 & 5 & 4 & 5 & 4 & 3 & 3 & 3 & 2 & 5\\\\\n",
       "\t 5 & 6 & 5 & 3 & 3 & 5 & 3 & 3 & 5 & 6 & 6 & 6 & 5 & 3\\\\\n",
       "\t 5 & 6 & 5 & 4 & 3 & 5 & 3 & 3 & 2 & 6 & 3 & 4 & 4 & 3\\\\\n",
       "\t 6 & 1 & 6 & 2 & 3 & 6 & 3 & 3 & 5 & 6 & 6 & 4 & 6 & 3\\\\\n",
       "\t 6 & 2 & 6 & 5 & 6 & 6 & 6 & 6 & 4 & 3 & 4 & 5 & 5 & 6\\\\\n",
       "\t 6 & 3 & 6 & 4 & 3 & 6 & 3 & 3 & 3 & 6 & 5 & 4 & 5 & 3\\\\\n",
       "\t 6 & 3 & 6 & 5 & 2 & 6 & 6 & 2 & 2 & 2 & 4 & 4 & 5 & 2\\\\\n",
       "\t 6 & 5 & 6 & 2 & 6 & 6 & 6 & 6 & 4 & 3 & 5 & 6 & 5 & 6\\\\\n",
       "\t 6 & 5 & 6 & 4 & 3 & 6 & 3 & 3 & 5 & 6 & 5 & 5 & 4 & 3\\\\\n",
       "\t 6 & 5 & 6 & 4 & 5 & 6 & 5 & 5 & 6 & 5 & 5 & 4 & 5 & 5\\\\\n",
       "\t 6 & 6 & 6 & 3 & 3 & 6 & 3 & 3 & 4 & 6 & 4 & 6 & 5 & 3\\\\\n",
       "\t 6 & 6 & 6 & 4 & 3 & 6 & 3 & 3 & 4 & 4 & 5 & 5 & 5 & 3\\\\\n",
       "\t 3 & 4 & 3 & 5 & 3 & 2 & 2 & 4 & 3 & 4 & 4 & 2 & 3 & 2\\\\\n",
       "\t 4 & 1 & 4 & 4 & 4 & 3 & 3 & 5 & 5 & 4 & 5 & 3 & 4 & 3\\\\\n",
       "\t 4 & 3 & 4 & 3 & 4 & 3 & 3 & 4 & 4 & 3 & 4 & 3 & 2 & 3\\\\\n",
       "\t 4 & 5 & 4 & 4 & 4 & 4 & 4 & 5 & 6 & 6 & 6 & 4 & 4 & 4\\\\\n",
       "\\end{tabular}\n"
      ],
      "text/markdown": [
       "\n",
       "A tibble: 129487 × 14\n",
       "\n",
       "| komfort_sedadla &lt;dbl&gt; | cas_odlet_prilet_pohodlnost &lt;dbl&gt; | jidlo_a_piti &lt;dbl&gt; | poloha_gate &lt;dbl&gt; | wifi_na_palube &lt;dbl&gt; | zabava_na_palube &lt;dbl&gt; | online_podpora &lt;dbl&gt; | snadnost_online_rezervace &lt;dbl&gt; | sluzby_na_palube &lt;dbl&gt; | sluzby_pro_prostor_na_nohy &lt;dbl&gt; | manipulace_s_batohem &lt;dbl&gt; | checkin_sluzba &lt;dbl&gt; | cistota &lt;dbl&gt; | online_nastup &lt;dbl&gt; |\n",
       "|---|---|---|---|---|---|---|---|---|---|---|---|---|---|\n",
       "| 1 | 1 | 1 | 3 | 3 | 5 | 3 | 4 | 4 | 1 | 4 | 6 | 4 | 3 |\n",
       "| 1 | 1 | 1 | 4 | 1 | 3 | 3 | 4 | 5 | 5 | 5 | 3 | 4 | 3 |\n",
       "| 1 | 1 | 1 | 4 | 3 | 1 | 3 | 3 | 4 | 4 | 5 | 5 | 5 | 3 |\n",
       "| 1 | 1 | 1 | 4 | 4 | 5 | 4 | 2 | 2 | 1 | 2 | 5 | 2 | 4 |\n",
       "| 1 | 1 | 1 | 4 | 5 | 4 | 5 | 3 | 3 | 1 | 3 | 5 | 3 | 6 |\n",
       "| 1 | 1 | 1 | 4 | 3 | 1 | 3 | 3 | 6 | 5 | 6 | 6 | 5 | 3 |\n",
       "| 1 | 1 | 1 | 4 | 3 | 6 | 6 | 6 | 6 | 1 | 6 | 6 | 6 | 4 |\n",
       "| 1 | 1 | 1 | 4 | 3 | 1 | 3 | 3 | 4 | 4 | 5 | 6 | 5 | 3 |\n",
       "| 1 | 1 | 1 | 4 | 6 | 4 | 6 | 5 | 5 | 1 | 2 | 6 | 5 | 5 |\n",
       "| 1 | 1 | 1 | 4 | 3 | 1 | 3 | 3 | 3 | 5 | 6 | 4 | 5 | 3 |\n",
       "| 1 | 1 | 1 | 4 | 4 | 4 | 4 | 4 | 4 | 1 | 2 | 3 | 4 | 6 |\n",
       "| 1 | 1 | 1 | 5 | 3 | 1 | 3 | 3 | 4 | 3 | 6 | 3 | 6 | 3 |\n",
       "| 1 | 1 | 1 | 5 | 6 | 1 | 6 | 6 | 2 | 4 | 3 | 3 | 5 | 6 |\n",
       "| 1 | 2 | 1 | 2 | 5 | 1 | 5 | 5 | 4 | 6 | 3 | 4 | 3 | 5 |\n",
       "| 1 | 2 | 1 | 2 | 6 | 3 | 2 | 6 | 6 | 1 | 6 | 3 | 6 | 3 |\n",
       "| 1 | 2 | 1 | 2 | 2 | 1 | 2 | 2 | 4 | 5 | 2 | 5 | 3 | 2 |\n",
       "| 1 | 2 | 1 | 3 | 5 | 1 | 5 | 5 | 5 | 5 | 2 | 4 | 2 | 5 |\n",
       "| 1 | 2 | 1 | 3 | 2 | 3 | 3 | 2 | 2 | 1 | 2 | 3 | 2 | 4 |\n",
       "| 1 | 2 | 1 | 3 | 1 | 2 | 2 | 3 | 2 | 2 | 3 | 2 | 4 | 2 |\n",
       "| 1 | 2 | 1 | 3 | 4 | 1 | 4 | 4 | 3 | 6 | 3 | 4 | 3 | 4 |\n",
       "| 1 | 2 | 1 | 3 | 4 | 1 | 6 | 4 | 2 | 2 | 2 | 4 | 4 | 4 |\n",
       "| 1 | 2 | 1 | 3 | 2 | 1 | 2 | 2 | 4 | 6 | 2 | 5 | 3 | 2 |\n",
       "| 1 | 2 | 1 | 3 | 3 | 1 | 5 | 3 | 5 | 2 | 4 | 2 | 4 | 3 |\n",
       "| 1 | 2 | 1 | 3 | 2 | 4 | 4 | 2 | 2 | 1 | 2 | 4 | 2 | 2 |\n",
       "| 1 | 2 | 1 | 3 | 3 | 1 | 3 | 3 | 4 | 4 | 3 | 5 | 4 | 3 |\n",
       "| 1 | 2 | 1 | 3 | 5 | 1 | 5 | 5 | 3 | 2 | 4 | 4 | 3 | 5 |\n",
       "| 1 | 2 | 1 | 3 | 6 | 1 | 4 | 6 | 5 | 5 | 3 | 4 | 3 | 6 |\n",
       "| 1 | 2 | 1 | 3 | 4 | 3 | 3 | 4 | 4 | 1 | 4 | 2 | 4 | 5 |\n",
       "| 1 | 2 | 1 | 3 | 5 | 1 | 5 | 5 | 5 | 4 | 4 | 2 | 4 | 5 |\n",
       "| 1 | 2 | 1 | 4 | 1 | 5 | 5 | 3 | 3 | 4 | 5 | 5 | 4 | 5 |\n",
       "| ... | ... | ... | ... | ... | ... | ... | ... | ... | ... | ... | ... | ... | ... |\n",
       "| 4 | 6 | 4 | 4 | 3 | 4 | 3 | 3 | 5 | 4 | 5 | 4 | 5 | 3 |\n",
       "| 4 | 6 | 4 | 4 | 6 | 4 | 6 | 6 | 5 | 5 | 5 | 5 | 6 | 6 |\n",
       "| 4 | 6 | 4 | 4 | 2 | 4 | 2 | 2 | 6 | 3 | 6 | 6 | 5 | 2 |\n",
       "| 4 | 6 | 4 | 4 | 6 | 4 | 2 | 6 | 4 | 5 | 6 | 4 | 5 | 6 |\n",
       "| 4 | 6 | 4 | 5 | 2 | 4 | 2 | 2 | 6 | 6 | 5 | 5 | 5 | 2 |\n",
       "| 4 | 6 | 4 | 6 | 6 | 4 | 6 | 6 | 4 | 5 | 6 | 5 | 5 | 6 |\n",
       "| 5 | 4 | 5 | 4 | 6 | 5 | 6 | 6 | 6 | 3 | 4 | 2 | 6 | 6 |\n",
       "| 5 | 6 | 5 | 2 | 2 | 5 | 2 | 2 | 5 | 3 | 6 | 4 | 6 | 2 |\n",
       "| 5 | 6 | 5 | 3 | 6 | 5 | 3 | 6 | 4 | 4 | 4 | 4 | 5 | 6 |\n",
       "| 5 | 6 | 5 | 3 | 5 | 5 | 2 | 5 | 5 | 3 | 6 | 6 | 5 | 5 |\n",
       "| 5 | 6 | 5 | 4 | 5 | 5 | 5 | 5 | 6 | 4 | 5 | 4 | 5 | 5 |\n",
       "| 5 | 6 | 6 | 2 | 6 | 6 | 6 | 6 | 5 | 4 | 5 | 6 | 5 | 6 |\n",
       "| 1 | 5 | 1 | 4 | 5 | 1 | 5 | 5 | 6 | 5 | 6 | 6 | 6 | 5 |\n",
       "| 5 | 5 | 4 | 5 | 5 | 4 | 5 | 5 | 4 | 4 | 4 | 5 | 4 | 5 |\n",
       "| 5 | 6 | 5 | 3 | 5 | 5 | 4 | 5 | 4 | 3 | 3 | 3 | 2 | 5 |\n",
       "| 5 | 6 | 5 | 3 | 3 | 5 | 3 | 3 | 5 | 6 | 6 | 6 | 5 | 3 |\n",
       "| 5 | 6 | 5 | 4 | 3 | 5 | 3 | 3 | 2 | 6 | 3 | 4 | 4 | 3 |\n",
       "| 6 | 1 | 6 | 2 | 3 | 6 | 3 | 3 | 5 | 6 | 6 | 4 | 6 | 3 |\n",
       "| 6 | 2 | 6 | 5 | 6 | 6 | 6 | 6 | 4 | 3 | 4 | 5 | 5 | 6 |\n",
       "| 6 | 3 | 6 | 4 | 3 | 6 | 3 | 3 | 3 | 6 | 5 | 4 | 5 | 3 |\n",
       "| 6 | 3 | 6 | 5 | 2 | 6 | 6 | 2 | 2 | 2 | 4 | 4 | 5 | 2 |\n",
       "| 6 | 5 | 6 | 2 | 6 | 6 | 6 | 6 | 4 | 3 | 5 | 6 | 5 | 6 |\n",
       "| 6 | 5 | 6 | 4 | 3 | 6 | 3 | 3 | 5 | 6 | 5 | 5 | 4 | 3 |\n",
       "| 6 | 5 | 6 | 4 | 5 | 6 | 5 | 5 | 6 | 5 | 5 | 4 | 5 | 5 |\n",
       "| 6 | 6 | 6 | 3 | 3 | 6 | 3 | 3 | 4 | 6 | 4 | 6 | 5 | 3 |\n",
       "| 6 | 6 | 6 | 4 | 3 | 6 | 3 | 3 | 4 | 4 | 5 | 5 | 5 | 3 |\n",
       "| 3 | 4 | 3 | 5 | 3 | 2 | 2 | 4 | 3 | 4 | 4 | 2 | 3 | 2 |\n",
       "| 4 | 1 | 4 | 4 | 4 | 3 | 3 | 5 | 5 | 4 | 5 | 3 | 4 | 3 |\n",
       "| 4 | 3 | 4 | 3 | 4 | 3 | 3 | 4 | 4 | 3 | 4 | 3 | 2 | 3 |\n",
       "| 4 | 5 | 4 | 4 | 4 | 4 | 4 | 5 | 6 | 6 | 6 | 4 | 4 | 4 |\n",
       "\n"
      ],
      "text/plain": [
       "       komfort_sedadla cas_odlet_prilet_pohodlnost jidlo_a_piti poloha_gate\n",
       "1      1               1                           1            3          \n",
       "2      1               1                           1            4          \n",
       "3      1               1                           1            4          \n",
       "4      1               1                           1            4          \n",
       "5      1               1                           1            4          \n",
       "6      1               1                           1            4          \n",
       "7      1               1                           1            4          \n",
       "8      1               1                           1            4          \n",
       "9      1               1                           1            4          \n",
       "10     1               1                           1            4          \n",
       "11     1               1                           1            4          \n",
       "12     1               1                           1            5          \n",
       "13     1               1                           1            5          \n",
       "14     1               2                           1            2          \n",
       "15     1               2                           1            2          \n",
       "16     1               2                           1            2          \n",
       "17     1               2                           1            3          \n",
       "18     1               2                           1            3          \n",
       "19     1               2                           1            3          \n",
       "20     1               2                           1            3          \n",
       "21     1               2                           1            3          \n",
       "22     1               2                           1            3          \n",
       "23     1               2                           1            3          \n",
       "24     1               2                           1            3          \n",
       "25     1               2                           1            3          \n",
       "26     1               2                           1            3          \n",
       "27     1               2                           1            3          \n",
       "28     1               2                           1            3          \n",
       "29     1               2                           1            3          \n",
       "30     1               2                           1            4          \n",
       "...    ...             ...                         ...          ...        \n",
       "129458 4               6                           4            4          \n",
       "129459 4               6                           4            4          \n",
       "129460 4               6                           4            4          \n",
       "129461 4               6                           4            4          \n",
       "129462 4               6                           4            5          \n",
       "129463 4               6                           4            6          \n",
       "129464 5               4                           5            4          \n",
       "129465 5               6                           5            2          \n",
       "129466 5               6                           5            3          \n",
       "129467 5               6                           5            3          \n",
       "129468 5               6                           5            4          \n",
       "129469 5               6                           6            2          \n",
       "129470 1               5                           1            4          \n",
       "129471 5               5                           4            5          \n",
       "129472 5               6                           5            3          \n",
       "129473 5               6                           5            3          \n",
       "129474 5               6                           5            4          \n",
       "129475 6               1                           6            2          \n",
       "129476 6               2                           6            5          \n",
       "129477 6               3                           6            4          \n",
       "129478 6               3                           6            5          \n",
       "129479 6               5                           6            2          \n",
       "129480 6               5                           6            4          \n",
       "129481 6               5                           6            4          \n",
       "129482 6               6                           6            3          \n",
       "129483 6               6                           6            4          \n",
       "129484 3               4                           3            5          \n",
       "129485 4               1                           4            4          \n",
       "129486 4               3                           4            3          \n",
       "129487 4               5                           4            4          \n",
       "       wifi_na_palube zabava_na_palube online_podpora snadnost_online_rezervace\n",
       "1      3              5                3              4                        \n",
       "2      1              3                3              4                        \n",
       "3      3              1                3              3                        \n",
       "4      4              5                4              2                        \n",
       "5      5              4                5              3                        \n",
       "6      3              1                3              3                        \n",
       "7      3              6                6              6                        \n",
       "8      3              1                3              3                        \n",
       "9      6              4                6              5                        \n",
       "10     3              1                3              3                        \n",
       "11     4              4                4              4                        \n",
       "12     3              1                3              3                        \n",
       "13     6              1                6              6                        \n",
       "14     5              1                5              5                        \n",
       "15     6              3                2              6                        \n",
       "16     2              1                2              2                        \n",
       "17     5              1                5              5                        \n",
       "18     2              3                3              2                        \n",
       "19     1              2                2              3                        \n",
       "20     4              1                4              4                        \n",
       "21     4              1                6              4                        \n",
       "22     2              1                2              2                        \n",
       "23     3              1                5              3                        \n",
       "24     2              4                4              2                        \n",
       "25     3              1                3              3                        \n",
       "26     5              1                5              5                        \n",
       "27     6              1                4              6                        \n",
       "28     4              3                3              4                        \n",
       "29     5              1                5              5                        \n",
       "30     1              5                5              3                        \n",
       "...    ...            ...              ...            ...                      \n",
       "129458 3              4                3              3                        \n",
       "129459 6              4                6              6                        \n",
       "129460 2              4                2              2                        \n",
       "129461 6              4                2              6                        \n",
       "129462 2              4                2              2                        \n",
       "129463 6              4                6              6                        \n",
       "129464 6              5                6              6                        \n",
       "129465 2              5                2              2                        \n",
       "129466 6              5                3              6                        \n",
       "129467 5              5                2              5                        \n",
       "129468 5              5                5              5                        \n",
       "129469 6              6                6              6                        \n",
       "129470 5              1                5              5                        \n",
       "129471 5              4                5              5                        \n",
       "129472 5              5                4              5                        \n",
       "129473 3              5                3              3                        \n",
       "129474 3              5                3              3                        \n",
       "129475 3              6                3              3                        \n",
       "129476 6              6                6              6                        \n",
       "129477 3              6                3              3                        \n",
       "129478 2              6                6              2                        \n",
       "129479 6              6                6              6                        \n",
       "129480 3              6                3              3                        \n",
       "129481 5              6                5              5                        \n",
       "129482 3              6                3              3                        \n",
       "129483 3              6                3              3                        \n",
       "129484 3              2                2              4                        \n",
       "129485 4              3                3              5                        \n",
       "129486 4              3                3              4                        \n",
       "129487 4              4                4              5                        \n",
       "       sluzby_na_palube sluzby_pro_prostor_na_nohy manipulace_s_batohem\n",
       "1      4                1                          4                   \n",
       "2      5                5                          5                   \n",
       "3      4                4                          5                   \n",
       "4      2                1                          2                   \n",
       "5      3                1                          3                   \n",
       "6      6                5                          6                   \n",
       "7      6                1                          6                   \n",
       "8      4                4                          5                   \n",
       "9      5                1                          2                   \n",
       "10     3                5                          6                   \n",
       "11     4                1                          2                   \n",
       "12     4                3                          6                   \n",
       "13     2                4                          3                   \n",
       "14     4                6                          3                   \n",
       "15     6                1                          6                   \n",
       "16     4                5                          2                   \n",
       "17     5                5                          2                   \n",
       "18     2                1                          2                   \n",
       "19     2                2                          3                   \n",
       "20     3                6                          3                   \n",
       "21     2                2                          2                   \n",
       "22     4                6                          2                   \n",
       "23     5                2                          4                   \n",
       "24     2                1                          2                   \n",
       "25     4                4                          3                   \n",
       "26     3                2                          4                   \n",
       "27     5                5                          3                   \n",
       "28     4                1                          4                   \n",
       "29     5                4                          4                   \n",
       "30     3                4                          5                   \n",
       "...    ...              ...                        ...                 \n",
       "129458 5                4                          5                   \n",
       "129459 5                5                          5                   \n",
       "129460 6                3                          6                   \n",
       "129461 4                5                          6                   \n",
       "129462 6                6                          5                   \n",
       "129463 4                5                          6                   \n",
       "129464 6                3                          4                   \n",
       "129465 5                3                          6                   \n",
       "129466 4                4                          4                   \n",
       "129467 5                3                          6                   \n",
       "129468 6                4                          5                   \n",
       "129469 5                4                          5                   \n",
       "129470 6                5                          6                   \n",
       "129471 4                4                          4                   \n",
       "129472 4                3                          3                   \n",
       "129473 5                6                          6                   \n",
       "129474 2                6                          3                   \n",
       "129475 5                6                          6                   \n",
       "129476 4                3                          4                   \n",
       "129477 3                6                          5                   \n",
       "129478 2                2                          4                   \n",
       "129479 4                3                          5                   \n",
       "129480 5                6                          5                   \n",
       "129481 6                5                          5                   \n",
       "129482 4                6                          4                   \n",
       "129483 4                4                          5                   \n",
       "129484 3                4                          4                   \n",
       "129485 5                4                          5                   \n",
       "129486 4                3                          4                   \n",
       "129487 6                6                          6                   \n",
       "       checkin_sluzba cistota online_nastup\n",
       "1      6              4       3            \n",
       "2      3              4       3            \n",
       "3      5              5       3            \n",
       "4      5              2       4            \n",
       "5      5              3       6            \n",
       "6      6              5       3            \n",
       "7      6              6       4            \n",
       "8      6              5       3            \n",
       "9      6              5       5            \n",
       "10     4              5       3            \n",
       "11     3              4       6            \n",
       "12     3              6       3            \n",
       "13     3              5       6            \n",
       "14     4              3       5            \n",
       "15     3              6       3            \n",
       "16     5              3       2            \n",
       "17     4              2       5            \n",
       "18     3              2       4            \n",
       "19     2              4       2            \n",
       "20     4              3       4            \n",
       "21     4              4       4            \n",
       "22     5              3       2            \n",
       "23     2              4       3            \n",
       "24     4              2       2            \n",
       "25     5              4       3            \n",
       "26     4              3       5            \n",
       "27     4              3       6            \n",
       "28     2              4       5            \n",
       "29     2              4       5            \n",
       "30     5              4       5            \n",
       "...    ...            ...     ...          \n",
       "129458 4              5       3            \n",
       "129459 5              6       6            \n",
       "129460 6              5       2            \n",
       "129461 4              5       6            \n",
       "129462 5              5       2            \n",
       "129463 5              5       6            \n",
       "129464 2              6       6            \n",
       "129465 4              6       2            \n",
       "129466 4              5       6            \n",
       "129467 6              5       5            \n",
       "129468 4              5       5            \n",
       "129469 6              5       6            \n",
       "129470 6              6       5            \n",
       "129471 5              4       5            \n",
       "129472 3              2       5            \n",
       "129473 6              5       3            \n",
       "129474 4              4       3            \n",
       "129475 4              6       3            \n",
       "129476 5              5       6            \n",
       "129477 4              5       3            \n",
       "129478 4              5       2            \n",
       "129479 6              5       6            \n",
       "129480 5              4       3            \n",
       "129481 4              5       5            \n",
       "129482 6              5       3            \n",
       "129483 5              5       3            \n",
       "129484 2              3       2            \n",
       "129485 3              4       3            \n",
       "129486 3              2       3            \n",
       "129487 4              4       4            "
      ]
     },
     "metadata": {},
     "output_type": "display_data"
    },
    {
     "data": {
      "image/png": "[encoded data removed]",
      "text/plain": [
       "Plot with title \"\""
      ]
     },
     "metadata": {
      "image/png": {
       "height": 420,
       "width": 420
      }
     },
     "output_type": "display_data"
    }
   ],
   "source": [
    "library(tidyverse)\n",
    "library(corrplot)\n",
    "\n",
    "# Převod faktorů na numerický formát\n",
    "f_numeric <- f %>%\n",
    "  mutate(across(komfort_sedadla:online_nastup, as.numeric))\n",
    "\n",
    "# Výběr sloupců \"komfort_sedadla\" až \"online_nastup\"\n",
    "selected_cols <- f_numeric %>%\n",
    "  select(komfort_sedadla:online_nastup)\n",
    "\n",
    "selected_cols\n",
    "\n",
    "# Výpočet matice korelace\n",
    "cor_matrix <- cor(selected_cols, method = \"pearson\")\n",
    "\n",
    "# Vykreslení korelační matice\n",
    "corrplot(cor_matrix, type = \"upper\", order = \"hclust\", \n",
    "         tl.col = \"black\", tl.srt = 45)"
   ]
  },
  {
   "cell_type": "code",
   "execution_count": 75,
   "id": "ce4450df",
   "metadata": {},
   "outputs": [
    {
     "ename": "ERROR",
     "evalue": "Error in corrplot(selected_cols, type = \"upper\", order = \"hclust\", tl.col = \"black\", : The matrix is not in [-1, 1]!\n",
     "output_type": "error",
     "traceback": [
      "Error in corrplot(selected_cols, type = \"upper\", order = \"hclust\", tl.col = \"black\", : The matrix is not in [-1, 1]!\nTraceback:\n",
      "1. corrplot(selected_cols, type = \"upper\", order = \"hclust\", tl.col = \"black\", \n .     tl.srt = 45)",
      "2. stop(\"The matrix is not in [-1, 1]!\")"
     ]
    }
   ],
   "source": []
  }
 ],
 "metadata": {
  "kernelspec": {
   "display_name": "R",
   "language": "R",
   "name": "ir"
  },
  "language_info": {
   "codemirror_mode": "r",
   "file_extension": ".r",
   "mimetype": "text/x-r-source",
   "name": "R",
   "pygments_lexer": "r",
   "version": "4.1.3"
  }
 },
 "nbformat": 4,
 "nbformat_minor": 5
}
