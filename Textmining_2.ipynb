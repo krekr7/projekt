{
 "cells": [
  {
   "cell_type": "markdown",
   "id": "05b47350",
   "metadata": {},
   "source": [
    "### Pavel Furch, učo: 415339"
   ]
  },
  {
   "cell_type": "markdown",
   "id": "8469da33",
   "metadata": {},
   "source": [
    "### Masarykova univerzita, jarní semestr 2023\n",
    "### Datamining: úkol č. 2"
   ]
  },
  {
   "cell_type": "markdown",
   "id": "1803ec0b",
   "metadata": {},
   "source": [
    "#### Pozn.: Úkol jsem zaznamenal do Jupyter notebook, který umožňuje zobrazovat výstupy kódu."
   ]
  },
  {
   "cell_type": "code",
   "execution_count": 1,
   "id": "27e36232",
   "metadata": {},
   "outputs": [
    {
     "name": "stderr",
     "output_type": "stream",
     "text": [
      "-- \u001b[1mAttaching packages\u001b[22m ------------------------------------------------------------------------------- tidyverse 1.3.2 --\n",
      "\u001b[32mv\u001b[39m \u001b[34mggplot2\u001b[39m 3.4.0     \u001b[32mv\u001b[39m \u001b[34mpurrr  \u001b[39m 1.0.1\n",
      "\u001b[32mv\u001b[39m \u001b[34mtibble \u001b[39m 3.1.8     \u001b[32mv\u001b[39m \u001b[34mdplyr  \u001b[39m 1.1.0\n",
      "\u001b[32mv\u001b[39m \u001b[34mtidyr  \u001b[39m 1.3.0     \u001b[32mv\u001b[39m \u001b[34mstringr\u001b[39m 1.5.0\n",
      "\u001b[32mv\u001b[39m \u001b[34mreadr  \u001b[39m 2.1.3     \u001b[32mv\u001b[39m \u001b[34mforcats\u001b[39m 1.0.0\n",
      "-- \u001b[1mConflicts\u001b[22m ---------------------------------------------------------------------------------- tidyverse_conflicts() --\n",
      "\u001b[31mx\u001b[39m \u001b[34mdplyr\u001b[39m::\u001b[32mfilter()\u001b[39m masks \u001b[34mstats\u001b[39m::filter()\n",
      "\u001b[31mx\u001b[39m \u001b[34mdplyr\u001b[39m::\u001b[32mlag()\u001b[39m    masks \u001b[34mstats\u001b[39m::lag()\n",
      "\n",
      "Attaching package: 'lubridate'\n",
      "\n",
      "\n",
      "The following objects are masked from 'package:base':\n",
      "\n",
      "    date, intersect, setdiff, union\n",
      "\n",
      "\n"
     ]
    }
   ],
   "source": [
    "library(tidyverse)\n",
    "library(tidytext)\n",
    "library(gutenbergr)\n",
    "library(lubridate)\n",
    "library(rpart)\n",
    "library(rpart.plot)"
   ]
  },
  {
   "cell_type": "code",
   "execution_count": 2,
   "id": "6d3a5870",
   "metadata": {},
   "outputs": [
    {
     "name": "stderr",
     "output_type": "stream",
     "text": [
      "Determining mirror for Project Gutenberg from https://www.gutenberg.org/robot/harvest\n",
      "\n",
      "Using mirror http://aleph.gutenberg.org\n",
      "\n"
     ]
    }
   ],
   "source": [
    "# Ukol 1: Stahnuti vybrane knihy ------------------------------------------\n",
    "book <- gutenberg_download(925)"
   ]
  },
  {
   "cell_type": "code",
   "execution_count": 3,
   "id": "684db6d6",
   "metadata": {},
   "outputs": [],
   "source": [
    "# Ukol 2: Rozdeleni knihy na jednotlive proslovy ------------------------\n",
    "\n",
    "speeches <- book %>% \n",
    "  mutate(speech_id = cumsum(str_detect(text, \"\\\\*\\\\s\\\\*\\\\s\\\\*\\\\s\\\\*\\\\s\\\\*\"))) %>% # oddeleni jednotlivych proslovu\n",
    "  filter(!speech_id %in% c(0,56)) %>% # odstraneni prvni a posledni sekce, ktere nejsou proslovy \n",
    "  filter(text != \"\") %>% # odstraneni prazdnych radku\n",
    "  group_by(speech_id) %>% \n",
    "  mutate(line = row_number(), # cislo radku v ramci jednoho proslovu\n",
    "         note_start = cumsum(str_detect(text, \"\\\\[\")), # oznaceni zacatku poznamky\n",
    "         note_end = lag(cumsum(str_detect(text, \"\\\\]\")))) %>% # oznaceni konce poznamky\n",
    "  filter(!((note_start == 1)&(note_end == 0))) %>% # odstraneni poznamky\n",
    "  select(text, speech_id, line) # vybrani jenom sloupcu s textem, identifikatorem reci a poradim radku\n"
   ]
  },
  {
   "cell_type": "code",
   "execution_count": 4,
   "id": "54456117",
   "metadata": {},
   "outputs": [],
   "source": [
    "# Extrakce jmena prezidenta\n",
    "presidents <- speeches %>% \n",
    "  filter(line == 2) %>% # vybrani radku s jmenem prezidenta\n",
    "  mutate(president = str_extract(text, \"^([A-Z.\\\\s]*)(?=(,\\\\s)?(FIRST\\\\s|SECOND\\\\s|THIRD\\\\s|FOURTH\\\\s)?INAUGURAL)\"),\n",
    "         name = str_remove(president, \"\\\\s(FIRST|SECOND)\\\\s\")) %>% \n",
    "  select(speech_id, name)"
   ]
  },
  {
   "cell_type": "code",
   "execution_count": 205,
   "id": "6d80393d",
   "metadata": {},
   "outputs": [
    {
     "data": {
      "text/plain": [
       "\n",
       "  1   2   3   4   5   6   7   8   9  10  11  12  13  14  15  16  17  18  19  20 \n",
       "125  13 205 149 192 104 106 295 390 257 104 106 345 725 425 100 294 250 315  58 \n",
       " 21  22  23  24  25  26  27  28  29  30  31  32  33  34  35  36  37  38  39  40 \n",
       " 99 118 227 275 155 392 189 345 198  81 481 141 127 307 351 356 166 165 125  52 \n",
       " 41  42  43  44  45  46  47  48  49  50  51  52  53  54  55 \n",
       "231 221 152 122 137 197 166 113 211 228 191 139 193 153 184 "
      ]
     },
     "metadata": {},
     "output_type": "display_data"
    },
    {
     "data": {
      "text/html": [
       "<table class=\"dataframe\">\n",
       "<caption>A grouped_df: 6 × 2</caption>\n",
       "<thead>\n",
       "\t<tr><th scope=col>speech_id</th><th scope=col>name</th></tr>\n",
       "\t<tr><th scope=col>&lt;int&gt;</th><th scope=col>&lt;chr&gt;</th></tr>\n",
       "</thead>\n",
       "<tbody>\n",
       "\t<tr><td>1</td><td>GEORGE WASHINGTON</td></tr>\n",
       "\t<tr><td>2</td><td>GEORGE WASHINGTON</td></tr>\n",
       "\t<tr><td>3</td><td>JOHN ADAMS       </td></tr>\n",
       "\t<tr><td>4</td><td>THOMAS JEFFERSON </td></tr>\n",
       "\t<tr><td>5</td><td>THOMAS JEFFERSON </td></tr>\n",
       "\t<tr><td>6</td><td>JAMES MADISON    </td></tr>\n",
       "</tbody>\n",
       "</table>\n"
      ],
      "text/latex": [
       "A grouped\\_df: 6 × 2\n",
       "\\begin{tabular}{ll}\n",
       " speech\\_id & name\\\\\n",
       " <int> & <chr>\\\\\n",
       "\\hline\n",
       "\t 1 & GEORGE WASHINGTON\\\\\n",
       "\t 2 & GEORGE WASHINGTON\\\\\n",
       "\t 3 & JOHN ADAMS       \\\\\n",
       "\t 4 & THOMAS JEFFERSON \\\\\n",
       "\t 5 & THOMAS JEFFERSON \\\\\n",
       "\t 6 & JAMES MADISON    \\\\\n",
       "\\end{tabular}\n"
      ],
      "text/markdown": [
       "\n",
       "A grouped_df: 6 × 2\n",
       "\n",
       "| speech_id &lt;int&gt; | name &lt;chr&gt; |\n",
       "|---|---|\n",
       "| 1 | GEORGE WASHINGTON |\n",
       "| 2 | GEORGE WASHINGTON |\n",
       "| 3 | JOHN ADAMS        |\n",
       "| 4 | THOMAS JEFFERSON  |\n",
       "| 5 | THOMAS JEFFERSON  |\n",
       "| 6 | JAMES MADISON     |\n",
       "\n"
      ],
      "text/plain": [
       "  speech_id name             \n",
       "1 1         GEORGE WASHINGTON\n",
       "2 2         GEORGE WASHINGTON\n",
       "3 3         JOHN ADAMS       \n",
       "4 4         THOMAS JEFFERSON \n",
       "5 5         THOMAS JEFFERSON \n",
       "6 6         JAMES MADISON    "
      ]
     },
     "metadata": {},
     "output_type": "display_data"
    }
   ],
   "source": [
    "(table(speeches$speech_id))\n",
    "\n",
    "head(presidents)"
   ]
  },
  {
   "cell_type": "code",
   "execution_count": 6,
   "id": "975854bd",
   "metadata": {},
   "outputs": [],
   "source": [
    "# Extrakce data proslovu\n",
    "dates <- speeches %>% \n",
    "  filter(line == 3) %>% # vybrani radku s mistem konani\n",
    "  mutate(date_of_speech = mdy(str_extract(text, \"(JANUARY|MARCH|APRIL)\\\\s\\\\d{1,2},\\\\s\\\\d{4}\"))) %>% # extrakce data\n",
    "  select(speech_id, date_of_speech)"
   ]
  },
  {
   "cell_type": "code",
   "execution_count": 145,
   "id": "ca6c042a",
   "metadata": {},
   "outputs": [
    {
     "data": {
      "text/html": [
       "<table class=\"dataframe\">\n",
       "<caption>A grouped_df: 6 × 3</caption>\n",
       "<thead>\n",
       "\t<tr><th scope=col>text</th><th scope=col>speech_id</th><th scope=col>line</th></tr>\n",
       "\t<tr><th scope=col>&lt;chr&gt;</th><th scope=col>&lt;int&gt;</th><th scope=col>&lt;int&gt;</th></tr>\n",
       "</thead>\n",
       "<tbody>\n",
       "\t<tr><td>Fellow-Citizens of the Senate and of the House of Representatives:     </td><td>1</td><td>15</td></tr>\n",
       "\t<tr><td>Among the vicissitudes incident to life no event could have filled me  </td><td>1</td><td>16</td></tr>\n",
       "\t<tr><td>with greater anxieties than that of which the notification was         </td><td>1</td><td>17</td></tr>\n",
       "\t<tr><td>transmitted by your order, and received on the 14th day of the present </td><td>1</td><td>18</td></tr>\n",
       "\t<tr><td>month. On the one hand, I was summoned by my Country, whose voice I can</td><td>1</td><td>19</td></tr>\n",
       "\t<tr><td>never hear but with veneration and love, from a retreat which I had    </td><td>1</td><td>20</td></tr>\n",
       "</tbody>\n",
       "</table>\n"
      ],
      "text/latex": [
       "A grouped\\_df: 6 × 3\n",
       "\\begin{tabular}{lll}\n",
       " text & speech\\_id & line\\\\\n",
       " <chr> & <int> & <int>\\\\\n",
       "\\hline\n",
       "\t Fellow-Citizens of the Senate and of the House of Representatives:      & 1 & 15\\\\\n",
       "\t Among the vicissitudes incident to life no event could have filled me   & 1 & 16\\\\\n",
       "\t with greater anxieties than that of which the notification was          & 1 & 17\\\\\n",
       "\t transmitted by your order, and received on the 14th day of the present  & 1 & 18\\\\\n",
       "\t month. On the one hand, I was summoned by my Country, whose voice I can & 1 & 19\\\\\n",
       "\t never hear but with veneration and love, from a retreat which I had     & 1 & 20\\\\\n",
       "\\end{tabular}\n"
      ],
      "text/markdown": [
       "\n",
       "A grouped_df: 6 × 3\n",
       "\n",
       "| text &lt;chr&gt; | speech_id &lt;int&gt; | line &lt;int&gt; |\n",
       "|---|---|---|\n",
       "| Fellow-Citizens of the Senate and of the House of Representatives:      | 1 | 15 |\n",
       "| Among the vicissitudes incident to life no event could have filled me   | 1 | 16 |\n",
       "| with greater anxieties than that of which the notification was          | 1 | 17 |\n",
       "| transmitted by your order, and received on the 14th day of the present  | 1 | 18 |\n",
       "| month. On the one hand, I was summoned by my Country, whose voice I can | 1 | 19 |\n",
       "| never hear but with veneration and love, from a retreat which I had     | 1 | 20 |\n",
       "\n"
      ],
      "text/plain": [
       "  text                                                                   \n",
       "1 Fellow-Citizens of the Senate and of the House of Representatives:     \n",
       "2 Among the vicissitudes incident to life no event could have filled me  \n",
       "3 with greater anxieties than that of which the notification was         \n",
       "4 transmitted by your order, and received on the 14th day of the present \n",
       "5 month. On the one hand, I was summoned by my Country, whose voice I can\n",
       "6 never hear but with veneration and love, from a retreat which I had    \n",
       "  speech_id line\n",
       "1 1         15  \n",
       "2 1         16  \n",
       "3 1         17  \n",
       "4 1         18  \n",
       "5 1         19  \n",
       "6 1         20  "
      ]
     },
     "metadata": {},
     "output_type": "display_data"
    }
   ],
   "source": [
    "head(speeches)"
   ]
  },
  {
   "cell_type": "code",
   "execution_count": 202,
   "id": "9927e84c",
   "metadata": {
    "scrolled": true
   },
   "outputs": [
    {
     "data": {
      "text/html": [
       "<table class=\"dataframe\">\n",
       "<caption>A grouped_df: 0 × 3</caption>\n",
       "<thead>\n",
       "\t<tr><th scope=col>text</th><th scope=col>speech_id</th><th scope=col>line</th></tr>\n",
       "\t<tr><th scope=col>&lt;chr&gt;</th><th scope=col>&lt;int&gt;</th><th scope=col>&lt;int&gt;</th></tr>\n",
       "</thead>\n",
       "<tbody>\n",
       "</tbody>\n",
       "</table>\n"
      ],
      "text/latex": [
       "A grouped\\_df: 0 × 3\n",
       "\\begin{tabular}{lll}\n",
       " text & speech\\_id & line\\\\\n",
       " <chr> & <int> & <int>\\\\\n",
       "\\hline\n",
       "\\end{tabular}\n"
      ],
      "text/markdown": [
       "\n",
       "A grouped_df: 0 × 3\n",
       "\n",
       "| text &lt;chr&gt; | speech_id &lt;int&gt; | line &lt;int&gt; |\n",
       "|---|---|---|\n",
       "\n"
      ],
      "text/plain": [
       "     text speech_id line"
      ]
     },
     "metadata": {},
     "output_type": "display_data"
    },
    {
     "data": {
      "text/html": [
       "<style>\n",
       ".list-inline {list-style: none; margin:0; padding: 0}\n",
       ".list-inline>li {display: inline-block}\n",
       ".list-inline>li:not(:last-child)::after {content: \"\\00b7\"; padding: 0 .5ex}\n",
       "</style>\n",
       "<ol class=list-inline><li>11546</li><li>3</li></ol>\n"
      ],
      "text/latex": [
       "\\begin{enumerate*}\n",
       "\\item 11546\n",
       "\\item 3\n",
       "\\end{enumerate*}\n"
      ],
      "text/markdown": [
       "1. 11546\n",
       "2. 3\n",
       "\n",
       "\n"
      ],
      "text/plain": [
       "[1] 11546     3"
      ]
     },
     "metadata": {},
     "output_type": "display_data"
    }
   ],
   "source": [
    "speeches %>% \n",
    "  filter(line == 1)\n",
    "\n",
    "dim(speeches)"
   ]
  },
  {
   "cell_type": "code",
   "execution_count": 203,
   "id": "1c43f881",
   "metadata": {
    "scrolled": true
   },
   "outputs": [
    {
     "data": {
      "text/html": [
       "<table class=\"dataframe\">\n",
       "<caption>A grouped_df: 6 × 2</caption>\n",
       "<thead>\n",
       "\t<tr><th scope=col>speech_id</th><th scope=col>date_of_speech</th></tr>\n",
       "\t<tr><th scope=col>&lt;int&gt;</th><th scope=col>&lt;date&gt;</th></tr>\n",
       "</thead>\n",
       "<tbody>\n",
       "\t<tr><td>1</td><td>1789-04-30</td></tr>\n",
       "\t<tr><td>2</td><td>1793-03-04</td></tr>\n",
       "\t<tr><td>3</td><td>1797-03-04</td></tr>\n",
       "\t<tr><td>4</td><td>1801-03-04</td></tr>\n",
       "\t<tr><td>5</td><td>1805-03-04</td></tr>\n",
       "\t<tr><td>6</td><td>1809-03-04</td></tr>\n",
       "</tbody>\n",
       "</table>\n"
      ],
      "text/latex": [
       "A grouped\\_df: 6 × 2\n",
       "\\begin{tabular}{ll}\n",
       " speech\\_id & date\\_of\\_speech\\\\\n",
       " <int> & <date>\\\\\n",
       "\\hline\n",
       "\t 1 & 1789-04-30\\\\\n",
       "\t 2 & 1793-03-04\\\\\n",
       "\t 3 & 1797-03-04\\\\\n",
       "\t 4 & 1801-03-04\\\\\n",
       "\t 5 & 1805-03-04\\\\\n",
       "\t 6 & 1809-03-04\\\\\n",
       "\\end{tabular}\n"
      ],
      "text/markdown": [
       "\n",
       "A grouped_df: 6 × 2\n",
       "\n",
       "| speech_id &lt;int&gt; | date_of_speech &lt;date&gt; |\n",
       "|---|---|\n",
       "| 1 | 1789-04-30 |\n",
       "| 2 | 1793-03-04 |\n",
       "| 3 | 1797-03-04 |\n",
       "| 4 | 1801-03-04 |\n",
       "| 5 | 1805-03-04 |\n",
       "| 6 | 1809-03-04 |\n",
       "\n"
      ],
      "text/plain": [
       "  speech_id date_of_speech\n",
       "1 1         1789-04-30    \n",
       "2 2         1793-03-04    \n",
       "3 3         1797-03-04    \n",
       "4 4         1801-03-04    \n",
       "5 5         1805-03-04    \n",
       "6 6         1809-03-04    "
      ]
     },
     "metadata": {},
     "output_type": "display_data"
    }
   ],
   "source": [
    "head(dates)"
   ]
  },
  {
   "cell_type": "code",
   "execution_count": 9,
   "id": "bfa32ccd",
   "metadata": {},
   "outputs": [],
   "source": [
    "# Odstraneni hlavicky se jmenem prezidenta a mistem projevu\n",
    "speeches <- speeches %>% \n",
    "  filter(line > 3)"
   ]
  },
  {
   "cell_type": "code",
   "execution_count": 224,
   "id": "76e75913",
   "metadata": {},
   "outputs": [
    {
     "data": {
      "text/html": [
       "<table class=\"dataframe\">\n",
       "<caption>A grouped_df: 6 × 3</caption>\n",
       "<thead>\n",
       "\t<tr><th scope=col>text</th><th scope=col>speech_id</th><th scope=col>line</th></tr>\n",
       "\t<tr><th scope=col>&lt;chr&gt;</th><th scope=col>&lt;int&gt;</th><th scope=col>&lt;int&gt;</th></tr>\n",
       "</thead>\n",
       "<tbody>\n",
       "\t<tr><td>Fellow-Citizens of the Senate and of the House of Representatives:     </td><td>1</td><td>15</td></tr>\n",
       "\t<tr><td>Among the vicissitudes incident to life no event could have filled me  </td><td>1</td><td>16</td></tr>\n",
       "\t<tr><td>with greater anxieties than that of which the notification was         </td><td>1</td><td>17</td></tr>\n",
       "\t<tr><td>transmitted by your order, and received on the 14th day of the present </td><td>1</td><td>18</td></tr>\n",
       "\t<tr><td>month. On the one hand, I was summoned by my Country, whose voice I can</td><td>1</td><td>19</td></tr>\n",
       "\t<tr><td>never hear but with veneration and love, from a retreat which I had    </td><td>1</td><td>20</td></tr>\n",
       "</tbody>\n",
       "</table>\n"
      ],
      "text/latex": [
       "A grouped\\_df: 6 × 3\n",
       "\\begin{tabular}{lll}\n",
       " text & speech\\_id & line\\\\\n",
       " <chr> & <int> & <int>\\\\\n",
       "\\hline\n",
       "\t Fellow-Citizens of the Senate and of the House of Representatives:      & 1 & 15\\\\\n",
       "\t Among the vicissitudes incident to life no event could have filled me   & 1 & 16\\\\\n",
       "\t with greater anxieties than that of which the notification was          & 1 & 17\\\\\n",
       "\t transmitted by your order, and received on the 14th day of the present  & 1 & 18\\\\\n",
       "\t month. On the one hand, I was summoned by my Country, whose voice I can & 1 & 19\\\\\n",
       "\t never hear but with veneration and love, from a retreat which I had     & 1 & 20\\\\\n",
       "\\end{tabular}\n"
      ],
      "text/markdown": [
       "\n",
       "A grouped_df: 6 × 3\n",
       "\n",
       "| text &lt;chr&gt; | speech_id &lt;int&gt; | line &lt;int&gt; |\n",
       "|---|---|---|\n",
       "| Fellow-Citizens of the Senate and of the House of Representatives:      | 1 | 15 |\n",
       "| Among the vicissitudes incident to life no event could have filled me   | 1 | 16 |\n",
       "| with greater anxieties than that of which the notification was          | 1 | 17 |\n",
       "| transmitted by your order, and received on the 14th day of the present  | 1 | 18 |\n",
       "| month. On the one hand, I was summoned by my Country, whose voice I can | 1 | 19 |\n",
       "| never hear but with veneration and love, from a retreat which I had     | 1 | 20 |\n",
       "\n"
      ],
      "text/plain": [
       "  text                                                                   \n",
       "1 Fellow-Citizens of the Senate and of the House of Representatives:     \n",
       "2 Among the vicissitudes incident to life no event could have filled me  \n",
       "3 with greater anxieties than that of which the notification was         \n",
       "4 transmitted by your order, and received on the 14th day of the present \n",
       "5 month. On the one hand, I was summoned by my Country, whose voice I can\n",
       "6 never hear but with veneration and love, from a retreat which I had    \n",
       "  speech_id line\n",
       "1 1         15  \n",
       "2 1         16  \n",
       "3 1         17  \n",
       "4 1         18  \n",
       "5 1         19  \n",
       "6 1         20  "
      ]
     },
     "metadata": {},
     "output_type": "display_data"
    }
   ],
   "source": [
    "# Ukol 3: Tokenizace na slova -------------------------------------------\n",
    "\n",
    "speeches_words <- speeches %>%\n",
    "  unnest_tokens(word,text)\n",
    "\n",
    "head(speeches)"
   ]
  },
  {
   "cell_type": "code",
   "execution_count": 194,
   "id": "2dcd398f",
   "metadata": {},
   "outputs": [
    {
     "name": "stderr",
     "output_type": "stream",
     "text": [
      "\u001b[1m\u001b[22mJoining with `by = join_by(word)`\n"
     ]
    },
    {
     "data": {
      "text/html": [
       "<table class=\"dataframe\">\n",
       "<caption>A grouped_df: 6 × 2</caption>\n",
       "<thead>\n",
       "\t<tr><th scope=col>speech_id</th><th scope=col>word</th></tr>\n",
       "\t<tr><th scope=col>&lt;int&gt;</th><th scope=col>&lt;chr&gt;</th></tr>\n",
       "</thead>\n",
       "<tbody>\n",
       "\t<tr><td>1</td><td>fellow         </td></tr>\n",
       "\t<tr><td>1</td><td>citizens       </td></tr>\n",
       "\t<tr><td>1</td><td>senate         </td></tr>\n",
       "\t<tr><td>1</td><td>house          </td></tr>\n",
       "\t<tr><td>1</td><td>representatives</td></tr>\n",
       "\t<tr><td>1</td><td>vicissitudes   </td></tr>\n",
       "</tbody>\n",
       "</table>\n"
      ],
      "text/latex": [
       "A grouped\\_df: 6 × 2\n",
       "\\begin{tabular}{ll}\n",
       " speech\\_id & word\\\\\n",
       " <int> & <chr>\\\\\n",
       "\\hline\n",
       "\t 1 & fellow         \\\\\n",
       "\t 1 & citizens       \\\\\n",
       "\t 1 & senate         \\\\\n",
       "\t 1 & house          \\\\\n",
       "\t 1 & representatives\\\\\n",
       "\t 1 & vicissitudes   \\\\\n",
       "\\end{tabular}\n"
      ],
      "text/markdown": [
       "\n",
       "A grouped_df: 6 × 2\n",
       "\n",
       "| speech_id &lt;int&gt; | word &lt;chr&gt; |\n",
       "|---|---|\n",
       "| 1 | fellow          |\n",
       "| 1 | citizens        |\n",
       "| 1 | senate          |\n",
       "| 1 | house           |\n",
       "| 1 | representatives |\n",
       "| 1 | vicissitudes    |\n",
       "\n"
      ],
      "text/plain": [
       "  speech_id word           \n",
       "1 1         fellow         \n",
       "2 1         citizens       \n",
       "3 1         senate         \n",
       "4 1         house          \n",
       "5 1         representatives\n",
       "6 1         vicissitudes   "
      ]
     },
     "metadata": {},
     "output_type": "display_data"
    }
   ],
   "source": [
    "# Ukol 4: Odstraneni stop-words -------------------------------------------\n",
    "\n",
    "speeches_words <- speeches_words %>% \n",
    "  anti_join(stop_words)\n",
    "\n",
    "head(speeches_words)"
   ]
  },
  {
   "cell_type": "code",
   "execution_count": 12,
   "id": "d1fff637",
   "metadata": {},
   "outputs": [],
   "source": [
    "# Ukol 5: Vypocet poctu vsech a unikatnich slov ---------------------------\n",
    "\n",
    "speeches_features <- speeches_words %>% \n",
    "  group_by(speech_id) %>% \n",
    "  summarise(no_words = length(word), # pocet vsech slov\n",
    "            unique_words = n_distinct(word))   # pocet unikatnich slov"
   ]
  },
  {
   "cell_type": "code",
   "execution_count": 13,
   "id": "5cfacb02",
   "metadata": {},
   "outputs": [
    {
     "name": "stderr",
     "output_type": "stream",
     "text": [
      "Installing package into 'C:/Users/pfurch/Documents/R/win-library/4.1'\n",
      "(as 'lib' is unspecified)\n",
      "\n"
     ]
    },
    {
     "name": "stdout",
     "output_type": "stream",
     "text": [
      "package 'textdata' successfully unpacked and MD5 sums checked\n",
      "\n",
      "The downloaded binary packages are in\n",
      "\tC:\\Users\\pfurch\\AppData\\Local\\Temp\\RtmpspmZTo\\downloaded_packages\n"
     ]
    },
    {
     "name": "stderr",
     "output_type": "stream",
     "text": [
      "\u001b[1m\u001b[22mJoining with `by = join_by(word)`\n",
      "Warning message in inner_join(., get_sentiments(\"nrc\")):\n",
      "\"\u001b[1m\u001b[22mEach row in `x` is expected to match at most 1 row in `y`.\n",
      "\u001b[36mi\u001b[39m Row 1 of `x` matches multiple rows.\n",
      "\u001b[36mi\u001b[39m If multiple matches are expected, set `multiple = \"all\"` to silence this warning.\"\n"
     ]
    }
   ],
   "source": [
    "# Ukol 6: Vypocitani sentimentu NRC ---------------------------------------\n",
    "\n",
    "install.packages(\"textdata\")\n",
    "library(textdata)\n",
    "\n",
    "speeches_sentiment <- speeches_words %>% \n",
    "  inner_join(get_sentiments(\"nrc\")) %>% # spojeni se sentimentovym slovnikem NRC\n",
    "  count(speech_id, sentiment) %>% # pocet slov pro kazdy proslov a sentiment\n",
    "  pivot_wider( # prevedeni do wider formatu (v radcich jsou proslovy, ve sloupcich sentimenty)\n",
    "    names_from = sentiment,\n",
    "    values_from = n)"
   ]
  },
  {
   "cell_type": "code",
   "execution_count": 192,
   "id": "88a1c6c2",
   "metadata": {},
   "outputs": [
    {
     "data": {
      "text/html": [
       "<table class=\"dataframe\">\n",
       "<caption>A tibble: 6 × 2</caption>\n",
       "<thead>\n",
       "\t<tr><th scope=col>name</th><th scope=col>party</th></tr>\n",
       "\t<tr><th scope=col>&lt;chr&gt;</th><th scope=col>&lt;chr&gt;</th></tr>\n",
       "</thead>\n",
       "<tbody>\n",
       "\t<tr><td>GEORGE WASHINGTON</td><td>Unaffiliated         </td></tr>\n",
       "\t<tr><td>JOHN ADAMS       </td><td>Federalist           </td></tr>\n",
       "\t<tr><td>THOMAS JEFFERSON </td><td>Democratic-Republican</td></tr>\n",
       "\t<tr><td>JAMES MADISON    </td><td>Democratic-Republican</td></tr>\n",
       "\t<tr><td>JAMES MONROE     </td><td>Democratic-Republican</td></tr>\n",
       "\t<tr><td>JOHN QUINCY ADAMS</td><td>Democratic-Republican</td></tr>\n",
       "</tbody>\n",
       "</table>\n"
      ],
      "text/latex": [
       "A tibble: 6 × 2\n",
       "\\begin{tabular}{ll}\n",
       " name & party\\\\\n",
       " <chr> & <chr>\\\\\n",
       "\\hline\n",
       "\t GEORGE WASHINGTON & Unaffiliated         \\\\\n",
       "\t JOHN ADAMS        & Federalist           \\\\\n",
       "\t THOMAS JEFFERSON  & Democratic-Republican\\\\\n",
       "\t JAMES MADISON     & Democratic-Republican\\\\\n",
       "\t JAMES MONROE      & Democratic-Republican\\\\\n",
       "\t JOHN QUINCY ADAMS & Democratic-Republican\\\\\n",
       "\\end{tabular}\n"
      ],
      "text/markdown": [
       "\n",
       "A tibble: 6 × 2\n",
       "\n",
       "| name &lt;chr&gt; | party &lt;chr&gt; |\n",
       "|---|---|\n",
       "| GEORGE WASHINGTON | Unaffiliated          |\n",
       "| JOHN ADAMS        | Federalist            |\n",
       "| THOMAS JEFFERSON  | Democratic-Republican |\n",
       "| JAMES MADISON     | Democratic-Republican |\n",
       "| JAMES MONROE      | Democratic-Republican |\n",
       "| JOHN QUINCY ADAMS | Democratic-Republican |\n",
       "\n"
      ],
      "text/plain": [
       "  name              party                \n",
       "1 GEORGE WASHINGTON Unaffiliated         \n",
       "2 JOHN ADAMS        Federalist           \n",
       "3 THOMAS JEFFERSON  Democratic-Republican\n",
       "4 JAMES MADISON     Democratic-Republican\n",
       "5 JAMES MONROE      Democratic-Republican\n",
       "6 JOHN QUINCY ADAMS Democratic-Republican"
      ]
     },
     "metadata": {},
     "output_type": "display_data"
    }
   ],
   "source": [
    "# Ukol 7: Spojeni vsech informaci do jednoho datasetu ---------------------\n",
    "\n",
    "# prislusnost prezidentu k politicke strane\n",
    "# prevzato z https://en.wikipedia.org/wiki/List_of_presidents_of_the_United_States\n",
    "parties <- tibble(name = unique(presidents$name),\n",
    "                  party = c(\"Unaffiliated\", \"Federalist\", \"Democratic-Republican\", \"Democratic-Republican\",\n",
    "                            \"Democratic-Republican\", \"Democratic-Republican\", \"Democratic\", \"Democratic\",\n",
    "                            \"Whig\", \"Democratic\", \"Whig\", \"Democratic\", \"Democratic\", \"Republican\", \n",
    "                            \"Republican\", \"Republican\", \"Republican\", \"Democratic\", \"Republican\", \"Republican\",\n",
    "                            \"Republican\", \"Republican\", \"Democratic\", \"Republican\", \"Republican\", \"Republican\", \n",
    "                            \"Democratic\", \"Democratic\", \"Republican\", \"Democratic\", \"Democratic\", \"Republican\",\n",
    "                            \"Democratic\", \"Republican\", \"Republican\", \"Democratic\", \"Republican\"))\n",
    "\n",
    "head(parties)"
   ]
  },
  {
   "cell_type": "code",
   "execution_count": 16,
   "id": "3cd3da9a",
   "metadata": {},
   "outputs": [
    {
     "name": "stderr",
     "output_type": "stream",
     "text": [
      "\u001b[1m\u001b[22mJoining with `by = join_by(speech_id)`\n",
      "\u001b[1m\u001b[22mJoining with `by = join_by(speech_id)`\n",
      "\u001b[1m\u001b[22mJoining with `by = join_by(speech_id)`\n",
      "\u001b[1m\u001b[22mJoining with `by = join_by(name)`\n"
     ]
    }
   ],
   "source": [
    "speeches_final <- speeches_features %>% \n",
    "  left_join(speeches_sentiment) %>% # pripojeni sentimentu\n",
    "  left_join(presidents) %>% # pripojeni jmena prezidenta \n",
    "  left_join(dates) %>% # pripojeni data projevu        !!!!!!!\n",
    "  left_join(parties) %>% # pripojeni politicke strany\n",
    "  mutate(across(unique_words:trust, ~ (./no_words*100))) # vydeleni poctu slov pro dany sentiment poctem vsech slov projevu"
   ]
  },
  {
   "cell_type": "code",
   "execution_count": 198,
   "id": "9f232ca4",
   "metadata": {},
   "outputs": [
    {
     "data": {
      "text/html": [
       "<table class=\"dataframe\">\n",
       "<caption>A data.frame: 4 × 3</caption>\n",
       "<thead>\n",
       "\t<tr><th scope=col>player</th><th scope=col>year1</th><th scope=col>year2</th></tr>\n",
       "\t<tr><th scope=col>&lt;chr&gt;</th><th scope=col>&lt;dbl&gt;</th><th scope=col>&lt;dbl&gt;</th></tr>\n",
       "</thead>\n",
       "<tbody>\n",
       "\t<tr><td>A</td><td>12</td><td>22</td></tr>\n",
       "\t<tr><td>B</td><td>15</td><td>29</td></tr>\n",
       "\t<tr><td>C</td><td>19</td><td>18</td></tr>\n",
       "\t<tr><td>D</td><td>19</td><td>12</td></tr>\n",
       "</tbody>\n",
       "</table>\n"
      ],
      "text/latex": [
       "A data.frame: 4 × 3\n",
       "\\begin{tabular}{lll}\n",
       " player & year1 & year2\\\\\n",
       " <chr> & <dbl> & <dbl>\\\\\n",
       "\\hline\n",
       "\t A & 12 & 22\\\\\n",
       "\t B & 15 & 29\\\\\n",
       "\t C & 19 & 18\\\\\n",
       "\t D & 19 & 12\\\\\n",
       "\\end{tabular}\n"
      ],
      "text/markdown": [
       "\n",
       "A data.frame: 4 × 3\n",
       "\n",
       "| player &lt;chr&gt; | year1 &lt;dbl&gt; | year2 &lt;dbl&gt; |\n",
       "|---|---|---|\n",
       "| A | 12 | 22 |\n",
       "| B | 15 | 29 |\n",
       "| C | 19 | 18 |\n",
       "| D | 19 | 12 |\n",
       "\n"
      ],
      "text/plain": [
       "  player year1 year2\n",
       "1 A      12    22   \n",
       "2 B      15    29   \n",
       "3 C      19    18   \n",
       "4 D      19    12   "
      ]
     },
     "metadata": {},
     "output_type": "display_data"
    },
    {
     "data": {
      "text/html": [
       "<table class=\"dataframe\">\n",
       "<caption>A tibble: 8 × 3</caption>\n",
       "<thead>\n",
       "\t<tr><th scope=col>player</th><th scope=col>year</th><th scope=col>points</th></tr>\n",
       "\t<tr><th scope=col>&lt;chr&gt;</th><th scope=col>&lt;chr&gt;</th><th scope=col>&lt;dbl&gt;</th></tr>\n",
       "</thead>\n",
       "<tbody>\n",
       "\t<tr><td>A</td><td>year1</td><td>12</td></tr>\n",
       "\t<tr><td>A</td><td>year2</td><td>22</td></tr>\n",
       "\t<tr><td>B</td><td>year1</td><td>15</td></tr>\n",
       "\t<tr><td>B</td><td>year2</td><td>29</td></tr>\n",
       "\t<tr><td>C</td><td>year1</td><td>19</td></tr>\n",
       "\t<tr><td>C</td><td>year2</td><td>18</td></tr>\n",
       "\t<tr><td>D</td><td>year1</td><td>19</td></tr>\n",
       "\t<tr><td>D</td><td>year2</td><td>12</td></tr>\n",
       "</tbody>\n",
       "</table>\n"
      ],
      "text/latex": [
       "A tibble: 8 × 3\n",
       "\\begin{tabular}{lll}\n",
       " player & year & points\\\\\n",
       " <chr> & <chr> & <dbl>\\\\\n",
       "\\hline\n",
       "\t A & year1 & 12\\\\\n",
       "\t A & year2 & 22\\\\\n",
       "\t B & year1 & 15\\\\\n",
       "\t B & year2 & 29\\\\\n",
       "\t C & year1 & 19\\\\\n",
       "\t C & year2 & 18\\\\\n",
       "\t D & year1 & 19\\\\\n",
       "\t D & year2 & 12\\\\\n",
       "\\end{tabular}\n"
      ],
      "text/markdown": [
       "\n",
       "A tibble: 8 × 3\n",
       "\n",
       "| player &lt;chr&gt; | year &lt;chr&gt; | points &lt;dbl&gt; |\n",
       "|---|---|---|\n",
       "| A | year1 | 12 |\n",
       "| A | year2 | 22 |\n",
       "| B | year1 | 15 |\n",
       "| B | year2 | 29 |\n",
       "| C | year1 | 19 |\n",
       "| C | year2 | 18 |\n",
       "| D | year1 | 19 |\n",
       "| D | year2 | 12 |\n",
       "\n"
      ],
      "text/plain": [
       "  player year  points\n",
       "1 A      year1 12    \n",
       "2 A      year2 22    \n",
       "3 B      year1 15    \n",
       "4 B      year2 29    \n",
       "5 C      year1 19    \n",
       "6 C      year2 18    \n",
       "7 D      year1 19    \n",
       "8 D      year2 12    "
      ]
     },
     "metadata": {},
     "output_type": "display_data"
    }
   ],
   "source": [
    "# Odzkoušení parametrů funkce pivot_longer na menším datasetu\n",
    "\n",
    "df <- data.frame(player=c('A', 'B', 'C', 'D'),\n",
    "                 year1=c(12, 15, 19, 19),\n",
    "                 year2=c(22, 29, 18, 12))\n",
    "df\n",
    "\n",
    "df %>% pivot_longer(cols=c('year1', 'year2'),\n",
    "                    names_to='year',\n",
    "                    values_to='points')"
   ]
  },
  {
   "cell_type": "code",
   "execution_count": 49,
   "id": "713f623d",
   "metadata": {},
   "outputs": [
    {
     "data": {
      "text/html": [
       "<table class=\"dataframe\">\n",
       "<caption>A tibble: 440 × 6</caption>\n",
       "<thead>\n",
       "\t<tr><th scope=col>date_of_speech</th><th scope=col>party</th><th scope=col>sadness</th><th scope=col>surprise</th><th scope=col>sentiment</th><th scope=col>hodnota</th></tr>\n",
       "\t<tr><th scope=col>&lt;date&gt;</th><th scope=col>&lt;chr&gt;</th><th scope=col>&lt;dbl&gt;</th><th scope=col>&lt;dbl&gt;</th><th scope=col>&lt;chr&gt;</th><th scope=col>&lt;dbl&gt;</th></tr>\n",
       "</thead>\n",
       "<tbody>\n",
       "\t<tr><td>1789-04-30</td><td>Unaffiliated         </td><td>2.457467</td><td>2.079395</td><td>anger       </td><td> 1.701323</td></tr>\n",
       "\t<tr><td>1789-04-30</td><td>Unaffiliated         </td><td>2.457467</td><td>2.079395</td><td>anticipation</td><td> 7.561437</td></tr>\n",
       "\t<tr><td>1789-04-30</td><td>Unaffiliated         </td><td>2.457467</td><td>2.079395</td><td>disgust     </td><td> 1.134216</td></tr>\n",
       "\t<tr><td>1789-04-30</td><td>Unaffiliated         </td><td>2.457467</td><td>2.079395</td><td>fear        </td><td> 4.725898</td></tr>\n",
       "\t<tr><td>1789-04-30</td><td>Unaffiliated         </td><td>2.457467</td><td>2.079395</td><td>joy         </td><td> 7.183365</td></tr>\n",
       "\t<tr><td>1789-04-30</td><td>Unaffiliated         </td><td>2.457467</td><td>2.079395</td><td>negative    </td><td> 7.939509</td></tr>\n",
       "\t<tr><td>1789-04-30</td><td>Unaffiliated         </td><td>2.457467</td><td>2.079395</td><td>positive    </td><td>20.982987</td></tr>\n",
       "\t<tr><td>1789-04-30</td><td>Unaffiliated         </td><td>2.457467</td><td>2.079395</td><td>trust       </td><td>12.665406</td></tr>\n",
       "\t<tr><td>1793-03-04</td><td>Unaffiliated         </td><td>1.960784</td><td>1.960784</td><td>anger       </td><td> 3.921569</td></tr>\n",
       "\t<tr><td>1793-03-04</td><td>Unaffiliated         </td><td>1.960784</td><td>1.960784</td><td>anticipation</td><td> 3.921569</td></tr>\n",
       "\t<tr><td>1793-03-04</td><td>Unaffiliated         </td><td>1.960784</td><td>1.960784</td><td>disgust     </td><td> 1.960784</td></tr>\n",
       "\t<tr><td>1793-03-04</td><td>Unaffiliated         </td><td>1.960784</td><td>1.960784</td><td>fear        </td><td> 7.843137</td></tr>\n",
       "\t<tr><td>1793-03-04</td><td>Unaffiliated         </td><td>1.960784</td><td>1.960784</td><td>joy         </td><td> 7.843137</td></tr>\n",
       "\t<tr><td>1793-03-04</td><td>Unaffiliated         </td><td>1.960784</td><td>1.960784</td><td>negative    </td><td> 7.843137</td></tr>\n",
       "\t<tr><td>1793-03-04</td><td>Unaffiliated         </td><td>1.960784</td><td>1.960784</td><td>positive    </td><td>31.372549</td></tr>\n",
       "\t<tr><td>1793-03-04</td><td>Unaffiliated         </td><td>1.960784</td><td>1.960784</td><td>trust       </td><td>21.568627</td></tr>\n",
       "\t<tr><td>1797-03-04</td><td>Federalist           </td><td>2.665122</td><td>2.433372</td><td>anger       </td><td> 3.360371</td></tr>\n",
       "\t<tr><td>1797-03-04</td><td>Federalist           </td><td>2.665122</td><td>2.433372</td><td>anticipation</td><td> 7.995365</td></tr>\n",
       "\t<tr><td>1797-03-04</td><td>Federalist           </td><td>2.665122</td><td>2.433372</td><td>disgust     </td><td> 2.433372</td></tr>\n",
       "\t<tr><td>1797-03-04</td><td>Federalist           </td><td>2.665122</td><td>2.433372</td><td>fear        </td><td> 5.909618</td></tr>\n",
       "\t<tr><td>1797-03-04</td><td>Federalist           </td><td>2.665122</td><td>2.433372</td><td>joy         </td><td> 9.385863</td></tr>\n",
       "\t<tr><td>1797-03-04</td><td>Federalist           </td><td>2.665122</td><td>2.433372</td><td>negative    </td><td> 9.849363</td></tr>\n",
       "\t<tr><td>1797-03-04</td><td>Federalist           </td><td>2.665122</td><td>2.433372</td><td>positive    </td><td>26.882966</td></tr>\n",
       "\t<tr><td>1797-03-04</td><td>Federalist           </td><td>2.665122</td><td>2.433372</td><td>trust       </td><td>19.003476</td></tr>\n",
       "\t<tr><td>1801-03-04</td><td>Democratic-Republican</td><td>4.258675</td><td>3.943218</td><td>anger       </td><td> 4.889590</td></tr>\n",
       "\t<tr><td>1801-03-04</td><td>Democratic-Republican</td><td>4.258675</td><td>3.943218</td><td>anticipation</td><td> 7.570978</td></tr>\n",
       "\t<tr><td>1801-03-04</td><td>Democratic-Republican</td><td>4.258675</td><td>3.943218</td><td>disgust     </td><td> 2.208202</td></tr>\n",
       "\t<tr><td>1801-03-04</td><td>Democratic-Republican</td><td>4.258675</td><td>3.943218</td><td>fear        </td><td> 8.832808</td></tr>\n",
       "\t<tr><td>1801-03-04</td><td>Democratic-Republican</td><td>4.258675</td><td>3.943218</td><td>joy         </td><td>10.252366</td></tr>\n",
       "\t<tr><td>1801-03-04</td><td>Democratic-Republican</td><td>4.258675</td><td>3.943218</td><td>negative    </td><td>10.410095</td></tr>\n",
       "\t<tr><td>...</td><td>...</td><td>...</td><td>...</td><td>...</td><td>...</td></tr>\n",
       "\t<tr><td>1993-01-20</td><td>Democratic</td><td>2.915952</td><td>3.602058</td><td>disgust     </td><td> 1.543739</td></tr>\n",
       "\t<tr><td>1993-01-20</td><td>Democratic</td><td>2.915952</td><td>3.602058</td><td>fear        </td><td> 8.061750</td></tr>\n",
       "\t<tr><td>1993-01-20</td><td>Democratic</td><td>2.915952</td><td>3.602058</td><td>joy         </td><td> 6.861063</td></tr>\n",
       "\t<tr><td>1993-01-20</td><td>Democratic</td><td>2.915952</td><td>3.602058</td><td>negative    </td><td> 8.233276</td></tr>\n",
       "\t<tr><td>1993-01-20</td><td>Democratic</td><td>2.915952</td><td>3.602058</td><td>positive    </td><td>19.039451</td></tr>\n",
       "\t<tr><td>1993-01-20</td><td>Democratic</td><td>2.915952</td><td>3.602058</td><td>trust       </td><td>12.006861</td></tr>\n",
       "\t<tr><td>1997-01-20</td><td>Democratic</td><td>2.988792</td><td>3.486924</td><td>anger       </td><td> 4.109589</td></tr>\n",
       "\t<tr><td>1997-01-20</td><td>Democratic</td><td>2.988792</td><td>3.486924</td><td>anticipation</td><td> 9.339975</td></tr>\n",
       "\t<tr><td>1997-01-20</td><td>Democratic</td><td>2.988792</td><td>3.486924</td><td>disgust     </td><td> 2.490660</td></tr>\n",
       "\t<tr><td>1997-01-20</td><td>Democratic</td><td>2.988792</td><td>3.486924</td><td>fear        </td><td> 6.849315</td></tr>\n",
       "\t<tr><td>1997-01-20</td><td>Democratic</td><td>2.988792</td><td>3.486924</td><td>joy         </td><td> 7.970112</td></tr>\n",
       "\t<tr><td>1997-01-20</td><td>Democratic</td><td>2.988792</td><td>3.486924</td><td>negative    </td><td> 8.717310</td></tr>\n",
       "\t<tr><td>1997-01-20</td><td>Democratic</td><td>2.988792</td><td>3.486924</td><td>positive    </td><td>21.295143</td></tr>\n",
       "\t<tr><td>1997-01-20</td><td>Democratic</td><td>2.988792</td><td>3.486924</td><td>trust       </td><td>12.079701</td></tr>\n",
       "\t<tr><td>2001-01-20</td><td>Republican</td><td>4.026846</td><td>2.684564</td><td>anger       </td><td> 4.194631</td></tr>\n",
       "\t<tr><td>2001-01-20</td><td>Republican</td><td>4.026846</td><td>2.684564</td><td>anticipation</td><td> 8.724832</td></tr>\n",
       "\t<tr><td>2001-01-20</td><td>Republican</td><td>4.026846</td><td>2.684564</td><td>disgust     </td><td> 2.181208</td></tr>\n",
       "\t<tr><td>2001-01-20</td><td>Republican</td><td>4.026846</td><td>2.684564</td><td>fear        </td><td> 7.718121</td></tr>\n",
       "\t<tr><td>2001-01-20</td><td>Republican</td><td>4.026846</td><td>2.684564</td><td>joy         </td><td> 9.731544</td></tr>\n",
       "\t<tr><td>2001-01-20</td><td>Republican</td><td>4.026846</td><td>2.684564</td><td>negative    </td><td>10.067114</td></tr>\n",
       "\t<tr><td>2001-01-20</td><td>Republican</td><td>4.026846</td><td>2.684564</td><td>positive    </td><td>24.328859</td></tr>\n",
       "\t<tr><td>2001-01-20</td><td>Republican</td><td>4.026846</td><td>2.684564</td><td>trust       </td><td>15.939597</td></tr>\n",
       "\t<tr><td>2005-01-20</td><td>Republican</td><td>4.594921</td><td>4.594921</td><td>anger       </td><td> 4.353083</td></tr>\n",
       "\t<tr><td>2005-01-20</td><td>Republican</td><td>4.594921</td><td>4.594921</td><td>anticipation</td><td> 9.189843</td></tr>\n",
       "\t<tr><td>2005-01-20</td><td>Republican</td><td>4.594921</td><td>4.594921</td><td>disgust     </td><td> 2.055623</td></tr>\n",
       "\t<tr><td>2005-01-20</td><td>Republican</td><td>4.594921</td><td>4.594921</td><td>fear        </td><td> 7.980653</td></tr>\n",
       "\t<tr><td>2005-01-20</td><td>Republican</td><td>4.594921</td><td>4.594921</td><td>joy         </td><td>10.761790</td></tr>\n",
       "\t<tr><td>2005-01-20</td><td>Republican</td><td>4.594921</td><td>4.594921</td><td>negative    </td><td> 9.068924</td></tr>\n",
       "\t<tr><td>2005-01-20</td><td>Republican</td><td>4.594921</td><td>4.594921</td><td>positive    </td><td>25.151149</td></tr>\n",
       "\t<tr><td>2005-01-20</td><td>Republican</td><td>4.594921</td><td>4.594921</td><td>trust       </td><td>18.016929</td></tr>\n",
       "</tbody>\n",
       "</table>\n"
      ],
      "text/latex": [
       "A tibble: 440 × 6\n",
       "\\begin{tabular}{llllll}\n",
       " date\\_of\\_speech & party & sadness & surprise & sentiment & hodnota\\\\\n",
       " <date> & <chr> & <dbl> & <dbl> & <chr> & <dbl>\\\\\n",
       "\\hline\n",
       "\t 1789-04-30 & Unaffiliated          & 2.457467 & 2.079395 & anger        &  1.701323\\\\\n",
       "\t 1789-04-30 & Unaffiliated          & 2.457467 & 2.079395 & anticipation &  7.561437\\\\\n",
       "\t 1789-04-30 & Unaffiliated          & 2.457467 & 2.079395 & disgust      &  1.134216\\\\\n",
       "\t 1789-04-30 & Unaffiliated          & 2.457467 & 2.079395 & fear         &  4.725898\\\\\n",
       "\t 1789-04-30 & Unaffiliated          & 2.457467 & 2.079395 & joy          &  7.183365\\\\\n",
       "\t 1789-04-30 & Unaffiliated          & 2.457467 & 2.079395 & negative     &  7.939509\\\\\n",
       "\t 1789-04-30 & Unaffiliated          & 2.457467 & 2.079395 & positive     & 20.982987\\\\\n",
       "\t 1789-04-30 & Unaffiliated          & 2.457467 & 2.079395 & trust        & 12.665406\\\\\n",
       "\t 1793-03-04 & Unaffiliated          & 1.960784 & 1.960784 & anger        &  3.921569\\\\\n",
       "\t 1793-03-04 & Unaffiliated          & 1.960784 & 1.960784 & anticipation &  3.921569\\\\\n",
       "\t 1793-03-04 & Unaffiliated          & 1.960784 & 1.960784 & disgust      &  1.960784\\\\\n",
       "\t 1793-03-04 & Unaffiliated          & 1.960784 & 1.960784 & fear         &  7.843137\\\\\n",
       "\t 1793-03-04 & Unaffiliated          & 1.960784 & 1.960784 & joy          &  7.843137\\\\\n",
       "\t 1793-03-04 & Unaffiliated          & 1.960784 & 1.960784 & negative     &  7.843137\\\\\n",
       "\t 1793-03-04 & Unaffiliated          & 1.960784 & 1.960784 & positive     & 31.372549\\\\\n",
       "\t 1793-03-04 & Unaffiliated          & 1.960784 & 1.960784 & trust        & 21.568627\\\\\n",
       "\t 1797-03-04 & Federalist            & 2.665122 & 2.433372 & anger        &  3.360371\\\\\n",
       "\t 1797-03-04 & Federalist            & 2.665122 & 2.433372 & anticipation &  7.995365\\\\\n",
       "\t 1797-03-04 & Federalist            & 2.665122 & 2.433372 & disgust      &  2.433372\\\\\n",
       "\t 1797-03-04 & Federalist            & 2.665122 & 2.433372 & fear         &  5.909618\\\\\n",
       "\t 1797-03-04 & Federalist            & 2.665122 & 2.433372 & joy          &  9.385863\\\\\n",
       "\t 1797-03-04 & Federalist            & 2.665122 & 2.433372 & negative     &  9.849363\\\\\n",
       "\t 1797-03-04 & Federalist            & 2.665122 & 2.433372 & positive     & 26.882966\\\\\n",
       "\t 1797-03-04 & Federalist            & 2.665122 & 2.433372 & trust        & 19.003476\\\\\n",
       "\t 1801-03-04 & Democratic-Republican & 4.258675 & 3.943218 & anger        &  4.889590\\\\\n",
       "\t 1801-03-04 & Democratic-Republican & 4.258675 & 3.943218 & anticipation &  7.570978\\\\\n",
       "\t 1801-03-04 & Democratic-Republican & 4.258675 & 3.943218 & disgust      &  2.208202\\\\\n",
       "\t 1801-03-04 & Democratic-Republican & 4.258675 & 3.943218 & fear         &  8.832808\\\\\n",
       "\t 1801-03-04 & Democratic-Republican & 4.258675 & 3.943218 & joy          & 10.252366\\\\\n",
       "\t 1801-03-04 & Democratic-Republican & 4.258675 & 3.943218 & negative     & 10.410095\\\\\n",
       "\t ... & ... & ... & ... & ... & ...\\\\\n",
       "\t 1993-01-20 & Democratic & 2.915952 & 3.602058 & disgust      &  1.543739\\\\\n",
       "\t 1993-01-20 & Democratic & 2.915952 & 3.602058 & fear         &  8.061750\\\\\n",
       "\t 1993-01-20 & Democratic & 2.915952 & 3.602058 & joy          &  6.861063\\\\\n",
       "\t 1993-01-20 & Democratic & 2.915952 & 3.602058 & negative     &  8.233276\\\\\n",
       "\t 1993-01-20 & Democratic & 2.915952 & 3.602058 & positive     & 19.039451\\\\\n",
       "\t 1993-01-20 & Democratic & 2.915952 & 3.602058 & trust        & 12.006861\\\\\n",
       "\t 1997-01-20 & Democratic & 2.988792 & 3.486924 & anger        &  4.109589\\\\\n",
       "\t 1997-01-20 & Democratic & 2.988792 & 3.486924 & anticipation &  9.339975\\\\\n",
       "\t 1997-01-20 & Democratic & 2.988792 & 3.486924 & disgust      &  2.490660\\\\\n",
       "\t 1997-01-20 & Democratic & 2.988792 & 3.486924 & fear         &  6.849315\\\\\n",
       "\t 1997-01-20 & Democratic & 2.988792 & 3.486924 & joy          &  7.970112\\\\\n",
       "\t 1997-01-20 & Democratic & 2.988792 & 3.486924 & negative     &  8.717310\\\\\n",
       "\t 1997-01-20 & Democratic & 2.988792 & 3.486924 & positive     & 21.295143\\\\\n",
       "\t 1997-01-20 & Democratic & 2.988792 & 3.486924 & trust        & 12.079701\\\\\n",
       "\t 2001-01-20 & Republican & 4.026846 & 2.684564 & anger        &  4.194631\\\\\n",
       "\t 2001-01-20 & Republican & 4.026846 & 2.684564 & anticipation &  8.724832\\\\\n",
       "\t 2001-01-20 & Republican & 4.026846 & 2.684564 & disgust      &  2.181208\\\\\n",
       "\t 2001-01-20 & Republican & 4.026846 & 2.684564 & fear         &  7.718121\\\\\n",
       "\t 2001-01-20 & Republican & 4.026846 & 2.684564 & joy          &  9.731544\\\\\n",
       "\t 2001-01-20 & Republican & 4.026846 & 2.684564 & negative     & 10.067114\\\\\n",
       "\t 2001-01-20 & Republican & 4.026846 & 2.684564 & positive     & 24.328859\\\\\n",
       "\t 2001-01-20 & Republican & 4.026846 & 2.684564 & trust        & 15.939597\\\\\n",
       "\t 2005-01-20 & Republican & 4.594921 & 4.594921 & anger        &  4.353083\\\\\n",
       "\t 2005-01-20 & Republican & 4.594921 & 4.594921 & anticipation &  9.189843\\\\\n",
       "\t 2005-01-20 & Republican & 4.594921 & 4.594921 & disgust      &  2.055623\\\\\n",
       "\t 2005-01-20 & Republican & 4.594921 & 4.594921 & fear         &  7.980653\\\\\n",
       "\t 2005-01-20 & Republican & 4.594921 & 4.594921 & joy          & 10.761790\\\\\n",
       "\t 2005-01-20 & Republican & 4.594921 & 4.594921 & negative     &  9.068924\\\\\n",
       "\t 2005-01-20 & Republican & 4.594921 & 4.594921 & positive     & 25.151149\\\\\n",
       "\t 2005-01-20 & Republican & 4.594921 & 4.594921 & trust        & 18.016929\\\\\n",
       "\\end{tabular}\n"
      ],
      "text/markdown": [
       "\n",
       "A tibble: 440 × 6\n",
       "\n",
       "| date_of_speech &lt;date&gt; | party &lt;chr&gt; | sadness &lt;dbl&gt; | surprise &lt;dbl&gt; | sentiment &lt;chr&gt; | hodnota &lt;dbl&gt; |\n",
       "|---|---|---|---|---|---|\n",
       "| 1789-04-30 | Unaffiliated          | 2.457467 | 2.079395 | anger        |  1.701323 |\n",
       "| 1789-04-30 | Unaffiliated          | 2.457467 | 2.079395 | anticipation |  7.561437 |\n",
       "| 1789-04-30 | Unaffiliated          | 2.457467 | 2.079395 | disgust      |  1.134216 |\n",
       "| 1789-04-30 | Unaffiliated          | 2.457467 | 2.079395 | fear         |  4.725898 |\n",
       "| 1789-04-30 | Unaffiliated          | 2.457467 | 2.079395 | joy          |  7.183365 |\n",
       "| 1789-04-30 | Unaffiliated          | 2.457467 | 2.079395 | negative     |  7.939509 |\n",
       "| 1789-04-30 | Unaffiliated          | 2.457467 | 2.079395 | positive     | 20.982987 |\n",
       "| 1789-04-30 | Unaffiliated          | 2.457467 | 2.079395 | trust        | 12.665406 |\n",
       "| 1793-03-04 | Unaffiliated          | 1.960784 | 1.960784 | anger        |  3.921569 |\n",
       "| 1793-03-04 | Unaffiliated          | 1.960784 | 1.960784 | anticipation |  3.921569 |\n",
       "| 1793-03-04 | Unaffiliated          | 1.960784 | 1.960784 | disgust      |  1.960784 |\n",
       "| 1793-03-04 | Unaffiliated          | 1.960784 | 1.960784 | fear         |  7.843137 |\n",
       "| 1793-03-04 | Unaffiliated          | 1.960784 | 1.960784 | joy          |  7.843137 |\n",
       "| 1793-03-04 | Unaffiliated          | 1.960784 | 1.960784 | negative     |  7.843137 |\n",
       "| 1793-03-04 | Unaffiliated          | 1.960784 | 1.960784 | positive     | 31.372549 |\n",
       "| 1793-03-04 | Unaffiliated          | 1.960784 | 1.960784 | trust        | 21.568627 |\n",
       "| 1797-03-04 | Federalist            | 2.665122 | 2.433372 | anger        |  3.360371 |\n",
       "| 1797-03-04 | Federalist            | 2.665122 | 2.433372 | anticipation |  7.995365 |\n",
       "| 1797-03-04 | Federalist            | 2.665122 | 2.433372 | disgust      |  2.433372 |\n",
       "| 1797-03-04 | Federalist            | 2.665122 | 2.433372 | fear         |  5.909618 |\n",
       "| 1797-03-04 | Federalist            | 2.665122 | 2.433372 | joy          |  9.385863 |\n",
       "| 1797-03-04 | Federalist            | 2.665122 | 2.433372 | negative     |  9.849363 |\n",
       "| 1797-03-04 | Federalist            | 2.665122 | 2.433372 | positive     | 26.882966 |\n",
       "| 1797-03-04 | Federalist            | 2.665122 | 2.433372 | trust        | 19.003476 |\n",
       "| 1801-03-04 | Democratic-Republican | 4.258675 | 3.943218 | anger        |  4.889590 |\n",
       "| 1801-03-04 | Democratic-Republican | 4.258675 | 3.943218 | anticipation |  7.570978 |\n",
       "| 1801-03-04 | Democratic-Republican | 4.258675 | 3.943218 | disgust      |  2.208202 |\n",
       "| 1801-03-04 | Democratic-Republican | 4.258675 | 3.943218 | fear         |  8.832808 |\n",
       "| 1801-03-04 | Democratic-Republican | 4.258675 | 3.943218 | joy          | 10.252366 |\n",
       "| 1801-03-04 | Democratic-Republican | 4.258675 | 3.943218 | negative     | 10.410095 |\n",
       "| ... | ... | ... | ... | ... | ... |\n",
       "| 1993-01-20 | Democratic | 2.915952 | 3.602058 | disgust      |  1.543739 |\n",
       "| 1993-01-20 | Democratic | 2.915952 | 3.602058 | fear         |  8.061750 |\n",
       "| 1993-01-20 | Democratic | 2.915952 | 3.602058 | joy          |  6.861063 |\n",
       "| 1993-01-20 | Democratic | 2.915952 | 3.602058 | negative     |  8.233276 |\n",
       "| 1993-01-20 | Democratic | 2.915952 | 3.602058 | positive     | 19.039451 |\n",
       "| 1993-01-20 | Democratic | 2.915952 | 3.602058 | trust        | 12.006861 |\n",
       "| 1997-01-20 | Democratic | 2.988792 | 3.486924 | anger        |  4.109589 |\n",
       "| 1997-01-20 | Democratic | 2.988792 | 3.486924 | anticipation |  9.339975 |\n",
       "| 1997-01-20 | Democratic | 2.988792 | 3.486924 | disgust      |  2.490660 |\n",
       "| 1997-01-20 | Democratic | 2.988792 | 3.486924 | fear         |  6.849315 |\n",
       "| 1997-01-20 | Democratic | 2.988792 | 3.486924 | joy          |  7.970112 |\n",
       "| 1997-01-20 | Democratic | 2.988792 | 3.486924 | negative     |  8.717310 |\n",
       "| 1997-01-20 | Democratic | 2.988792 | 3.486924 | positive     | 21.295143 |\n",
       "| 1997-01-20 | Democratic | 2.988792 | 3.486924 | trust        | 12.079701 |\n",
       "| 2001-01-20 | Republican | 4.026846 | 2.684564 | anger        |  4.194631 |\n",
       "| 2001-01-20 | Republican | 4.026846 | 2.684564 | anticipation |  8.724832 |\n",
       "| 2001-01-20 | Republican | 4.026846 | 2.684564 | disgust      |  2.181208 |\n",
       "| 2001-01-20 | Republican | 4.026846 | 2.684564 | fear         |  7.718121 |\n",
       "| 2001-01-20 | Republican | 4.026846 | 2.684564 | joy          |  9.731544 |\n",
       "| 2001-01-20 | Republican | 4.026846 | 2.684564 | negative     | 10.067114 |\n",
       "| 2001-01-20 | Republican | 4.026846 | 2.684564 | positive     | 24.328859 |\n",
       "| 2001-01-20 | Republican | 4.026846 | 2.684564 | trust        | 15.939597 |\n",
       "| 2005-01-20 | Republican | 4.594921 | 4.594921 | anger        |  4.353083 |\n",
       "| 2005-01-20 | Republican | 4.594921 | 4.594921 | anticipation |  9.189843 |\n",
       "| 2005-01-20 | Republican | 4.594921 | 4.594921 | disgust      |  2.055623 |\n",
       "| 2005-01-20 | Republican | 4.594921 | 4.594921 | fear         |  7.980653 |\n",
       "| 2005-01-20 | Republican | 4.594921 | 4.594921 | joy          | 10.761790 |\n",
       "| 2005-01-20 | Republican | 4.594921 | 4.594921 | negative     |  9.068924 |\n",
       "| 2005-01-20 | Republican | 4.594921 | 4.594921 | positive     | 25.151149 |\n",
       "| 2005-01-20 | Republican | 4.594921 | 4.594921 | trust        | 18.016929 |\n",
       "\n"
      ],
      "text/plain": [
       "    date_of_speech party                 sadness  surprise sentiment   \n",
       "1   1789-04-30     Unaffiliated          2.457467 2.079395 anger       \n",
       "2   1789-04-30     Unaffiliated          2.457467 2.079395 anticipation\n",
       "3   1789-04-30     Unaffiliated          2.457467 2.079395 disgust     \n",
       "4   1789-04-30     Unaffiliated          2.457467 2.079395 fear        \n",
       "5   1789-04-30     Unaffiliated          2.457467 2.079395 joy         \n",
       "6   1789-04-30     Unaffiliated          2.457467 2.079395 negative    \n",
       "7   1789-04-30     Unaffiliated          2.457467 2.079395 positive    \n",
       "8   1789-04-30     Unaffiliated          2.457467 2.079395 trust       \n",
       "9   1793-03-04     Unaffiliated          1.960784 1.960784 anger       \n",
       "10  1793-03-04     Unaffiliated          1.960784 1.960784 anticipation\n",
       "11  1793-03-04     Unaffiliated          1.960784 1.960784 disgust     \n",
       "12  1793-03-04     Unaffiliated          1.960784 1.960784 fear        \n",
       "13  1793-03-04     Unaffiliated          1.960784 1.960784 joy         \n",
       "14  1793-03-04     Unaffiliated          1.960784 1.960784 negative    \n",
       "15  1793-03-04     Unaffiliated          1.960784 1.960784 positive    \n",
       "16  1793-03-04     Unaffiliated          1.960784 1.960784 trust       \n",
       "17  1797-03-04     Federalist            2.665122 2.433372 anger       \n",
       "18  1797-03-04     Federalist            2.665122 2.433372 anticipation\n",
       "19  1797-03-04     Federalist            2.665122 2.433372 disgust     \n",
       "20  1797-03-04     Federalist            2.665122 2.433372 fear        \n",
       "21  1797-03-04     Federalist            2.665122 2.433372 joy         \n",
       "22  1797-03-04     Federalist            2.665122 2.433372 negative    \n",
       "23  1797-03-04     Federalist            2.665122 2.433372 positive    \n",
       "24  1797-03-04     Federalist            2.665122 2.433372 trust       \n",
       "25  1801-03-04     Democratic-Republican 4.258675 3.943218 anger       \n",
       "26  1801-03-04     Democratic-Republican 4.258675 3.943218 anticipation\n",
       "27  1801-03-04     Democratic-Republican 4.258675 3.943218 disgust     \n",
       "28  1801-03-04     Democratic-Republican 4.258675 3.943218 fear        \n",
       "29  1801-03-04     Democratic-Republican 4.258675 3.943218 joy         \n",
       "30  1801-03-04     Democratic-Republican 4.258675 3.943218 negative    \n",
       "... ...            ...                   ...      ...      ...         \n",
       "411 1993-01-20     Democratic            2.915952 3.602058 disgust     \n",
       "412 1993-01-20     Democratic            2.915952 3.602058 fear        \n",
       "413 1993-01-20     Democratic            2.915952 3.602058 joy         \n",
       "414 1993-01-20     Democratic            2.915952 3.602058 negative    \n",
       "415 1993-01-20     Democratic            2.915952 3.602058 positive    \n",
       "416 1993-01-20     Democratic            2.915952 3.602058 trust       \n",
       "417 1997-01-20     Democratic            2.988792 3.486924 anger       \n",
       "418 1997-01-20     Democratic            2.988792 3.486924 anticipation\n",
       "419 1997-01-20     Democratic            2.988792 3.486924 disgust     \n",
       "420 1997-01-20     Democratic            2.988792 3.486924 fear        \n",
       "421 1997-01-20     Democratic            2.988792 3.486924 joy         \n",
       "422 1997-01-20     Democratic            2.988792 3.486924 negative    \n",
       "423 1997-01-20     Democratic            2.988792 3.486924 positive    \n",
       "424 1997-01-20     Democratic            2.988792 3.486924 trust       \n",
       "425 2001-01-20     Republican            4.026846 2.684564 anger       \n",
       "426 2001-01-20     Republican            4.026846 2.684564 anticipation\n",
       "427 2001-01-20     Republican            4.026846 2.684564 disgust     \n",
       "428 2001-01-20     Republican            4.026846 2.684564 fear        \n",
       "429 2001-01-20     Republican            4.026846 2.684564 joy         \n",
       "430 2001-01-20     Republican            4.026846 2.684564 negative    \n",
       "431 2001-01-20     Republican            4.026846 2.684564 positive    \n",
       "432 2001-01-20     Republican            4.026846 2.684564 trust       \n",
       "433 2005-01-20     Republican            4.594921 4.594921 anger       \n",
       "434 2005-01-20     Republican            4.594921 4.594921 anticipation\n",
       "435 2005-01-20     Republican            4.594921 4.594921 disgust     \n",
       "436 2005-01-20     Republican            4.594921 4.594921 fear        \n",
       "437 2005-01-20     Republican            4.594921 4.594921 joy         \n",
       "438 2005-01-20     Republican            4.594921 4.594921 negative    \n",
       "439 2005-01-20     Republican            4.594921 4.594921 positive    \n",
       "440 2005-01-20     Republican            4.594921 4.594921 trust       \n",
       "    hodnota  \n",
       "1    1.701323\n",
       "2    7.561437\n",
       "3    1.134216\n",
       "4    4.725898\n",
       "5    7.183365\n",
       "6    7.939509\n",
       "7   20.982987\n",
       "8   12.665406\n",
       "9    3.921569\n",
       "10   3.921569\n",
       "11   1.960784\n",
       "12   7.843137\n",
       "13   7.843137\n",
       "14   7.843137\n",
       "15  31.372549\n",
       "16  21.568627\n",
       "17   3.360371\n",
       "18   7.995365\n",
       "19   2.433372\n",
       "20   5.909618\n",
       "21   9.385863\n",
       "22   9.849363\n",
       "23  26.882966\n",
       "24  19.003476\n",
       "25   4.889590\n",
       "26   7.570978\n",
       "27   2.208202\n",
       "28   8.832808\n",
       "29  10.252366\n",
       "30  10.410095\n",
       "... ...      \n",
       "411  1.543739\n",
       "412  8.061750\n",
       "413  6.861063\n",
       "414  8.233276\n",
       "415 19.039451\n",
       "416 12.006861\n",
       "417  4.109589\n",
       "418  9.339975\n",
       "419  2.490660\n",
       "420  6.849315\n",
       "421  7.970112\n",
       "422  8.717310\n",
       "423 21.295143\n",
       "424 12.079701\n",
       "425  4.194631\n",
       "426  8.724832\n",
       "427  2.181208\n",
       "428  7.718121\n",
       "429  9.731544\n",
       "430 10.067114\n",
       "431 24.328859\n",
       "432 15.939597\n",
       "433  4.353083\n",
       "434  9.189843\n",
       "435  2.055623\n",
       "436  7.980653\n",
       "437 10.761790\n",
       "438  9.068924\n",
       "439 25.151149\n",
       "440 18.016929"
      ]
     },
     "metadata": {},
     "output_type": "display_data"
    }
   ],
   "source": [
    "# Ukol 8: Vykresleni sentimentu v case\n",
    "\n",
    "speeches_final %>% \n",
    "  select(date_of_speech, party, anger, anticipation,disgust,fear,joy,\n",
    "         negative,positive,sadness,surprise,trust)  %>%\n",
    "  pivot_longer(cols = c(\"anger\",\"anticipation\",\"disgust\",\"fear\",\"joy\",\n",
    "                        \"negative\",\"positive\",\"trust\"), \n",
    "           names_to = \"sentiment\",\n",
    "           values_to = \"hodnota\"\n",
    "              )"
   ]
  },
  {
   "cell_type": "code",
   "execution_count": 77,
   "id": "e4449c0e",
   "metadata": {},
   "outputs": [
    {
     "data": {
      "image/png": "[encoded data removed]",
      "text/plain": [
       "plot without title"
      ]
     },
     "metadata": {
      "image/png": {
       "height": 420,
       "width": 420
      }
     },
     "output_type": "display_data"
    }
   ],
   "source": [
    "speeches_final %>% \n",
    "  select(date_of_speech, party, anger, anticipation,disgust,fear,joy,\n",
    "         negative,positive,sadness,surprise,trust)  %>%\n",
    "  pivot_longer(cols = c(\"anger\",\"anticipation\",\"disgust\",\"fear\",\"joy\",\n",
    "                        \"negative\",\"positive\",\"trust\"), \n",
    "               names_to = \"sentiment\",\n",
    "               values_to = \"hodnota\"\n",
    "  ) %>% \n",
    "  ggplot(aes(x=date_of_speech, y=hodnota)) + # na horizontalni ose bude \n",
    "  geom_line() +\n",
    "  geom_point(aes(color=party)) +  # pridejte body v barve politicke strany\n",
    "  facet_wrap(~sentiment) # rozdelte graf na zaklade sentimentu"
   ]
  },
  {
   "cell_type": "code",
   "execution_count": 195,
   "id": "b2ee7801",
   "metadata": {
    "scrolled": true
   },
   "outputs": [
    {
     "data": {
      "text/html": [
       "<table class=\"dataframe\">\n",
       "<caption>A tibble: 6 × 13</caption>\n",
       "<thead>\n",
       "\t<tr><th scope=col>no_words</th><th scope=col>unique_words</th><th scope=col>anger</th><th scope=col>anticipation</th><th scope=col>disgust</th><th scope=col>fear</th><th scope=col>joy</th><th scope=col>negative</th><th scope=col>positive</th><th scope=col>sadness</th><th scope=col>surprise</th><th scope=col>trust</th><th scope=col>party</th></tr>\n",
       "\t<tr><th scope=col>&lt;int&gt;</th><th scope=col>&lt;dbl&gt;</th><th scope=col>&lt;dbl&gt;</th><th scope=col>&lt;dbl&gt;</th><th scope=col>&lt;dbl&gt;</th><th scope=col>&lt;dbl&gt;</th><th scope=col>&lt;dbl&gt;</th><th scope=col>&lt;dbl&gt;</th><th scope=col>&lt;dbl&gt;</th><th scope=col>&lt;dbl&gt;</th><th scope=col>&lt;dbl&gt;</th><th scope=col>&lt;dbl&gt;</th><th scope=col>&lt;chr&gt;</th></tr>\n",
       "</thead>\n",
       "<tbody>\n",
       "\t<tr><td> 448</td><td>84.59821</td><td>3.571429</td><td>8.482143</td><td>1.785714</td><td>6.026786</td><td>6.696429</td><td> 8.035714</td><td>29.68750</td><td>2.008929</td><td>2.455357</td><td>16.74107</td><td>Democratic</td></tr>\n",
       "\t<tr><td> 433</td><td>74.59584</td><td>4.157044</td><td>9.468822</td><td>2.078522</td><td>7.390300</td><td>6.004619</td><td>10.854503</td><td>18.70670</td><td>3.695150</td><td>2.771363</td><td>13.62587</td><td>Democratic</td></tr>\n",
       "\t<tr><td>1505</td><td>66.64452</td><td>4.318937</td><td>7.441860</td><td>2.458472</td><td>7.774086</td><td>7.840532</td><td>11.029900</td><td>21.12957</td><td>3.920266</td><td>2.524917</td><td>13.28904</td><td>Democratic</td></tr>\n",
       "\t<tr><td>1847</td><td>55.54954</td><td>3.410937</td><td>6.280455</td><td>2.165674</td><td>6.334597</td><td>4.981050</td><td>10.395236</td><td>17.48782</td><td>2.707093</td><td>1.894965</td><td>12.61505</td><td>Democratic</td></tr>\n",
       "\t<tr><td>1253</td><td>70.31125</td><td>3.830806</td><td>7.102953</td><td>1.995211</td><td>5.666401</td><td>6.384677</td><td>10.375100</td><td>21.78771</td><td>3.671189</td><td>2.553871</td><td>13.80686</td><td>Democratic</td></tr>\n",
       "\t<tr><td>1063</td><td>63.59360</td><td>4.609595</td><td>8.936971</td><td>2.822201</td><td>6.961430</td><td>7.337723</td><td>10.912512</td><td>21.91910</td><td>4.139229</td><td>2.728128</td><td>13.54657</td><td>Democratic</td></tr>\n",
       "</tbody>\n",
       "</table>\n"
      ],
      "text/latex": [
       "A tibble: 6 × 13\n",
       "\\begin{tabular}{lllllllllllll}\n",
       " no\\_words & unique\\_words & anger & anticipation & disgust & fear & joy & negative & positive & sadness & surprise & trust & party\\\\\n",
       " <int> & <dbl> & <dbl> & <dbl> & <dbl> & <dbl> & <dbl> & <dbl> & <dbl> & <dbl> & <dbl> & <dbl> & <chr>\\\\\n",
       "\\hline\n",
       "\t  448 & 84.59821 & 3.571429 & 8.482143 & 1.785714 & 6.026786 & 6.696429 &  8.035714 & 29.68750 & 2.008929 & 2.455357 & 16.74107 & Democratic\\\\\n",
       "\t  433 & 74.59584 & 4.157044 & 9.468822 & 2.078522 & 7.390300 & 6.004619 & 10.854503 & 18.70670 & 3.695150 & 2.771363 & 13.62587 & Democratic\\\\\n",
       "\t 1505 & 66.64452 & 4.318937 & 7.441860 & 2.458472 & 7.774086 & 7.840532 & 11.029900 & 21.12957 & 3.920266 & 2.524917 & 13.28904 & Democratic\\\\\n",
       "\t 1847 & 55.54954 & 3.410937 & 6.280455 & 2.165674 & 6.334597 & 4.981050 & 10.395236 & 17.48782 & 2.707093 & 1.894965 & 12.61505 & Democratic\\\\\n",
       "\t 1253 & 70.31125 & 3.830806 & 7.102953 & 1.995211 & 5.666401 & 6.384677 & 10.375100 & 21.78771 & 3.671189 & 2.553871 & 13.80686 & Democratic\\\\\n",
       "\t 1063 & 63.59360 & 4.609595 & 8.936971 & 2.822201 & 6.961430 & 7.337723 & 10.912512 & 21.91910 & 4.139229 & 2.728128 & 13.54657 & Democratic\\\\\n",
       "\\end{tabular}\n"
      ],
      "text/markdown": [
       "\n",
       "A tibble: 6 × 13\n",
       "\n",
       "| no_words &lt;int&gt; | unique_words &lt;dbl&gt; | anger &lt;dbl&gt; | anticipation &lt;dbl&gt; | disgust &lt;dbl&gt; | fear &lt;dbl&gt; | joy &lt;dbl&gt; | negative &lt;dbl&gt; | positive &lt;dbl&gt; | sadness &lt;dbl&gt; | surprise &lt;dbl&gt; | trust &lt;dbl&gt; | party &lt;chr&gt; |\n",
       "|---|---|---|---|---|---|---|---|---|---|---|---|---|\n",
       "|  448 | 84.59821 | 3.571429 | 8.482143 | 1.785714 | 6.026786 | 6.696429 |  8.035714 | 29.68750 | 2.008929 | 2.455357 | 16.74107 | Democratic |\n",
       "|  433 | 74.59584 | 4.157044 | 9.468822 | 2.078522 | 7.390300 | 6.004619 | 10.854503 | 18.70670 | 3.695150 | 2.771363 | 13.62587 | Democratic |\n",
       "| 1505 | 66.64452 | 4.318937 | 7.441860 | 2.458472 | 7.774086 | 7.840532 | 11.029900 | 21.12957 | 3.920266 | 2.524917 | 13.28904 | Democratic |\n",
       "| 1847 | 55.54954 | 3.410937 | 6.280455 | 2.165674 | 6.334597 | 4.981050 | 10.395236 | 17.48782 | 2.707093 | 1.894965 | 12.61505 | Democratic |\n",
       "| 1253 | 70.31125 | 3.830806 | 7.102953 | 1.995211 | 5.666401 | 6.384677 | 10.375100 | 21.78771 | 3.671189 | 2.553871 | 13.80686 | Democratic |\n",
       "| 1063 | 63.59360 | 4.609595 | 8.936971 | 2.822201 | 6.961430 | 7.337723 | 10.912512 | 21.91910 | 4.139229 | 2.728128 | 13.54657 | Democratic |\n",
       "\n"
      ],
      "text/plain": [
       "  no_words unique_words anger    anticipation disgust  fear     joy     \n",
       "1  448     84.59821     3.571429 8.482143     1.785714 6.026786 6.696429\n",
       "2  433     74.59584     4.157044 9.468822     2.078522 7.390300 6.004619\n",
       "3 1505     66.64452     4.318937 7.441860     2.458472 7.774086 7.840532\n",
       "4 1847     55.54954     3.410937 6.280455     2.165674 6.334597 4.981050\n",
       "5 1253     70.31125     3.830806 7.102953     1.995211 5.666401 6.384677\n",
       "6 1063     63.59360     4.609595 8.936971     2.822201 6.961430 7.337723\n",
       "  negative  positive sadness  surprise trust    party     \n",
       "1  8.035714 29.68750 2.008929 2.455357 16.74107 Democratic\n",
       "2 10.854503 18.70670 3.695150 2.771363 13.62587 Democratic\n",
       "3 11.029900 21.12957 3.920266 2.524917 13.28904 Democratic\n",
       "4 10.395236 17.48782 2.707093 1.894965 12.61505 Democratic\n",
       "5 10.375100 21.78771 3.671189 2.553871 13.80686 Democratic\n",
       "6 10.912512 21.91910 4.139229 2.728128 13.54657 Democratic"
      ]
     },
     "metadata": {},
     "output_type": "display_data"
    }
   ],
   "source": [
    "# Ukol 9: Klasifikace prezidentu do politicke strany pomoci rozhodovaciho stromu\n",
    "\n",
    "# nastaveni generatoru pseudo-nahodnych cisel\n",
    "\n",
    "set.seed(42)\n",
    "\n",
    "temp <- speeches_final %>% \n",
    "  filter(party %in% c(\"Democratic\", \"Republican\")) %>% # vyberte jenom prezidenty z demokraticke a republikanske strany\n",
    "  select(c(no_words:trust, party))\n",
    "\n",
    "head(temp)"
   ]
  },
  {
   "cell_type": "code",
   "execution_count": 100,
   "id": "6e7c36ec",
   "metadata": {},
   "outputs": [],
   "source": [
    "set.seed(42)\n",
    "\n",
    "model_speeches <- rpart(party ~ anger+anticipation+disgust+fear+\n",
    "                        joy+negative+positive+sadness+surprise+trust, \n",
    "                        data = temp) \n",
    "# odhad rozhodovaciho stromu, \n",
    "# odhadujete politickou prislusnost na zaklade textovych promennych"
   ]
  },
  {
   "cell_type": "code",
   "execution_count": 219,
   "id": "37970870",
   "metadata": {},
   "outputs": [
    {
     "data": {
      "image/png": "[encoded data removed]",
      "text/plain": [
       "Plot with title \"Strom rekurzniho modelu\""
      ]
     },
     "metadata": {
      "image/png": {
       "height": 420,
       "width": 420
      }
     },
     "output_type": "display_data"
    }
   ],
   "source": [
    "rpart.plot(model_speeches, # vykreslete strom\n",
    "           type = 5, \n",
    "           extra = 104,\n",
    "           box.palette = list(\n",
    "             Republican = \"pink\",\n",
    "             Democratic = \"red\"),\n",
    "           leaf.round = 0,\n",
    "           fallen.leaves = F, \n",
    "           branch = 0.3, \n",
    "           under = TRUE,\n",
    "           under.col = \"grey40\",\n",
    "           main = \"Strom rekurzniho modelu\",\n",
    "           tweak = 1.2)"
   ]
  },
  {
   "cell_type": "code",
   "execution_count": 113,
   "id": "fb011022",
   "metadata": {},
   "outputs": [
    {
     "name": "stderr",
     "output_type": "stream",
     "text": [
      "\u001b[1mRows: \u001b[22m\u001b[34m4\u001b[39m \u001b[1mColumns: \u001b[22m\u001b[34m3\u001b[39m\n",
      "\u001b[36m--\u001b[39m \u001b[1mColumn specification\u001b[22m \u001b[36m------------------------------------------------------------------------------------------------\u001b[39m\n",
      "\u001b[1mDelimiter:\u001b[22m \",\"\n",
      "\u001b[31mchr\u001b[39m (3): name, date_of_speech, text\n",
      "\n",
      "\u001b[36mi\u001b[39m Use `spec()` to retrieve the full column specification for this data.\n",
      "\u001b[36mi\u001b[39m Specify the column types or set `show_col_types = FALSE` to quiet this message.\n"
     ]
    }
   ],
   "source": [
    "# Ukol 10: Overeni modelu na poslednich 3 prezidentech\n",
    "\n",
    "new_speeches <- read_csv(\"new_speeches.csv\") # nactete csv soubor s projevy poslednich tri americkych prezidentu"
   ]
  },
  {
   "cell_type": "code",
   "execution_count": 115,
   "id": "3529e7ec",
   "metadata": {},
   "outputs": [
    {
     "data": {
      "text/html": [
       "<style>\n",
       ".list-inline {list-style: none; margin:0; padding: 0}\n",
       ".list-inline>li {display: inline-block}\n",
       ".list-inline>li:not(:last-child)::after {content: \"\\00b7\"; padding: 0 .5ex}\n",
       "</style>\n",
       "<ol class=list-inline><li>'spec_tbl_df'</li><li>'tbl_df'</li><li>'tbl'</li><li>'data.frame'</li></ol>\n"
      ],
      "text/latex": [
       "\\begin{enumerate*}\n",
       "\\item 'spec\\_tbl\\_df'\n",
       "\\item 'tbl\\_df'\n",
       "\\item 'tbl'\n",
       "\\item 'data.frame'\n",
       "\\end{enumerate*}\n"
      ],
      "text/markdown": [
       "1. 'spec_tbl_df'\n",
       "2. 'tbl_df'\n",
       "3. 'tbl'\n",
       "4. 'data.frame'\n",
       "\n",
       "\n"
      ],
      "text/plain": [
       "[1] \"spec_tbl_df\" \"tbl_df\"      \"tbl\"         \"data.frame\" "
      ]
     },
     "metadata": {},
     "output_type": "display_data"
    }
   ],
   "source": [
    "class(new_speeches)"
   ]
  },
  {
   "cell_type": "code",
   "execution_count": 152,
   "id": "d73c74b9",
   "metadata": {},
   "outputs": [
    {
     "name": "stderr",
     "output_type": "stream",
     "text": [
      "\u001b[1m\u001b[22mJoining with `by = join_by(word)`\n"
     ]
    },
    {
     "data": {
      "text/html": [
       "<table class=\"dataframe\">\n",
       "<caption>A tibble: 6 × 4</caption>\n",
       "<thead>\n",
       "\t<tr><th scope=col>name</th><th scope=col>date_of_speech</th><th scope=col>speech_id</th><th scope=col>word</th></tr>\n",
       "\t<tr><th scope=col>&lt;chr&gt;</th><th scope=col>&lt;chr&gt;</th><th scope=col>&lt;date&gt;</th><th scope=col>&lt;chr&gt;</th></tr>\n",
       "</thead>\n",
       "<tbody>\n",
       "\t<tr><td>BARACK OBAMA</td><td>January 20, 2009</td><td>2009-01-20</td><td>fellow  </td></tr>\n",
       "\t<tr><td>BARACK OBAMA</td><td>January 20, 2009</td><td>2009-01-20</td><td>citizens</td></tr>\n",
       "\t<tr><td>BARACK OBAMA</td><td>January 20, 2009</td><td>2009-01-20</td><td>stand   </td></tr>\n",
       "\t<tr><td>BARACK OBAMA</td><td>January 20, 2009</td><td>2009-01-20</td><td>humbled </td></tr>\n",
       "\t<tr><td>BARACK OBAMA</td><td>January 20, 2009</td><td>2009-01-20</td><td>task    </td></tr>\n",
       "\t<tr><td>BARACK OBAMA</td><td>January 20, 2009</td><td>2009-01-20</td><td>grateful</td></tr>\n",
       "</tbody>\n",
       "</table>\n"
      ],
      "text/latex": [
       "A tibble: 6 × 4\n",
       "\\begin{tabular}{llll}\n",
       " name & date\\_of\\_speech & speech\\_id & word\\\\\n",
       " <chr> & <chr> & <date> & <chr>\\\\\n",
       "\\hline\n",
       "\t BARACK OBAMA & January 20, 2009 & 2009-01-20 & fellow  \\\\\n",
       "\t BARACK OBAMA & January 20, 2009 & 2009-01-20 & citizens\\\\\n",
       "\t BARACK OBAMA & January 20, 2009 & 2009-01-20 & stand   \\\\\n",
       "\t BARACK OBAMA & January 20, 2009 & 2009-01-20 & humbled \\\\\n",
       "\t BARACK OBAMA & January 20, 2009 & 2009-01-20 & task    \\\\\n",
       "\t BARACK OBAMA & January 20, 2009 & 2009-01-20 & grateful\\\\\n",
       "\\end{tabular}\n"
      ],
      "text/markdown": [
       "\n",
       "A tibble: 6 × 4\n",
       "\n",
       "| name &lt;chr&gt; | date_of_speech &lt;chr&gt; | speech_id &lt;date&gt; | word &lt;chr&gt; |\n",
       "|---|---|---|---|\n",
       "| BARACK OBAMA | January 20, 2009 | 2009-01-20 | fellow   |\n",
       "| BARACK OBAMA | January 20, 2009 | 2009-01-20 | citizens |\n",
       "| BARACK OBAMA | January 20, 2009 | 2009-01-20 | stand    |\n",
       "| BARACK OBAMA | January 20, 2009 | 2009-01-20 | humbled  |\n",
       "| BARACK OBAMA | January 20, 2009 | 2009-01-20 | task     |\n",
       "| BARACK OBAMA | January 20, 2009 | 2009-01-20 | grateful |\n",
       "\n"
      ],
      "text/plain": [
       "  name         date_of_speech   speech_id  word    \n",
       "1 BARACK OBAMA January 20, 2009 2009-01-20 fellow  \n",
       "2 BARACK OBAMA January 20, 2009 2009-01-20 citizens\n",
       "3 BARACK OBAMA January 20, 2009 2009-01-20 stand   \n",
       "4 BARACK OBAMA January 20, 2009 2009-01-20 humbled \n",
       "5 BARACK OBAMA January 20, 2009 2009-01-20 task    \n",
       "6 BARACK OBAMA January 20, 2009 2009-01-20 grateful"
      ]
     },
     "metadata": {},
     "output_type": "display_data"
    }
   ],
   "source": [
    "new_speeches_words <- new_speeches %>% \n",
    "  mutate(speech_id = mdy(str_extract(date_of_speech, \"(January)\\\\s\\\\d{1,2},\\\\s\\\\d{4}\"))) %>% \n",
    "  unnest_tokens(word,text) %>% \n",
    "  anti_join(stop_words) \n",
    "\n",
    "head(new_speeches_words)"
   ]
  },
  {
   "cell_type": "code",
   "execution_count": null,
   "id": "a696e9dc",
   "metadata": {},
   "outputs": [],
   "source": [
    "new_speeches$speech_id"
   ]
  },
  {
   "cell_type": "code",
   "execution_count": 151,
   "id": "ff64083b",
   "metadata": {},
   "outputs": [
    {
     "name": "stderr",
     "output_type": "stream",
     "text": [
      "\u001b[1m\u001b[22mJoining with `by = join_by(word)`\n"
     ]
    },
    {
     "data": {
      "text/html": [
       "<table class=\"dataframe\">\n",
       "<caption>A tibble: 6 × 4</caption>\n",
       "<thead>\n",
       "\t<tr><th scope=col>name</th><th scope=col>date_of_speech</th><th scope=col>speech_id</th><th scope=col>word</th></tr>\n",
       "\t<tr><th scope=col>&lt;chr&gt;</th><th scope=col>&lt;chr&gt;</th><th scope=col>&lt;int&gt;</th><th scope=col>&lt;chr&gt;</th></tr>\n",
       "</thead>\n",
       "<tbody>\n",
       "\t<tr><td>BARACK OBAMA</td><td>January 20, 2009</td><td>1</td><td>fellow  </td></tr>\n",
       "\t<tr><td>BARACK OBAMA</td><td>January 20, 2009</td><td>1</td><td>citizens</td></tr>\n",
       "\t<tr><td>BARACK OBAMA</td><td>January 20, 2009</td><td>1</td><td>stand   </td></tr>\n",
       "\t<tr><td>BARACK OBAMA</td><td>January 20, 2009</td><td>1</td><td>humbled </td></tr>\n",
       "\t<tr><td>BARACK OBAMA</td><td>January 20, 2009</td><td>1</td><td>task    </td></tr>\n",
       "\t<tr><td>BARACK OBAMA</td><td>January 20, 2009</td><td>1</td><td>grateful</td></tr>\n",
       "</tbody>\n",
       "</table>\n"
      ],
      "text/latex": [
       "A tibble: 6 × 4\n",
       "\\begin{tabular}{llll}\n",
       " name & date\\_of\\_speech & speech\\_id & word\\\\\n",
       " <chr> & <chr> & <int> & <chr>\\\\\n",
       "\\hline\n",
       "\t BARACK OBAMA & January 20, 2009 & 1 & fellow  \\\\\n",
       "\t BARACK OBAMA & January 20, 2009 & 1 & citizens\\\\\n",
       "\t BARACK OBAMA & January 20, 2009 & 1 & stand   \\\\\n",
       "\t BARACK OBAMA & January 20, 2009 & 1 & humbled \\\\\n",
       "\t BARACK OBAMA & January 20, 2009 & 1 & task    \\\\\n",
       "\t BARACK OBAMA & January 20, 2009 & 1 & grateful\\\\\n",
       "\\end{tabular}\n"
      ],
      "text/markdown": [
       "\n",
       "A tibble: 6 × 4\n",
       "\n",
       "| name &lt;chr&gt; | date_of_speech &lt;chr&gt; | speech_id &lt;int&gt; | word &lt;chr&gt; |\n",
       "|---|---|---|---|\n",
       "| BARACK OBAMA | January 20, 2009 | 1 | fellow   |\n",
       "| BARACK OBAMA | January 20, 2009 | 1 | citizens |\n",
       "| BARACK OBAMA | January 20, 2009 | 1 | stand    |\n",
       "| BARACK OBAMA | January 20, 2009 | 1 | humbled  |\n",
       "| BARACK OBAMA | January 20, 2009 | 1 | task     |\n",
       "| BARACK OBAMA | January 20, 2009 | 1 | grateful |\n",
       "\n"
      ],
      "text/plain": [
       "  name         date_of_speech   speech_id word    \n",
       "1 BARACK OBAMA January 20, 2009 1         fellow  \n",
       "2 BARACK OBAMA January 20, 2009 1         citizens\n",
       "3 BARACK OBAMA January 20, 2009 1         stand   \n",
       "4 BARACK OBAMA January 20, 2009 1         humbled \n",
       "5 BARACK OBAMA January 20, 2009 1         task    \n",
       "6 BARACK OBAMA January 20, 2009 1         grateful"
      ]
     },
     "metadata": {},
     "output_type": "display_data"
    },
    {
     "data": {
      "text/html": [
       "<table class=\"dataframe\">\n",
       "<caption>A tibble: 6 × 4</caption>\n",
       "<thead>\n",
       "\t<tr><th scope=col>name</th><th scope=col>date_of_speech</th><th scope=col>speech_id</th><th scope=col>word</th></tr>\n",
       "\t<tr><th scope=col>&lt;chr&gt;</th><th scope=col>&lt;chr&gt;</th><th scope=col>&lt;int&gt;</th><th scope=col>&lt;chr&gt;</th></tr>\n",
       "</thead>\n",
       "<tbody>\n",
       "\t<tr><td>JOSEPH R. BIDEN, JR.</td><td>January 20, 2021</td><td>4</td><td>bless  </td></tr>\n",
       "\t<tr><td>JOSEPH R. BIDEN, JR.</td><td>January 20, 2021</td><td>4</td><td>america</td></tr>\n",
       "\t<tr><td>JOSEPH R. BIDEN, JR.</td><td>January 20, 2021</td><td>4</td><td>god    </td></tr>\n",
       "\t<tr><td>JOSEPH R. BIDEN, JR.</td><td>January 20, 2021</td><td>4</td><td>protect</td></tr>\n",
       "\t<tr><td>JOSEPH R. BIDEN, JR.</td><td>January 20, 2021</td><td>4</td><td>troops </td></tr>\n",
       "\t<tr><td>JOSEPH R. BIDEN, JR.</td><td>January 20, 2021</td><td>4</td><td>america</td></tr>\n",
       "</tbody>\n",
       "</table>\n"
      ],
      "text/latex": [
       "A tibble: 6 × 4\n",
       "\\begin{tabular}{llll}\n",
       " name & date\\_of\\_speech & speech\\_id & word\\\\\n",
       " <chr> & <chr> & <int> & <chr>\\\\\n",
       "\\hline\n",
       "\t JOSEPH R. BIDEN, JR. & January 20, 2021 & 4 & bless  \\\\\n",
       "\t JOSEPH R. BIDEN, JR. & January 20, 2021 & 4 & america\\\\\n",
       "\t JOSEPH R. BIDEN, JR. & January 20, 2021 & 4 & god    \\\\\n",
       "\t JOSEPH R. BIDEN, JR. & January 20, 2021 & 4 & protect\\\\\n",
       "\t JOSEPH R. BIDEN, JR. & January 20, 2021 & 4 & troops \\\\\n",
       "\t JOSEPH R. BIDEN, JR. & January 20, 2021 & 4 & america\\\\\n",
       "\\end{tabular}\n"
      ],
      "text/markdown": [
       "\n",
       "A tibble: 6 × 4\n",
       "\n",
       "| name &lt;chr&gt; | date_of_speech &lt;chr&gt; | speech_id &lt;int&gt; | word &lt;chr&gt; |\n",
       "|---|---|---|---|\n",
       "| JOSEPH R. BIDEN, JR. | January 20, 2021 | 4 | bless   |\n",
       "| JOSEPH R. BIDEN, JR. | January 20, 2021 | 4 | america |\n",
       "| JOSEPH R. BIDEN, JR. | January 20, 2021 | 4 | god     |\n",
       "| JOSEPH R. BIDEN, JR. | January 20, 2021 | 4 | protect |\n",
       "| JOSEPH R. BIDEN, JR. | January 20, 2021 | 4 | troops  |\n",
       "| JOSEPH R. BIDEN, JR. | January 20, 2021 | 4 | america |\n",
       "\n"
      ],
      "text/plain": [
       "  name                 date_of_speech   speech_id word   \n",
       "1 JOSEPH R. BIDEN, JR. January 20, 2021 4         bless  \n",
       "2 JOSEPH R. BIDEN, JR. January 20, 2021 4         america\n",
       "3 JOSEPH R. BIDEN, JR. January 20, 2021 4         god    \n",
       "4 JOSEPH R. BIDEN, JR. January 20, 2021 4         protect\n",
       "5 JOSEPH R. BIDEN, JR. January 20, 2021 4         troops \n",
       "6 JOSEPH R. BIDEN, JR. January 20, 2021 4         america"
      ]
     },
     "metadata": {},
     "output_type": "display_data"
    }
   ],
   "source": [
    "new_speeches_words <- new_speeches %>% \n",
    "  mutate(speech_id = row_number()) %>% # cislo radku v ramci jednoho proslovu  \n",
    "  unnest_tokens(word,text) %>% \n",
    "  anti_join(stop_words) \n",
    "\n",
    "head(new_speeches_words)\n",
    "tail(new_speeches_words)"
   ]
  },
  {
   "cell_type": "code",
   "execution_count": 178,
   "id": "2441b906",
   "metadata": {
    "scrolled": true
   },
   "outputs": [
    {
     "data": {
      "text/html": [
       "'space without limits'"
      ],
      "text/latex": [
       "'space without limits'"
      ],
      "text/markdown": [
       "'space without limits'"
      ],
      "text/plain": [
       "[1] \"space without limits\""
      ]
     },
     "metadata": {},
     "output_type": "display_data"
    },
    {
     "data": {
      "text/html": [
       "2"
      ],
      "text/latex": [
       "2"
      ],
      "text/markdown": [
       "2"
      ],
      "text/plain": [
       "[1] 2"
      ]
     },
     "metadata": {},
     "output_type": "display_data"
    },
    {
     "data": {
      "text/html": [
       "<table class=\"dataframe\">\n",
       "<caption>A tibble: 4 × 3</caption>\n",
       "<thead>\n",
       "\t<tr><th scope=col>speech_id</th><th scope=col>no_words</th><th scope=col>unique_words</th></tr>\n",
       "\t<tr><th scope=col>&lt;date&gt;</th><th scope=col>&lt;int&gt;</th><th scope=col>&lt;int&gt;</th></tr>\n",
       "</thead>\n",
       "<tbody>\n",
       "\t<tr><td>2009-01-20</td><td>906</td><td>681</td></tr>\n",
       "\t<tr><td>2013-01-21</td><td>849</td><td>601</td></tr>\n",
       "\t<tr><td>2017-01-20</td><td>544</td><td>374</td></tr>\n",
       "\t<tr><td>2021-01-20</td><td>823</td><td>519</td></tr>\n",
       "</tbody>\n",
       "</table>\n"
      ],
      "text/latex": [
       "A tibble: 4 × 3\n",
       "\\begin{tabular}{lll}\n",
       " speech\\_id & no\\_words & unique\\_words\\\\\n",
       " <date> & <int> & <int>\\\\\n",
       "\\hline\n",
       "\t 2009-01-20 & 906 & 681\\\\\n",
       "\t 2013-01-21 & 849 & 601\\\\\n",
       "\t 2017-01-20 & 544 & 374\\\\\n",
       "\t 2021-01-20 & 823 & 519\\\\\n",
       "\\end{tabular}\n"
      ],
      "text/markdown": [
       "\n",
       "A tibble: 4 × 3\n",
       "\n",
       "| speech_id &lt;date&gt; | no_words &lt;int&gt; | unique_words &lt;int&gt; |\n",
       "|---|---|---|\n",
       "| 2009-01-20 | 906 | 681 |\n",
       "| 2013-01-21 | 849 | 601 |\n",
       "| 2017-01-20 | 544 | 374 |\n",
       "| 2021-01-20 | 823 | 519 |\n",
       "\n"
      ],
      "text/plain": [
       "  speech_id  no_words unique_words\n",
       "1 2009-01-20 906      681         \n",
       "2 2013-01-21 849      601         \n",
       "3 2017-01-20 544      374         \n",
       "4 2021-01-20 823      519         "
      ]
     },
     "metadata": {},
     "output_type": "display_data"
    }
   ],
   "source": [
    "new_speeches_features <- new_speeches_words %>% \n",
    "  group_by(speech_id) %>% \n",
    "  summarise(no_words = length(word),\n",
    "            unique_words = n_distinct(word))\n",
    "\n",
    "new_speeches_features"
   ]
  },
  {
   "cell_type": "code",
   "execution_count": 199,
   "id": "c2054833",
   "metadata": {},
   "outputs": [
    {
     "name": "stderr",
     "output_type": "stream",
     "text": [
      "\u001b[1m\u001b[22mJoining with `by = join_by(word)`\n",
      "Warning message in inner_join(., get_sentiments(\"nrc\")):\n",
      "\"\u001b[1m\u001b[22mEach row in `x` is expected to match at most 1 row in `y`.\n",
      "\u001b[36mi\u001b[39m Row 1 of `x` matches multiple rows.\n",
      "\u001b[36mi\u001b[39m If multiple matches are expected, set `multiple = \"all\"` to silence this warning.\"\n"
     ]
    },
    {
     "data": {
      "text/html": [
       "<table class=\"dataframe\">\n",
       "<caption>A tibble: 4 × 11</caption>\n",
       "<thead>\n",
       "\t<tr><th scope=col>speech_id</th><th scope=col>anger</th><th scope=col>anticipation</th><th scope=col>disgust</th><th scope=col>fear</th><th scope=col>joy</th><th scope=col>negative</th><th scope=col>positive</th><th scope=col>sadness</th><th scope=col>surprise</th><th scope=col>trust</th></tr>\n",
       "\t<tr><th scope=col>&lt;date&gt;</th><th scope=col>&lt;int&gt;</th><th scope=col>&lt;int&gt;</th><th scope=col>&lt;int&gt;</th><th scope=col>&lt;int&gt;</th><th scope=col>&lt;int&gt;</th><th scope=col>&lt;int&gt;</th><th scope=col>&lt;int&gt;</th><th scope=col>&lt;int&gt;</th><th scope=col>&lt;int&gt;</th><th scope=col>&lt;int&gt;</th></tr>\n",
       "</thead>\n",
       "<tbody>\n",
       "\t<tr><td>2009-01-20</td><td>46</td><td>77</td><td>27</td><td>68</td><td> 86</td><td>96</td><td>206</td><td>42</td><td>41</td><td>137</td></tr>\n",
       "\t<tr><td>2013-01-21</td><td>37</td><td>73</td><td>15</td><td>65</td><td>105</td><td>71</td><td>197</td><td>28</td><td>55</td><td>128</td></tr>\n",
       "\t<tr><td>2017-01-20</td><td>17</td><td>40</td><td> 8</td><td>28</td><td> 46</td><td>31</td><td>111</td><td>12</td><td>12</td><td> 80</td></tr>\n",
       "\t<tr><td>2021-01-20</td><td>52</td><td>62</td><td>14</td><td>65</td><td> 55</td><td>96</td><td>160</td><td>44</td><td>22</td><td>116</td></tr>\n",
       "</tbody>\n",
       "</table>\n"
      ],
      "text/latex": [
       "A tibble: 4 × 11\n",
       "\\begin{tabular}{lllllllllll}\n",
       " speech\\_id & anger & anticipation & disgust & fear & joy & negative & positive & sadness & surprise & trust\\\\\n",
       " <date> & <int> & <int> & <int> & <int> & <int> & <int> & <int> & <int> & <int> & <int>\\\\\n",
       "\\hline\n",
       "\t 2009-01-20 & 46 & 77 & 27 & 68 &  86 & 96 & 206 & 42 & 41 & 137\\\\\n",
       "\t 2013-01-21 & 37 & 73 & 15 & 65 & 105 & 71 & 197 & 28 & 55 & 128\\\\\n",
       "\t 2017-01-20 & 17 & 40 &  8 & 28 &  46 & 31 & 111 & 12 & 12 &  80\\\\\n",
       "\t 2021-01-20 & 52 & 62 & 14 & 65 &  55 & 96 & 160 & 44 & 22 & 116\\\\\n",
       "\\end{tabular}\n"
      ],
      "text/markdown": [
       "\n",
       "A tibble: 4 × 11\n",
       "\n",
       "| speech_id &lt;date&gt; | anger &lt;int&gt; | anticipation &lt;int&gt; | disgust &lt;int&gt; | fear &lt;int&gt; | joy &lt;int&gt; | negative &lt;int&gt; | positive &lt;int&gt; | sadness &lt;int&gt; | surprise &lt;int&gt; | trust &lt;int&gt; |\n",
       "|---|---|---|---|---|---|---|---|---|---|---|\n",
       "| 2009-01-20 | 46 | 77 | 27 | 68 |  86 | 96 | 206 | 42 | 41 | 137 |\n",
       "| 2013-01-21 | 37 | 73 | 15 | 65 | 105 | 71 | 197 | 28 | 55 | 128 |\n",
       "| 2017-01-20 | 17 | 40 |  8 | 28 |  46 | 31 | 111 | 12 | 12 |  80 |\n",
       "| 2021-01-20 | 52 | 62 | 14 | 65 |  55 | 96 | 160 | 44 | 22 | 116 |\n",
       "\n"
      ],
      "text/plain": [
       "  speech_id  anger anticipation disgust fear joy negative positive sadness\n",
       "1 2009-01-20 46    77           27      68    86 96       206      42     \n",
       "2 2013-01-21 37    73           15      65   105 71       197      28     \n",
       "3 2017-01-20 17    40            8      28    46 31       111      12     \n",
       "4 2021-01-20 52    62           14      65    55 96       160      44     \n",
       "  surprise trust\n",
       "1 41       137  \n",
       "2 55       128  \n",
       "3 12        80  \n",
       "4 22       116  "
      ]
     },
     "metadata": {},
     "output_type": "display_data"
    }
   ],
   "source": [
    "new_speeches_sentiment <- new_speeches_words %>% \n",
    "  inner_join(get_sentiments(\"nrc\")) %>% \n",
    "  count(speech_id, sentiment) %>% \n",
    "  pivot_wider(\n",
    "    names_from = sentiment,\n",
    "    values_from = n\n",
    "  )\n",
    "\n",
    "\n",
    "new_speeches_sentiment"
   ]
  },
  {
   "cell_type": "code",
   "execution_count": 200,
   "id": "18424a2b",
   "metadata": {},
   "outputs": [
    {
     "name": "stderr",
     "output_type": "stream",
     "text": [
      "\u001b[1m\u001b[22mJoining with `by = join_by(speech_id)`\n"
     ]
    },
    {
     "data": {
      "text/html": [
       "<table class=\"dataframe\">\n",
       "<caption>A tibble: 4 × 13</caption>\n",
       "<thead>\n",
       "\t<tr><th scope=col>speech_id</th><th scope=col>no_words</th><th scope=col>unique_words</th><th scope=col>anger</th><th scope=col>anticipation</th><th scope=col>disgust</th><th scope=col>fear</th><th scope=col>joy</th><th scope=col>negative</th><th scope=col>positive</th><th scope=col>sadness</th><th scope=col>surprise</th><th scope=col>trust</th></tr>\n",
       "\t<tr><th scope=col>&lt;date&gt;</th><th scope=col>&lt;int&gt;</th><th scope=col>&lt;dbl&gt;</th><th scope=col>&lt;dbl&gt;</th><th scope=col>&lt;dbl&gt;</th><th scope=col>&lt;dbl&gt;</th><th scope=col>&lt;dbl&gt;</th><th scope=col>&lt;dbl&gt;</th><th scope=col>&lt;dbl&gt;</th><th scope=col>&lt;dbl&gt;</th><th scope=col>&lt;dbl&gt;</th><th scope=col>&lt;dbl&gt;</th><th scope=col>&lt;dbl&gt;</th></tr>\n",
       "</thead>\n",
       "<tbody>\n",
       "\t<tr><td>2009-01-20</td><td>906</td><td>75.16556</td><td>5.077263</td><td>8.498896</td><td>2.980132</td><td>7.505519</td><td> 9.492274</td><td>10.596026</td><td>22.73731</td><td>4.635762</td><td>4.525386</td><td>15.12141</td></tr>\n",
       "\t<tr><td>2013-01-21</td><td>849</td><td>70.78916</td><td>4.358068</td><td>8.598351</td><td>1.766784</td><td>7.656066</td><td>12.367491</td><td> 8.362780</td><td>23.20377</td><td>3.297998</td><td>6.478210</td><td>15.07656</td></tr>\n",
       "\t<tr><td>2017-01-20</td><td>544</td><td>68.75000</td><td>3.125000</td><td>7.352941</td><td>1.470588</td><td>5.147059</td><td> 8.455882</td><td> 5.698529</td><td>20.40441</td><td>2.205882</td><td>2.205882</td><td>14.70588</td></tr>\n",
       "\t<tr><td>2021-01-20</td><td>823</td><td>63.06197</td><td>6.318348</td><td>7.533414</td><td>1.701094</td><td>7.897934</td><td> 6.682868</td><td>11.664642</td><td>19.44107</td><td>5.346294</td><td>2.673147</td><td>14.09478</td></tr>\n",
       "</tbody>\n",
       "</table>\n"
      ],
      "text/latex": [
       "A tibble: 4 × 13\n",
       "\\begin{tabular}{lllllllllllll}\n",
       " speech\\_id & no\\_words & unique\\_words & anger & anticipation & disgust & fear & joy & negative & positive & sadness & surprise & trust\\\\\n",
       " <date> & <int> & <dbl> & <dbl> & <dbl> & <dbl> & <dbl> & <dbl> & <dbl> & <dbl> & <dbl> & <dbl> & <dbl>\\\\\n",
       "\\hline\n",
       "\t 2009-01-20 & 906 & 75.16556 & 5.077263 & 8.498896 & 2.980132 & 7.505519 &  9.492274 & 10.596026 & 22.73731 & 4.635762 & 4.525386 & 15.12141\\\\\n",
       "\t 2013-01-21 & 849 & 70.78916 & 4.358068 & 8.598351 & 1.766784 & 7.656066 & 12.367491 &  8.362780 & 23.20377 & 3.297998 & 6.478210 & 15.07656\\\\\n",
       "\t 2017-01-20 & 544 & 68.75000 & 3.125000 & 7.352941 & 1.470588 & 5.147059 &  8.455882 &  5.698529 & 20.40441 & 2.205882 & 2.205882 & 14.70588\\\\\n",
       "\t 2021-01-20 & 823 & 63.06197 & 6.318348 & 7.533414 & 1.701094 & 7.897934 &  6.682868 & 11.664642 & 19.44107 & 5.346294 & 2.673147 & 14.09478\\\\\n",
       "\\end{tabular}\n"
      ],
      "text/markdown": [
       "\n",
       "A tibble: 4 × 13\n",
       "\n",
       "| speech_id &lt;date&gt; | no_words &lt;int&gt; | unique_words &lt;dbl&gt; | anger &lt;dbl&gt; | anticipation &lt;dbl&gt; | disgust &lt;dbl&gt; | fear &lt;dbl&gt; | joy &lt;dbl&gt; | negative &lt;dbl&gt; | positive &lt;dbl&gt; | sadness &lt;dbl&gt; | surprise &lt;dbl&gt; | trust &lt;dbl&gt; |\n",
       "|---|---|---|---|---|---|---|---|---|---|---|---|---|\n",
       "| 2009-01-20 | 906 | 75.16556 | 5.077263 | 8.498896 | 2.980132 | 7.505519 |  9.492274 | 10.596026 | 22.73731 | 4.635762 | 4.525386 | 15.12141 |\n",
       "| 2013-01-21 | 849 | 70.78916 | 4.358068 | 8.598351 | 1.766784 | 7.656066 | 12.367491 |  8.362780 | 23.20377 | 3.297998 | 6.478210 | 15.07656 |\n",
       "| 2017-01-20 | 544 | 68.75000 | 3.125000 | 7.352941 | 1.470588 | 5.147059 |  8.455882 |  5.698529 | 20.40441 | 2.205882 | 2.205882 | 14.70588 |\n",
       "| 2021-01-20 | 823 | 63.06197 | 6.318348 | 7.533414 | 1.701094 | 7.897934 |  6.682868 | 11.664642 | 19.44107 | 5.346294 | 2.673147 | 14.09478 |\n",
       "\n"
      ],
      "text/plain": [
       "  speech_id  no_words unique_words anger    anticipation disgust  fear    \n",
       "1 2009-01-20 906      75.16556     5.077263 8.498896     2.980132 7.505519\n",
       "2 2013-01-21 849      70.78916     4.358068 8.598351     1.766784 7.656066\n",
       "3 2017-01-20 544      68.75000     3.125000 7.352941     1.470588 5.147059\n",
       "4 2021-01-20 823      63.06197     6.318348 7.533414     1.701094 7.897934\n",
       "  joy       negative  positive sadness  surprise trust   \n",
       "1  9.492274 10.596026 22.73731 4.635762 4.525386 15.12141\n",
       "2 12.367491  8.362780 23.20377 3.297998 6.478210 15.07656\n",
       "3  8.455882  5.698529 20.40441 2.205882 2.205882 14.70588\n",
       "4  6.682868 11.664642 19.44107 5.346294 2.673147 14.09478"
      ]
     },
     "metadata": {},
     "output_type": "display_data"
    }
   ],
   "source": [
    "new_speeches_final <- new_speeches_features %>% \n",
    "  left_join(new_speeches_sentiment) %>% # pripojeni segmenti\n",
    "  mutate(across(unique_words:trust, ~ (./no_words*100))) # vydeleni poctu slov pro dany sentiment poctem vsech slov projevu\n",
    "\n",
    "new_speeches_final"
   ]
  },
  {
   "cell_type": "code",
   "execution_count": 209,
   "id": "6a3ec7db",
   "metadata": {},
   "outputs": [
    {
     "data": {
      "text/html": [
       "<style>\n",
       ".list-inline {list-style: none; margin:0; padding: 0}\n",
       ".list-inline>li {display: inline-block}\n",
       ".list-inline>li:not(:last-child)::after {content: \"\\00b7\"; padding: 0 .5ex}\n",
       "</style>\n",
       "<ol class=list-inline><li>'BARACK OBAMA'</li><li>'BARACK OBAMA'</li><li>'DONALD TRUMP'</li><li>'JOSEPH R. BIDEN, JR.'</li></ol>\n"
      ],
      "text/latex": [
       "\\begin{enumerate*}\n",
       "\\item 'BARACK OBAMA'\n",
       "\\item 'BARACK OBAMA'\n",
       "\\item 'DONALD TRUMP'\n",
       "\\item 'JOSEPH R. BIDEN, JR.'\n",
       "\\end{enumerate*}\n"
      ],
      "text/markdown": [
       "1. 'BARACK OBAMA'\n",
       "2. 'BARACK OBAMA'\n",
       "3. 'DONALD TRUMP'\n",
       "4. 'JOSEPH R. BIDEN, JR.'\n",
       "\n",
       "\n"
      ],
      "text/plain": [
       "[1] \"BARACK OBAMA\"         \"BARACK OBAMA\"         \"DONALD TRUMP\"        \n",
       "[4] \"JOSEPH R. BIDEN, JR.\""
      ]
     },
     "metadata": {},
     "output_type": "display_data"
    }
   ],
   "source": [
    "new_speeches$name"
   ]
  },
  {
   "cell_type": "code",
   "execution_count": 218,
   "id": "86a41ad4",
   "metadata": {},
   "outputs": [
    {
     "name": "stderr",
     "output_type": "stream",
     "text": [
      "\u001b[1m\u001b[22mNew names:\n",
      "\u001b[36m*\u001b[39m `` -> `...3`\n"
     ]
    },
    {
     "data": {
      "text/html": [
       "<table class=\"dataframe\">\n",
       "<caption>A tibble: 4 × 3</caption>\n",
       "<thead>\n",
       "\t<tr><th scope=col>Democratic</th><th scope=col>Republican</th><th scope=col>...3</th></tr>\n",
       "\t<tr><th scope=col>&lt;dbl&gt;</th><th scope=col>&lt;dbl&gt;</th><th scope=col>&lt;chr&gt;</th></tr>\n",
       "</thead>\n",
       "<tbody>\n",
       "\t<tr><td>0.2727273</td><td>0.7272727</td><td>BARACK OBAMA        </td></tr>\n",
       "\t<tr><td>1.0000000</td><td>0.0000000</td><td>BARACK OBAMA        </td></tr>\n",
       "\t<tr><td>0.1538462</td><td>0.8461538</td><td>DONALD TRUMP        </td></tr>\n",
       "\t<tr><td>0.6666667</td><td>0.3333333</td><td>JOSEPH R. BIDEN, JR.</td></tr>\n",
       "</tbody>\n",
       "</table>\n"
      ],
      "text/latex": [
       "A tibble: 4 × 3\n",
       "\\begin{tabular}{lll}\n",
       " Democratic & Republican & ...3\\\\\n",
       " <dbl> & <dbl> & <chr>\\\\\n",
       "\\hline\n",
       "\t 0.2727273 & 0.7272727 & BARACK OBAMA        \\\\\n",
       "\t 1.0000000 & 0.0000000 & BARACK OBAMA        \\\\\n",
       "\t 0.1538462 & 0.8461538 & DONALD TRUMP        \\\\\n",
       "\t 0.6666667 & 0.3333333 & JOSEPH R. BIDEN, JR.\\\\\n",
       "\\end{tabular}\n"
      ],
      "text/markdown": [
       "\n",
       "A tibble: 4 × 3\n",
       "\n",
       "| Democratic &lt;dbl&gt; | Republican &lt;dbl&gt; | ...3 &lt;chr&gt; |\n",
       "|---|---|---|\n",
       "| 0.2727273 | 0.7272727 | BARACK OBAMA         |\n",
       "| 1.0000000 | 0.0000000 | BARACK OBAMA         |\n",
       "| 0.1538462 | 0.8461538 | DONALD TRUMP         |\n",
       "| 0.6666667 | 0.3333333 | JOSEPH R. BIDEN, JR. |\n",
       "\n"
      ],
      "text/plain": [
       "  Democratic Republican ...3                \n",
       "1 0.2727273  0.7272727  BARACK OBAMA        \n",
       "2 1.0000000  0.0000000  BARACK OBAMA        \n",
       "3 0.1538462  0.8461538  DONALD TRUMP        \n",
       "4 0.6666667  0.3333333  JOSEPH R. BIDEN, JR."
      ]
     },
     "metadata": {},
     "output_type": "display_data"
    }
   ],
   "source": [
    "speech_prediction <- predict(object = model_speeches, newdata = new_speeches_final) # udelejte predikce\n",
    "\n",
    "speech_prediction %>% \n",
    "  bind_cols(new_speeches$name) # pridani jmen k predikcim"
   ]
  }
 ],
 "metadata": {
  "kernelspec": {
   "display_name": "R",
   "language": "R",
   "name": "ir"
  },
  "language_info": {
   "codemirror_mode": "r",
   "file_extension": ".r",
   "mimetype": "text/x-r-source",
   "name": "R",
   "pygments_lexer": "r",
   "version": "4.1.3"
  }
 },
 "nbformat": 4,
 "nbformat_minor": 5
}
