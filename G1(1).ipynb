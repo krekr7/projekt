{
 "cells": [
  {
   "cell_type": "markdown",
   "id": "5dd8bde8",
   "metadata": {},
   "source": [
    "0. Zadání úkolu: \n",
    "Najděte si měsíční časové řady indexu spotřebitelských cen (vyjádřenou v podobě bázického indexu se stálým základem) a nějaké krátkodobé nominální úrokové míry vaší oblíbené ekonomiky za dostatečně dlouhé období (cca. 10 let, tj. 120 měsíčních dat, nicméně řady mohou být i delší). Snažte se v případě indexu spotřebitelských cen najít sezónně očištěnou řadu. V rámci zpracování úkolu uveďte, jakou ekonomiku a časové období jste si vybrali. Výsledky svého řešení níže uvedených úkolů a své odpovědi na položené otázky komentujte a shrňte v rámci doprovodného komentovaného dokumentu."
   ]
  },
  {
   "cell_type": "code",
   "execution_count": null,
   "id": "5a37be21",
   "metadata": {},
   "outputs": [],
   "source": [
    "// Pozn.: Takže řady mají být rovnou dvě, pro porovnání různých vlastností"
   ]
  },
  {
   "cell_type": "markdown",
   "id": "36767a79",
   "metadata": {},
   "source": [
    "První z časových řad je:\n",
    "Měsíční bazická data spotřebitelského indexu\n",
    "\n",
    "Časové rozpětí indexu je 23 let (277 měsíců), konkrétně od ledna 2000 do ledna 2023. Index tedy zahrnuje vliv ekonomického růstu z počátku tisíciletí, finanční krize, epidemii covid i ruskou invazi na Ukrajinu a vysokou inflaci. \n",
    "\n",
    "Zdroj:\n",
    "https://vdb.czso.cz/vdbvo2/faces/cs/index.jsf?page=vystup-objekt-parametry&z=T&f=TABULKA&sp=A&skupId=4069&katalog=31779&pvo=CEN084A&pvo=CEN084A&evo=v2677_!_CEN-SPO-BAZIC2015-HSM_1\n",
    "\n",
    "Soubor je zároveň přiložen v odevzdávárně (i.csv)."
   ]
  },
  {
   "cell_type": "code",
   "execution_count": 15,
   "id": "de664111",
   "metadata": {},
   "outputs": [
    {
     "data": {
      "text/html": [
       "<style>\n",
       ".list-inline {list-style: none; margin:0; padding: 0}\n",
       ".list-inline>li {display: inline-block}\n",
       ".list-inline>li:not(:last-child)::after {content: \"\\00b7\"; padding: 0 .5ex}\n",
       "</style>\n",
       "<ol class=list-inline><li>277</li><li>2</li></ol>\n"
      ],
      "text/latex": [
       "\\begin{enumerate*}\n",
       "\\item 277\n",
       "\\item 2\n",
       "\\end{enumerate*}\n"
      ],
      "text/markdown": [
       "1. 277\n",
       "2. 2\n",
       "\n",
       "\n"
      ],
      "text/plain": [
       "[1] 277   2"
      ]
     },
     "metadata": {},
     "output_type": "display_data"
    }
   ],
   "source": [
    "# Načtení spotřebitelského indexu do objektu \"i\"\n",
    "i <- readxl::read_xls(paste0(getwd(),\"/i.xls\"))\n",
    "\n",
    "# Dimenze spotřebitelského indexu\n",
    "dim(i)"
   ]
  },
  {
   "cell_type": "code",
   "execution_count": 17,
   "id": "63723222",
   "metadata": {},
   "outputs": [
    {
     "data": {
      "text/html": [
       "<table class=\"dataframe\">\n",
       "<caption>A Time Series: 24 × 12</caption>\n",
       "<thead>\n",
       "\t<tr><th></th><th scope=col>Jan</th><th scope=col>Feb</th><th scope=col>Mar</th><th scope=col>Apr</th><th scope=col>May</th><th scope=col>Jun</th><th scope=col>Jul</th><th scope=col>Aug</th><th scope=col>Sep</th><th scope=col>Oct</th><th scope=col>Nov</th><th scope=col>Dec</th></tr>\n",
       "</thead>\n",
       "<tbody>\n",
       "\t<tr><th scope=row>2000</th><td> 73.0</td><td> 73.1</td><td> 73.1</td><td> 73.0</td><td> 73.2</td><td> 73.7</td><td> 74.3</td><td> 74.4</td><td> 74.2</td><td> 74.4</td><td> 74.5</td><td> 74.6</td></tr>\n",
       "\t<tr><th scope=row>2001</th><td> 76.0</td><td> 76.0</td><td> 76.1</td><td> 76.4</td><td> 76.9</td><td> 77.6</td><td> 78.3</td><td> 78.2</td><td> 77.6</td><td> 77.6</td><td> 77.4</td><td> 77.5</td></tr>\n",
       "\t<tr><th scope=row>2002</th><td> 78.6</td><td> 78.6</td><td> 78.6</td><td> 78.6</td><td> 78.5</td><td> 78.3</td><td> 78.5</td><td> 78.4</td><td> 77.9</td><td> 77.7</td><td> 77.6</td><td> 77.6</td></tr>\n",
       "\t<tr><th scope=row>2003</th><td> 78.0</td><td> 78.2</td><td> 78.1</td><td> 78.3</td><td> 78.3</td><td> 78.3</td><td> 78.3</td><td> 78.2</td><td> 77.9</td><td> 78.0</td><td> 78.2</td><td> 78.4</td></tr>\n",
       "\t<tr><th scope=row>2004</th><td> 79.6</td><td> 79.7</td><td> 79.8</td><td> 79.9</td><td> 80.3</td><td> 80.5</td><td> 80.7</td><td> 80.7</td><td> 80.1</td><td> 80.5</td><td> 80.4</td><td> 80.3</td></tr>\n",
       "\t<tr><th scope=row>2005</th><td> 80.8</td><td> 80.8</td><td> 80.8</td><td> 81.0</td><td> 81.0</td><td> 81.5</td><td> 81.8</td><td> 81.8</td><td> 81.7</td><td> 82.4</td><td> 82.1</td><td> 81.9</td></tr>\n",
       "\t<tr><th scope=row>2006</th><td> 82.8</td><td> 82.8</td><td> 82.7</td><td> 82.9</td><td> 83.3</td><td> 83.4</td><td> 83.7</td><td> 83.9</td><td> 83.5</td><td> 83.1</td><td> 82.9</td><td> 83.1</td></tr>\n",
       "\t<tr><th scope=row>2007</th><td> 83.9</td><td> 84.1</td><td> 84.4</td><td> 85.0</td><td> 85.3</td><td> 85.6</td><td> 85.9</td><td> 86.1</td><td> 85.9</td><td> 86.4</td><td> 87.2</td><td> 87.6</td></tr>\n",
       "\t<tr><th scope=row>2008</th><td> 90.5</td><td> 90.6</td><td> 90.4</td><td> 90.8</td><td> 91.1</td><td> 91.3</td><td> 91.7</td><td> 91.5</td><td> 91.3</td><td> 91.4</td><td> 90.8</td><td> 90.5</td></tr>\n",
       "\t<tr><th scope=row>2009</th><td> 91.8</td><td> 91.8</td><td> 92.0</td><td> 91.9</td><td> 92.0</td><td> 92.0</td><td> 91.6</td><td> 91.5</td><td> 91.0</td><td> 90.9</td><td> 90.9</td><td> 91.0</td></tr>\n",
       "\t<tr><th scope=row>2010</th><td> 92.0</td><td> 92.1</td><td> 92.3</td><td> 92.7</td><td> 92.9</td><td> 92.8</td><td> 93.1</td><td> 92.9</td><td> 92.7</td><td> 92.4</td><td> 92.6</td><td> 93.1</td></tr>\n",
       "\t<tr><th scope=row>2011</th><td> 93.8</td><td> 93.9</td><td> 94.0</td><td> 94.2</td><td> 94.7</td><td> 94.7</td><td> 94.9</td><td> 94.8</td><td> 94.7</td><td> 94.9</td><td> 95.3</td><td> 95.7</td></tr>\n",
       "\t<tr><th scope=row>2012</th><td> 97.4</td><td> 97.6</td><td> 97.9</td><td> 97.9</td><td> 98.1</td><td> 98.3</td><td> 98.1</td><td> 98.1</td><td> 98.0</td><td> 98.3</td><td> 98.0</td><td> 98.0</td></tr>\n",
       "\t<tr><th scope=row>2013</th><td> 99.3</td><td> 99.3</td><td> 99.4</td><td> 99.6</td><td> 99.3</td><td> 99.8</td><td> 99.5</td><td> 99.3</td><td> 99.0</td><td> 99.1</td><td> 99.0</td><td> 99.5</td></tr>\n",
       "\t<tr><th scope=row>2014</th><td> 99.6</td><td> 99.6</td><td> 99.7</td><td> 99.7</td><td> 99.8</td><td> 99.8</td><td>100.0</td><td>100.0</td><td> 99.8</td><td> 99.9</td><td> 99.6</td><td> 99.5</td></tr>\n",
       "\t<tr><th scope=row>2015</th><td> 99.5</td><td> 99.6</td><td> 99.8</td><td>100.2</td><td>100.5</td><td>100.7</td><td>100.5</td><td>100.2</td><td>100.1</td><td>100.0</td><td> 99.6</td><td> 99.4</td></tr>\n",
       "\t<tr><th scope=row>2016</th><td>100.0</td><td>100.1</td><td>100.1</td><td>100.7</td><td>100.5</td><td>100.6</td><td>101.0</td><td>100.8</td><td>100.6</td><td>100.8</td><td>101.2</td><td>101.5</td></tr>\n",
       "\t<tr><th scope=row>2017</th><td>102.3</td><td>102.7</td><td>102.7</td><td>102.8</td><td>103.0</td><td>103.0</td><td>103.4</td><td>103.2</td><td>103.1</td><td>103.6</td><td>103.7</td><td>103.7</td></tr>\n",
       "\t<tr><th scope=row>2018</th><td>104.4</td><td>104.3</td><td>104.3</td><td>104.6</td><td>105.1</td><td>105.5</td><td>105.7</td><td>105.7</td><td>105.3</td><td>105.7</td><td>105.4</td><td>105.4</td></tr>\n",
       "\t<tr><th scope=row>2019</th><td>106.5</td><td>106.8</td><td>107.0</td><td>107.1</td><td>107.8</td><td>108.0</td><td>108.4</td><td>108.5</td><td>108.0</td><td>108.5</td><td>108.6</td><td>108.8</td></tr>\n",
       "\t<tr><th scope=row>2020</th><td>110.5</td><td>110.8</td><td>110.8</td><td>110.6</td><td>111.1</td><td>111.7</td><td>112.3</td><td>112.3</td><td>111.6</td><td>111.7</td><td>111.6</td><td>111.4</td></tr>\n",
       "\t<tr><th scope=row>2021</th><td>112.9</td><td>113.1</td><td>113.3</td><td>114.0</td><td>114.1</td><td>114.5</td><td>115.3</td><td>115.8</td><td>116.1</td><td>117.1</td><td>117.0</td><td>117.4</td></tr>\n",
       "\t<tr><th scope=row>2022</th><td>122.8</td><td>124.4</td><td>126.8</td><td>129.1</td><td>131.5</td><td>133.5</td><td>135.2</td><td>135.6</td><td>136.8</td><td>135.3</td><td>137.1</td><td>137.1</td></tr>\n",
       "\t<tr><th scope=row>2023</th><td>146.2</td><td>     </td><td>     </td><td>     </td><td>     </td><td>     </td><td>     </td><td>     </td><td>     </td><td>     </td><td>     </td><td>     </td></tr>\n",
       "</tbody>\n",
       "</table>\n"
      ],
      "text/latex": [
       "A Time Series: 24 × 12\n",
       "\\begin{tabular}{r|llllllllllll}\n",
       "  & Jan & Feb & Mar & Apr & May & Jun & Jul & Aug & Sep & Oct & Nov & Dec\\\\\n",
       "\\hline\n",
       "\t2000 &  73.0 &  73.1 &  73.1 &  73.0 &  73.2 &  73.7 &  74.3 &  74.4 &  74.2 &  74.4 &  74.5 &  74.6\\\\\n",
       "\t2001 &  76.0 &  76.0 &  76.1 &  76.4 &  76.9 &  77.6 &  78.3 &  78.2 &  77.6 &  77.6 &  77.4 &  77.5\\\\\n",
       "\t2002 &  78.6 &  78.6 &  78.6 &  78.6 &  78.5 &  78.3 &  78.5 &  78.4 &  77.9 &  77.7 &  77.6 &  77.6\\\\\n",
       "\t2003 &  78.0 &  78.2 &  78.1 &  78.3 &  78.3 &  78.3 &  78.3 &  78.2 &  77.9 &  78.0 &  78.2 &  78.4\\\\\n",
       "\t2004 &  79.6 &  79.7 &  79.8 &  79.9 &  80.3 &  80.5 &  80.7 &  80.7 &  80.1 &  80.5 &  80.4 &  80.3\\\\\n",
       "\t2005 &  80.8 &  80.8 &  80.8 &  81.0 &  81.0 &  81.5 &  81.8 &  81.8 &  81.7 &  82.4 &  82.1 &  81.9\\\\\n",
       "\t2006 &  82.8 &  82.8 &  82.7 &  82.9 &  83.3 &  83.4 &  83.7 &  83.9 &  83.5 &  83.1 &  82.9 &  83.1\\\\\n",
       "\t2007 &  83.9 &  84.1 &  84.4 &  85.0 &  85.3 &  85.6 &  85.9 &  86.1 &  85.9 &  86.4 &  87.2 &  87.6\\\\\n",
       "\t2008 &  90.5 &  90.6 &  90.4 &  90.8 &  91.1 &  91.3 &  91.7 &  91.5 &  91.3 &  91.4 &  90.8 &  90.5\\\\\n",
       "\t2009 &  91.8 &  91.8 &  92.0 &  91.9 &  92.0 &  92.0 &  91.6 &  91.5 &  91.0 &  90.9 &  90.9 &  91.0\\\\\n",
       "\t2010 &  92.0 &  92.1 &  92.3 &  92.7 &  92.9 &  92.8 &  93.1 &  92.9 &  92.7 &  92.4 &  92.6 &  93.1\\\\\n",
       "\t2011 &  93.8 &  93.9 &  94.0 &  94.2 &  94.7 &  94.7 &  94.9 &  94.8 &  94.7 &  94.9 &  95.3 &  95.7\\\\\n",
       "\t2012 &  97.4 &  97.6 &  97.9 &  97.9 &  98.1 &  98.3 &  98.1 &  98.1 &  98.0 &  98.3 &  98.0 &  98.0\\\\\n",
       "\t2013 &  99.3 &  99.3 &  99.4 &  99.6 &  99.3 &  99.8 &  99.5 &  99.3 &  99.0 &  99.1 &  99.0 &  99.5\\\\\n",
       "\t2014 &  99.6 &  99.6 &  99.7 &  99.7 &  99.8 &  99.8 & 100.0 & 100.0 &  99.8 &  99.9 &  99.6 &  99.5\\\\\n",
       "\t2015 &  99.5 &  99.6 &  99.8 & 100.2 & 100.5 & 100.7 & 100.5 & 100.2 & 100.1 & 100.0 &  99.6 &  99.4\\\\\n",
       "\t2016 & 100.0 & 100.1 & 100.1 & 100.7 & 100.5 & 100.6 & 101.0 & 100.8 & 100.6 & 100.8 & 101.2 & 101.5\\\\\n",
       "\t2017 & 102.3 & 102.7 & 102.7 & 102.8 & 103.0 & 103.0 & 103.4 & 103.2 & 103.1 & 103.6 & 103.7 & 103.7\\\\\n",
       "\t2018 & 104.4 & 104.3 & 104.3 & 104.6 & 105.1 & 105.5 & 105.7 & 105.7 & 105.3 & 105.7 & 105.4 & 105.4\\\\\n",
       "\t2019 & 106.5 & 106.8 & 107.0 & 107.1 & 107.8 & 108.0 & 108.4 & 108.5 & 108.0 & 108.5 & 108.6 & 108.8\\\\\n",
       "\t2020 & 110.5 & 110.8 & 110.8 & 110.6 & 111.1 & 111.7 & 112.3 & 112.3 & 111.6 & 111.7 & 111.6 & 111.4\\\\\n",
       "\t2021 & 112.9 & 113.1 & 113.3 & 114.0 & 114.1 & 114.5 & 115.3 & 115.8 & 116.1 & 117.1 & 117.0 & 117.4\\\\\n",
       "\t2022 & 122.8 & 124.4 & 126.8 & 129.1 & 131.5 & 133.5 & 135.2 & 135.6 & 136.8 & 135.3 & 137.1 & 137.1\\\\\n",
       "\t2023 & 146.2 &       &       &       &       &       &       &       &       &       &       &      \\\\\n",
       "\\end{tabular}\n"
      ],
      "text/markdown": [
       "\n",
       "A Time Series: 24 × 12\n",
       "\n",
       "| <!--/--> | Jan | Feb | Mar | Apr | May | Jun | Jul | Aug | Sep | Oct | Nov | Dec |\n",
       "|---|---|---|---|---|---|---|---|---|---|---|---|---|\n",
       "| 2000 |  73.0 |  73.1 |  73.1 |  73.0 |  73.2 |  73.7 |  74.3 |  74.4 |  74.2 |  74.4 |  74.5 |  74.6 |\n",
       "| 2001 |  76.0 |  76.0 |  76.1 |  76.4 |  76.9 |  77.6 |  78.3 |  78.2 |  77.6 |  77.6 |  77.4 |  77.5 |\n",
       "| 2002 |  78.6 |  78.6 |  78.6 |  78.6 |  78.5 |  78.3 |  78.5 |  78.4 |  77.9 |  77.7 |  77.6 |  77.6 |\n",
       "| 2003 |  78.0 |  78.2 |  78.1 |  78.3 |  78.3 |  78.3 |  78.3 |  78.2 |  77.9 |  78.0 |  78.2 |  78.4 |\n",
       "| 2004 |  79.6 |  79.7 |  79.8 |  79.9 |  80.3 |  80.5 |  80.7 |  80.7 |  80.1 |  80.5 |  80.4 |  80.3 |\n",
       "| 2005 |  80.8 |  80.8 |  80.8 |  81.0 |  81.0 |  81.5 |  81.8 |  81.8 |  81.7 |  82.4 |  82.1 |  81.9 |\n",
       "| 2006 |  82.8 |  82.8 |  82.7 |  82.9 |  83.3 |  83.4 |  83.7 |  83.9 |  83.5 |  83.1 |  82.9 |  83.1 |\n",
       "| 2007 |  83.9 |  84.1 |  84.4 |  85.0 |  85.3 |  85.6 |  85.9 |  86.1 |  85.9 |  86.4 |  87.2 |  87.6 |\n",
       "| 2008 |  90.5 |  90.6 |  90.4 |  90.8 |  91.1 |  91.3 |  91.7 |  91.5 |  91.3 |  91.4 |  90.8 |  90.5 |\n",
       "| 2009 |  91.8 |  91.8 |  92.0 |  91.9 |  92.0 |  92.0 |  91.6 |  91.5 |  91.0 |  90.9 |  90.9 |  91.0 |\n",
       "| 2010 |  92.0 |  92.1 |  92.3 |  92.7 |  92.9 |  92.8 |  93.1 |  92.9 |  92.7 |  92.4 |  92.6 |  93.1 |\n",
       "| 2011 |  93.8 |  93.9 |  94.0 |  94.2 |  94.7 |  94.7 |  94.9 |  94.8 |  94.7 |  94.9 |  95.3 |  95.7 |\n",
       "| 2012 |  97.4 |  97.6 |  97.9 |  97.9 |  98.1 |  98.3 |  98.1 |  98.1 |  98.0 |  98.3 |  98.0 |  98.0 |\n",
       "| 2013 |  99.3 |  99.3 |  99.4 |  99.6 |  99.3 |  99.8 |  99.5 |  99.3 |  99.0 |  99.1 |  99.0 |  99.5 |\n",
       "| 2014 |  99.6 |  99.6 |  99.7 |  99.7 |  99.8 |  99.8 | 100.0 | 100.0 |  99.8 |  99.9 |  99.6 |  99.5 |\n",
       "| 2015 |  99.5 |  99.6 |  99.8 | 100.2 | 100.5 | 100.7 | 100.5 | 100.2 | 100.1 | 100.0 |  99.6 |  99.4 |\n",
       "| 2016 | 100.0 | 100.1 | 100.1 | 100.7 | 100.5 | 100.6 | 101.0 | 100.8 | 100.6 | 100.8 | 101.2 | 101.5 |\n",
       "| 2017 | 102.3 | 102.7 | 102.7 | 102.8 | 103.0 | 103.0 | 103.4 | 103.2 | 103.1 | 103.6 | 103.7 | 103.7 |\n",
       "| 2018 | 104.4 | 104.3 | 104.3 | 104.6 | 105.1 | 105.5 | 105.7 | 105.7 | 105.3 | 105.7 | 105.4 | 105.4 |\n",
       "| 2019 | 106.5 | 106.8 | 107.0 | 107.1 | 107.8 | 108.0 | 108.4 | 108.5 | 108.0 | 108.5 | 108.6 | 108.8 |\n",
       "| 2020 | 110.5 | 110.8 | 110.8 | 110.6 | 111.1 | 111.7 | 112.3 | 112.3 | 111.6 | 111.7 | 111.6 | 111.4 |\n",
       "| 2021 | 112.9 | 113.1 | 113.3 | 114.0 | 114.1 | 114.5 | 115.3 | 115.8 | 116.1 | 117.1 | 117.0 | 117.4 |\n",
       "| 2022 | 122.8 | 124.4 | 126.8 | 129.1 | 131.5 | 133.5 | 135.2 | 135.6 | 136.8 | 135.3 | 137.1 | 137.1 |\n",
       "| 2023 | 146.2 | <!----> | <!----> | <!----> | <!----> | <!----> | <!----> | <!----> | <!----> | <!----> | <!----> | <!----> |\n",
       "\n"
      ],
      "text/plain": [
       "     Jan   Feb   Mar   Apr   May   Jun   Jul   Aug   Sep   Oct   Nov   Dec  \n",
       "2000  73.0  73.1  73.1  73.0  73.2  73.7  74.3  74.4  74.2  74.4  74.5  74.6\n",
       "2001  76.0  76.0  76.1  76.4  76.9  77.6  78.3  78.2  77.6  77.6  77.4  77.5\n",
       "2002  78.6  78.6  78.6  78.6  78.5  78.3  78.5  78.4  77.9  77.7  77.6  77.6\n",
       "2003  78.0  78.2  78.1  78.3  78.3  78.3  78.3  78.2  77.9  78.0  78.2  78.4\n",
       "2004  79.6  79.7  79.8  79.9  80.3  80.5  80.7  80.7  80.1  80.5  80.4  80.3\n",
       "2005  80.8  80.8  80.8  81.0  81.0  81.5  81.8  81.8  81.7  82.4  82.1  81.9\n",
       "2006  82.8  82.8  82.7  82.9  83.3  83.4  83.7  83.9  83.5  83.1  82.9  83.1\n",
       "2007  83.9  84.1  84.4  85.0  85.3  85.6  85.9  86.1  85.9  86.4  87.2  87.6\n",
       "2008  90.5  90.6  90.4  90.8  91.1  91.3  91.7  91.5  91.3  91.4  90.8  90.5\n",
       "2009  91.8  91.8  92.0  91.9  92.0  92.0  91.6  91.5  91.0  90.9  90.9  91.0\n",
       "2010  92.0  92.1  92.3  92.7  92.9  92.8  93.1  92.9  92.7  92.4  92.6  93.1\n",
       "2011  93.8  93.9  94.0  94.2  94.7  94.7  94.9  94.8  94.7  94.9  95.3  95.7\n",
       "2012  97.4  97.6  97.9  97.9  98.1  98.3  98.1  98.1  98.0  98.3  98.0  98.0\n",
       "2013  99.3  99.3  99.4  99.6  99.3  99.8  99.5  99.3  99.0  99.1  99.0  99.5\n",
       "2014  99.6  99.6  99.7  99.7  99.8  99.8 100.0 100.0  99.8  99.9  99.6  99.5\n",
       "2015  99.5  99.6  99.8 100.2 100.5 100.7 100.5 100.2 100.1 100.0  99.6  99.4\n",
       "2016 100.0 100.1 100.1 100.7 100.5 100.6 101.0 100.8 100.6 100.8 101.2 101.5\n",
       "2017 102.3 102.7 102.7 102.8 103.0 103.0 103.4 103.2 103.1 103.6 103.7 103.7\n",
       "2018 104.4 104.3 104.3 104.6 105.1 105.5 105.7 105.7 105.3 105.7 105.4 105.4\n",
       "2019 106.5 106.8 107.0 107.1 107.8 108.0 108.4 108.5 108.0 108.5 108.6 108.8\n",
       "2020 110.5 110.8 110.8 110.6 111.1 111.7 112.3 112.3 111.6 111.7 111.6 111.4\n",
       "2021 112.9 113.1 113.3 114.0 114.1 114.5 115.3 115.8 116.1 117.1 117.0 117.4\n",
       "2022 122.8 124.4 126.8 129.1 131.5 133.5 135.2 135.6 136.8 135.3 137.1 137.1\n",
       "2023 146.2                                                                  "
      ]
     },
     "metadata": {},
     "output_type": "display_data"
    }
   ],
   "source": [
    "# Převedeme do formátu časové řady\n",
    "i <- i$index\n",
    "i <- ts(i, frequency=12, start=c(2000,1))\n",
    "i"
   ]
  },
  {
   "cell_type": "code",
   "execution_count": 18,
   "id": "8578e117",
   "metadata": {
    "scrolled": false
   },
   "outputs": [
    {
     "data": {
      "image/png": "[encoded data removed]",
      "text/plain": [
       "Plot with title \"Nemodifikovaná časová řada\""
      ]
     },
     "metadata": {
      "image/png": {
       "height": 420,
       "width": 420
      }
     },
     "output_type": "display_data"
    }
   ],
   "source": [
    "# Vykreslení indexu bez úprav\n",
    "\n",
    "plot.ts(i, main=\"Nemodifikovaná časová řada\", type= \"l\")"
   ]
  },
  {
   "cell_type": "code",
   "execution_count": 19,
   "id": "0b9b7e8c",
   "metadata": {},
   "outputs": [
    {
     "data": {
      "image/png": "[encoded data removed]",
      "text/plain": [
       "plot without title"
      ]
     },
     "metadata": {
      "image/png": {
       "height": 420,
       "width": 420
      }
     },
     "output_type": "display_data"
    }
   ],
   "source": [
    "# Dekompozice časové řady\n",
    "\n",
    "plot(decompose(i))"
   ]
  },
  {
   "cell_type": "code",
   "execution_count": null,
   "id": "9c2b1356",
   "metadata": {},
   "outputs": [],
   "source": [
    "Index bude nutné nejprve očistit od sezónní složky."
   ]
  },
  {
   "cell_type": "markdown",
   "id": "41139f31",
   "metadata": {},
   "source": [
    "1. Transformujte získané časové řady do podoby temp růstu (diference logaritmů) popř. diferencí (dle typu modelované řady). Která z nabízených transformací je pro jednotlivé řady vhodná či nevhodná a proč? Graficky prezentujte vývoj použitých časových řad (původních i vhodně transformovaných)."
   ]
  },
  {
   "cell_type": "code",
   "execution_count": 20,
   "id": "9622252d",
   "metadata": {},
   "outputs": [],
   "source": [
    "# Nejdříve odečteme sezónní složku, v opačném případě nás funkce arima() upozorní, že časová řada není stacionární\n",
    "\n",
    "deco <- decompose(i)  # Aditivní časovou řadu rozložíme na složky\n",
    "i <- i - deco$seasonal    # Odečteme sezónnost od celku"
   ]
  },
  {
   "cell_type": "code",
   "execution_count": 10,
   "id": "d4bdb4d0",
   "metadata": {},
   "outputs": [
    {
     "data": {
      "image/png": "[encoded data removed]",
      "text/plain": [
       "plot without title"
      ]
     },
     "metadata": {
      "image/png": {
       "height": 420,
       "width": 420
      }
     },
     "output_type": "display_data"
    }
   ],
   "source": [
    "plot(diff(i))"
   ]
  },
  {
   "cell_type": "code",
   "execution_count": 21,
   "id": "ff0ee6b9",
   "metadata": {},
   "outputs": [],
   "source": [
    "# Načteme knihovnu forecast\n",
    "library(forecast)\n",
    "\n",
    "# Diferencování řady pro dosažení stacionarity\n",
    "diff_i <- diff(log(i))"
   ]
  },
  {
   "cell_type": "markdown",
   "id": "42287e10",
   "metadata": {},
   "source": [
    "2. Namodelujte zvolené řady alternativními ARMA modely (minimálně šesti), a to pro celé zkoumané období. Zdůvodněte volbu těchto modelů (komentujte v této souvislosti např. ACF a PACF zvolené řady)."
   ]
  },
  {
   "cell_type": "code",
   "execution_count": 49,
   "id": "b77a1c53",
   "metadata": {},
   "outputs": [
    {
     "data": {
      "image/png": "[encoded data removed]",
      "text/plain": [
       "Plot with title \"PACF reziduí modelu\""
      ]
     },
     "metadata": {
      "image/png": {
       "height": 420,
       "width": 420
      }
     },
     "output_type": "display_data"
    }
   ],
   "source": [
    "model_10 <- Arima(diff_i, order = c(1, 0, 0))  # AR(1)\n",
    "\n",
    "par(mfrow = c(1, 3))\n",
    "\n",
    "# Vytvoř graf\n",
    "plot(diff_i, type = \"l\", main = \"ARMA Model\")\n",
    "lines(fitted(model_10), col = \"red\")\n",
    "legend(\"topleft\", legend = c(\"Původní\", \"ARMA(1, 0)\"), col = c(\"black\", \"red\"), lty = c(1, 1))\n",
    "\n",
    "acf(residuals(model_10), main = \"ACF reziduí modelu\", lag=50)\n",
    "\n",
    "pacf(residuals(model_10), main = \"PACF reziduí modelu\", lag=50)"
   ]
  },
  {
   "cell_type": "code",
   "execution_count": 50,
   "id": "1fddfc78",
   "metadata": {},
   "outputs": [
    {
     "data": {
      "image/png": "[encoded data removed]",
      "text/plain": [
       "Plot with title \"PACF reziduí modelu\""
      ]
     },
     "metadata": {
      "image/png": {
       "height": 420,
       "width": 420
      }
     },
     "output_type": "display_data"
    }
   ],
   "source": [
    "model_01 <- arima(diff_i, order = c(0, 0, 1))  # MA(1)\n",
    "\n",
    "par(mfrow = c(1, 3))\n",
    "\n",
    "# Vytvoříme graf\n",
    "plot(diff_i, type = \"l\", main = \"ARMA model 01\")\n",
    "lines(fitted(model_01), col = \"red\")\n",
    "legend(\"topleft\", legend = c(\"Původní\", \"ARMA(1, 1)\"), col = c(\"black\", \"red\"), lty = c(1, 1))\n",
    "\n",
    "acf(residuals(model_01), main = \"ACF reziduí modelu\", lag=50)\n",
    "\n",
    "pacf(residuals(model_01), main = \"PACF reziduí modelu\", lag=50)"
   ]
  },
  {
   "cell_type": "code",
   "execution_count": 51,
   "id": "79042036",
   "metadata": {},
   "outputs": [
    {
     "data": {
      "image/png": "[encoded data removed]",
      "text/plain": [
       "Plot with title \"PACF reziduí modelu\""
      ]
     },
     "metadata": {
      "image/png": {
       "height": 420,
       "width": 420
      }
     },
     "output_type": "display_data"
    }
   ],
   "source": [
    "model_21 <- Arima(diff_i, order = c(2, 0, 1))  # ARMA(2,1)\n",
    "\n",
    "par(mfrow = c(1, 3))\n",
    "\n",
    "# Vytvoř graf\n",
    "plot(diff_i, type = \"l\", main = \"ARMA model 21\")\n",
    "lines(fitted(model_21), col = \"red\")\n",
    "legend(\"topleft\", legend = c(\"Původní\", \"ARMA(2, 1)\"), col = c(\"black\", \"red\"), lty = c(1, 1))\n",
    "\n",
    "\n",
    "acf(residuals(model_21), main = \"ACF reziduí modelu\", lag=50)\n",
    "\n",
    "pacf(residuals(model_21), main = \"PACF reziduí modelu\", lag=50)"
   ]
  },
  {
   "cell_type": "code",
   "execution_count": 84,
   "id": "f6e40a37",
   "metadata": {},
   "outputs": [
    {
     "data": {
      "image/png": "[encoded data removed]",
      "text/plain": [
       "Plot with title \"PACF reziduí modelu\""
      ]
     },
     "metadata": {
      "image/png": {
       "height": 420,
       "width": 420
      }
     },
     "output_type": "display_data"
    }
   ],
   "source": [
    "model <- Arima(diff_i, order = c(5, 0, 4))  # ARMA(2,1)\n",
    "\n",
    "par(mfrow = c(1, 3))\n",
    "\n",
    "# Vytvoř graf\n",
    "plot(diff_i, type = \"l\", main = \"ARMA model 21\")\n",
    "lines(fitted(model), col = \"red\")\n",
    "legend(\"topleft\", legend = c(\"Původní\", \"ARMA(2, 1)\"), col = c(\"black\", \"red\"), lty = c(1, 1))\n",
    "\n",
    "\n",
    "acf(residuals(model), main = \"ACF reziduí modelu\", lag=50)\n",
    "\n",
    "pacf(residuals(model), main = \"PACF reziduí modelu\", lag=50)"
   ]
  },
  {
   "cell_type": "code",
   "execution_count": 77,
   "id": "d0fa35c4",
   "metadata": {},
   "outputs": [
    {
     "ename": "ERROR",
     "evalue": "Error in stats::arima(x = x, order = order, seasonal = seasonal, include.mean = include.mean, : non-stationary AR part from CSS\n",
     "output_type": "error",
     "traceback": [
      "Error in stats::arima(x = x, order = order, seasonal = seasonal, include.mean = include.mean, : non-stationary AR part from CSS\nTraceback:\n",
      "1. Arima(diff_i, order = c(2, 0, 2))",
      "2. suppressWarnings(tmp <- stats::arima(x = x, order = order, seasonal = seasonal, \n .     include.mean = include.mean, method = method, ...))",
      "3. withCallingHandlers(expr, warning = function(w) if (inherits(w, \n .     classes)) tryInvokeRestart(\"muffleWarning\"))",
      "4. stats::arima(x = x, order = order, seasonal = seasonal, include.mean = include.mean, \n .     method = method, ...)",
      "5. stop(\"non-stationary AR part from CSS\")"
     ]
    }
   ],
   "source": [
    "model_ <- Arima(diff_i, order = c(2, 0, 2))  # ARMA(2,1)\n",
    "\n",
    "par(mfrow = c(1, 3))\n",
    "\n",
    "# Vytvoř graf\n",
    "plot(diff_i, type = \"l\", main = \"ARMA model 21\")\n",
    "lines(fitted(model), col = \"red\")\n",
    "legend(\"topleft\", legend = c(\"Původní\", \"ARMA(2, 1)\"), col = c(\"black\", \"red\"), lty = c(1, 1))\n",
    "\n",
    "\n",
    "acf(residuals(model), main = \"ACF reziduí modelu\", lag=50)\n",
    "\n",
    "pacf(residuals(model), main = \"PACF reziduí modelu\", lag=50)"
   ]
  },
  {
   "cell_type": "code",
   "execution_count": null,
   "id": "6f38774e",
   "metadata": {},
   "outputs": [],
   "source": []
  },
  {
   "cell_type": "markdown",
   "id": "73886abd",
   "metadata": {},
   "source": [
    "3. Proveďte pro jednotlivé modely potřebné diagnostické testy (hlavně tedy test autokorelace, ověření stability odhadnutého modelu), srovnejte a komentujte jejich výsledky, případně sjednejte nápravu novou specifikací modelu, pokud testy indikují nežádoucí vlastnosti všech těchto modelů. Pro přehlednost můžete prezentovat výstupy diagnostik v jedné přehledné tabulce pro všechny modely."
   ]
  },
  {
   "cell_type": "code",
   "execution_count": 69,
   "id": "0071516c",
   "metadata": {},
   "outputs": [
    {
     "data": {
      "text/html": [
       "<table class=\"dataframe\">\n",
       "<caption>A data.frame: 3 × 3</caption>\n",
       "<thead>\n",
       "\t<tr><th scope=col>Model</th><th scope=col>AIC</th><th scope=col>Ljung_Box_Q</th></tr>\n",
       "\t<tr><th scope=col>&lt;chr&gt;</th><th scope=col>&lt;dbl&gt;</th><th scope=col>&lt;chr&gt;</th></tr>\n",
       "</thead>\n",
       "<tbody>\n",
       "\t<tr><td>AR(1)     </td><td>-2098.629</td><td>2.1894e-07</td></tr>\n",
       "\t<tr><td>MA(1)     </td><td>-2089.772</td><td>1.5048e-12</td></tr>\n",
       "\t<tr><td>ARMA(2, 1)</td><td>-2132.584</td><td>0.89948   </td></tr>\n",
       "</tbody>\n",
       "</table>\n"
      ],
      "text/latex": [
       "A data.frame: 3 × 3\n",
       "\\begin{tabular}{lll}\n",
       " Model & AIC & Ljung\\_Box\\_Q\\\\\n",
       " <chr> & <dbl> & <chr>\\\\\n",
       "\\hline\n",
       "\t AR(1)      & -2098.629 & 2.1894e-07\\\\\n",
       "\t MA(1)      & -2089.772 & 1.5048e-12\\\\\n",
       "\t ARMA(2, 1) & -2132.584 & 0.89948   \\\\\n",
       "\\end{tabular}\n"
      ],
      "text/markdown": [
       "\n",
       "A data.frame: 3 × 3\n",
       "\n",
       "| Model &lt;chr&gt; | AIC &lt;dbl&gt; | Ljung_Box_Q &lt;chr&gt; |\n",
       "|---|---|---|\n",
       "| AR(1)      | -2098.629 | 2.1894e-07 |\n",
       "| MA(1)      | -2089.772 | 1.5048e-12 |\n",
       "| ARMA(2, 1) | -2132.584 | 0.89948    |\n",
       "\n"
      ],
      "text/plain": [
       "  Model      AIC       Ljung_Box_Q\n",
       "1 AR(1)      -2098.629 2.1894e-07 \n",
       "2 MA(1)      -2089.772 1.5048e-12 \n",
       "3 ARMA(2, 1) -2132.584 0.89948    "
      ]
     },
     "metadata": {},
     "output_type": "display_data"
    },
    {
     "data": {
      "text/plain": [
       "\n",
       "\tBox-Pierce test\n",
       "\n",
       "data:  residuals(model_21)\n",
       "X-squared = 0.020048, df = 1, p-value = 0.8874\n"
      ]
     },
     "metadata": {},
     "output_type": "display_data"
    },
    {
     "data": {
      "text/html": [
       "0.899477210804374"
      ],
      "text/latex": [
       "0.899477210804374"
      ],
      "text/markdown": [
       "0.899477210804374"
      ],
      "text/plain": [
       "[1] 0.8994772"
      ]
     },
     "metadata": {},
     "output_type": "display_data"
    },
    {
     "data": {
      "text/html": [
       "-2098.62932502473"
      ],
      "text/latex": [
       "-2098.62932502473"
      ],
      "text/markdown": [
       "-2098.62932502473"
      ],
      "text/plain": [
       "[1] -2098.629"
      ]
     },
     "metadata": {},
     "output_type": "display_data"
    }
   ],
   "source": [
    "diagnostics <- data.frame(Model = c(\"AR(1)\", \"MA(1)\", \"ARMA(2, 1)\"),\n",
    "                           AIC = c(AIC(model_10), AIC(model_01), AIC(model_21)),\n",
    "                           Ljung_Box_Q = c(format.pval(Box.test(residuals(model_10), lag = 10)$p.value),\n",
    "                                           format.pval(Box.test(residuals(model_01), lag = 10)$p.value),\n",
    "                                           format.pval(Box.test(residuals(model_21), lag = 10)$p.value)))\n",
    "diagnostics\n",
    "\n",
    "Box.test(residuals(model_21))\n",
    "Box.test(residuals(model_21), lag = 10)$p.value\n",
    "\n",
    "AIC(model_10)"
   ]
  },
  {
   "cell_type": "markdown",
   "id": "fa52e626",
   "metadata": {},
   "source": [
    "4. Zobrazte si původní řady a řady vyrovnáných hodnot a s využitím vhodných statistik či charakteristik rozhodněte o kvalitě vyrovnání těchto řad vašimi modely. Prezentujte výsledky srovnání v přehledné tabulce. Okomentujte (a zdůvodněte), který z modelů byste ve výsledku zvolili jako nejvhodnější."
   ]
  },
  {
   "cell_type": "code",
   "execution_count": 74,
   "id": "c1149e44",
   "metadata": {},
   "outputs": [
    {
     "name": "stdout",
     "output_type": "stream",
     "text": [
      "     Model  R_squared Correlation Skewness Kurtosis       AIC       BIC\n",
      "1 model_10 0.06456189   0.2540903 2.395993 17.83618 -2098.629 -2087.768\n",
      "2 model_01 0.03800993   0.1949613 2.299718 18.99032 -2089.772 -2078.911\n",
      "3 model_21 0.18615698   0.4314591 2.490699 16.59539 -2132.584 -2114.482\n"
     ]
    }
   ],
   "source": [
    "library(moments)\n",
    "\n",
    "smoothed_10 <- fitted(model_10)\n",
    "smoothed_01 <- fitted(model_01)\n",
    "smoothed_21 <- fitted(model_21)\n",
    "\n",
    "# Statistiky pro srovnání\n",
    "r_squared <- c(cor(diff_i, smoothed_10)^2, cor(diff_i, smoothed_01)^2, cor(diff_i, smoothed_21)^2)\n",
    "correlation <- c(cor(diff_i, smoothed_10), cor(diff_i, smoothed_01), cor(diff_i, smoothed_21))\n",
    "skewness <- c(skewness(smoothed_10), skewness(smoothed_01), skewness(smoothed_21))\n",
    "kurtosis <- c(kurtosis(smoothed_10), kurtosis(smoothed_01), kurtosis(smoothed_21))\n",
    "aic <- c(AIC(model_10), AIC(model_01), AIC(model_21))\n",
    "bic <- c(BIC(model_10), BIC(model_01), BIC(model_21))\n",
    "\n",
    "# Vytvoř přehlednou tabulku s výsledky srovnání\n",
    "comparison <- data.frame(Model = c(\"model_10\", \"model_01\", \"model_21\"),\n",
    "                         R_squared = r_squared,\n",
    "                         Correlation = correlation,\n",
    "                         Skewness = skewness,\n",
    "                         Kurtosis = kurtosis,\n",
    "                         AIC = aic,\n",
    "                         BIC = bic)\n",
    "\n",
    "# Zobraz přehlednou tabulku\n",
    "print(comparison)"
   ]
  },
  {
   "cell_type": "code",
   "execution_count": 76,
   "id": "bde168b6",
   "metadata": {
    "scrolled": false
   },
   "outputs": [
    {
     "name": "stderr",
     "output_type": "stream",
     "text": [
      "\u001b[1m\u001b[22mDon't know how to automatically pick scale for object of type \u001b[34m<ts>\u001b[39m. Defaulting to continuous.\n"
     ]
    },
    {
     "data": {
      "image/png": "[encoded data removed]",
      "text/plain": [
       "plot without title"
      ]
     },
     "metadata": {
      "image/png": {
       "height": 420,
       "width": 420
      }
     },
     "output_type": "display_data"
    }
   ],
   "source": [
    "library(ggplot2)\n",
    "\n",
    "data <- data.frame(Time = 1:length(diff_i),\n",
    "                   Original = diff_i,\n",
    "                   Model_10 = smoothed_10,\n",
    "                   Model_01 = smoothed_01,\n",
    "                   Model_21 = smoothed_21)\n",
    "\n",
    "# Vykreslení grafu pomocí ggplot\n",
    "ggplot(data, aes(Time)) +\n",
    "  geom_line(aes(y = Original, color = \"Original\")) +\n",
    "  geom_line(aes(y = Model_10, color = \"Model 10\")) +\n",
    "  geom_line(aes(y = Model_01, color = \"Model 01\")) +\n",
    "  geom_line(aes(y = Model_21, color = \"Model 21\")) +\n",
    "  labs(x = \"Čas\", y = \"Hodnota\") +\n",
    "  scale_color_manual(values = c(\"Original\" = \"black\", \"Model 10\" = \"blue\", \"Model 01\" = \"red\", \"Model 21\" = \"green\")) +\n",
    "  theme_minimal()"
   ]
  },
  {
   "cell_type": "code",
   "execution_count": null,
   "id": "c77b3ed4",
   "metadata": {},
   "outputs": [],
   "source": [
    "Použít následující kód pro automatické nalezení nejlepšího modelu."
   ]
  },
  {
   "cell_type": "code",
   "execution_count": null,
   "id": "930e2ac0",
   "metadata": {},
   "outputs": [],
   "source": [
    "# Vyber modelu s nejnizsim informacnim kriteriem\n",
    "# Nemusime tvorit matice pro ukladani vysledku ani cyklus pro odhady\n",
    "# y = casova rada\n",
    "# d/D = pocet diferenci/pocet sezonnich diferenci\n",
    "# max.p/d/q/P/D/Q = maximalni mozny rad dane slozky\n",
    "# start.p/q/P/Q = nejnizsi mozny rad dane slozky\n",
    "# stepwise = FALSE -> prochazi vsechny mozne modely, mozno pouze pri malem mnozstvi modelu, v praxi spise stepwise = TRUE\n",
    "vyber_model_aic <- forecast::auto.arima( y, d = 0, D = 0, max.p = 3, max.q = 3,\n",
    "                                         max.P = 0, max.Q = 0, stepwise = FALSE,\n",
    "                                         max.d = 0, max.D = 0, start.p = 0,\n",
    "                                         start.q = 0,\n",
    "                                         ic = \"aic\" ) # kriterium pro volbu modelu \n",
    "\n",
    "vyber_model_bic <- forecast::auto.arima( y, d = 0, D = 0, max.p = 3, max.q = 3,\n",
    "                                         max.P = 0, max.Q = 0, stepwise = FALSE,\n",
    "                                         max.d = 0, max.D = 0, start.p = 0,\n",
    "                                         start.q = 0,\n",
    "                                         ic = \"bic\" ) # kriterium pro volbu modelu\n",
    "vyber_model_aic\n",
    "vyber_model_bic"
   ]
  },
  {
   "cell_type": "markdown",
   "id": "99e0800c",
   "metadata": {},
   "source": [
    "5. Jak by se změnily vaše závěry a odpovědi na předchozí otázky, pokud byste pracovali s řadami meziročních změn resp. temp růstu? Zopakujte tedy předchozí postup pro takto transformované řady."
   ]
  },
  {
   "cell_type": "markdown",
   "id": "65c89d0d",
   "metadata": {},
   "source": [
    "    Frekvence a časové intervaly: Meziroční změny jsou založeny na ročních intervalech, kde se měří změny mezi stejnými obdobími v různých letech. Měsíční index spotřebitelských cen se naopak vztahuje k měsíčním intervalům, kde se měří změny mezi jednotlivými měsíci.\n",
    "\n",
    "    Úroveň agregace: Meziroční změny zahrnují změny na úrovni celého roku, což znamená, že se zkoumají změny za celý rok ve srovnání s předchozím rokem. Měsíční index spotřebitelských cen se zaměřuje na změny na měsíční úrovni, což umožňuje sledovat krátkodobé trendy a sezónní vlivy.\n",
    "\n",
    "    Sezónnost: Měsíční index spotřebitelských cen obvykle zachycuje sezónnost v datech, protože spotřebitelské ceny mají tendenci vykazovat pravidelné vzorce změn v průběhu roku (například kvůli sezónním prodejům nebo sezónním vlivům na ceny surovin). Meziroční změny obvykle odstraňují sezónnost a zaměřují se na dlouhodobější trendy.\n",
    "\n",
    "    Charakteristiky šumu: Meziroční změny mají tendenci mít menší fluktuace a šum ve srovnání s měsíčním indexem spotřebitelských cen. Měsíční indexy mohou být ovlivněny různými faktory, jako jsou sezónní vlivy, ekonomické události nebo změny nabídky a poptávky, což vede k vyššímu šumu v datech.\n",
    "\n",
    "    Analytické možnosti: Meziroční změny se často používají k analýze dlouhodobých trendů a sezónních vlivů. Měsíční indexy jsou vhodné pro analýzu krátkodobých trendů, sezónních vzorců a měsíčních fluktuací."
   ]
  },
  {
   "cell_type": "markdown",
   "id": "28c9d880",
   "metadata": {},
   "source": [
    "6. Pokuste se na závěr namodelovat i řadu reálné úrokové míry (kterou si na základě získaných dat vytvořte) a komentujte a vhodně zdůvodněte, jestli je lépe modelovatelná řada nominální nebo reálné úrokové míry."
   ]
  },
  {
   "cell_type": "markdown",
   "id": "47f65a0c",
   "metadata": {},
   "source": [
    "    Nominální úroková míra je míra, která je poskytována bankami a finančními institucemi a vyjadřuje výši úroků bez ohledu na inflaci. Tato míra je ovlivněna nabídkou a poptávkou po úvěrech a investicích, inflačními očekáváními a dalšími ekonomickými faktory.\n",
    "\n",
    "    Reálná úroková míra je míra, která je upravena o inflaci a vyjadřuje skutečný výnos nebo náklady úvěru nebo investice. Reálná úroková míra bere v úvahu inflaci a umožňuje porovnání výnosů nebo nákladů v reálných hodnotách, tedy po odečtení inflace.\n",
    "    \n",
    "        Inflační očekávání: Pokud je cílem analýzy porozumět vlivu inflačních očekávání na úrokové míry, je vhodné pracovat s nominálními úrokovými mírami. Nominální úrokové míry jsou přímo ovlivňovány inflačními očekáváními a tím poskytují informace o budoucím vývoji cen.\n",
    "\n",
    "    Reálné výnosy a náklady: Pokud je cílem analýzy zjistit skutečné výnosy nebo náklady na úvěry a investice, je vhodné pracovat s reálnými úrokovými mírami. Reálné úrokové míry poskytují informace o skutečném výnosu nebo nákladu po odečtení inflace a umožňují lepší porovnání v čase a mezi různými investičními možnostmi.\n",
    "\n",
    "    Dostupnost dat: Dalším faktorem, který může ovlivnit volbu mezi nominální a reálnou úrokovou mírou, je dostupnost relevantních dat. Pokud jsou dostupná pouze data o nominálních úrokových mírách, bude nutné představitelné vlivy inflace zohlednit jiným způsobem (např. předpokládaným inflačním modelem)."
   ]
  }
 ],
 "metadata": {
  "kernelspec": {
   "display_name": "R",
   "language": "R",
   "name": "ir"
  },
  "language_info": {
   "codemirror_mode": "r",
   "file_extension": ".r",
   "mimetype": "text/x-r-source",
   "name": "R",
   "pygments_lexer": "r",
   "version": "4.1.3"
  }
 },
 "nbformat": 4,
 "nbformat_minor": 5
}
