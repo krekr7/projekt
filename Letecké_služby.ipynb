{
 "cells": [
  {
   "cell_type": "markdown",
   "id": "59844c42",
   "metadata": {},
   "source": [
    "# Analýza spokojenosti zákazníků letecké společnosti"
   ]
  },
  {
   "cell_type": "markdown",
   "id": "30236edd",
   "metadata": {},
   "source": [
    "### ESF MUNI, Datamining, jarní semestr 2023"
   ]
  },
  {
   "cell_type": "code",
   "execution_count": null,
   "id": "30e31da4",
   "metadata": {},
   "outputs": [],
   "source": [
    "Analýza spokojenosti zákazníku aerolinky\n",
    "\n",
    "Cílem tohoto projektu je provést datovou analýzu průzkumu provedeného \n",
    "mezi zákazníky letecké společnosti. Analýza poskytne důležité informace\n",
    "a poznatky pro management společnosti, které jim pomohou lépe porozumět zákazníkům,\n",
    "jejich potřebám a preferencím. Na základě těchto poznatků bude možné\n",
    "přijmout strategická rozhodnutí a zlepšit kvalitu poskytovaných služeb, \n",
    "což přinese byznysový přínos v podobě zvýšené spokojenosti zákazníků a jejich loajality.\n",
    "\n",
    "Provést průzkumnou faktorovou analýzu, pochopit, \n",
    "které faktory spokojenosti zákazníků se sdružují do skupin.\n",
    "\n",
    "Které faktory ovlivňují spokojenost nejvíce? K tomu využijeme lineární regresi.\n",
    "\n",
    "Prozkoumat významné proměnné a vizualizovat je."
   ]
  },
  {
   "cell_type": "code",
   "execution_count": null,
   "id": "46f6c428",
   "metadata": {},
   "outputs": [],
   "source": [
    "Jaka jsou omezení datasetu?\n",
    "\n",
    "1. Neznáme ceny letenek\n",
    "2. Spokojenost je definována velmi úzce dvěmi hodnotami, chtělo by to škálu 1 až 5, \n",
    "kterou by šlo získat leda zprůměrováním odpovědí v jednotlivých kategoriích\n",
    "3. V první časti se podívame na obsah datasetu (popisná statistika a explorativní analýza). "
   ]
  },
  {
   "cell_type": "code",
   "execution_count": 16,
   "id": "a5b76bda",
   "metadata": {},
   "outputs": [],
   "source": [
    "# Načtení průzkumu z .xlsx formátu.\n",
    "\n",
    "library(readxl)\n",
    "f <- read_excel(\"satisfaction.xlsx\")"
   ]
  },
  {
   "cell_type": "code",
   "execution_count": 173,
   "id": "27cece9d",
   "metadata": {},
   "outputs": [
    {
     "data": {
      "text/html": [
       "<style>\n",
       ".list-inline {list-style: none; margin:0; padding: 0}\n",
       ".list-inline>li {display: inline-block}\n",
       ".list-inline>li:not(:last-child)::after {content: \"\\00b7\"; padding: 0 .5ex}\n",
       "</style>\n",
       "<ol class=list-inline><li>'id'</li><li>'satisfaction_v2'</li><li>'Gender'</li><li>'Customer Type'</li><li>'Age'</li><li>'Type of Travel'</li><li>'Class'</li><li>'Flight Distance'</li><li>'Seat comfort'</li><li>'Departure/Arrival time convenient'</li><li>'Food and drink'</li><li>'Gate location'</li><li>'Inflight wifi service'</li><li>'Inflight entertainment'</li><li>'Online support'</li><li>'Ease of Online booking'</li><li>'On-board service'</li><li>'Leg room service'</li><li>'Baggage handling'</li><li>'Checkin service'</li><li>'Cleanliness'</li><li>'Online boarding'</li><li>'Departure Delay in Minutes'</li><li>'Arrival Delay in Minutes'</li></ol>\n"
      ],
      "text/latex": [
       "\\begin{enumerate*}\n",
       "\\item 'id'\n",
       "\\item 'satisfaction\\_v2'\n",
       "\\item 'Gender'\n",
       "\\item 'Customer Type'\n",
       "\\item 'Age'\n",
       "\\item 'Type of Travel'\n",
       "\\item 'Class'\n",
       "\\item 'Flight Distance'\n",
       "\\item 'Seat comfort'\n",
       "\\item 'Departure/Arrival time convenient'\n",
       "\\item 'Food and drink'\n",
       "\\item 'Gate location'\n",
       "\\item 'Inflight wifi service'\n",
       "\\item 'Inflight entertainment'\n",
       "\\item 'Online support'\n",
       "\\item 'Ease of Online booking'\n",
       "\\item 'On-board service'\n",
       "\\item 'Leg room service'\n",
       "\\item 'Baggage handling'\n",
       "\\item 'Checkin service'\n",
       "\\item 'Cleanliness'\n",
       "\\item 'Online boarding'\n",
       "\\item 'Departure Delay in Minutes'\n",
       "\\item 'Arrival Delay in Minutes'\n",
       "\\end{enumerate*}\n"
      ],
      "text/markdown": [
       "1. 'id'\n",
       "2. 'satisfaction_v2'\n",
       "3. 'Gender'\n",
       "4. 'Customer Type'\n",
       "5. 'Age'\n",
       "6. 'Type of Travel'\n",
       "7. 'Class'\n",
       "8. 'Flight Distance'\n",
       "9. 'Seat comfort'\n",
       "10. 'Departure/Arrival time convenient'\n",
       "11. 'Food and drink'\n",
       "12. 'Gate location'\n",
       "13. 'Inflight wifi service'\n",
       "14. 'Inflight entertainment'\n",
       "15. 'Online support'\n",
       "16. 'Ease of Online booking'\n",
       "17. 'On-board service'\n",
       "18. 'Leg room service'\n",
       "19. 'Baggage handling'\n",
       "20. 'Checkin service'\n",
       "21. 'Cleanliness'\n",
       "22. 'Online boarding'\n",
       "23. 'Departure Delay in Minutes'\n",
       "24. 'Arrival Delay in Minutes'\n",
       "\n",
       "\n"
      ],
      "text/plain": [
       " [1] \"id\"                                \"satisfaction_v2\"                  \n",
       " [3] \"Gender\"                            \"Customer Type\"                    \n",
       " [5] \"Age\"                               \"Type of Travel\"                   \n",
       " [7] \"Class\"                             \"Flight Distance\"                  \n",
       " [9] \"Seat comfort\"                      \"Departure/Arrival time convenient\"\n",
       "[11] \"Food and drink\"                    \"Gate location\"                    \n",
       "[13] \"Inflight wifi service\"             \"Inflight entertainment\"           \n",
       "[15] \"Online support\"                    \"Ease of Online booking\"           \n",
       "[17] \"On-board service\"                  \"Leg room service\"                 \n",
       "[19] \"Baggage handling\"                  \"Checkin service\"                  \n",
       "[21] \"Cleanliness\"                       \"Online boarding\"                  \n",
       "[23] \"Departure Delay in Minutes\"        \"Arrival Delay in Minutes\"         "
      ]
     },
     "metadata": {},
     "output_type": "display_data"
    }
   ],
   "source": [
    "# Názvy sloupců jsou v angličtině\n",
    "\n",
    "colnames(f)"
   ]
  },
  {
   "cell_type": "code",
   "execution_count": 17,
   "id": "55ca48f1",
   "metadata": {},
   "outputs": [],
   "source": [
    "# Změníme je raději na české\n",
    "\n",
    "colnames(f) <- c(\"id\", \"spokojenost\", \"pohlavi\", \"typ_zakaznika\", \"vek\", \"typ_cestovani\", \"trida\", \"vzdalenost_letu\", \"komfort_sedadla\",\n",
    "                 \"cas_odlet_prilet_pohodlnost\", \"jidlo_a_piti\", \"poloha_gate\", \"wifi_na_palube\", \"zabava_na_palube\", \"online_podpora\",\n",
    "                 \"snadnost_online_rezervace\", \"sluzby_na_palube\", \"sluzby_pro_prostor_na_nohy\", \"manipulace_s_batohem\",\n",
    "                 \"checkin_sluzba\", \"cistota\", \"online_nastup\", \"zpozdeni_odletu_v_minutach\", \"zpozdeni_priletu_v_minutach\")"
   ]
  },
  {
   "cell_type": "code",
   "execution_count": 156,
   "id": "4e2c1790",
   "metadata": {},
   "outputs": [
    {
     "data": {
      "text/html": [
       "<style>\n",
       ".list-inline {list-style: none; margin:0; padding: 0}\n",
       ".list-inline>li {display: inline-block}\n",
       ".list-inline>li:not(:last-child)::after {content: \"\\00b7\"; padding: 0 .5ex}\n",
       "</style>\n",
       "<ol class=list-inline><li>'id'</li><li>'spokojenost'</li><li>'pohlavi'</li><li>'typ_zakaznika'</li><li>'vek'</li><li>'typ_cestovani'</li><li>'trida'</li><li>'vzdalenost_letu'</li><li>'wifi_na_palube'</li><li>'pohodli_pri_case_odlotu_priletu'</li><li>'snadnost_online_rezervace'</li><li>'poloha_gate'</li><li>'jidlo_a_piti'</li><li>'online_nastup'</li><li>'komfort_sedadla'</li><li>'zabava_na_palube'</li><li>'sluzby_na_palube'</li><li>'sluzby_pro_prostor_na_nohy'</li><li>'manipulace_s_batohem'</li><li>'checkin_sluzba'</li><li>'sluzby_na_palube'</li><li>'cistota'</li><li>'zpozdeni_odlotu_v_minutach'</li><li>'zpozdeni_priletu_v_minutach'</li></ol>\n"
      ],
      "text/latex": [
       "\\begin{enumerate*}\n",
       "\\item 'id'\n",
       "\\item 'spokojenost'\n",
       "\\item 'pohlavi'\n",
       "\\item 'typ\\_zakaznika'\n",
       "\\item 'vek'\n",
       "\\item 'typ\\_cestovani'\n",
       "\\item 'trida'\n",
       "\\item 'vzdalenost\\_letu'\n",
       "\\item 'wifi\\_na\\_palube'\n",
       "\\item 'pohodli\\_pri\\_case\\_odlotu\\_priletu'\n",
       "\\item 'snadnost\\_online\\_rezervace'\n",
       "\\item 'poloha\\_gate'\n",
       "\\item 'jidlo\\_a\\_piti'\n",
       "\\item 'online\\_nastup'\n",
       "\\item 'komfort\\_sedadla'\n",
       "\\item 'zabava\\_na\\_palube'\n",
       "\\item 'sluzby\\_na\\_palube'\n",
       "\\item 'sluzby\\_pro\\_prostor\\_na\\_nohy'\n",
       "\\item 'manipulace\\_s\\_batohem'\n",
       "\\item 'checkin\\_sluzba'\n",
       "\\item 'sluzby\\_na\\_palube'\n",
       "\\item 'cistota'\n",
       "\\item 'zpozdeni\\_odlotu\\_v\\_minutach'\n",
       "\\item 'zpozdeni\\_priletu\\_v\\_minutach'\n",
       "\\end{enumerate*}\n"
      ],
      "text/markdown": [
       "1. 'id'\n",
       "2. 'spokojenost'\n",
       "3. 'pohlavi'\n",
       "4. 'typ_zakaznika'\n",
       "5. 'vek'\n",
       "6. 'typ_cestovani'\n",
       "7. 'trida'\n",
       "8. 'vzdalenost_letu'\n",
       "9. 'wifi_na_palube'\n",
       "10. 'pohodli_pri_case_odlotu_priletu'\n",
       "11. 'snadnost_online_rezervace'\n",
       "12. 'poloha_gate'\n",
       "13. 'jidlo_a_piti'\n",
       "14. 'online_nastup'\n",
       "15. 'komfort_sedadla'\n",
       "16. 'zabava_na_palube'\n",
       "17. 'sluzby_na_palube'\n",
       "18. 'sluzby_pro_prostor_na_nohy'\n",
       "19. 'manipulace_s_batohem'\n",
       "20. 'checkin_sluzba'\n",
       "21. 'sluzby_na_palube'\n",
       "22. 'cistota'\n",
       "23. 'zpozdeni_odlotu_v_minutach'\n",
       "24. 'zpozdeni_priletu_v_minutach'\n",
       "\n",
       "\n"
      ],
      "text/plain": [
       " [1] \"id\"                              \"spokojenost\"                    \n",
       " [3] \"pohlavi\"                         \"typ_zakaznika\"                  \n",
       " [5] \"vek\"                             \"typ_cestovani\"                  \n",
       " [7] \"trida\"                           \"vzdalenost_letu\"                \n",
       " [9] \"wifi_na_palube\"                  \"pohodli_pri_case_odlotu_priletu\"\n",
       "[11] \"snadnost_online_rezervace\"       \"poloha_gate\"                    \n",
       "[13] \"jidlo_a_piti\"                    \"online_nastup\"                  \n",
       "[15] \"komfort_sedadla\"                 \"zabava_na_palube\"               \n",
       "[17] \"sluzby_na_palube\"                \"sluzby_pro_prostor_na_nohy\"     \n",
       "[19] \"manipulace_s_batohem\"            \"checkin_sluzba\"                 \n",
       "[21] \"sluzby_na_palube\"                \"cistota\"                        \n",
       "[23] \"zpozdeni_odlotu_v_minutach\"      \"zpozdeni_priletu_v_minutach\"    "
      ]
     },
     "metadata": {},
     "output_type": "display_data"
    }
   ],
   "source": [
    "# Kontrola\n",
    "\n",
    "colnames(f)\n",
    "length(colnames(f))"
   ]
  },
  {
   "cell_type": "code",
   "execution_count": 125,
   "id": "4d526920",
   "metadata": {},
   "outputs": [
    {
     "data": {
      "text/html": [
       "<style>\n",
       ".list-inline {list-style: none; margin:0; padding: 0}\n",
       ".list-inline>li {display: inline-block}\n",
       ".list-inline>li:not(:last-child)::after {content: \"\\00b7\"; padding: 0 .5ex}\n",
       "</style>\n",
       "<ol class=list-inline><li>129880</li><li>24</li></ol>\n"
      ],
      "text/latex": [
       "\\begin{enumerate*}\n",
       "\\item 129880\n",
       "\\item 24\n",
       "\\end{enumerate*}\n"
      ],
      "text/markdown": [
       "1. 129880\n",
       "2. 24\n",
       "\n",
       "\n"
      ],
      "text/plain": [
       "[1] 129880     24"
      ]
     },
     "metadata": {},
     "output_type": "display_data"
    }
   ],
   "source": [
    "# Rozměry souboru\n",
    "\n",
    "dim(f)"
   ]
  },
  {
   "cell_type": "code",
   "execution_count": 18,
   "id": "84a63ab9",
   "metadata": {},
   "outputs": [
    {
     "data": {
      "text/html": [
       "393"
      ],
      "text/latex": [
       "393"
      ],
      "text/markdown": [
       "393"
      ],
      "text/plain": [
       "[1] 393"
      ]
     },
     "metadata": {},
     "output_type": "display_data"
    },
    {
     "name": "stderr",
     "output_type": "stream",
     "text": [
      "Warning message in is.na(df):\n",
      "\"is.na() applied to non-(list or vector) of type 'closure'\"\n"
     ]
    },
    {
     "data": {
      "text/html": [
       "0"
      ],
      "text/latex": [
       "0"
      ],
      "text/markdown": [
       "0"
      ],
      "text/plain": [
       "[1] 0"
      ]
     },
     "metadata": {},
     "output_type": "display_data"
    }
   ],
   "source": [
    "# Zkontrolujeme, zda se v datasetu vyskytují chybějící hodnoty\n",
    "\n",
    "sum(is.na(f))\n",
    "\n",
    "# Čištění, zbavme se prázdných hodnot\n",
    "f <- na.omit(f)\n",
    "\n",
    "# Zkontrolujeme\n",
    "sum(is.na(df))"
   ]
  },
  {
   "cell_type": "code",
   "execution_count": 183,
   "id": "01e12e71",
   "metadata": {
    "scrolled": true
   },
   "outputs": [
    {
     "data": {
      "text/html": [
       "<table class=\"dataframe\">\n",
       "<caption>A tibble: 3 × 24</caption>\n",
       "<thead>\n",
       "\t<tr><th scope=col>id</th><th scope=col>spokojenost</th><th scope=col>pohlavi</th><th scope=col>typ_zakaznika</th><th scope=col>vek</th><th scope=col>typ_cestovani</th><th scope=col>trida</th><th scope=col>vzdalenost_letu</th><th scope=col>komfort_sedadla</th><th scope=col>cas_odlet_prilet_pohodlnost</th><th scope=col>...</th><th scope=col>online_podpora</th><th scope=col>snadnost_online_rezervace</th><th scope=col>sluzby_na_palube</th><th scope=col>sluzby_pro_prostor_na_nohy</th><th scope=col>manipulace_s_batohem</th><th scope=col>checkin_sluzba</th><th scope=col>cistota</th><th scope=col>online_nastup</th><th scope=col>zpozdeni_odletu_v_minutach</th><th scope=col>zpozdeni_priletu_v_minutach</th></tr>\n",
       "\t<tr><th scope=col>&lt;dbl&gt;</th><th scope=col>&lt;chr&gt;</th><th scope=col>&lt;chr&gt;</th><th scope=col>&lt;chr&gt;</th><th scope=col>&lt;dbl&gt;</th><th scope=col>&lt;chr&gt;</th><th scope=col>&lt;chr&gt;</th><th scope=col>&lt;dbl&gt;</th><th scope=col>&lt;dbl&gt;</th><th scope=col>&lt;dbl&gt;</th><th scope=col>...</th><th scope=col>&lt;dbl&gt;</th><th scope=col>&lt;dbl&gt;</th><th scope=col>&lt;dbl&gt;</th><th scope=col>&lt;dbl&gt;</th><th scope=col>&lt;dbl&gt;</th><th scope=col>&lt;dbl&gt;</th><th scope=col>&lt;dbl&gt;</th><th scope=col>&lt;dbl&gt;</th><th scope=col>&lt;dbl&gt;</th><th scope=col>&lt;dbl&gt;</th></tr>\n",
       "</thead>\n",
       "<tbody>\n",
       "\t<tr><td> 11112</td><td>satisfied</td><td>Female</td><td>Loyal Customer</td><td>65</td><td>Personal Travel</td><td>Eco     </td><td> 265</td><td>0</td><td>0</td><td>...</td><td>2</td><td>3</td><td>3</td><td>0</td><td>3</td><td>5</td><td>3</td><td>2</td><td>  0</td><td>  0</td></tr>\n",
       "\t<tr><td>110278</td><td>satisfied</td><td>Male  </td><td>Loyal Customer</td><td>47</td><td>Personal Travel</td><td>Business</td><td>2464</td><td>0</td><td>0</td><td>...</td><td>2</td><td>3</td><td>4</td><td>4</td><td>4</td><td>2</td><td>3</td><td>2</td><td>310</td><td>305</td></tr>\n",
       "\t<tr><td>103199</td><td>satisfied</td><td>Female</td><td>Loyal Customer</td><td>15</td><td>Personal Travel</td><td>Eco     </td><td>2138</td><td>0</td><td>0</td><td>...</td><td>2</td><td>2</td><td>3</td><td>3</td><td>4</td><td>4</td><td>4</td><td>2</td><td>  0</td><td>  0</td></tr>\n",
       "</tbody>\n",
       "</table>\n"
      ],
      "text/latex": [
       "A tibble: 3 × 24\n",
       "\\begin{tabular}{lllllllllllllllllllll}\n",
       " id & spokojenost & pohlavi & typ\\_zakaznika & vek & typ\\_cestovani & trida & vzdalenost\\_letu & komfort\\_sedadla & cas\\_odlet\\_prilet\\_pohodlnost & ... & online\\_podpora & snadnost\\_online\\_rezervace & sluzby\\_na\\_palube & sluzby\\_pro\\_prostor\\_na\\_nohy & manipulace\\_s\\_batohem & checkin\\_sluzba & cistota & online\\_nastup & zpozdeni\\_odletu\\_v\\_minutach & zpozdeni\\_priletu\\_v\\_minutach\\\\\n",
       " <dbl> & <chr> & <chr> & <chr> & <dbl> & <chr> & <chr> & <dbl> & <dbl> & <dbl> & ... & <dbl> & <dbl> & <dbl> & <dbl> & <dbl> & <dbl> & <dbl> & <dbl> & <dbl> & <dbl>\\\\\n",
       "\\hline\n",
       "\t  11112 & satisfied & Female & Loyal Customer & 65 & Personal Travel & Eco      &  265 & 0 & 0 & ... & 2 & 3 & 3 & 0 & 3 & 5 & 3 & 2 &   0 &   0\\\\\n",
       "\t 110278 & satisfied & Male   & Loyal Customer & 47 & Personal Travel & Business & 2464 & 0 & 0 & ... & 2 & 3 & 4 & 4 & 4 & 2 & 3 & 2 & 310 & 305\\\\\n",
       "\t 103199 & satisfied & Female & Loyal Customer & 15 & Personal Travel & Eco      & 2138 & 0 & 0 & ... & 2 & 2 & 3 & 3 & 4 & 4 & 4 & 2 &   0 &   0\\\\\n",
       "\\end{tabular}\n"
      ],
      "text/markdown": [
       "\n",
       "A tibble: 3 × 24\n",
       "\n",
       "| id &lt;dbl&gt; | spokojenost &lt;chr&gt; | pohlavi &lt;chr&gt; | typ_zakaznika &lt;chr&gt; | vek &lt;dbl&gt; | typ_cestovani &lt;chr&gt; | trida &lt;chr&gt; | vzdalenost_letu &lt;dbl&gt; | komfort_sedadla &lt;dbl&gt; | cas_odlet_prilet_pohodlnost &lt;dbl&gt; | ... ... | online_podpora &lt;dbl&gt; | snadnost_online_rezervace &lt;dbl&gt; | sluzby_na_palube &lt;dbl&gt; | sluzby_pro_prostor_na_nohy &lt;dbl&gt; | manipulace_s_batohem &lt;dbl&gt; | checkin_sluzba &lt;dbl&gt; | cistota &lt;dbl&gt; | online_nastup &lt;dbl&gt; | zpozdeni_odletu_v_minutach &lt;dbl&gt; | zpozdeni_priletu_v_minutach &lt;dbl&gt; |\n",
       "|---|---|---|---|---|---|---|---|---|---|---|---|---|---|---|---|---|---|---|---|---|\n",
       "|  11112 | satisfied | Female | Loyal Customer | 65 | Personal Travel | Eco      |  265 | 0 | 0 | ... | 2 | 3 | 3 | 0 | 3 | 5 | 3 | 2 |   0 |   0 |\n",
       "| 110278 | satisfied | Male   | Loyal Customer | 47 | Personal Travel | Business | 2464 | 0 | 0 | ... | 2 | 3 | 4 | 4 | 4 | 2 | 3 | 2 | 310 | 305 |\n",
       "| 103199 | satisfied | Female | Loyal Customer | 15 | Personal Travel | Eco      | 2138 | 0 | 0 | ... | 2 | 2 | 3 | 3 | 4 | 4 | 4 | 2 |   0 |   0 |\n",
       "\n"
      ],
      "text/plain": [
       "  id     spokojenost pohlavi typ_zakaznika  vek typ_cestovani   trida   \n",
       "1  11112 satisfied   Female  Loyal Customer 65  Personal Travel Eco     \n",
       "2 110278 satisfied   Male    Loyal Customer 47  Personal Travel Business\n",
       "3 103199 satisfied   Female  Loyal Customer 15  Personal Travel Eco     \n",
       "  vzdalenost_letu komfort_sedadla cas_odlet_prilet_pohodlnost ...\n",
       "1  265            0               0                           ...\n",
       "2 2464            0               0                           ...\n",
       "3 2138            0               0                           ...\n",
       "  online_podpora snadnost_online_rezervace sluzby_na_palube\n",
       "1 2              3                         3               \n",
       "2 2              3                         4               \n",
       "3 2              2                         3               \n",
       "  sluzby_pro_prostor_na_nohy manipulace_s_batohem checkin_sluzba cistota\n",
       "1 0                          3                    5              3      \n",
       "2 4                          4                    2              3      \n",
       "3 3                          4                    4              4      \n",
       "  online_nastup zpozdeni_odletu_v_minutach zpozdeni_priletu_v_minutach\n",
       "1 2               0                          0                        \n",
       "2 2             310                        305                        \n",
       "3 2               0                          0                        "
      ]
     },
     "metadata": {},
     "output_type": "display_data"
    }
   ],
   "source": [
    "# Začněme seznámením s obsahem sloupců\n",
    "head(f, 3)"
   ]
  },
  {
   "cell_type": "code",
   "execution_count": 100,
   "id": "baaf4de2",
   "metadata": {
    "scrolled": true
   },
   "outputs": [
    {
     "data": {
      "text/plain": [
       "       id          spokojenost         pohlavi          typ_zakaznika     \n",
       " Min.   :     1   Min.   :-1.00000   Length:129487      Length:129487     \n",
       " 1st Qu.: 32495   1st Qu.:-1.00000   Class :character   Class :character  \n",
       " Median : 64972   Median : 1.00000   Mode  :character   Mode  :character  \n",
       " Mean   : 64958   Mean   : 0.09481                                        \n",
       " 3rd Qu.: 97416   3rd Qu.: 1.00000                                        \n",
       " Max.   :129880   Max.   : 1.00000                                        \n",
       "      vek        typ_cestovani         trida           vzdalenost_letu\n",
       " Min.   : 7.00   Length:129487      Length:129487      Min.   :  50   \n",
       " 1st Qu.:27.00   Class :character   Class :character   1st Qu.:1359   \n",
       " Median :40.00   Mode  :character   Mode  :character   Median :1924   \n",
       " Mean   :39.43                                         Mean   :1981   \n",
       " 3rd Qu.:51.00                                         3rd Qu.:2543   \n",
       " Max.   :85.00                                         Max.   :6951   \n",
       " komfort_sedadla cas_odlet_prilet_pohodlnost jidlo_a_piti poloha_gate\n",
       " 0: 4781         0: 6644                     0: 5922      0:    2    \n",
       " 1:20882         1:20771                     1:21008      1:22497    \n",
       " 2:28645         2:22735                     2:27078      2:24441    \n",
       " 3:29096         3:23110                     3:28065      3:33451    \n",
       " 4:28315         4:29504                     4:27129      4:29997    \n",
       " 5:17768         5:26723                     5:20285      5:19099    \n",
       " wifi_na_palube zabava_na_palube online_podpora snadnost_online_rezervace\n",
       " 0:  130        0: 2968          0:    1        0:   18                  \n",
       " 1:14670        1:11768          1:13890        1:13397                  \n",
       " 2:26957        2:19118          2:17196        2:19887                  \n",
       " 3:27518        3:24133          3:21543        3:22344                  \n",
       " 4:31474        4:41752          4:41406        4:39807                  \n",
       " 5:28738        5:29748          5:35451        5:34034                  \n",
       " sluzby_na_palube sluzby_pro_prostor_na_nohy manipulace_s_batohem\n",
       " 0:    5          0:  442                    0:    0             \n",
       " 1:13223          1:11098                    1: 7956             \n",
       " 2:17117          2:21683                    2:13388             \n",
       " 3:26959          3:22397                    3:24413             \n",
       " 4:40558          4:39583                    4:48107             \n",
       " 5:31625          5:34284                    5:35623             \n",
       " checkin_sluzba cistota   online_nastup zpozdeni_odletu_v_minutach\n",
       " 0:    1        0:    5   0:   14       Min.   :   0.00           \n",
       " 1:15322        1: 7746   1:15310       1st Qu.:   0.00           \n",
       " 2:15443        2:13361   2:18517       Median :   0.00           \n",
       " 3:35430        3:23907   3:30692       Mean   :  14.64           \n",
       " 4:36372        4:48665   4:35079       3rd Qu.:  12.00           \n",
       " 5:26919        5:35803   5:29875       Max.   :1592.00           \n",
       " zpozdeni_priletu_v_minutach\n",
       " Min.   :   0.00            \n",
       " 1st Qu.:   0.00            \n",
       " Median :   0.00            \n",
       " Mean   :  15.09            \n",
       " 3rd Qu.:  13.00            \n",
       " Max.   :1584.00            "
      ]
     },
     "metadata": {},
     "output_type": "display_data"
    }
   ],
   "source": [
    "# Popisná statistika\n",
    "summary(f)"
   ]
  },
  {
   "cell_type": "code",
   "execution_count": 101,
   "id": "1dc21850",
   "metadata": {},
   "outputs": [
    {
     "data": {
      "text/html": [
       "<table class=\"dataframe\">\n",
       "<caption>A skim_df: 24 × 20</caption>\n",
       "<thead>\n",
       "\t<tr><th></th><th scope=col>skim_type</th><th scope=col>skim_variable</th><th scope=col>n_missing</th><th scope=col>complete_rate</th><th scope=col>character.min</th><th scope=col>character.max</th><th scope=col>character.empty</th><th scope=col>character.n_unique</th><th scope=col>character.whitespace</th><th scope=col>factor.ordered</th><th scope=col>factor.n_unique</th><th scope=col>factor.top_counts</th><th scope=col>numeric.mean</th><th scope=col>numeric.sd</th><th scope=col>numeric.p0</th><th scope=col>numeric.p25</th><th scope=col>numeric.p50</th><th scope=col>numeric.p75</th><th scope=col>numeric.p100</th><th scope=col>numeric.hist</th></tr>\n",
       "\t<tr><th></th><th scope=col>&lt;chr&gt;</th><th scope=col>&lt;chr&gt;</th><th scope=col>&lt;int&gt;</th><th scope=col>&lt;dbl&gt;</th><th scope=col>&lt;int&gt;</th><th scope=col>&lt;int&gt;</th><th scope=col>&lt;int&gt;</th><th scope=col>&lt;int&gt;</th><th scope=col>&lt;int&gt;</th><th scope=col>&lt;lgl&gt;</th><th scope=col>&lt;int&gt;</th><th scope=col>&lt;chr&gt;</th><th scope=col>&lt;dbl&gt;</th><th scope=col>&lt;dbl&gt;</th><th scope=col>&lt;dbl&gt;</th><th scope=col>&lt;dbl&gt;</th><th scope=col>&lt;dbl&gt;</th><th scope=col>&lt;dbl&gt;</th><th scope=col>&lt;dbl&gt;</th><th scope=col>&lt;chr&gt;</th></tr>\n",
       "</thead>\n",
       "<tbody>\n",
       "\t<tr><th scope=row>1</th><td>character</td><td>pohlavi                    </td><td>0</td><td>1</td><td> 4</td><td> 6</td><td> 0</td><td> 2</td><td> 0</td><td>   NA</td><td>NA</td><td>NA                                    </td><td>          NA</td><td>          NA</td><td>NA</td><td>     NA</td><td>   NA</td><td>     NA</td><td>    NA</td><td>NA                                      </td></tr>\n",
       "\t<tr><th scope=row>2</th><td>character</td><td>typ_zakaznika              </td><td>0</td><td>1</td><td>14</td><td>17</td><td> 0</td><td> 2</td><td> 0</td><td>   NA</td><td>NA</td><td>NA                                    </td><td>          NA</td><td>          NA</td><td>NA</td><td>     NA</td><td>   NA</td><td>     NA</td><td>    NA</td><td>NA                                      </td></tr>\n",
       "\t<tr><th scope=row>3</th><td>character</td><td>typ_cestovani              </td><td>0</td><td>1</td><td>15</td><td>15</td><td> 0</td><td> 2</td><td> 0</td><td>   NA</td><td>NA</td><td>NA                                    </td><td>          NA</td><td>          NA</td><td>NA</td><td>     NA</td><td>   NA</td><td>     NA</td><td>    NA</td><td>NA                                      </td></tr>\n",
       "\t<tr><th scope=row>4</th><td>character</td><td>trida                      </td><td>0</td><td>1</td><td> 3</td><td> 8</td><td> 0</td><td> 3</td><td> 0</td><td>   NA</td><td>NA</td><td>NA                                    </td><td>          NA</td><td>          NA</td><td>NA</td><td>     NA</td><td>   NA</td><td>     NA</td><td>    NA</td><td>NA                                      </td></tr>\n",
       "\t<tr><th scope=row>5</th><td>factor   </td><td>komfort_sedadla            </td><td>0</td><td>1</td><td>NA</td><td>NA</td><td>NA</td><td>NA</td><td>NA</td><td>FALSE</td><td> 6</td><td>3: 29096, 2: 28645, 4: 28315, 1: 20882</td><td>          NA</td><td>          NA</td><td>NA</td><td>     NA</td><td>   NA</td><td>     NA</td><td>    NA</td><td>NA                                      </td></tr>\n",
       "\t<tr><th scope=row>6</th><td>factor   </td><td>cas_odlet_prilet_pohodlnost</td><td>0</td><td>1</td><td>NA</td><td>NA</td><td>NA</td><td>NA</td><td>NA</td><td>FALSE</td><td> 6</td><td>4: 29504, 5: 26723, 3: 23110, 2: 22735</td><td>          NA</td><td>          NA</td><td>NA</td><td>     NA</td><td>   NA</td><td>     NA</td><td>    NA</td><td>NA                                      </td></tr>\n",
       "\t<tr><th scope=row>7</th><td>factor   </td><td>jidlo_a_piti               </td><td>0</td><td>1</td><td>NA</td><td>NA</td><td>NA</td><td>NA</td><td>NA</td><td>FALSE</td><td> 6</td><td>3: 28065, 4: 27129, 2: 27078, 1: 21008</td><td>          NA</td><td>          NA</td><td>NA</td><td>     NA</td><td>   NA</td><td>     NA</td><td>    NA</td><td>NA                                      </td></tr>\n",
       "\t<tr><th scope=row>8</th><td>factor   </td><td>poloha_gate                </td><td>0</td><td>1</td><td>NA</td><td>NA</td><td>NA</td><td>NA</td><td>NA</td><td>FALSE</td><td> 6</td><td>3: 33451, 4: 29997, 2: 24441, 1: 22497</td><td>          NA</td><td>          NA</td><td>NA</td><td>     NA</td><td>   NA</td><td>     NA</td><td>    NA</td><td>NA                                      </td></tr>\n",
       "\t<tr><th scope=row>9</th><td>factor   </td><td>wifi_na_palube             </td><td>0</td><td>1</td><td>NA</td><td>NA</td><td>NA</td><td>NA</td><td>NA</td><td>FALSE</td><td> 6</td><td>4: 31474, 5: 28738, 3: 27518, 2: 26957</td><td>          NA</td><td>          NA</td><td>NA</td><td>     NA</td><td>   NA</td><td>     NA</td><td>    NA</td><td>NA                                      </td></tr>\n",
       "\t<tr><th scope=row>10</th><td>factor   </td><td>zabava_na_palube           </td><td>0</td><td>1</td><td>NA</td><td>NA</td><td>NA</td><td>NA</td><td>NA</td><td>FALSE</td><td> 6</td><td>4: 41752, 5: 29748, 3: 24133, 2: 19118</td><td>          NA</td><td>          NA</td><td>NA</td><td>     NA</td><td>   NA</td><td>     NA</td><td>    NA</td><td>NA                                      </td></tr>\n",
       "\t<tr><th scope=row>11</th><td>factor   </td><td>online_podpora             </td><td>0</td><td>1</td><td>NA</td><td>NA</td><td>NA</td><td>NA</td><td>NA</td><td>FALSE</td><td> 6</td><td>4: 41406, 5: 35451, 3: 21543, 2: 17196</td><td>          NA</td><td>          NA</td><td>NA</td><td>     NA</td><td>   NA</td><td>     NA</td><td>    NA</td><td>NA                                      </td></tr>\n",
       "\t<tr><th scope=row>12</th><td>factor   </td><td>snadnost_online_rezervace  </td><td>0</td><td>1</td><td>NA</td><td>NA</td><td>NA</td><td>NA</td><td>NA</td><td>FALSE</td><td> 6</td><td>4: 39807, 5: 34034, 3: 22344, 2: 19887</td><td>          NA</td><td>          NA</td><td>NA</td><td>     NA</td><td>   NA</td><td>     NA</td><td>    NA</td><td>NA                                      </td></tr>\n",
       "\t<tr><th scope=row>13</th><td>factor   </td><td>sluzby_na_palube           </td><td>0</td><td>1</td><td>NA</td><td>NA</td><td>NA</td><td>NA</td><td>NA</td><td>FALSE</td><td> 6</td><td>4: 40558, 5: 31625, 3: 26959, 2: 17117</td><td>          NA</td><td>          NA</td><td>NA</td><td>     NA</td><td>   NA</td><td>     NA</td><td>    NA</td><td>NA                                      </td></tr>\n",
       "\t<tr><th scope=row>14</th><td>factor   </td><td>sluzby_pro_prostor_na_nohy </td><td>0</td><td>1</td><td>NA</td><td>NA</td><td>NA</td><td>NA</td><td>NA</td><td>FALSE</td><td> 6</td><td>4: 39583, 5: 34284, 3: 22397, 2: 21683</td><td>          NA</td><td>          NA</td><td>NA</td><td>     NA</td><td>   NA</td><td>     NA</td><td>    NA</td><td>NA                                      </td></tr>\n",
       "\t<tr><th scope=row>15</th><td>factor   </td><td>manipulace_s_batohem       </td><td>0</td><td>1</td><td>NA</td><td>NA</td><td>NA</td><td>NA</td><td>NA</td><td>FALSE</td><td> 5</td><td>4: 48107, 5: 35623, 3: 24413, 2: 13388</td><td>          NA</td><td>          NA</td><td>NA</td><td>     NA</td><td>   NA</td><td>     NA</td><td>    NA</td><td>NA                                      </td></tr>\n",
       "\t<tr><th scope=row>16</th><td>factor   </td><td>checkin_sluzba             </td><td>0</td><td>1</td><td>NA</td><td>NA</td><td>NA</td><td>NA</td><td>NA</td><td>FALSE</td><td> 6</td><td>4: 36372, 3: 35430, 5: 26919, 2: 15443</td><td>          NA</td><td>          NA</td><td>NA</td><td>     NA</td><td>   NA</td><td>     NA</td><td>    NA</td><td>NA                                      </td></tr>\n",
       "\t<tr><th scope=row>17</th><td>factor   </td><td>cistota                    </td><td>0</td><td>1</td><td>NA</td><td>NA</td><td>NA</td><td>NA</td><td>NA</td><td>FALSE</td><td> 6</td><td>4: 48665, 5: 35803, 3: 23907, 2: 13361</td><td>          NA</td><td>          NA</td><td>NA</td><td>     NA</td><td>   NA</td><td>     NA</td><td>    NA</td><td>NA                                      </td></tr>\n",
       "\t<tr><th scope=row>18</th><td>factor   </td><td>online_nastup              </td><td>0</td><td>1</td><td>NA</td><td>NA</td><td>NA</td><td>NA</td><td>NA</td><td>FALSE</td><td> 6</td><td>4: 35079, 3: 30692, 5: 29875, 2: 18517</td><td>          NA</td><td>          NA</td><td>NA</td><td>     NA</td><td>   NA</td><td>     NA</td><td>    NA</td><td>NA                                      </td></tr>\n",
       "\t<tr><th scope=row>19</th><td><span style=white-space:pre-wrap>numeric  </span></td><td><span style=white-space:pre-wrap>id                         </span></td><td>0</td><td>1</td><td>NA</td><td>NA</td><td>NA</td><td>NA</td><td>NA</td><td><span style=white-space:pre-wrap>   NA</span></td><td>NA</td><td><span style=white-space:pre-wrap>NA                                    </span></td><td>6.495834e+04</td><td>37489.781165</td><td> 1</td><td>32494.5</td><td>64972</td><td>97415.5</td><td>129880</td><td>&lt;U+2587&gt;&lt;U+2587&gt;&lt;U+2587&gt;&lt;U+2587&gt;&lt;U+2587&gt;</td></tr>\n",
       "\t<tr><th scope=row>20</th><td><span style=white-space:pre-wrap>numeric  </span></td><td><span style=white-space:pre-wrap>spokojenost                </span></td><td>0</td><td>1</td><td>NA</td><td>NA</td><td>NA</td><td>NA</td><td>NA</td><td><span style=white-space:pre-wrap>   NA</span></td><td>NA</td><td><span style=white-space:pre-wrap>NA                                    </span></td><td>9.481261e-02</td><td><span style=white-space:pre-wrap>    0.995499</span></td><td>-1</td><td><span style=white-space:pre-wrap>   -1.0</span></td><td><span style=white-space:pre-wrap>    1</span></td><td><span style=white-space:pre-wrap>    1.0</span></td><td><span style=white-space:pre-wrap>     1</span></td><td>&lt;U+2586&gt;&lt;U+2581&gt;&lt;U+2581&gt;&lt;U+2581&gt;&lt;U+2587&gt;</td></tr>\n",
       "\t<tr><th scope=row>21</th><td><span style=white-space:pre-wrap>numeric  </span></td><td><span style=white-space:pre-wrap>vek                        </span></td><td>0</td><td>1</td><td>NA</td><td>NA</td><td>NA</td><td>NA</td><td>NA</td><td><span style=white-space:pre-wrap>   NA</span></td><td>NA</td><td><span style=white-space:pre-wrap>NA                                    </span></td><td>3.942876e+01</td><td><span style=white-space:pre-wrap>   15.117597</span></td><td> 7</td><td><span style=white-space:pre-wrap>   27.0</span></td><td><span style=white-space:pre-wrap>   40</span></td><td><span style=white-space:pre-wrap>   51.0</span></td><td><span style=white-space:pre-wrap>    85</span></td><td>&lt;U+2583&gt;&lt;U+2587&gt;&lt;U+2587&gt;&lt;U+2585&gt;&lt;U+2581&gt;</td></tr>\n",
       "\t<tr><th scope=row>22</th><td><span style=white-space:pre-wrap>numeric  </span></td><td><span style=white-space:pre-wrap>vzdalenost_letu            </span></td><td>0</td><td>1</td><td>NA</td><td>NA</td><td>NA</td><td>NA</td><td>NA</td><td><span style=white-space:pre-wrap>   NA</span></td><td>NA</td><td><span style=white-space:pre-wrap>NA                                    </span></td><td>1.981009e+03</td><td> 1026.884131</td><td>50</td><td> 1359.0</td><td> 1924</td><td> 2543.0</td><td><span style=white-space:pre-wrap>  6951</span></td><td>&lt;U+2583&gt;&lt;U+2587&gt;&lt;U+2582&gt;&lt;U+2581&gt;&lt;U+2581&gt;</td></tr>\n",
       "\t<tr><th scope=row>23</th><td><span style=white-space:pre-wrap>numeric  </span></td><td>zpozdeni_odletu_v_minutach </td><td>0</td><td>1</td><td>NA</td><td>NA</td><td>NA</td><td>NA</td><td>NA</td><td><span style=white-space:pre-wrap>   NA</span></td><td>NA</td><td><span style=white-space:pre-wrap>NA                                    </span></td><td>1.464339e+01</td><td><span style=white-space:pre-wrap>   37.932867</span></td><td> 0</td><td><span style=white-space:pre-wrap>    0.0</span></td><td><span style=white-space:pre-wrap>    0</span></td><td><span style=white-space:pre-wrap>   12.0</span></td><td><span style=white-space:pre-wrap>  1592</span></td><td>&lt;U+2587&gt;&lt;U+2581&gt;&lt;U+2581&gt;&lt;U+2581&gt;&lt;U+2581&gt;</td></tr>\n",
       "\t<tr><th scope=row>24</th><td><span style=white-space:pre-wrap>numeric  </span></td><td>zpozdeni_priletu_v_minutach</td><td>0</td><td>1</td><td>NA</td><td>NA</td><td>NA</td><td>NA</td><td>NA</td><td><span style=white-space:pre-wrap>   NA</span></td><td>NA</td><td><span style=white-space:pre-wrap>NA                                    </span></td><td>1.509113e+01</td><td><span style=white-space:pre-wrap>   38.465650</span></td><td> 0</td><td><span style=white-space:pre-wrap>    0.0</span></td><td><span style=white-space:pre-wrap>    0</span></td><td><span style=white-space:pre-wrap>   13.0</span></td><td><span style=white-space:pre-wrap>  1584</span></td><td>&lt;U+2587&gt;&lt;U+2581&gt;&lt;U+2581&gt;&lt;U+2581&gt;&lt;U+2581&gt;</td></tr>\n",
       "</tbody>\n",
       "</table>\n"
      ],
      "text/latex": [
       "A skim\\_df: 24 × 20\n",
       "\\begin{tabular}{r|llllllllllllllllllll}\n",
       "  & skim\\_type & skim\\_variable & n\\_missing & complete\\_rate & character.min & character.max & character.empty & character.n\\_unique & character.whitespace & factor.ordered & factor.n\\_unique & factor.top\\_counts & numeric.mean & numeric.sd & numeric.p0 & numeric.p25 & numeric.p50 & numeric.p75 & numeric.p100 & numeric.hist\\\\\n",
       "  & <chr> & <chr> & <int> & <dbl> & <int> & <int> & <int> & <int> & <int> & <lgl> & <int> & <chr> & <dbl> & <dbl> & <dbl> & <dbl> & <dbl> & <dbl> & <dbl> & <chr>\\\\\n",
       "\\hline\n",
       "\t1 & character & pohlavi                     & 0 & 1 &  4 &  6 &  0 &  2 &  0 &    NA & NA & NA                                     &           NA &           NA & NA &      NA &    NA &      NA &     NA & NA                                      \\\\\n",
       "\t2 & character & typ\\_zakaznika               & 0 & 1 & 14 & 17 &  0 &  2 &  0 &    NA & NA & NA                                     &           NA &           NA & NA &      NA &    NA &      NA &     NA & NA                                      \\\\\n",
       "\t3 & character & typ\\_cestovani               & 0 & 1 & 15 & 15 &  0 &  2 &  0 &    NA & NA & NA                                     &           NA &           NA & NA &      NA &    NA &      NA &     NA & NA                                      \\\\\n",
       "\t4 & character & trida                       & 0 & 1 &  3 &  8 &  0 &  3 &  0 &    NA & NA & NA                                     &           NA &           NA & NA &      NA &    NA &      NA &     NA & NA                                      \\\\\n",
       "\t5 & factor    & komfort\\_sedadla             & 0 & 1 & NA & NA & NA & NA & NA & FALSE &  6 & 3: 29096, 2: 28645, 4: 28315, 1: 20882 &           NA &           NA & NA &      NA &    NA &      NA &     NA & NA                                      \\\\\n",
       "\t6 & factor    & cas\\_odlet\\_prilet\\_pohodlnost & 0 & 1 & NA & NA & NA & NA & NA & FALSE &  6 & 4: 29504, 5: 26723, 3: 23110, 2: 22735 &           NA &           NA & NA &      NA &    NA &      NA &     NA & NA                                      \\\\\n",
       "\t7 & factor    & jidlo\\_a\\_piti                & 0 & 1 & NA & NA & NA & NA & NA & FALSE &  6 & 3: 28065, 4: 27129, 2: 27078, 1: 21008 &           NA &           NA & NA &      NA &    NA &      NA &     NA & NA                                      \\\\\n",
       "\t8 & factor    & poloha\\_gate                 & 0 & 1 & NA & NA & NA & NA & NA & FALSE &  6 & 3: 33451, 4: 29997, 2: 24441, 1: 22497 &           NA &           NA & NA &      NA &    NA &      NA &     NA & NA                                      \\\\\n",
       "\t9 & factor    & wifi\\_na\\_palube              & 0 & 1 & NA & NA & NA & NA & NA & FALSE &  6 & 4: 31474, 5: 28738, 3: 27518, 2: 26957 &           NA &           NA & NA &      NA &    NA &      NA &     NA & NA                                      \\\\\n",
       "\t10 & factor    & zabava\\_na\\_palube            & 0 & 1 & NA & NA & NA & NA & NA & FALSE &  6 & 4: 41752, 5: 29748, 3: 24133, 2: 19118 &           NA &           NA & NA &      NA &    NA &      NA &     NA & NA                                      \\\\\n",
       "\t11 & factor    & online\\_podpora              & 0 & 1 & NA & NA & NA & NA & NA & FALSE &  6 & 4: 41406, 5: 35451, 3: 21543, 2: 17196 &           NA &           NA & NA &      NA &    NA &      NA &     NA & NA                                      \\\\\n",
       "\t12 & factor    & snadnost\\_online\\_rezervace   & 0 & 1 & NA & NA & NA & NA & NA & FALSE &  6 & 4: 39807, 5: 34034, 3: 22344, 2: 19887 &           NA &           NA & NA &      NA &    NA &      NA &     NA & NA                                      \\\\\n",
       "\t13 & factor    & sluzby\\_na\\_palube            & 0 & 1 & NA & NA & NA & NA & NA & FALSE &  6 & 4: 40558, 5: 31625, 3: 26959, 2: 17117 &           NA &           NA & NA &      NA &    NA &      NA &     NA & NA                                      \\\\\n",
       "\t14 & factor    & sluzby\\_pro\\_prostor\\_na\\_nohy  & 0 & 1 & NA & NA & NA & NA & NA & FALSE &  6 & 4: 39583, 5: 34284, 3: 22397, 2: 21683 &           NA &           NA & NA &      NA &    NA &      NA &     NA & NA                                      \\\\\n",
       "\t15 & factor    & manipulace\\_s\\_batohem        & 0 & 1 & NA & NA & NA & NA & NA & FALSE &  5 & 4: 48107, 5: 35623, 3: 24413, 2: 13388 &           NA &           NA & NA &      NA &    NA &      NA &     NA & NA                                      \\\\\n",
       "\t16 & factor    & checkin\\_sluzba              & 0 & 1 & NA & NA & NA & NA & NA & FALSE &  6 & 4: 36372, 3: 35430, 5: 26919, 2: 15443 &           NA &           NA & NA &      NA &    NA &      NA &     NA & NA                                      \\\\\n",
       "\t17 & factor    & cistota                     & 0 & 1 & NA & NA & NA & NA & NA & FALSE &  6 & 4: 48665, 5: 35803, 3: 23907, 2: 13361 &           NA &           NA & NA &      NA &    NA &      NA &     NA & NA                                      \\\\\n",
       "\t18 & factor    & online\\_nastup               & 0 & 1 & NA & NA & NA & NA & NA & FALSE &  6 & 4: 35079, 3: 30692, 5: 29875, 2: 18517 &           NA &           NA & NA &      NA &    NA &      NA &     NA & NA                                      \\\\\n",
       "\t19 & numeric   & id                          & 0 & 1 & NA & NA & NA & NA & NA &    NA & NA & NA                                     & 6.495834e+04 & 37489.781165 &  1 & 32494.5 & 64972 & 97415.5 & 129880 & <U+2587><U+2587><U+2587><U+2587><U+2587>\\\\\n",
       "\t20 & numeric   & spokojenost                 & 0 & 1 & NA & NA & NA & NA & NA &    NA & NA & NA                                     & 9.481261e-02 &     0.995499 & -1 &    -1.0 &     1 &     1.0 &      1 & <U+2586><U+2581><U+2581><U+2581><U+2587>\\\\\n",
       "\t21 & numeric   & vek                         & 0 & 1 & NA & NA & NA & NA & NA &    NA & NA & NA                                     & 3.942876e+01 &    15.117597 &  7 &    27.0 &    40 &    51.0 &     85 & <U+2583><U+2587><U+2587><U+2585><U+2581>\\\\\n",
       "\t22 & numeric   & vzdalenost\\_letu             & 0 & 1 & NA & NA & NA & NA & NA &    NA & NA & NA                                     & 1.981009e+03 &  1026.884131 & 50 &  1359.0 &  1924 &  2543.0 &   6951 & <U+2583><U+2587><U+2582><U+2581><U+2581>\\\\\n",
       "\t23 & numeric   & zpozdeni\\_odletu\\_v\\_minutach  & 0 & 1 & NA & NA & NA & NA & NA &    NA & NA & NA                                     & 1.464339e+01 &    37.932867 &  0 &     0.0 &     0 &    12.0 &   1592 & <U+2587><U+2581><U+2581><U+2581><U+2581>\\\\\n",
       "\t24 & numeric   & zpozdeni\\_priletu\\_v\\_minutach & 0 & 1 & NA & NA & NA & NA & NA &    NA & NA & NA                                     & 1.509113e+01 &    38.465650 &  0 &     0.0 &     0 &    13.0 &   1584 & <U+2587><U+2581><U+2581><U+2581><U+2581>\\\\\n",
       "\\end{tabular}\n"
      ],
      "text/markdown": [
       "\n",
       "A skim_df: 24 × 20\n",
       "\n",
       "| <!--/--> | skim_type &lt;chr&gt; | skim_variable &lt;chr&gt; | n_missing &lt;int&gt; | complete_rate &lt;dbl&gt; | character.min &lt;int&gt; | character.max &lt;int&gt; | character.empty &lt;int&gt; | character.n_unique &lt;int&gt; | character.whitespace &lt;int&gt; | factor.ordered &lt;lgl&gt; | factor.n_unique &lt;int&gt; | factor.top_counts &lt;chr&gt; | numeric.mean &lt;dbl&gt; | numeric.sd &lt;dbl&gt; | numeric.p0 &lt;dbl&gt; | numeric.p25 &lt;dbl&gt; | numeric.p50 &lt;dbl&gt; | numeric.p75 &lt;dbl&gt; | numeric.p100 &lt;dbl&gt; | numeric.hist &lt;chr&gt; |\n",
       "|---|---|---|---|---|---|---|---|---|---|---|---|---|---|---|---|---|---|---|---|---|\n",
       "| 1 | character | pohlavi                     | 0 | 1 |  4 |  6 |  0 |  2 |  0 |    NA | NA | NA                                     |           NA |           NA | NA |      NA |    NA |      NA |     NA | NA                                       |\n",
       "| 2 | character | typ_zakaznika               | 0 | 1 | 14 | 17 |  0 |  2 |  0 |    NA | NA | NA                                     |           NA |           NA | NA |      NA |    NA |      NA |     NA | NA                                       |\n",
       "| 3 | character | typ_cestovani               | 0 | 1 | 15 | 15 |  0 |  2 |  0 |    NA | NA | NA                                     |           NA |           NA | NA |      NA |    NA |      NA |     NA | NA                                       |\n",
       "| 4 | character | trida                       | 0 | 1 |  3 |  8 |  0 |  3 |  0 |    NA | NA | NA                                     |           NA |           NA | NA |      NA |    NA |      NA |     NA | NA                                       |\n",
       "| 5 | factor    | komfort_sedadla             | 0 | 1 | NA | NA | NA | NA | NA | FALSE |  6 | 3: 29096, 2: 28645, 4: 28315, 1: 20882 |           NA |           NA | NA |      NA |    NA |      NA |     NA | NA                                       |\n",
       "| 6 | factor    | cas_odlet_prilet_pohodlnost | 0 | 1 | NA | NA | NA | NA | NA | FALSE |  6 | 4: 29504, 5: 26723, 3: 23110, 2: 22735 |           NA |           NA | NA |      NA |    NA |      NA |     NA | NA                                       |\n",
       "| 7 | factor    | jidlo_a_piti                | 0 | 1 | NA | NA | NA | NA | NA | FALSE |  6 | 3: 28065, 4: 27129, 2: 27078, 1: 21008 |           NA |           NA | NA |      NA |    NA |      NA |     NA | NA                                       |\n",
       "| 8 | factor    | poloha_gate                 | 0 | 1 | NA | NA | NA | NA | NA | FALSE |  6 | 3: 33451, 4: 29997, 2: 24441, 1: 22497 |           NA |           NA | NA |      NA |    NA |      NA |     NA | NA                                       |\n",
       "| 9 | factor    | wifi_na_palube              | 0 | 1 | NA | NA | NA | NA | NA | FALSE |  6 | 4: 31474, 5: 28738, 3: 27518, 2: 26957 |           NA |           NA | NA |      NA |    NA |      NA |     NA | NA                                       |\n",
       "| 10 | factor    | zabava_na_palube            | 0 | 1 | NA | NA | NA | NA | NA | FALSE |  6 | 4: 41752, 5: 29748, 3: 24133, 2: 19118 |           NA |           NA | NA |      NA |    NA |      NA |     NA | NA                                       |\n",
       "| 11 | factor    | online_podpora              | 0 | 1 | NA | NA | NA | NA | NA | FALSE |  6 | 4: 41406, 5: 35451, 3: 21543, 2: 17196 |           NA |           NA | NA |      NA |    NA |      NA |     NA | NA                                       |\n",
       "| 12 | factor    | snadnost_online_rezervace   | 0 | 1 | NA | NA | NA | NA | NA | FALSE |  6 | 4: 39807, 5: 34034, 3: 22344, 2: 19887 |           NA |           NA | NA |      NA |    NA |      NA |     NA | NA                                       |\n",
       "| 13 | factor    | sluzby_na_palube            | 0 | 1 | NA | NA | NA | NA | NA | FALSE |  6 | 4: 40558, 5: 31625, 3: 26959, 2: 17117 |           NA |           NA | NA |      NA |    NA |      NA |     NA | NA                                       |\n",
       "| 14 | factor    | sluzby_pro_prostor_na_nohy  | 0 | 1 | NA | NA | NA | NA | NA | FALSE |  6 | 4: 39583, 5: 34284, 3: 22397, 2: 21683 |           NA |           NA | NA |      NA |    NA |      NA |     NA | NA                                       |\n",
       "| 15 | factor    | manipulace_s_batohem        | 0 | 1 | NA | NA | NA | NA | NA | FALSE |  5 | 4: 48107, 5: 35623, 3: 24413, 2: 13388 |           NA |           NA | NA |      NA |    NA |      NA |     NA | NA                                       |\n",
       "| 16 | factor    | checkin_sluzba              | 0 | 1 | NA | NA | NA | NA | NA | FALSE |  6 | 4: 36372, 3: 35430, 5: 26919, 2: 15443 |           NA |           NA | NA |      NA |    NA |      NA |     NA | NA                                       |\n",
       "| 17 | factor    | cistota                     | 0 | 1 | NA | NA | NA | NA | NA | FALSE |  6 | 4: 48665, 5: 35803, 3: 23907, 2: 13361 |           NA |           NA | NA |      NA |    NA |      NA |     NA | NA                                       |\n",
       "| 18 | factor    | online_nastup               | 0 | 1 | NA | NA | NA | NA | NA | FALSE |  6 | 4: 35079, 3: 30692, 5: 29875, 2: 18517 |           NA |           NA | NA |      NA |    NA |      NA |     NA | NA                                       |\n",
       "| 19 | numeric   | id                          | 0 | 1 | NA | NA | NA | NA | NA |    NA | NA | NA                                     | 6.495834e+04 | 37489.781165 |  1 | 32494.5 | 64972 | 97415.5 | 129880 | &lt;U+2587&gt;&lt;U+2587&gt;&lt;U+2587&gt;&lt;U+2587&gt;&lt;U+2587&gt; |\n",
       "| 20 | numeric   | spokojenost                 | 0 | 1 | NA | NA | NA | NA | NA |    NA | NA | NA                                     | 9.481261e-02 |     0.995499 | -1 |    -1.0 |     1 |     1.0 |      1 | &lt;U+2586&gt;&lt;U+2581&gt;&lt;U+2581&gt;&lt;U+2581&gt;&lt;U+2587&gt; |\n",
       "| 21 | numeric   | vek                         | 0 | 1 | NA | NA | NA | NA | NA |    NA | NA | NA                                     | 3.942876e+01 |    15.117597 |  7 |    27.0 |    40 |    51.0 |     85 | &lt;U+2583&gt;&lt;U+2587&gt;&lt;U+2587&gt;&lt;U+2585&gt;&lt;U+2581&gt; |\n",
       "| 22 | numeric   | vzdalenost_letu             | 0 | 1 | NA | NA | NA | NA | NA |    NA | NA | NA                                     | 1.981009e+03 |  1026.884131 | 50 |  1359.0 |  1924 |  2543.0 |   6951 | &lt;U+2583&gt;&lt;U+2587&gt;&lt;U+2582&gt;&lt;U+2581&gt;&lt;U+2581&gt; |\n",
       "| 23 | numeric   | zpozdeni_odletu_v_minutach  | 0 | 1 | NA | NA | NA | NA | NA |    NA | NA | NA                                     | 1.464339e+01 |    37.932867 |  0 |     0.0 |     0 |    12.0 |   1592 | &lt;U+2587&gt;&lt;U+2581&gt;&lt;U+2581&gt;&lt;U+2581&gt;&lt;U+2581&gt; |\n",
       "| 24 | numeric   | zpozdeni_priletu_v_minutach | 0 | 1 | NA | NA | NA | NA | NA |    NA | NA | NA                                     | 1.509113e+01 |    38.465650 |  0 |     0.0 |     0 |    13.0 |   1584 | &lt;U+2587&gt;&lt;U+2581&gt;&lt;U+2581&gt;&lt;U+2581&gt;&lt;U+2581&gt; |\n",
       "\n"
      ]
     },
     "metadata": {},
     "output_type": "display_data"
    },
    {
     "name": "stdout",
     "output_type": "stream",
     "text": [
      "-- Data Summary ------------------------\n",
      "                           Values\n",
      "Name                       f     \n",
      "Number of rows             129487\n",
      "Number of columns          24    \n",
      "_______________________          \n",
      "Column type frequency:           \n",
      "  factor                   14    \n",
      "  character                4     \n",
      "  numeric                  6     \n",
      "________________________         \n",
      "Group variables            None  \n",
      "\n",
      "-- Variable type: factor -------------------------------------------------------\n",
      "   skim_variable               n_missing complete_rate ordered n_unique\n",
      "\u001b[90m 1\u001b[39m komfort_sedadla                     0             1 FALSE          6\n",
      "\u001b[90m 2\u001b[39m cas_odlet_prilet_pohodlnost         0             1 FALSE          6\n",
      "\u001b[90m 3\u001b[39m jidlo_a_piti                        0             1 FALSE          6\n",
      "\u001b[90m 4\u001b[39m poloha_gate                         0             1 FALSE          6\n",
      "\u001b[90m 5\u001b[39m wifi_na_palube                      0             1 FALSE          6\n",
      "\u001b[90m 6\u001b[39m zabava_na_palube                    0             1 FALSE          6\n",
      "\u001b[90m 7\u001b[39m online_podpora                      0             1 FALSE          6\n",
      "\u001b[90m 8\u001b[39m snadnost_online_rezervace           0             1 FALSE          6\n",
      "\u001b[90m 9\u001b[39m sluzby_na_palube                    0             1 FALSE          6\n",
      "\u001b[90m10\u001b[39m sluzby_pro_prostor_na_nohy          0             1 FALSE          6\n",
      "\u001b[90m11\u001b[39m manipulace_s_batohem                0             1 FALSE          5\n",
      "\u001b[90m12\u001b[39m checkin_sluzba                      0             1 FALSE          6\n",
      "\u001b[90m13\u001b[39m cistota                             0             1 FALSE          6\n",
      "\u001b[90m14\u001b[39m online_nastup                       0             1 FALSE          6\n",
      "   top_counts                            \n",
      "\u001b[90m 1\u001b[39m 3: 29096, 2: 28645, 4: 28315, 1: 20882\n",
      "\u001b[90m 2\u001b[39m 4: 29504, 5: 26723, 3: 23110, 2: 22735\n",
      "\u001b[90m 3\u001b[39m 3: 28065, 4: 27129, 2: 27078, 1: 21008\n",
      "\u001b[90m 4\u001b[39m 3: 33451, 4: 29997, 2: 24441, 1: 22497\n",
      "\u001b[90m 5\u001b[39m 4: 31474, 5: 28738, 3: 27518, 2: 26957\n",
      "\u001b[90m 6\u001b[39m 4: 41752, 5: 29748, 3: 24133, 2: 19118\n",
      "\u001b[90m 7\u001b[39m 4: 41406, 5: 35451, 3: 21543, 2: 17196\n",
      "\u001b[90m 8\u001b[39m 4: 39807, 5: 34034, 3: 22344, 2: 19887\n",
      "\u001b[90m 9\u001b[39m 4: 40558, 5: 31625, 3: 26959, 2: 17117\n",
      "\u001b[90m10\u001b[39m 4: 39583, 5: 34284, 3: 22397, 2: 21683\n",
      "\u001b[90m11\u001b[39m 4: 48107, 5: 35623, 3: 24413, 2: 13388\n",
      "\u001b[90m12\u001b[39m 4: 36372, 3: 35430, 5: 26919, 2: 15443\n",
      "\u001b[90m13\u001b[39m 4: 48665, 5: 35803, 3: 23907, 2: 13361\n",
      "\u001b[90m14\u001b[39m 4: 35079, 3: 30692, 5: 29875, 2: 18517\n",
      "\n",
      "-- Variable type: character ----------------------------------------------------\n",
      "  skim_variable n_missing complete_rate min max empty n_unique whitespace\n",
      "\u001b[90m1\u001b[39m pohlavi               0             1   4   6     0        2          0\n",
      "\u001b[90m2\u001b[39m typ_zakaznika         0             1  14  17     0        2          0\n",
      "\u001b[90m3\u001b[39m typ_cestovani         0             1  15  15     0        2          0\n",
      "\u001b[90m4\u001b[39m trida                 0             1   3   8     0        3          0\n",
      "\n",
      "-- Variable type: numeric ------------------------------------------------------\n",
      "  skim_variable               n_missing complete_rate       mean        sd p0\n",
      "\u001b[90m1\u001b[39m id                                  0             1 \u001b[4m6\u001b[24m\u001b[4m4\u001b[24m958.     \u001b[4m3\u001b[24m\u001b[4m7\u001b[24m490.     1\n",
      "\u001b[90m2\u001b[39m spokojenost                         0             1     0.094\u001b[4m8\u001b[24m     0.995 -\u001b[31m1\u001b[39m\n",
      "\u001b[90m3\u001b[39m vek                                 0             1    39.4       15.1    7\n",
      "\u001b[90m4\u001b[39m vzdalenost_letu                     0             1  \u001b[4m1\u001b[24m981.      \u001b[4m1\u001b[24m027.    50\n",
      "\u001b[90m5\u001b[39m zpozdeni_odletu_v_minutach          0             1    14.6       37.9    0\n",
      "\u001b[90m6\u001b[39m zpozdeni_priletu_v_minutach         0             1    15.1       38.5    0\n",
      "     p25   p50    p75   p100 hist \n",
      "\u001b[90m1\u001b[39m \u001b[4m3\u001b[24m\u001b[4m2\u001b[24m494. \u001b[4m6\u001b[24m\u001b[4m4\u001b[24m972 \u001b[4m9\u001b[24m\u001b[4m7\u001b[24m416. \u001b[4m1\u001b[24m\u001b[4m2\u001b[24m\u001b[4m9\u001b[24m880 <U+2587><U+2587><U+2587><U+2587><U+2587>\n",
      "\u001b[90m2\u001b[39m    -\u001b[31m1\u001b[39m      1     1       1 <U+2586><U+2581><U+2581><U+2581><U+2587>\n",
      "\u001b[90m3\u001b[39m    27     40    51      85 <U+2583><U+2587><U+2587><U+2585><U+2581>\n",
      "\u001b[90m4\u001b[39m  \u001b[4m1\u001b[24m359   \u001b[4m1\u001b[24m924  \u001b[4m2\u001b[24m543    \u001b[4m6\u001b[24m951 <U+2583><U+2587><U+2582><U+2581><U+2581>\n",
      "\u001b[90m5\u001b[39m     0      0    12    \u001b[4m1\u001b[24m592 <U+2587><U+2581><U+2581><U+2581><U+2581>\n",
      "\u001b[90m6\u001b[39m     0      0    13    \u001b[4m1\u001b[24m584 <U+2587><U+2581><U+2581><U+2581><U+2581>\n"
     ]
    }
   ],
   "source": [
    "library(skimr)\n",
    "\n",
    "# Níže vidíme datové třídy pro jednotlivé sloupce\n",
    "skim(f)"
   ]
  },
  {
   "cell_type": "code",
   "execution_count": 57,
   "id": "f254a5ae",
   "metadata": {},
   "outputs": [
    {
     "data": {
      "image/png": "[encoded data removed]",
      "text/plain": [
       "plot without title"
      ]
     },
     "metadata": {
      "image/png": {
       "height": 420,
       "width": 420
      }
     },
     "output_type": "display_data"
    }
   ],
   "source": [
    "\n",
    "gender_statis_bar <- ggplot(f, aes(x=pohlavi, fill=spokojenost)) +\n",
    "  geom_bar() +\n",
    "  theme_classic() +\n",
    "  labs(title = \"Spokojenost dle pohlaví\")\n",
    "\n",
    "\n",
    "gender_statis_bar"
   ]
  },
  {
   "cell_type": "code",
   "execution_count": 65,
   "id": "fe47a2d9",
   "metadata": {
    "scrolled": false
   },
   "outputs": [
    {
     "data": {
      "image/png": "[encoded data removed]",
      "text/plain": [
       "plot without title"
      ]
     },
     "metadata": {
      "image/png": {
       "height": 420,
       "width": 420
      }
     },
     "output_type": "display_data"
    }
   ],
   "source": [
    "# Muži a ženy představují v celkovém souboru údajů téměř stejný podíl. \n",
    "# Vidíme, že nespokojených zákazníků mužského pohlaví je více než žen.\n",
    "\n",
    "vek_hist <- ggplot(f, aes(x=vek, fill=spokojenost, color=spokojenost)) +\n",
    "  geom_histogram(aes(y=after_stat(density)), position=\"identity\", alpha=0.2, bins=30)+ \n",
    "  geom_density(alpha=0.6)+\n",
    "  labs(title=\"Distribuce věku podle pohlaví a spokojenosti\") +\n",
    "  theme_classic() +\n",
    "  facet_grid(~pohlavi)\n",
    "\n",
    "vek_hist"
   ]
  },
  {
   "cell_type": "code",
   "execution_count": 185,
   "id": "6f4bf7fd",
   "metadata": {},
   "outputs": [
    {
     "data": {
      "image/png": "[encoded data removed]",
      "text/plain": [
       "plot without title"
      ]
     },
     "metadata": {
      "image/png": {
       "height": 420,
       "width": 420
      }
     },
     "output_type": "display_data"
    }
   ],
   "source": [
    "\n",
    "\n",
    "gender_statis_type_bar <- ggplot(f, aes(x=typ_zakaznika, fill=spokojenost)) +\n",
    "      geom_bar() +\n",
    "      theme_classic() +\n",
    "      labs(title = \"Spokojenost zákazníků podle typu zákazníka a pohlaví\") +\n",
    "      facet_grid(~pohlavi)\n",
    "    \n",
    "print(gender_statis_type_bar)"
   ]
  },
  {
   "cell_type": "code",
   "execution_count": null,
   "id": "26625688",
   "metadata": {},
   "outputs": [],
   "source": [
    "Nejvíce nespokojených zákazníků je ve věku 25 a 35 let. \n",
    "Dalo by se říci, že nejvíce nespokojených zákazníků je ve věku 18 až 40 let. \n",
    "Ženy mají vyšší vrcholy ve srovnání s muži, ale ve věku od 45 do 70 let \n",
    "je více nespokojených mužů.\n",
    "\n",
    "Jak můžeme vidět na grafu spokojených vpravo, zákazníci dosahují vrcholu kolem 40 let. \n",
    "Předtím je pouze jeden mírný vrchol ve věku 25 let. Z toho bychom mohli říci, že mezi ženami\n",
    "je více nespokojených v mladším věku, zatímco muži jsou více rozděleni, speciálně ve vyšším věku."
   ]
  },
  {
   "cell_type": "code",
   "execution_count": 187,
   "id": "6994d5f0",
   "metadata": {
    "scrolled": true
   },
   "outputs": [
    {
     "data": {
      "image/png": "[encoded data removed]",
      "text/plain": [
       "Plot with title \"Využití cestovních tříd\n",
       " (with sample sizes)\""
      ]
     },
     "metadata": {
      "image/png": {
       "height": 420,
       "width": 420
      }
     },
     "output_type": "display_data"
    }
   ],
   "source": [
    "# Koláčový graf zobrazující zastoupení zakoupené třídy mezi dotazovanými\n",
    "\n",
    "tab <- table(f$trida)\n",
    "kol <- paste(names(tab), \"\\n\", tab, sep=\"\")\n",
    "pie(tab, labels = kol,\n",
    "    main=\"Využití cestovních tříd\\n (with sample sizes)\")"
   ]
  },
  {
   "cell_type": "code",
   "execution_count": 188,
   "id": "d2212640",
   "metadata": {},
   "outputs": [
    {
     "data": {
      "image/png": "[encoded data removed]",
      "text/plain": [
       "Plot with title \"Zastoupení pohlaví\n",
       " (with sample sizes)\""
      ]
     },
     "metadata": {
      "image/png": {
       "height": 420,
       "width": 420
      }
     },
     "output_type": "display_data"
    }
   ],
   "source": [
    "# Koláčový graf zobrazující zastoupení zakoupené třídy mezi dotazovanými\n",
    "\n",
    "tab <- table(f$pohlavi)\n",
    "kol <- paste(names(tab), \"\\n\", tab, sep=\"\")\n",
    "pie(tab, labels = kol,\n",
    "    main=\"Zastoupení pohlaví\\n (with sample sizes)\") "
   ]
  },
  {
   "cell_type": "code",
   "execution_count": 191,
   "id": "b6692e03",
   "metadata": {},
   "outputs": [
    {
     "data": {
      "image/png": "[encoded data removed]",
      "text/plain": [
       "Plot with title \"Spokojenost s wifi\n",
       " (with sample sizes)\""
      ]
     },
     "metadata": {
      "image/png": {
       "height": 420,
       "width": 420
      }
     },
     "output_type": "display_data"
    }
   ],
   "source": [
    "tab <- table(f$wifi_na_palube)\n",
    "kol <- paste(names(tab), \"\\n\", tab, sep=\"\")\n",
    "pie(tab, labels = kol,\n",
    "    main=\"Spokojenost s wifi\\n (with sample sizes)\") "
   ]
  },
  {
   "cell_type": "code",
   "execution_count": 194,
   "id": "46a4255c",
   "metadata": {},
   "outputs": [
    {
     "data": {
      "image/png": "[encoded data removed]",
      "text/plain": [
       "Plot with title \"Hisotgram zpoždění příletu v minutách\""
      ]
     },
     "metadata": {
      "image/png": {
       "height": 420,
       "width": 420
      }
     },
     "output_type": "display_data"
    }
   ],
   "source": [
    "# Nejčastější zpoždění pozorujeme mezi dvěmi až čtyřmi minutami\n",
    "\n",
    "hist(log(f$zpozdeni_priletu_v_minutach), col=\"brown\", main = \"Hisotgram zpoždění příletu v minutách\")\n",
    "# Pro vykreslení je použit histogram s logaritmickou škálou"
   ]
  },
  {
   "cell_type": "code",
   "execution_count": 205,
   "id": "2478ceaf",
   "metadata": {},
   "outputs": [
    {
     "data": {
      "image/png": "[encoded data removed]",
      "text/plain": [
       "Plot with title \"Histogram of log(f$vek)\""
      ]
     },
     "metadata": {
      "image/png": {
       "height": 420,
       "width": 420
      }
     },
     "output_type": "display_data"
    }
   ],
   "source": [
    "# Nejčastější zpoždění pozorujeme mezi dvěmi až čtyřmi minutami\n",
    "\n",
    "hist(log(f$vek), col=\"brown\")\n",
    "# Pro vykreslení je použit histogram s "
   ]
  },
  {
   "cell_type": "code",
   "execution_count": 198,
   "id": "062a8d11",
   "metadata": {
    "scrolled": false
   },
   "outputs": [
    {
     "data": {
      "image/png": "[encoded data removed]",
      "text/plain": [
       "Plot with title \"Histogram of (f$vek)\""
      ]
     },
     "metadata": {
      "image/png": {
       "height": 420,
       "width": 420
      }
     },
     "output_type": "display_data"
    }
   ],
   "source": [
    "hist((f$vek), col=\"brown\")"
   ]
  },
  {
   "cell_type": "code",
   "execution_count": 98,
   "id": "de42610f",
   "metadata": {},
   "outputs": [
    {
     "data": {
      "text/plain": [
       "\n",
       "   -1     1 \n",
       "58605 70882 "
      ]
     },
     "metadata": {},
     "output_type": "display_data"
    },
    {
     "data": {
      "image/png": "[encoded data removed]",
      "text/plain": [
       "plot without title"
      ]
     },
     "metadata": {
      "image/png": {
       "height": 420,
       "width": 420
      }
     },
     "output_type": "display_data"
    }
   ],
   "source": [
    "# Zobrazení proměnné s třídou character (pomocí table)\n",
    "\n",
    "tabledata <- table(f$spokojenost)\n",
    "\n",
    "barplot(tabledata)\n",
    "table(f$spokojenost)"
   ]
  },
  {
   "cell_type": "code",
   "execution_count": 5,
   "id": "d14a6cd1",
   "metadata": {},
   "outputs": [
    {
     "ename": "ERROR",
     "evalue": "Error in parse(text = x, srcfile = src): <text>:10:6: unexpected '/'\n9:            colors = c(\"#6D9EC1\", \"white\", \"#E46726\"))\n10: http:/\n         ^\n",
     "output_type": "error",
     "traceback": [
      "Error in parse(text = x, srcfile = src): <text>:10:6: unexpected '/'\n9:            colors = c(\"#6D9EC1\", \"white\", \"#E46726\"))\n10: http:/\n         ^\nTraceback:\n"
     ]
    }
   ],
   "source": [
    "# Musim zprovoznit korelacni matrix, bere jen numericke hodnoty, takze vybrat jen numericke sloupce\n",
    "\n",
    "library(ggcorrplot)\n",
    "library(ggplot2)\n",
    "\n",
    "ggcorrplot(f, hc.order = T, type = \"lower\",\n",
    "           outline.col = \"white\",\n",
    "           ggtheme = ggplot2::theme_gray,\n",
    "           colors = c(\"#6D9EC1\", \"white\", \"#E46726\"))\n",
    "http://www.sthda.com/english/wiki/ggcorrplot-visualization-of-a-correlation-matrix-using-ggplot2\n"
   ]
  },
  {
   "cell_type": "code",
   "execution_count": null,
   "id": "e4266cad",
   "metadata": {},
   "outputs": [],
   "source": [
    "Random forest?"
   ]
  },
  {
   "cell_type": "code",
   "execution_count": 199,
   "id": "2de21780",
   "metadata": {},
   "outputs": [
    {
     "data": {
      "image/png": "[encoded data removed]",
      "text/plain": [
       "Plot with title \"Histogram of f$wifi_na_palube\""
      ]
     },
     "metadata": {
      "image/png": {
       "height": 420,
       "width": 420
      }
     },
     "output_type": "display_data"
    }
   ],
   "source": [
    "# Net Promoter Score\n",
    "# První pokus přes histogram\n",
    "\n",
    "hist(f$wifi_na_palube, breaks=-1:5, col=c(rep(\"red\",3), rep(\"yellow\",2), rep(\"green\", 1)))"
   ]
  },
  {
   "cell_type": "code",
   "execution_count": 184,
   "id": "88833fbc",
   "metadata": {
    "scrolled": false
   },
   "outputs": [
    {
     "data": {
      "text/html": [
       "<style>\n",
       ".list-inline {list-style: none; margin:0; padding: 0}\n",
       ".list-inline>li {display: inline-block}\n",
       ".list-inline>li:not(:last-child)::after {content: \"\\00b7\"; padding: 0 .5ex}\n",
       "</style>\n",
       "<ol class=list-inline><li>'id'</li><li>'spokojenost'</li><li>'pohlavi'</li><li>'typ_zakaznika'</li><li>'vek'</li><li>'typ_cestovani'</li><li>'trida'</li><li>'vzdalenost_letu'</li><li>'komfort_sedadla'</li><li>'cas_odlet_prilet_pohodlnost'</li><li>'jidlo_a_piti'</li><li>'poloha_gate'</li><li>'wifi_na_palube'</li><li>'zabava_na_palube'</li><li>'online_podpora'</li><li>'snadnost_online_rezervace'</li><li>'sluzby_na_palube'</li><li>'sluzby_pro_prostor_na_nohy'</li><li>'manipulace_s_batohem'</li><li>'checkin_sluzba'</li><li>'cistota'</li><li>'online_nastup'</li><li>'zpozdeni_odletu_v_minutach'</li><li>'zpozdeni_priletu_v_minutach'</li></ol>\n"
      ],
      "text/latex": [
       "\\begin{enumerate*}\n",
       "\\item 'id'\n",
       "\\item 'spokojenost'\n",
       "\\item 'pohlavi'\n",
       "\\item 'typ\\_zakaznika'\n",
       "\\item 'vek'\n",
       "\\item 'typ\\_cestovani'\n",
       "\\item 'trida'\n",
       "\\item 'vzdalenost\\_letu'\n",
       "\\item 'komfort\\_sedadla'\n",
       "\\item 'cas\\_odlet\\_prilet\\_pohodlnost'\n",
       "\\item 'jidlo\\_a\\_piti'\n",
       "\\item 'poloha\\_gate'\n",
       "\\item 'wifi\\_na\\_palube'\n",
       "\\item 'zabava\\_na\\_palube'\n",
       "\\item 'online\\_podpora'\n",
       "\\item 'snadnost\\_online\\_rezervace'\n",
       "\\item 'sluzby\\_na\\_palube'\n",
       "\\item 'sluzby\\_pro\\_prostor\\_na\\_nohy'\n",
       "\\item 'manipulace\\_s\\_batohem'\n",
       "\\item 'checkin\\_sluzba'\n",
       "\\item 'cistota'\n",
       "\\item 'online\\_nastup'\n",
       "\\item 'zpozdeni\\_odletu\\_v\\_minutach'\n",
       "\\item 'zpozdeni\\_priletu\\_v\\_minutach'\n",
       "\\end{enumerate*}\n"
      ],
      "text/markdown": [
       "1. 'id'\n",
       "2. 'spokojenost'\n",
       "3. 'pohlavi'\n",
       "4. 'typ_zakaznika'\n",
       "5. 'vek'\n",
       "6. 'typ_cestovani'\n",
       "7. 'trida'\n",
       "8. 'vzdalenost_letu'\n",
       "9. 'komfort_sedadla'\n",
       "10. 'cas_odlet_prilet_pohodlnost'\n",
       "11. 'jidlo_a_piti'\n",
       "12. 'poloha_gate'\n",
       "13. 'wifi_na_palube'\n",
       "14. 'zabava_na_palube'\n",
       "15. 'online_podpora'\n",
       "16. 'snadnost_online_rezervace'\n",
       "17. 'sluzby_na_palube'\n",
       "18. 'sluzby_pro_prostor_na_nohy'\n",
       "19. 'manipulace_s_batohem'\n",
       "20. 'checkin_sluzba'\n",
       "21. 'cistota'\n",
       "22. 'online_nastup'\n",
       "23. 'zpozdeni_odletu_v_minutach'\n",
       "24. 'zpozdeni_priletu_v_minutach'\n",
       "\n",
       "\n"
      ],
      "text/plain": [
       " [1] \"id\"                          \"spokojenost\"                \n",
       " [3] \"pohlavi\"                     \"typ_zakaznika\"              \n",
       " [5] \"vek\"                         \"typ_cestovani\"              \n",
       " [7] \"trida\"                       \"vzdalenost_letu\"            \n",
       " [9] \"komfort_sedadla\"             \"cas_odlet_prilet_pohodlnost\"\n",
       "[11] \"jidlo_a_piti\"                \"poloha_gate\"                \n",
       "[13] \"wifi_na_palube\"              \"zabava_na_palube\"           \n",
       "[15] \"online_podpora\"              \"snadnost_online_rezervace\"  \n",
       "[17] \"sluzby_na_palube\"            \"sluzby_pro_prostor_na_nohy\" \n",
       "[19] \"manipulace_s_batohem\"        \"checkin_sluzba\"             \n",
       "[21] \"cistota\"                     \"online_nastup\"              \n",
       "[23] \"zpozdeni_odletu_v_minutach\"  \"zpozdeni_priletu_v_minutach\""
      ]
     },
     "metadata": {},
     "output_type": "display_data"
    }
   ],
   "source": [
    "colnames(f)"
   ]
  },
  {
   "cell_type": "code",
   "execution_count": 209,
   "id": "0c387641",
   "metadata": {},
   "outputs": [
    {
     "data": {
      "image/png": "[encoded data removed]",
      "text/plain": [
       "plot without title"
      ]
     },
     "metadata": {
      "image/png": {
       "height": 420,
       "width": 420
      }
     },
     "output_type": "display_data"
    }
   ],
   "source": [
    "# Pracovní cesty jsou celkem \n",
    "\n",
    "ggplot(f, aes(x = vek, fill = typ_cestovani)) +\n",
    "  geom_bar(position = \"dodge\") +\n",
    "  facet_grid(. ~ pohlavi) +\n",
    "  labs(x = \"Věk\", y = \"Počet\", fill = \"Typ cestování\")"
   ]
  },
  {
   "cell_type": "code",
   "execution_count": 203,
   "id": "8be98cb9",
   "metadata": {
    "scrolled": false
   },
   "outputs": [
    {
     "data": {
      "image/png": "[encoded data removed]",
      "text/plain": [
       "plot without title"
      ]
     },
     "metadata": {
      "image/png": {
       "height": 420,
       "width": 420
      }
     },
     "output_type": "display_data"
    }
   ],
   "source": [
    "# \n",
    "\n",
    "ggplot(f, aes(x = vek, fill = typ_cestovani)) +\n",
    "  geom_bar(position = \"dodge\") +\n",
    "  facet_grid(. ~ trida) +\n",
    "  labs(x = \"Věk\", y = \"Počet\", fill = \"Typ cestování\")"
   ]
  },
  {
   "cell_type": "code",
   "execution_count": 19,
   "id": "34fab557",
   "metadata": {},
   "outputs": [
    {
     "data": {
      "image/png": "[encoded data removed]",
      "text/plain": [
       "plot without title"
      ]
     },
     "metadata": {
      "image/png": {
       "height": 420,
       "width": 420
      }
     },
     "output_type": "display_data"
    }
   ],
   "source": [
    "ggplot(f, aes(x = vek, fill = typ_cestovani)) +\n",
    "  geom_bar(position = \"dodge\") +\n",
    "  facet_grid(. ~ typ_zakaznika) +\n",
    "  labs(x = \"Věk\", y = \"Počet\", fill = \"Typ cestování\")"
   ]
  },
  {
   "cell_type": "code",
   "execution_count": 20,
   "id": "a54206ad",
   "metadata": {},
   "outputs": [
    {
     "data": {
      "image/png": "[encoded data removed]",
      "text/plain": [
       "plot without title"
      ]
     },
     "metadata": {
      "image/png": {
       "height": 420,
       "width": 420
      }
     },
     "output_type": "display_data"
    }
   ],
   "source": [
    "\n",
    "library(ggplot2)\n",
    "\n",
    "ggplot(f, aes(x = vzdalenost_letu, fill = typ_cestovani)) +\n",
    "  geom_bar(position = \"dodge\") +\n",
    "  facet_grid(. ~ trida) +\n",
    "  labs(x = \"Věk\", y = \"Počet\", fill = \"Typ cestování\")"
   ]
  },
  {
   "cell_type": "code",
   "execution_count": null,
   "id": "85a78c92",
   "metadata": {},
   "outputs": [],
   "source": [
    "Respondenti, kteří zvolili možnost 0-1 (0, při stupnici 0-5), se nazývají propagátoři. \n",
    "Lidé, kteří zvolili hodnoty 2-3 (2, pro škálu 0-5), se nazývají Pasivisté, \n",
    "hodnoty nad 3 (nad 2, pro škálu 0-5) se nazývají Odpůrci. \n",
    "Čím vyšší je hodnota NPS, tím služba lepší. Obecně se předpokládá, \n",
    "že hodnota kolem 70 % NPS je velmi dobré skóre."
   ]
  },
  {
   "cell_type": "code",
   "execution_count": 27,
   "id": "0e344667",
   "metadata": {},
   "outputs": [
    {
     "data": {
      "text/plain": [
       "\n",
       "    0     1     2     3     4     5 \n",
       "  130 14670 26957 27518 31474 28738 "
      ]
     },
     "metadata": {},
     "output_type": "display_data"
    }
   ],
   "source": [
    "table(f$wifi_na_palube)"
   ]
  },
  {
   "cell_type": "code",
   "execution_count": 208,
   "id": "16b23322",
   "metadata": {},
   "outputs": [
    {
     "data": {
      "image/png": "[encoded data removed]",
      "text/plain": [
       "plot without title"
      ]
     },
     "metadata": {
      "image/png": {
       "height": 420,
       "width": 420
      }
     },
     "output_type": "display_data"
    }
   ],
   "source": [
    "o <- f$wifi_na_palube\n",
    "\n",
    "# Výpočet procenta promotérů, pasivních a kritiků\n",
    "promoters <- sum(o >= 5) / length(o) * 100\n",
    "passives <- sum(o >= 3 & o <= 4) / length(o) * 100\n",
    "detractors <- sum(o <= 2) / length(o) * 100\n",
    "\n",
    "# Výpočet Net Promoter Score (NPS)\n",
    "nps <- promoters - detractors\n",
    "\n",
    "# Vytvoření datového rámce pro graf\n",
    "nps_data <- data.frame(Category = c(\"Promotéři\", \"Pasivní\", \"Kritici\"),\n",
    "                       Percentage = c(promoters, passives, detractors))\n",
    "\n",
    "# Vykreslení grafu pomocí ggplot2\n",
    "ggplot(nps_data, aes(x = \"\", y = Percentage, fill = Category)) +\n",
    "  geom_bar(stat = \"identity\", width = 1) +\n",
    "  coord_polar(theta = \"y\") +\n",
    "  theme_classic() +\n",
    "  theme(legend.position = \"bottom\") +\n",
    "  labs(title = \"Net Promoter Score (NPS)\",\n",
    "       subtitle = paste0(\"NPS = \", nps),\n",
    "       fill = \"Kategorie\")"
   ]
  },
  {
   "cell_type": "code",
   "execution_count": 29,
   "id": "d185855e",
   "metadata": {
    "scrolled": false
   },
   "outputs": [
    {
     "data": {
      "image/png": "[encoded data removed]",
      "text/plain": [
       "Plot with title \"Hodnocení wifi na palubě\""
      ]
     },
     "metadata": {
      "image/png": {
       "height": 420,
       "width": 420
      }
     },
     "output_type": "display_data"
    }
   ],
   "source": [
    "# \n",
    "\n",
    "tab <- table(f$wifi_na_palube)\n",
    "kol <- paste(names(tab), \"\\n\", tab, sep=\"\")\n",
    "pie(tab, labels = kol,\n",
    "    main=\"Hodnocení wifi na palubě\") "
   ]
  },
  {
   "cell_type": "code",
   "execution_count": 33,
   "id": "52135dfe",
   "metadata": {
    "scrolled": false
   },
   "outputs": [
    {
     "name": "stderr",
     "output_type": "stream",
     "text": [
      "Warning message in brewer.pal(length(unique(f$spokojenost)), \"Set1\"):\n",
      "\"minimal value for n is 3, returning requested palette with 3 different levels\n",
      "\"\n"
     ]
    },
    {
     "data": {
      "image/png": "[encoded data removed]",
      "text/plain": [
       "plot without title"
      ]
     },
     "metadata": {
      "image/png": {
       "height": 420,
       "width": 420
      }
     },
     "output_type": "display_data"
    }
   ],
   "source": [
    "library(ggplot2)\n",
    "library(RColorBrewer)\n",
    "\n",
    "# Vytvoření palety barev pro jednotlivé hodnoty spokojenosti\n",
    "palette <- brewer.pal(length(unique(f$spokojenost)), \"Set1\")\n",
    "\n",
    "# Vykreslení spokojenosti pomocí ggplotu s různými barvami\n",
    "ggplot(f, aes(x = spokojenost, fill = spokojenost)) +\n",
    "  geom_bar() +\n",
    "  scale_fill_manual(values = palette) +\n",
    "  labs(x = \"Spokojenost\", y = \"Počet\") +\n",
    "  ggtitle(\"Graf spokojenosti s různými barvami\")"
   ]
  },
  {
   "cell_type": "code",
   "execution_count": 35,
   "id": "6d7541e5",
   "metadata": {},
   "outputs": [
    {
     "data": {
      "text/html": [
       "<style>\n",
       ".list-inline {list-style: none; margin:0; padding: 0}\n",
       ".list-inline>li {display: inline-block}\n",
       ".list-inline>li:not(:last-child)::after {content: \"\\00b7\"; padding: 0 .5ex}\n",
       "</style>\n",
       "<ol class=list-inline><li>'id'</li><li>'spokojenost'</li><li>'pohlavi'</li><li>'typ_zakaznika'</li><li>'vek'</li><li>'typ_cestovani'</li><li>'trida'</li><li>'vzdalenost_letu'</li><li>'komfort_sedadla'</li><li>'cas_odlet_prilet_pohodlnost'</li><li>'jidlo_a_piti'</li><li>'poloha_gate'</li><li>'wifi_na_palube'</li><li>'zabava_na_palube'</li><li>'online_podpora'</li><li>'snadnost_online_rezervace'</li><li>'sluzby_na_palube'</li><li>'sluzby_pro_prostor_na_nohy'</li><li>'manipulace_s_batohem'</li><li>'checkin_sluzba'</li><li>'cistota'</li><li>'online_nastup'</li><li>'zpozdeni_odletu_v_minutach'</li><li>'zpozdeni_priletu_v_minutach'</li></ol>\n"
      ],
      "text/latex": [
       "\\begin{enumerate*}\n",
       "\\item 'id'\n",
       "\\item 'spokojenost'\n",
       "\\item 'pohlavi'\n",
       "\\item 'typ\\_zakaznika'\n",
       "\\item 'vek'\n",
       "\\item 'typ\\_cestovani'\n",
       "\\item 'trida'\n",
       "\\item 'vzdalenost\\_letu'\n",
       "\\item 'komfort\\_sedadla'\n",
       "\\item 'cas\\_odlet\\_prilet\\_pohodlnost'\n",
       "\\item 'jidlo\\_a\\_piti'\n",
       "\\item 'poloha\\_gate'\n",
       "\\item 'wifi\\_na\\_palube'\n",
       "\\item 'zabava\\_na\\_palube'\n",
       "\\item 'online\\_podpora'\n",
       "\\item 'snadnost\\_online\\_rezervace'\n",
       "\\item 'sluzby\\_na\\_palube'\n",
       "\\item 'sluzby\\_pro\\_prostor\\_na\\_nohy'\n",
       "\\item 'manipulace\\_s\\_batohem'\n",
       "\\item 'checkin\\_sluzba'\n",
       "\\item 'cistota'\n",
       "\\item 'online\\_nastup'\n",
       "\\item 'zpozdeni\\_odletu\\_v\\_minutach'\n",
       "\\item 'zpozdeni\\_priletu\\_v\\_minutach'\n",
       "\\end{enumerate*}\n"
      ],
      "text/markdown": [
       "1. 'id'\n",
       "2. 'spokojenost'\n",
       "3. 'pohlavi'\n",
       "4. 'typ_zakaznika'\n",
       "5. 'vek'\n",
       "6. 'typ_cestovani'\n",
       "7. 'trida'\n",
       "8. 'vzdalenost_letu'\n",
       "9. 'komfort_sedadla'\n",
       "10. 'cas_odlet_prilet_pohodlnost'\n",
       "11. 'jidlo_a_piti'\n",
       "12. 'poloha_gate'\n",
       "13. 'wifi_na_palube'\n",
       "14. 'zabava_na_palube'\n",
       "15. 'online_podpora'\n",
       "16. 'snadnost_online_rezervace'\n",
       "17. 'sluzby_na_palube'\n",
       "18. 'sluzby_pro_prostor_na_nohy'\n",
       "19. 'manipulace_s_batohem'\n",
       "20. 'checkin_sluzba'\n",
       "21. 'cistota'\n",
       "22. 'online_nastup'\n",
       "23. 'zpozdeni_odletu_v_minutach'\n",
       "24. 'zpozdeni_priletu_v_minutach'\n",
       "\n",
       "\n"
      ],
      "text/plain": [
       " [1] \"id\"                          \"spokojenost\"                \n",
       " [3] \"pohlavi\"                     \"typ_zakaznika\"              \n",
       " [5] \"vek\"                         \"typ_cestovani\"              \n",
       " [7] \"trida\"                       \"vzdalenost_letu\"            \n",
       " [9] \"komfort_sedadla\"             \"cas_odlet_prilet_pohodlnost\"\n",
       "[11] \"jidlo_a_piti\"                \"poloha_gate\"                \n",
       "[13] \"wifi_na_palube\"              \"zabava_na_palube\"           \n",
       "[15] \"online_podpora\"              \"snadnost_online_rezervace\"  \n",
       "[17] \"sluzby_na_palube\"            \"sluzby_pro_prostor_na_nohy\" \n",
       "[19] \"manipulace_s_batohem\"        \"checkin_sluzba\"             \n",
       "[21] \"cistota\"                     \"online_nastup\"              \n",
       "[23] \"zpozdeni_odletu_v_minutach\"  \"zpozdeni_priletu_v_minutach\""
      ]
     },
     "metadata": {},
     "output_type": "display_data"
    }
   ],
   "source": [
    "colnames(f)"
   ]
  },
  {
   "cell_type": "code",
   "execution_count": 55,
   "id": "c3c91dc1",
   "metadata": {},
   "outputs": [
    {
     "data": {
      "image/png": "[encoded data removed]",
      "text/plain": [
       "plot without title"
      ]
     },
     "metadata": {
      "image/png": {
       "height": 420,
       "width": 420
      }
     },
     "output_type": "display_data"
    }
   ],
   "source": [
    "library(tidyverse)\n",
    "\n",
    "# Vezmeme všechny sloupce s hodnocením 0 až 5 a převedeme na faktory\n",
    "f <- f %>%\n",
    "  mutate_at(vars(komfort_sedadla:online_nastup), factor, levels = 0:5)\n",
    "\n",
    "# Definujeme si kritiky, pasivní zákazníky a promotéry.\n",
    "# Čím vyšší hodnocení, tím lepší\n",
    "# Taktéž si zadefinujeme výpočet Net promoter score \n",
    "calculate_nps <- function(x) {\n",
    "  promoters <- sum(x %in% c(4, 5))\n",
    "  detractors <- sum(x %in% c(0, 1))\n",
    "  nps <- (promoters - detractors) / length(x) * 100\n",
    "  return(nps)\n",
    "}\n",
    "\n",
    "nps_data <- f %>%\n",
    "  summarize(across(komfort_sedadla:online_nastup, calculate_nps)) %>%\n",
    "  pivot_longer(everything(), names_to = \"sloupec\", values_to = \"nps\")\n",
    "\n",
    "# Vykreslení grafů\n",
    "ggplot(nps_data, aes(x = sloupec, y = nps, fill = nps)) +\n",
    "  geom_bar(stat = \"identity\") +\n",
    "  labs(x = \"hodnocené služby\", y = \"Net Promoter Score (%)\") +\n",
    "  ggtitle(\"Net Promoter Score pro jednotlivé služby\") +\n",
    "  theme_classic() +\n",
    "  theme(legend.position = \"none\") +\n",
    "  coord_flip() +\n",
    "  scale_fill_gradient(low = \"#D1EAFB\", high = \"#00539F\")"
   ]
  },
  {
   "cell_type": "code",
   "execution_count": 97,
   "id": "6507a83c",
   "metadata": {},
   "outputs": [
    {
     "data": {
      "text/html": [
       "<table class=\"dataframe\">\n",
       "<caption>A tibble: 129487 × 14</caption>\n",
       "<thead>\n",
       "\t<tr><th scope=col>komfort_sedadla</th><th scope=col>cas_odlet_prilet_pohodlnost</th><th scope=col>jidlo_a_piti</th><th scope=col>poloha_gate</th><th scope=col>wifi_na_palube</th><th scope=col>zabava_na_palube</th><th scope=col>online_podpora</th><th scope=col>snadnost_online_rezervace</th><th scope=col>sluzby_na_palube</th><th scope=col>sluzby_pro_prostor_na_nohy</th><th scope=col>manipulace_s_batohem</th><th scope=col>checkin_sluzba</th><th scope=col>cistota</th><th scope=col>online_nastup</th></tr>\n",
       "\t<tr><th scope=col>&lt;dbl&gt;</th><th scope=col>&lt;dbl&gt;</th><th scope=col>&lt;dbl&gt;</th><th scope=col>&lt;dbl&gt;</th><th scope=col>&lt;dbl&gt;</th><th scope=col>&lt;dbl&gt;</th><th scope=col>&lt;dbl&gt;</th><th scope=col>&lt;dbl&gt;</th><th scope=col>&lt;dbl&gt;</th><th scope=col>&lt;dbl&gt;</th><th scope=col>&lt;dbl&gt;</th><th scope=col>&lt;dbl&gt;</th><th scope=col>&lt;dbl&gt;</th><th scope=col>&lt;dbl&gt;</th></tr>\n",
       "</thead>\n",
       "<tbody>\n",
       "\t<tr><td>1</td><td>1</td><td>1</td><td>3</td><td>3</td><td>5</td><td>3</td><td>4</td><td>4</td><td>1</td><td>4</td><td>6</td><td>4</td><td>3</td></tr>\n",
       "\t<tr><td>1</td><td>1</td><td>1</td><td>4</td><td>1</td><td>3</td><td>3</td><td>4</td><td>5</td><td>5</td><td>5</td><td>3</td><td>4</td><td>3</td></tr>\n",
       "\t<tr><td>1</td><td>1</td><td>1</td><td>4</td><td>3</td><td>1</td><td>3</td><td>3</td><td>4</td><td>4</td><td>5</td><td>5</td><td>5</td><td>3</td></tr>\n",
       "\t<tr><td>1</td><td>1</td><td>1</td><td>4</td><td>4</td><td>5</td><td>4</td><td>2</td><td>2</td><td>1</td><td>2</td><td>5</td><td>2</td><td>4</td></tr>\n",
       "\t<tr><td>1</td><td>1</td><td>1</td><td>4</td><td>5</td><td>4</td><td>5</td><td>3</td><td>3</td><td>1</td><td>3</td><td>5</td><td>3</td><td>6</td></tr>\n",
       "\t<tr><td>1</td><td>1</td><td>1</td><td>4</td><td>3</td><td>1</td><td>3</td><td>3</td><td>6</td><td>5</td><td>6</td><td>6</td><td>5</td><td>3</td></tr>\n",
       "\t<tr><td>1</td><td>1</td><td>1</td><td>4</td><td>3</td><td>6</td><td>6</td><td>6</td><td>6</td><td>1</td><td>6</td><td>6</td><td>6</td><td>4</td></tr>\n",
       "\t<tr><td>1</td><td>1</td><td>1</td><td>4</td><td>3</td><td>1</td><td>3</td><td>3</td><td>4</td><td>4</td><td>5</td><td>6</td><td>5</td><td>3</td></tr>\n",
       "\t<tr><td>1</td><td>1</td><td>1</td><td>4</td><td>6</td><td>4</td><td>6</td><td>5</td><td>5</td><td>1</td><td>2</td><td>6</td><td>5</td><td>5</td></tr>\n",
       "\t<tr><td>1</td><td>1</td><td>1</td><td>4</td><td>3</td><td>1</td><td>3</td><td>3</td><td>3</td><td>5</td><td>6</td><td>4</td><td>5</td><td>3</td></tr>\n",
       "\t<tr><td>1</td><td>1</td><td>1</td><td>4</td><td>4</td><td>4</td><td>4</td><td>4</td><td>4</td><td>1</td><td>2</td><td>3</td><td>4</td><td>6</td></tr>\n",
       "\t<tr><td>1</td><td>1</td><td>1</td><td>5</td><td>3</td><td>1</td><td>3</td><td>3</td><td>4</td><td>3</td><td>6</td><td>3</td><td>6</td><td>3</td></tr>\n",
       "\t<tr><td>1</td><td>1</td><td>1</td><td>5</td><td>6</td><td>1</td><td>6</td><td>6</td><td>2</td><td>4</td><td>3</td><td>3</td><td>5</td><td>6</td></tr>\n",
       "\t<tr><td>1</td><td>2</td><td>1</td><td>2</td><td>5</td><td>1</td><td>5</td><td>5</td><td>4</td><td>6</td><td>3</td><td>4</td><td>3</td><td>5</td></tr>\n",
       "\t<tr><td>1</td><td>2</td><td>1</td><td>2</td><td>6</td><td>3</td><td>2</td><td>6</td><td>6</td><td>1</td><td>6</td><td>3</td><td>6</td><td>3</td></tr>\n",
       "\t<tr><td>1</td><td>2</td><td>1</td><td>2</td><td>2</td><td>1</td><td>2</td><td>2</td><td>4</td><td>5</td><td>2</td><td>5</td><td>3</td><td>2</td></tr>\n",
       "\t<tr><td>1</td><td>2</td><td>1</td><td>3</td><td>5</td><td>1</td><td>5</td><td>5</td><td>5</td><td>5</td><td>2</td><td>4</td><td>2</td><td>5</td></tr>\n",
       "\t<tr><td>1</td><td>2</td><td>1</td><td>3</td><td>2</td><td>3</td><td>3</td><td>2</td><td>2</td><td>1</td><td>2</td><td>3</td><td>2</td><td>4</td></tr>\n",
       "\t<tr><td>1</td><td>2</td><td>1</td><td>3</td><td>1</td><td>2</td><td>2</td><td>3</td><td>2</td><td>2</td><td>3</td><td>2</td><td>4</td><td>2</td></tr>\n",
       "\t<tr><td>1</td><td>2</td><td>1</td><td>3</td><td>4</td><td>1</td><td>4</td><td>4</td><td>3</td><td>6</td><td>3</td><td>4</td><td>3</td><td>4</td></tr>\n",
       "\t<tr><td>1</td><td>2</td><td>1</td><td>3</td><td>4</td><td>1</td><td>6</td><td>4</td><td>2</td><td>2</td><td>2</td><td>4</td><td>4</td><td>4</td></tr>\n",
       "\t<tr><td>1</td><td>2</td><td>1</td><td>3</td><td>2</td><td>1</td><td>2</td><td>2</td><td>4</td><td>6</td><td>2</td><td>5</td><td>3</td><td>2</td></tr>\n",
       "\t<tr><td>1</td><td>2</td><td>1</td><td>3</td><td>3</td><td>1</td><td>5</td><td>3</td><td>5</td><td>2</td><td>4</td><td>2</td><td>4</td><td>3</td></tr>\n",
       "\t<tr><td>1</td><td>2</td><td>1</td><td>3</td><td>2</td><td>4</td><td>4</td><td>2</td><td>2</td><td>1</td><td>2</td><td>4</td><td>2</td><td>2</td></tr>\n",
       "\t<tr><td>1</td><td>2</td><td>1</td><td>3</td><td>3</td><td>1</td><td>3</td><td>3</td><td>4</td><td>4</td><td>3</td><td>5</td><td>4</td><td>3</td></tr>\n",
       "\t<tr><td>1</td><td>2</td><td>1</td><td>3</td><td>5</td><td>1</td><td>5</td><td>5</td><td>3</td><td>2</td><td>4</td><td>4</td><td>3</td><td>5</td></tr>\n",
       "\t<tr><td>1</td><td>2</td><td>1</td><td>3</td><td>6</td><td>1</td><td>4</td><td>6</td><td>5</td><td>5</td><td>3</td><td>4</td><td>3</td><td>6</td></tr>\n",
       "\t<tr><td>1</td><td>2</td><td>1</td><td>3</td><td>4</td><td>3</td><td>3</td><td>4</td><td>4</td><td>1</td><td>4</td><td>2</td><td>4</td><td>5</td></tr>\n",
       "\t<tr><td>1</td><td>2</td><td>1</td><td>3</td><td>5</td><td>1</td><td>5</td><td>5</td><td>5</td><td>4</td><td>4</td><td>2</td><td>4</td><td>5</td></tr>\n",
       "\t<tr><td>1</td><td>2</td><td>1</td><td>4</td><td>1</td><td>5</td><td>5</td><td>3</td><td>3</td><td>4</td><td>5</td><td>5</td><td>4</td><td>5</td></tr>\n",
       "\t<tr><td>...</td><td>...</td><td>...</td><td>...</td><td>...</td><td>...</td><td>...</td><td>...</td><td>...</td><td>...</td><td>...</td><td>...</td><td>...</td><td>...</td></tr>\n",
       "\t<tr><td>4</td><td>6</td><td>4</td><td>4</td><td>3</td><td>4</td><td>3</td><td>3</td><td>5</td><td>4</td><td>5</td><td>4</td><td>5</td><td>3</td></tr>\n",
       "\t<tr><td>4</td><td>6</td><td>4</td><td>4</td><td>6</td><td>4</td><td>6</td><td>6</td><td>5</td><td>5</td><td>5</td><td>5</td><td>6</td><td>6</td></tr>\n",
       "\t<tr><td>4</td><td>6</td><td>4</td><td>4</td><td>2</td><td>4</td><td>2</td><td>2</td><td>6</td><td>3</td><td>6</td><td>6</td><td>5</td><td>2</td></tr>\n",
       "\t<tr><td>4</td><td>6</td><td>4</td><td>4</td><td>6</td><td>4</td><td>2</td><td>6</td><td>4</td><td>5</td><td>6</td><td>4</td><td>5</td><td>6</td></tr>\n",
       "\t<tr><td>4</td><td>6</td><td>4</td><td>5</td><td>2</td><td>4</td><td>2</td><td>2</td><td>6</td><td>6</td><td>5</td><td>5</td><td>5</td><td>2</td></tr>\n",
       "\t<tr><td>4</td><td>6</td><td>4</td><td>6</td><td>6</td><td>4</td><td>6</td><td>6</td><td>4</td><td>5</td><td>6</td><td>5</td><td>5</td><td>6</td></tr>\n",
       "\t<tr><td>5</td><td>4</td><td>5</td><td>4</td><td>6</td><td>5</td><td>6</td><td>6</td><td>6</td><td>3</td><td>4</td><td>2</td><td>6</td><td>6</td></tr>\n",
       "\t<tr><td>5</td><td>6</td><td>5</td><td>2</td><td>2</td><td>5</td><td>2</td><td>2</td><td>5</td><td>3</td><td>6</td><td>4</td><td>6</td><td>2</td></tr>\n",
       "\t<tr><td>5</td><td>6</td><td>5</td><td>3</td><td>6</td><td>5</td><td>3</td><td>6</td><td>4</td><td>4</td><td>4</td><td>4</td><td>5</td><td>6</td></tr>\n",
       "\t<tr><td>5</td><td>6</td><td>5</td><td>3</td><td>5</td><td>5</td><td>2</td><td>5</td><td>5</td><td>3</td><td>6</td><td>6</td><td>5</td><td>5</td></tr>\n",
       "\t<tr><td>5</td><td>6</td><td>5</td><td>4</td><td>5</td><td>5</td><td>5</td><td>5</td><td>6</td><td>4</td><td>5</td><td>4</td><td>5</td><td>5</td></tr>\n",
       "\t<tr><td>5</td><td>6</td><td>6</td><td>2</td><td>6</td><td>6</td><td>6</td><td>6</td><td>5</td><td>4</td><td>5</td><td>6</td><td>5</td><td>6</td></tr>\n",
       "\t<tr><td>1</td><td>5</td><td>1</td><td>4</td><td>5</td><td>1</td><td>5</td><td>5</td><td>6</td><td>5</td><td>6</td><td>6</td><td>6</td><td>5</td></tr>\n",
       "\t<tr><td>5</td><td>5</td><td>4</td><td>5</td><td>5</td><td>4</td><td>5</td><td>5</td><td>4</td><td>4</td><td>4</td><td>5</td><td>4</td><td>5</td></tr>\n",
       "\t<tr><td>5</td><td>6</td><td>5</td><td>3</td><td>5</td><td>5</td><td>4</td><td>5</td><td>4</td><td>3</td><td>3</td><td>3</td><td>2</td><td>5</td></tr>\n",
       "\t<tr><td>5</td><td>6</td><td>5</td><td>3</td><td>3</td><td>5</td><td>3</td><td>3</td><td>5</td><td>6</td><td>6</td><td>6</td><td>5</td><td>3</td></tr>\n",
       "\t<tr><td>5</td><td>6</td><td>5</td><td>4</td><td>3</td><td>5</td><td>3</td><td>3</td><td>2</td><td>6</td><td>3</td><td>4</td><td>4</td><td>3</td></tr>\n",
       "\t<tr><td>6</td><td>1</td><td>6</td><td>2</td><td>3</td><td>6</td><td>3</td><td>3</td><td>5</td><td>6</td><td>6</td><td>4</td><td>6</td><td>3</td></tr>\n",
       "\t<tr><td>6</td><td>2</td><td>6</td><td>5</td><td>6</td><td>6</td><td>6</td><td>6</td><td>4</td><td>3</td><td>4</td><td>5</td><td>5</td><td>6</td></tr>\n",
       "\t<tr><td>6</td><td>3</td><td>6</td><td>4</td><td>3</td><td>6</td><td>3</td><td>3</td><td>3</td><td>6</td><td>5</td><td>4</td><td>5</td><td>3</td></tr>\n",
       "\t<tr><td>6</td><td>3</td><td>6</td><td>5</td><td>2</td><td>6</td><td>6</td><td>2</td><td>2</td><td>2</td><td>4</td><td>4</td><td>5</td><td>2</td></tr>\n",
       "\t<tr><td>6</td><td>5</td><td>6</td><td>2</td><td>6</td><td>6</td><td>6</td><td>6</td><td>4</td><td>3</td><td>5</td><td>6</td><td>5</td><td>6</td></tr>\n",
       "\t<tr><td>6</td><td>5</td><td>6</td><td>4</td><td>3</td><td>6</td><td>3</td><td>3</td><td>5</td><td>6</td><td>5</td><td>5</td><td>4</td><td>3</td></tr>\n",
       "\t<tr><td>6</td><td>5</td><td>6</td><td>4</td><td>5</td><td>6</td><td>5</td><td>5</td><td>6</td><td>5</td><td>5</td><td>4</td><td>5</td><td>5</td></tr>\n",
       "\t<tr><td>6</td><td>6</td><td>6</td><td>3</td><td>3</td><td>6</td><td>3</td><td>3</td><td>4</td><td>6</td><td>4</td><td>6</td><td>5</td><td>3</td></tr>\n",
       "\t<tr><td>6</td><td>6</td><td>6</td><td>4</td><td>3</td><td>6</td><td>3</td><td>3</td><td>4</td><td>4</td><td>5</td><td>5</td><td>5</td><td>3</td></tr>\n",
       "\t<tr><td>3</td><td>4</td><td>3</td><td>5</td><td>3</td><td>2</td><td>2</td><td>4</td><td>3</td><td>4</td><td>4</td><td>2</td><td>3</td><td>2</td></tr>\n",
       "\t<tr><td>4</td><td>1</td><td>4</td><td>4</td><td>4</td><td>3</td><td>3</td><td>5</td><td>5</td><td>4</td><td>5</td><td>3</td><td>4</td><td>3</td></tr>\n",
       "\t<tr><td>4</td><td>3</td><td>4</td><td>3</td><td>4</td><td>3</td><td>3</td><td>4</td><td>4</td><td>3</td><td>4</td><td>3</td><td>2</td><td>3</td></tr>\n",
       "\t<tr><td>4</td><td>5</td><td>4</td><td>4</td><td>4</td><td>4</td><td>4</td><td>5</td><td>6</td><td>6</td><td>6</td><td>4</td><td>4</td><td>4</td></tr>\n",
       "</tbody>\n",
       "</table>\n"
      ],
      "text/latex": [
       "A tibble: 129487 × 14\n",
       "\\begin{tabular}{llllllllllllll}\n",
       " komfort\\_sedadla & cas\\_odlet\\_prilet\\_pohodlnost & jidlo\\_a\\_piti & poloha\\_gate & wifi\\_na\\_palube & zabava\\_na\\_palube & online\\_podpora & snadnost\\_online\\_rezervace & sluzby\\_na\\_palube & sluzby\\_pro\\_prostor\\_na\\_nohy & manipulace\\_s\\_batohem & checkin\\_sluzba & cistota & online\\_nastup\\\\\n",
       " <dbl> & <dbl> & <dbl> & <dbl> & <dbl> & <dbl> & <dbl> & <dbl> & <dbl> & <dbl> & <dbl> & <dbl> & <dbl> & <dbl>\\\\\n",
       "\\hline\n",
       "\t 1 & 1 & 1 & 3 & 3 & 5 & 3 & 4 & 4 & 1 & 4 & 6 & 4 & 3\\\\\n",
       "\t 1 & 1 & 1 & 4 & 1 & 3 & 3 & 4 & 5 & 5 & 5 & 3 & 4 & 3\\\\\n",
       "\t 1 & 1 & 1 & 4 & 3 & 1 & 3 & 3 & 4 & 4 & 5 & 5 & 5 & 3\\\\\n",
       "\t 1 & 1 & 1 & 4 & 4 & 5 & 4 & 2 & 2 & 1 & 2 & 5 & 2 & 4\\\\\n",
       "\t 1 & 1 & 1 & 4 & 5 & 4 & 5 & 3 & 3 & 1 & 3 & 5 & 3 & 6\\\\\n",
       "\t 1 & 1 & 1 & 4 & 3 & 1 & 3 & 3 & 6 & 5 & 6 & 6 & 5 & 3\\\\\n",
       "\t 1 & 1 & 1 & 4 & 3 & 6 & 6 & 6 & 6 & 1 & 6 & 6 & 6 & 4\\\\\n",
       "\t 1 & 1 & 1 & 4 & 3 & 1 & 3 & 3 & 4 & 4 & 5 & 6 & 5 & 3\\\\\n",
       "\t 1 & 1 & 1 & 4 & 6 & 4 & 6 & 5 & 5 & 1 & 2 & 6 & 5 & 5\\\\\n",
       "\t 1 & 1 & 1 & 4 & 3 & 1 & 3 & 3 & 3 & 5 & 6 & 4 & 5 & 3\\\\\n",
       "\t 1 & 1 & 1 & 4 & 4 & 4 & 4 & 4 & 4 & 1 & 2 & 3 & 4 & 6\\\\\n",
       "\t 1 & 1 & 1 & 5 & 3 & 1 & 3 & 3 & 4 & 3 & 6 & 3 & 6 & 3\\\\\n",
       "\t 1 & 1 & 1 & 5 & 6 & 1 & 6 & 6 & 2 & 4 & 3 & 3 & 5 & 6\\\\\n",
       "\t 1 & 2 & 1 & 2 & 5 & 1 & 5 & 5 & 4 & 6 & 3 & 4 & 3 & 5\\\\\n",
       "\t 1 & 2 & 1 & 2 & 6 & 3 & 2 & 6 & 6 & 1 & 6 & 3 & 6 & 3\\\\\n",
       "\t 1 & 2 & 1 & 2 & 2 & 1 & 2 & 2 & 4 & 5 & 2 & 5 & 3 & 2\\\\\n",
       "\t 1 & 2 & 1 & 3 & 5 & 1 & 5 & 5 & 5 & 5 & 2 & 4 & 2 & 5\\\\\n",
       "\t 1 & 2 & 1 & 3 & 2 & 3 & 3 & 2 & 2 & 1 & 2 & 3 & 2 & 4\\\\\n",
       "\t 1 & 2 & 1 & 3 & 1 & 2 & 2 & 3 & 2 & 2 & 3 & 2 & 4 & 2\\\\\n",
       "\t 1 & 2 & 1 & 3 & 4 & 1 & 4 & 4 & 3 & 6 & 3 & 4 & 3 & 4\\\\\n",
       "\t 1 & 2 & 1 & 3 & 4 & 1 & 6 & 4 & 2 & 2 & 2 & 4 & 4 & 4\\\\\n",
       "\t 1 & 2 & 1 & 3 & 2 & 1 & 2 & 2 & 4 & 6 & 2 & 5 & 3 & 2\\\\\n",
       "\t 1 & 2 & 1 & 3 & 3 & 1 & 5 & 3 & 5 & 2 & 4 & 2 & 4 & 3\\\\\n",
       "\t 1 & 2 & 1 & 3 & 2 & 4 & 4 & 2 & 2 & 1 & 2 & 4 & 2 & 2\\\\\n",
       "\t 1 & 2 & 1 & 3 & 3 & 1 & 3 & 3 & 4 & 4 & 3 & 5 & 4 & 3\\\\\n",
       "\t 1 & 2 & 1 & 3 & 5 & 1 & 5 & 5 & 3 & 2 & 4 & 4 & 3 & 5\\\\\n",
       "\t 1 & 2 & 1 & 3 & 6 & 1 & 4 & 6 & 5 & 5 & 3 & 4 & 3 & 6\\\\\n",
       "\t 1 & 2 & 1 & 3 & 4 & 3 & 3 & 4 & 4 & 1 & 4 & 2 & 4 & 5\\\\\n",
       "\t 1 & 2 & 1 & 3 & 5 & 1 & 5 & 5 & 5 & 4 & 4 & 2 & 4 & 5\\\\\n",
       "\t 1 & 2 & 1 & 4 & 1 & 5 & 5 & 3 & 3 & 4 & 5 & 5 & 4 & 5\\\\\n",
       "\t ... & ... & ... & ... & ... & ... & ... & ... & ... & ... & ... & ... & ... & ...\\\\\n",
       "\t 4 & 6 & 4 & 4 & 3 & 4 & 3 & 3 & 5 & 4 & 5 & 4 & 5 & 3\\\\\n",
       "\t 4 & 6 & 4 & 4 & 6 & 4 & 6 & 6 & 5 & 5 & 5 & 5 & 6 & 6\\\\\n",
       "\t 4 & 6 & 4 & 4 & 2 & 4 & 2 & 2 & 6 & 3 & 6 & 6 & 5 & 2\\\\\n",
       "\t 4 & 6 & 4 & 4 & 6 & 4 & 2 & 6 & 4 & 5 & 6 & 4 & 5 & 6\\\\\n",
       "\t 4 & 6 & 4 & 5 & 2 & 4 & 2 & 2 & 6 & 6 & 5 & 5 & 5 & 2\\\\\n",
       "\t 4 & 6 & 4 & 6 & 6 & 4 & 6 & 6 & 4 & 5 & 6 & 5 & 5 & 6\\\\\n",
       "\t 5 & 4 & 5 & 4 & 6 & 5 & 6 & 6 & 6 & 3 & 4 & 2 & 6 & 6\\\\\n",
       "\t 5 & 6 & 5 & 2 & 2 & 5 & 2 & 2 & 5 & 3 & 6 & 4 & 6 & 2\\\\\n",
       "\t 5 & 6 & 5 & 3 & 6 & 5 & 3 & 6 & 4 & 4 & 4 & 4 & 5 & 6\\\\\n",
       "\t 5 & 6 & 5 & 3 & 5 & 5 & 2 & 5 & 5 & 3 & 6 & 6 & 5 & 5\\\\\n",
       "\t 5 & 6 & 5 & 4 & 5 & 5 & 5 & 5 & 6 & 4 & 5 & 4 & 5 & 5\\\\\n",
       "\t 5 & 6 & 6 & 2 & 6 & 6 & 6 & 6 & 5 & 4 & 5 & 6 & 5 & 6\\\\\n",
       "\t 1 & 5 & 1 & 4 & 5 & 1 & 5 & 5 & 6 & 5 & 6 & 6 & 6 & 5\\\\\n",
       "\t 5 & 5 & 4 & 5 & 5 & 4 & 5 & 5 & 4 & 4 & 4 & 5 & 4 & 5\\\\\n",
       "\t 5 & 6 & 5 & 3 & 5 & 5 & 4 & 5 & 4 & 3 & 3 & 3 & 2 & 5\\\\\n",
       "\t 5 & 6 & 5 & 3 & 3 & 5 & 3 & 3 & 5 & 6 & 6 & 6 & 5 & 3\\\\\n",
       "\t 5 & 6 & 5 & 4 & 3 & 5 & 3 & 3 & 2 & 6 & 3 & 4 & 4 & 3\\\\\n",
       "\t 6 & 1 & 6 & 2 & 3 & 6 & 3 & 3 & 5 & 6 & 6 & 4 & 6 & 3\\\\\n",
       "\t 6 & 2 & 6 & 5 & 6 & 6 & 6 & 6 & 4 & 3 & 4 & 5 & 5 & 6\\\\\n",
       "\t 6 & 3 & 6 & 4 & 3 & 6 & 3 & 3 & 3 & 6 & 5 & 4 & 5 & 3\\\\\n",
       "\t 6 & 3 & 6 & 5 & 2 & 6 & 6 & 2 & 2 & 2 & 4 & 4 & 5 & 2\\\\\n",
       "\t 6 & 5 & 6 & 2 & 6 & 6 & 6 & 6 & 4 & 3 & 5 & 6 & 5 & 6\\\\\n",
       "\t 6 & 5 & 6 & 4 & 3 & 6 & 3 & 3 & 5 & 6 & 5 & 5 & 4 & 3\\\\\n",
       "\t 6 & 5 & 6 & 4 & 5 & 6 & 5 & 5 & 6 & 5 & 5 & 4 & 5 & 5\\\\\n",
       "\t 6 & 6 & 6 & 3 & 3 & 6 & 3 & 3 & 4 & 6 & 4 & 6 & 5 & 3\\\\\n",
       "\t 6 & 6 & 6 & 4 & 3 & 6 & 3 & 3 & 4 & 4 & 5 & 5 & 5 & 3\\\\\n",
       "\t 3 & 4 & 3 & 5 & 3 & 2 & 2 & 4 & 3 & 4 & 4 & 2 & 3 & 2\\\\\n",
       "\t 4 & 1 & 4 & 4 & 4 & 3 & 3 & 5 & 5 & 4 & 5 & 3 & 4 & 3\\\\\n",
       "\t 4 & 3 & 4 & 3 & 4 & 3 & 3 & 4 & 4 & 3 & 4 & 3 & 2 & 3\\\\\n",
       "\t 4 & 5 & 4 & 4 & 4 & 4 & 4 & 5 & 6 & 6 & 6 & 4 & 4 & 4\\\\\n",
       "\\end{tabular}\n"
      ],
      "text/markdown": [
       "\n",
       "A tibble: 129487 × 14\n",
       "\n",
       "| komfort_sedadla &lt;dbl&gt; | cas_odlet_prilet_pohodlnost &lt;dbl&gt; | jidlo_a_piti &lt;dbl&gt; | poloha_gate &lt;dbl&gt; | wifi_na_palube &lt;dbl&gt; | zabava_na_palube &lt;dbl&gt; | online_podpora &lt;dbl&gt; | snadnost_online_rezervace &lt;dbl&gt; | sluzby_na_palube &lt;dbl&gt; | sluzby_pro_prostor_na_nohy &lt;dbl&gt; | manipulace_s_batohem &lt;dbl&gt; | checkin_sluzba &lt;dbl&gt; | cistota &lt;dbl&gt; | online_nastup &lt;dbl&gt; |\n",
       "|---|---|---|---|---|---|---|---|---|---|---|---|---|---|\n",
       "| 1 | 1 | 1 | 3 | 3 | 5 | 3 | 4 | 4 | 1 | 4 | 6 | 4 | 3 |\n",
       "| 1 | 1 | 1 | 4 | 1 | 3 | 3 | 4 | 5 | 5 | 5 | 3 | 4 | 3 |\n",
       "| 1 | 1 | 1 | 4 | 3 | 1 | 3 | 3 | 4 | 4 | 5 | 5 | 5 | 3 |\n",
       "| 1 | 1 | 1 | 4 | 4 | 5 | 4 | 2 | 2 | 1 | 2 | 5 | 2 | 4 |\n",
       "| 1 | 1 | 1 | 4 | 5 | 4 | 5 | 3 | 3 | 1 | 3 | 5 | 3 | 6 |\n",
       "| 1 | 1 | 1 | 4 | 3 | 1 | 3 | 3 | 6 | 5 | 6 | 6 | 5 | 3 |\n",
       "| 1 | 1 | 1 | 4 | 3 | 6 | 6 | 6 | 6 | 1 | 6 | 6 | 6 | 4 |\n",
       "| 1 | 1 | 1 | 4 | 3 | 1 | 3 | 3 | 4 | 4 | 5 | 6 | 5 | 3 |\n",
       "| 1 | 1 | 1 | 4 | 6 | 4 | 6 | 5 | 5 | 1 | 2 | 6 | 5 | 5 |\n",
       "| 1 | 1 | 1 | 4 | 3 | 1 | 3 | 3 | 3 | 5 | 6 | 4 | 5 | 3 |\n",
       "| 1 | 1 | 1 | 4 | 4 | 4 | 4 | 4 | 4 | 1 | 2 | 3 | 4 | 6 |\n",
       "| 1 | 1 | 1 | 5 | 3 | 1 | 3 | 3 | 4 | 3 | 6 | 3 | 6 | 3 |\n",
       "| 1 | 1 | 1 | 5 | 6 | 1 | 6 | 6 | 2 | 4 | 3 | 3 | 5 | 6 |\n",
       "| 1 | 2 | 1 | 2 | 5 | 1 | 5 | 5 | 4 | 6 | 3 | 4 | 3 | 5 |\n",
       "| 1 | 2 | 1 | 2 | 6 | 3 | 2 | 6 | 6 | 1 | 6 | 3 | 6 | 3 |\n",
       "| 1 | 2 | 1 | 2 | 2 | 1 | 2 | 2 | 4 | 5 | 2 | 5 | 3 | 2 |\n",
       "| 1 | 2 | 1 | 3 | 5 | 1 | 5 | 5 | 5 | 5 | 2 | 4 | 2 | 5 |\n",
       "| 1 | 2 | 1 | 3 | 2 | 3 | 3 | 2 | 2 | 1 | 2 | 3 | 2 | 4 |\n",
       "| 1 | 2 | 1 | 3 | 1 | 2 | 2 | 3 | 2 | 2 | 3 | 2 | 4 | 2 |\n",
       "| 1 | 2 | 1 | 3 | 4 | 1 | 4 | 4 | 3 | 6 | 3 | 4 | 3 | 4 |\n",
       "| 1 | 2 | 1 | 3 | 4 | 1 | 6 | 4 | 2 | 2 | 2 | 4 | 4 | 4 |\n",
       "| 1 | 2 | 1 | 3 | 2 | 1 | 2 | 2 | 4 | 6 | 2 | 5 | 3 | 2 |\n",
       "| 1 | 2 | 1 | 3 | 3 | 1 | 5 | 3 | 5 | 2 | 4 | 2 | 4 | 3 |\n",
       "| 1 | 2 | 1 | 3 | 2 | 4 | 4 | 2 | 2 | 1 | 2 | 4 | 2 | 2 |\n",
       "| 1 | 2 | 1 | 3 | 3 | 1 | 3 | 3 | 4 | 4 | 3 | 5 | 4 | 3 |\n",
       "| 1 | 2 | 1 | 3 | 5 | 1 | 5 | 5 | 3 | 2 | 4 | 4 | 3 | 5 |\n",
       "| 1 | 2 | 1 | 3 | 6 | 1 | 4 | 6 | 5 | 5 | 3 | 4 | 3 | 6 |\n",
       "| 1 | 2 | 1 | 3 | 4 | 3 | 3 | 4 | 4 | 1 | 4 | 2 | 4 | 5 |\n",
       "| 1 | 2 | 1 | 3 | 5 | 1 | 5 | 5 | 5 | 4 | 4 | 2 | 4 | 5 |\n",
       "| 1 | 2 | 1 | 4 | 1 | 5 | 5 | 3 | 3 | 4 | 5 | 5 | 4 | 5 |\n",
       "| ... | ... | ... | ... | ... | ... | ... | ... | ... | ... | ... | ... | ... | ... |\n",
       "| 4 | 6 | 4 | 4 | 3 | 4 | 3 | 3 | 5 | 4 | 5 | 4 | 5 | 3 |\n",
       "| 4 | 6 | 4 | 4 | 6 | 4 | 6 | 6 | 5 | 5 | 5 | 5 | 6 | 6 |\n",
       "| 4 | 6 | 4 | 4 | 2 | 4 | 2 | 2 | 6 | 3 | 6 | 6 | 5 | 2 |\n",
       "| 4 | 6 | 4 | 4 | 6 | 4 | 2 | 6 | 4 | 5 | 6 | 4 | 5 | 6 |\n",
       "| 4 | 6 | 4 | 5 | 2 | 4 | 2 | 2 | 6 | 6 | 5 | 5 | 5 | 2 |\n",
       "| 4 | 6 | 4 | 6 | 6 | 4 | 6 | 6 | 4 | 5 | 6 | 5 | 5 | 6 |\n",
       "| 5 | 4 | 5 | 4 | 6 | 5 | 6 | 6 | 6 | 3 | 4 | 2 | 6 | 6 |\n",
       "| 5 | 6 | 5 | 2 | 2 | 5 | 2 | 2 | 5 | 3 | 6 | 4 | 6 | 2 |\n",
       "| 5 | 6 | 5 | 3 | 6 | 5 | 3 | 6 | 4 | 4 | 4 | 4 | 5 | 6 |\n",
       "| 5 | 6 | 5 | 3 | 5 | 5 | 2 | 5 | 5 | 3 | 6 | 6 | 5 | 5 |\n",
       "| 5 | 6 | 5 | 4 | 5 | 5 | 5 | 5 | 6 | 4 | 5 | 4 | 5 | 5 |\n",
       "| 5 | 6 | 6 | 2 | 6 | 6 | 6 | 6 | 5 | 4 | 5 | 6 | 5 | 6 |\n",
       "| 1 | 5 | 1 | 4 | 5 | 1 | 5 | 5 | 6 | 5 | 6 | 6 | 6 | 5 |\n",
       "| 5 | 5 | 4 | 5 | 5 | 4 | 5 | 5 | 4 | 4 | 4 | 5 | 4 | 5 |\n",
       "| 5 | 6 | 5 | 3 | 5 | 5 | 4 | 5 | 4 | 3 | 3 | 3 | 2 | 5 |\n",
       "| 5 | 6 | 5 | 3 | 3 | 5 | 3 | 3 | 5 | 6 | 6 | 6 | 5 | 3 |\n",
       "| 5 | 6 | 5 | 4 | 3 | 5 | 3 | 3 | 2 | 6 | 3 | 4 | 4 | 3 |\n",
       "| 6 | 1 | 6 | 2 | 3 | 6 | 3 | 3 | 5 | 6 | 6 | 4 | 6 | 3 |\n",
       "| 6 | 2 | 6 | 5 | 6 | 6 | 6 | 6 | 4 | 3 | 4 | 5 | 5 | 6 |\n",
       "| 6 | 3 | 6 | 4 | 3 | 6 | 3 | 3 | 3 | 6 | 5 | 4 | 5 | 3 |\n",
       "| 6 | 3 | 6 | 5 | 2 | 6 | 6 | 2 | 2 | 2 | 4 | 4 | 5 | 2 |\n",
       "| 6 | 5 | 6 | 2 | 6 | 6 | 6 | 6 | 4 | 3 | 5 | 6 | 5 | 6 |\n",
       "| 6 | 5 | 6 | 4 | 3 | 6 | 3 | 3 | 5 | 6 | 5 | 5 | 4 | 3 |\n",
       "| 6 | 5 | 6 | 4 | 5 | 6 | 5 | 5 | 6 | 5 | 5 | 4 | 5 | 5 |\n",
       "| 6 | 6 | 6 | 3 | 3 | 6 | 3 | 3 | 4 | 6 | 4 | 6 | 5 | 3 |\n",
       "| 6 | 6 | 6 | 4 | 3 | 6 | 3 | 3 | 4 | 4 | 5 | 5 | 5 | 3 |\n",
       "| 3 | 4 | 3 | 5 | 3 | 2 | 2 | 4 | 3 | 4 | 4 | 2 | 3 | 2 |\n",
       "| 4 | 1 | 4 | 4 | 4 | 3 | 3 | 5 | 5 | 4 | 5 | 3 | 4 | 3 |\n",
       "| 4 | 3 | 4 | 3 | 4 | 3 | 3 | 4 | 4 | 3 | 4 | 3 | 2 | 3 |\n",
       "| 4 | 5 | 4 | 4 | 4 | 4 | 4 | 5 | 6 | 6 | 6 | 4 | 4 | 4 |\n",
       "\n"
      ],
      "text/plain": [
       "       komfort_sedadla cas_odlet_prilet_pohodlnost jidlo_a_piti poloha_gate\n",
       "1      1               1                           1            3          \n",
       "2      1               1                           1            4          \n",
       "3      1               1                           1            4          \n",
       "4      1               1                           1            4          \n",
       "5      1               1                           1            4          \n",
       "6      1               1                           1            4          \n",
       "7      1               1                           1            4          \n",
       "8      1               1                           1            4          \n",
       "9      1               1                           1            4          \n",
       "10     1               1                           1            4          \n",
       "11     1               1                           1            4          \n",
       "12     1               1                           1            5          \n",
       "13     1               1                           1            5          \n",
       "14     1               2                           1            2          \n",
       "15     1               2                           1            2          \n",
       "16     1               2                           1            2          \n",
       "17     1               2                           1            3          \n",
       "18     1               2                           1            3          \n",
       "19     1               2                           1            3          \n",
       "20     1               2                           1            3          \n",
       "21     1               2                           1            3          \n",
       "22     1               2                           1            3          \n",
       "23     1               2                           1            3          \n",
       "24     1               2                           1            3          \n",
       "25     1               2                           1            3          \n",
       "26     1               2                           1            3          \n",
       "27     1               2                           1            3          \n",
       "28     1               2                           1            3          \n",
       "29     1               2                           1            3          \n",
       "30     1               2                           1            4          \n",
       "...    ...             ...                         ...          ...        \n",
       "129458 4               6                           4            4          \n",
       "129459 4               6                           4            4          \n",
       "129460 4               6                           4            4          \n",
       "129461 4               6                           4            4          \n",
       "129462 4               6                           4            5          \n",
       "129463 4               6                           4            6          \n",
       "129464 5               4                           5            4          \n",
       "129465 5               6                           5            2          \n",
       "129466 5               6                           5            3          \n",
       "129467 5               6                           5            3          \n",
       "129468 5               6                           5            4          \n",
       "129469 5               6                           6            2          \n",
       "129470 1               5                           1            4          \n",
       "129471 5               5                           4            5          \n",
       "129472 5               6                           5            3          \n",
       "129473 5               6                           5            3          \n",
       "129474 5               6                           5            4          \n",
       "129475 6               1                           6            2          \n",
       "129476 6               2                           6            5          \n",
       "129477 6               3                           6            4          \n",
       "129478 6               3                           6            5          \n",
       "129479 6               5                           6            2          \n",
       "129480 6               5                           6            4          \n",
       "129481 6               5                           6            4          \n",
       "129482 6               6                           6            3          \n",
       "129483 6               6                           6            4          \n",
       "129484 3               4                           3            5          \n",
       "129485 4               1                           4            4          \n",
       "129486 4               3                           4            3          \n",
       "129487 4               5                           4            4          \n",
       "       wifi_na_palube zabava_na_palube online_podpora snadnost_online_rezervace\n",
       "1      3              5                3              4                        \n",
       "2      1              3                3              4                        \n",
       "3      3              1                3              3                        \n",
       "4      4              5                4              2                        \n",
       "5      5              4                5              3                        \n",
       "6      3              1                3              3                        \n",
       "7      3              6                6              6                        \n",
       "8      3              1                3              3                        \n",
       "9      6              4                6              5                        \n",
       "10     3              1                3              3                        \n",
       "11     4              4                4              4                        \n",
       "12     3              1                3              3                        \n",
       "13     6              1                6              6                        \n",
       "14     5              1                5              5                        \n",
       "15     6              3                2              6                        \n",
       "16     2              1                2              2                        \n",
       "17     5              1                5              5                        \n",
       "18     2              3                3              2                        \n",
       "19     1              2                2              3                        \n",
       "20     4              1                4              4                        \n",
       "21     4              1                6              4                        \n",
       "22     2              1                2              2                        \n",
       "23     3              1                5              3                        \n",
       "24     2              4                4              2                        \n",
       "25     3              1                3              3                        \n",
       "26     5              1                5              5                        \n",
       "27     6              1                4              6                        \n",
       "28     4              3                3              4                        \n",
       "29     5              1                5              5                        \n",
       "30     1              5                5              3                        \n",
       "...    ...            ...              ...            ...                      \n",
       "129458 3              4                3              3                        \n",
       "129459 6              4                6              6                        \n",
       "129460 2              4                2              2                        \n",
       "129461 6              4                2              6                        \n",
       "129462 2              4                2              2                        \n",
       "129463 6              4                6              6                        \n",
       "129464 6              5                6              6                        \n",
       "129465 2              5                2              2                        \n",
       "129466 6              5                3              6                        \n",
       "129467 5              5                2              5                        \n",
       "129468 5              5                5              5                        \n",
       "129469 6              6                6              6                        \n",
       "129470 5              1                5              5                        \n",
       "129471 5              4                5              5                        \n",
       "129472 5              5                4              5                        \n",
       "129473 3              5                3              3                        \n",
       "129474 3              5                3              3                        \n",
       "129475 3              6                3              3                        \n",
       "129476 6              6                6              6                        \n",
       "129477 3              6                3              3                        \n",
       "129478 2              6                6              2                        \n",
       "129479 6              6                6              6                        \n",
       "129480 3              6                3              3                        \n",
       "129481 5              6                5              5                        \n",
       "129482 3              6                3              3                        \n",
       "129483 3              6                3              3                        \n",
       "129484 3              2                2              4                        \n",
       "129485 4              3                3              5                        \n",
       "129486 4              3                3              4                        \n",
       "129487 4              4                4              5                        \n",
       "       sluzby_na_palube sluzby_pro_prostor_na_nohy manipulace_s_batohem\n",
       "1      4                1                          4                   \n",
       "2      5                5                          5                   \n",
       "3      4                4                          5                   \n",
       "4      2                1                          2                   \n",
       "5      3                1                          3                   \n",
       "6      6                5                          6                   \n",
       "7      6                1                          6                   \n",
       "8      4                4                          5                   \n",
       "9      5                1                          2                   \n",
       "10     3                5                          6                   \n",
       "11     4                1                          2                   \n",
       "12     4                3                          6                   \n",
       "13     2                4                          3                   \n",
       "14     4                6                          3                   \n",
       "15     6                1                          6                   \n",
       "16     4                5                          2                   \n",
       "17     5                5                          2                   \n",
       "18     2                1                          2                   \n",
       "19     2                2                          3                   \n",
       "20     3                6                          3                   \n",
       "21     2                2                          2                   \n",
       "22     4                6                          2                   \n",
       "23     5                2                          4                   \n",
       "24     2                1                          2                   \n",
       "25     4                4                          3                   \n",
       "26     3                2                          4                   \n",
       "27     5                5                          3                   \n",
       "28     4                1                          4                   \n",
       "29     5                4                          4                   \n",
       "30     3                4                          5                   \n",
       "...    ...              ...                        ...                 \n",
       "129458 5                4                          5                   \n",
       "129459 5                5                          5                   \n",
       "129460 6                3                          6                   \n",
       "129461 4                5                          6                   \n",
       "129462 6                6                          5                   \n",
       "129463 4                5                          6                   \n",
       "129464 6                3                          4                   \n",
       "129465 5                3                          6                   \n",
       "129466 4                4                          4                   \n",
       "129467 5                3                          6                   \n",
       "129468 6                4                          5                   \n",
       "129469 5                4                          5                   \n",
       "129470 6                5                          6                   \n",
       "129471 4                4                          4                   \n",
       "129472 4                3                          3                   \n",
       "129473 5                6                          6                   \n",
       "129474 2                6                          3                   \n",
       "129475 5                6                          6                   \n",
       "129476 4                3                          4                   \n",
       "129477 3                6                          5                   \n",
       "129478 2                2                          4                   \n",
       "129479 4                3                          5                   \n",
       "129480 5                6                          5                   \n",
       "129481 6                5                          5                   \n",
       "129482 4                6                          4                   \n",
       "129483 4                4                          5                   \n",
       "129484 3                4                          4                   \n",
       "129485 5                4                          5                   \n",
       "129486 4                3                          4                   \n",
       "129487 6                6                          6                   \n",
       "       checkin_sluzba cistota online_nastup\n",
       "1      6              4       3            \n",
       "2      3              4       3            \n",
       "3      5              5       3            \n",
       "4      5              2       4            \n",
       "5      5              3       6            \n",
       "6      6              5       3            \n",
       "7      6              6       4            \n",
       "8      6              5       3            \n",
       "9      6              5       5            \n",
       "10     4              5       3            \n",
       "11     3              4       6            \n",
       "12     3              6       3            \n",
       "13     3              5       6            \n",
       "14     4              3       5            \n",
       "15     3              6       3            \n",
       "16     5              3       2            \n",
       "17     4              2       5            \n",
       "18     3              2       4            \n",
       "19     2              4       2            \n",
       "20     4              3       4            \n",
       "21     4              4       4            \n",
       "22     5              3       2            \n",
       "23     2              4       3            \n",
       "24     4              2       2            \n",
       "25     5              4       3            \n",
       "26     4              3       5            \n",
       "27     4              3       6            \n",
       "28     2              4       5            \n",
       "29     2              4       5            \n",
       "30     5              4       5            \n",
       "...    ...            ...     ...          \n",
       "129458 4              5       3            \n",
       "129459 5              6       6            \n",
       "129460 6              5       2            \n",
       "129461 4              5       6            \n",
       "129462 5              5       2            \n",
       "129463 5              5       6            \n",
       "129464 2              6       6            \n",
       "129465 4              6       2            \n",
       "129466 4              5       6            \n",
       "129467 6              5       5            \n",
       "129468 4              5       5            \n",
       "129469 6              5       6            \n",
       "129470 6              6       5            \n",
       "129471 5              4       5            \n",
       "129472 3              2       5            \n",
       "129473 6              5       3            \n",
       "129474 4              4       3            \n",
       "129475 4              6       3            \n",
       "129476 5              5       6            \n",
       "129477 4              5       3            \n",
       "129478 4              5       2            \n",
       "129479 6              5       6            \n",
       "129480 5              4       3            \n",
       "129481 4              5       5            \n",
       "129482 6              5       3            \n",
       "129483 5              5       3            \n",
       "129484 2              3       2            \n",
       "129485 3              4       3            \n",
       "129486 3              2       3            \n",
       "129487 4              4       4            "
      ]
     },
     "metadata": {},
     "output_type": "display_data"
    },
    {
     "data": {
      "image/png": "[encoded data removed]",
      "text/plain": [
       "Plot with title \"\""
      ]
     },
     "metadata": {
      "image/png": {
       "height": 420,
       "width": 420
      }
     },
     "output_type": "display_data"
    }
   ],
   "source": [
    "library(tidyverse)\n",
    "library(corrplot)\n",
    "\n",
    "# Převod faktorů na numerický formát\n",
    "f_numeric <- f %>%\n",
    "  mutate(across(komfort_sedadla:online_nastup, as.numeric))\n",
    "\n",
    "# Výběr sloupců \"komfort_sedadla\" až \"online_nastup\"\n",
    "selected_cols <- f_numeric %>%\n",
    "  select(komfort_sedadla:online_nastup)\n",
    "\n",
    "selected_cols\n",
    "\n",
    "# Výpočet matice korelace\n",
    "cor_matrix <- cor(selected_cols, method = \"pearson\")\n",
    "\n",
    "# Vykreslení korelační matice\n",
    "corrplot(cor_matrix, type = \"upper\", order = \"hclust\", \n",
    "         tl.col = \"black\", tl.srt = 45)"
   ]
  },
  {
   "cell_type": "code",
   "execution_count": 109,
   "id": "7297efe0",
   "metadata": {},
   "outputs": [
    {
     "data": {
      "image/png": "[encoded data removed]",
      "text/plain": [
       "Plot with title \"Korelační matice\""
      ]
     },
     "metadata": {
      "image/png": {
       "height": 420,
       "width": 420
      }
     },
     "output_type": "display_data"
    }
   ],
   "source": [
    "library(tidyverse)\n",
    "library(corrplot)\n",
    "\n",
    "# Převod faktorů na numerický formát\n",
    "f_numeric <- f %>%\n",
    "  mutate(across(vzdalenost_letu:zpozdeni_priletu_v_minutach, as.numeric))\n",
    "\n",
    "# Výběr sloupců \"komfort_sedadla\" až \"online_nastup\"\n",
    "selected_cols <- f_numeric %>%\n",
    "  select(komfort_sedadla:online_nastup)\n",
    "\n",
    "# Výpočet matice korelace\n",
    "cor_matrix <- cor(selected_cols, method = \"pearson\")\n",
    "\n",
    "# Vykreslení korelační matice\n",
    "corrplot(cor_matrix, main= \"Korelační matice\", type = \"upper\", order = \"hclust\", \n",
    "         tl.col = \"black\", tl.srt = 45)"
   ]
  },
  {
   "cell_type": "code",
   "execution_count": 104,
   "id": "d524db13",
   "metadata": {},
   "outputs": [
    {
     "data": {
      "text/html": [
       "<style>\n",
       ".list-inline {list-style: none; margin:0; padding: 0}\n",
       ".list-inline>li {display: inline-block}\n",
       ".list-inline>li:not(:last-child)::after {content: \"\\00b7\"; padding: 0 .5ex}\n",
       "</style>\n",
       "<ol class=list-inline><li>'id'</li><li>'spokojenost'</li><li>'pohlavi'</li><li>'typ_zakaznika'</li><li>'vek'</li><li>'typ_cestovani'</li><li>'trida'</li><li>'vzdalenost_letu'</li><li>'komfort_sedadla'</li><li>'cas_odlet_prilet_pohodlnost'</li><li>'jidlo_a_piti'</li><li>'poloha_gate'</li><li>'wifi_na_palube'</li><li>'zabava_na_palube'</li><li>'online_podpora'</li><li>'snadnost_online_rezervace'</li><li>'sluzby_na_palube'</li><li>'sluzby_pro_prostor_na_nohy'</li><li>'manipulace_s_batohem'</li><li>'checkin_sluzba'</li><li>'cistota'</li><li>'online_nastup'</li><li>'zpozdeni_odletu_v_minutach'</li><li>'zpozdeni_priletu_v_minutach'</li></ol>\n"
      ],
      "text/latex": [
       "\\begin{enumerate*}\n",
       "\\item 'id'\n",
       "\\item 'spokojenost'\n",
       "\\item 'pohlavi'\n",
       "\\item 'typ\\_zakaznika'\n",
       "\\item 'vek'\n",
       "\\item 'typ\\_cestovani'\n",
       "\\item 'trida'\n",
       "\\item 'vzdalenost\\_letu'\n",
       "\\item 'komfort\\_sedadla'\n",
       "\\item 'cas\\_odlet\\_prilet\\_pohodlnost'\n",
       "\\item 'jidlo\\_a\\_piti'\n",
       "\\item 'poloha\\_gate'\n",
       "\\item 'wifi\\_na\\_palube'\n",
       "\\item 'zabava\\_na\\_palube'\n",
       "\\item 'online\\_podpora'\n",
       "\\item 'snadnost\\_online\\_rezervace'\n",
       "\\item 'sluzby\\_na\\_palube'\n",
       "\\item 'sluzby\\_pro\\_prostor\\_na\\_nohy'\n",
       "\\item 'manipulace\\_s\\_batohem'\n",
       "\\item 'checkin\\_sluzba'\n",
       "\\item 'cistota'\n",
       "\\item 'online\\_nastup'\n",
       "\\item 'zpozdeni\\_odletu\\_v\\_minutach'\n",
       "\\item 'zpozdeni\\_priletu\\_v\\_minutach'\n",
       "\\end{enumerate*}\n"
      ],
      "text/markdown": [
       "1. 'id'\n",
       "2. 'spokojenost'\n",
       "3. 'pohlavi'\n",
       "4. 'typ_zakaznika'\n",
       "5. 'vek'\n",
       "6. 'typ_cestovani'\n",
       "7. 'trida'\n",
       "8. 'vzdalenost_letu'\n",
       "9. 'komfort_sedadla'\n",
       "10. 'cas_odlet_prilet_pohodlnost'\n",
       "11. 'jidlo_a_piti'\n",
       "12. 'poloha_gate'\n",
       "13. 'wifi_na_palube'\n",
       "14. 'zabava_na_palube'\n",
       "15. 'online_podpora'\n",
       "16. 'snadnost_online_rezervace'\n",
       "17. 'sluzby_na_palube'\n",
       "18. 'sluzby_pro_prostor_na_nohy'\n",
       "19. 'manipulace_s_batohem'\n",
       "20. 'checkin_sluzba'\n",
       "21. 'cistota'\n",
       "22. 'online_nastup'\n",
       "23. 'zpozdeni_odletu_v_minutach'\n",
       "24. 'zpozdeni_priletu_v_minutach'\n",
       "\n",
       "\n"
      ],
      "text/plain": [
       " [1] \"id\"                          \"spokojenost\"                \n",
       " [3] \"pohlavi\"                     \"typ_zakaznika\"              \n",
       " [5] \"vek\"                         \"typ_cestovani\"              \n",
       " [7] \"trida\"                       \"vzdalenost_letu\"            \n",
       " [9] \"komfort_sedadla\"             \"cas_odlet_prilet_pohodlnost\"\n",
       "[11] \"jidlo_a_piti\"                \"poloha_gate\"                \n",
       "[13] \"wifi_na_palube\"              \"zabava_na_palube\"           \n",
       "[15] \"online_podpora\"              \"snadnost_online_rezervace\"  \n",
       "[17] \"sluzby_na_palube\"            \"sluzby_pro_prostor_na_nohy\" \n",
       "[19] \"manipulace_s_batohem\"        \"checkin_sluzba\"             \n",
       "[21] \"cistota\"                     \"online_nastup\"              \n",
       "[23] \"zpozdeni_odletu_v_minutach\"  \"zpozdeni_priletu_v_minutach\""
      ]
     },
     "metadata": {},
     "output_type": "display_data"
    }
   ],
   "source": [
    "colnames(f)"
   ]
  },
  {
   "cell_type": "code",
   "execution_count": 119,
   "id": "2274e42c",
   "metadata": {
    "scrolled": true
   },
   "outputs": [
    {
     "data": {
      "text/plain": [
       "\n",
       "Call:\n",
       "lm(formula = spokojenost ~ pohlavi + vzdalenost_letu + typ_cestovani + \n",
       "    trida + vzdalenost_letu + komfort_sedadla + cas_odlet_prilet_pohodlnost + \n",
       "    jidlo_a_piti + poloha_gate + wifi_na_palube + zabava_na_palube + \n",
       "    online_podpora + snadnost_online_rezervace + sluzby_na_palube + \n",
       "    sluzby_pro_prostor_na_nohy + manipulace_s_batohem + checkin_sluzba + \n",
       "    cistota + online_nastup + zpozdeni_odletu_v_minutach + zpozdeni_priletu_v_minutach, \n",
       "    data = f)\n",
       "\n",
       "Residuals:\n",
       "     Min       1Q   Median       3Q      Max \n",
       "-2.58887 -0.33861  0.00629  0.33488  2.64927 \n",
       "\n",
       "Coefficients: (3 not defined because of singularities)\n",
       "                               Estimate Std. Error t value Pr(>|t|)    \n",
       "(Intercept)                   1.285e+00  7.959e-01   1.615 0.106415    \n",
       "pohlaviMale                  -1.637e-01  3.503e-03 -46.740  < 2e-16 ***\n",
       "vzdalenost_letu              -9.256e-06  1.711e-06  -5.411 6.27e-08 ***\n",
       "typ_cestovaniPersonal Travel -7.204e-03  4.733e-03  -1.522 0.127979    \n",
       "tridaEco                     -2.636e-01  4.676e-03 -56.370  < 2e-16 ***\n",
       "tridaEco Plus                -2.302e-01  7.315e-03 -31.468  < 2e-16 ***\n",
       "komfort_sedadla1             -1.502e+00  1.758e-02 -85.413  < 2e-16 ***\n",
       "komfort_sedadla2             -1.605e+00  1.831e-02 -87.652  < 2e-16 ***\n",
       "komfort_sedadla3             -1.636e+00  1.840e-02 -88.948  < 2e-16 ***\n",
       "komfort_sedadla4             -1.339e+00  1.832e-02 -73.103  < 2e-16 ***\n",
       "komfort_sedadla5             -8.051e-01  1.871e-02 -43.034  < 2e-16 ***\n",
       "cas_odlet_prilet_pohodlnost1  3.459e-01  1.057e-02  32.736  < 2e-16 ***\n",
       "cas_odlet_prilet_pohodlnost2  3.431e-01  1.018e-02  33.708  < 2e-16 ***\n",
       "cas_odlet_prilet_pohodlnost3  3.781e-01  9.947e-03  38.016  < 2e-16 ***\n",
       "cas_odlet_prilet_pohodlnost4  1.609e-01  9.342e-03  17.222  < 2e-16 ***\n",
       "cas_odlet_prilet_pohodlnost5 -4.158e-02  9.657e-03  -4.306 1.66e-05 ***\n",
       "jidlo_a_piti1                 4.678e-01  2.161e-02  21.645  < 2e-16 ***\n",
       "jidlo_a_piti2                 4.967e-01  2.195e-02  22.630  < 2e-16 ***\n",
       "jidlo_a_piti3                 5.564e-01  2.185e-02  25.471  < 2e-16 ***\n",
       "jidlo_a_piti4                 4.816e-01  2.170e-02  22.191  < 2e-16 ***\n",
       "jidlo_a_piti5                 6.430e-01  2.199e-02  29.235  < 2e-16 ***\n",
       "poloha_gate1                 -1.387e+00  4.299e-01  -3.228 0.001249 ** \n",
       "poloha_gate2                 -1.372e+00  4.299e-01  -3.192 0.001412 ** \n",
       "poloha_gate3                 -1.485e+00  4.299e-01  -3.455 0.000551 ***\n",
       "poloha_gate4                 -1.413e+00  4.299e-01  -3.287 0.001012 ** \n",
       "poloha_gate5                 -1.510e+00  4.299e-01  -3.513 0.000444 ***\n",
       "wifi_na_palube1              -2.906e-01  5.883e-02  -4.940 7.84e-07 ***\n",
       "wifi_na_palube2              -2.598e-01  5.853e-02  -4.438 9.08e-06 ***\n",
       "wifi_na_palube3              -3.129e-01  5.851e-02  -5.348 8.91e-08 ***\n",
       "wifi_na_palube4              -3.521e-01  5.853e-02  -6.015 1.80e-09 ***\n",
       "wifi_na_palube5              -3.615e-01  5.856e-02  -6.173 6.73e-10 ***\n",
       "zabava_na_palube1            -5.919e-01  1.871e-02 -31.639  < 2e-16 ***\n",
       "zabava_na_palube2            -5.705e-01  1.841e-02 -30.995  < 2e-16 ***\n",
       "zabava_na_palube3            -5.785e-01  1.816e-02 -31.851  < 2e-16 ***\n",
       "zabava_na_palube4             1.969e-02  1.782e-02   1.105 0.269020    \n",
       "zabava_na_palube5             2.263e-01  1.792e-02  12.631  < 2e-16 ***\n",
       "online_podpora1               1.452e+00  6.078e-01   2.388 0.016944 *  \n",
       "online_podpora2               1.395e+00  6.078e-01   2.296 0.021701 *  \n",
       "online_podpora3               1.182e+00  6.078e-01   1.945 0.051743 .  \n",
       "online_podpora4               1.377e+00  6.078e-01   2.265 0.023526 *  \n",
       "online_podpora5               1.454e+00  6.078e-01   2.392 0.016765 *  \n",
       "snadnost_online_rezervace1    1.397e+00  1.800e-01   7.759 8.62e-15 ***\n",
       "snadnost_online_rezervace2    1.615e+00  1.799e-01   8.979  < 2e-16 ***\n",
       "snadnost_online_rezervace3    1.827e+00  1.797e-01  10.166  < 2e-16 ***\n",
       "snadnost_online_rezervace4    1.984e+00  1.797e-01  11.044  < 2e-16 ***\n",
       "snadnost_online_rezervace5    1.788e+00  1.797e-01   9.950  < 2e-16 ***\n",
       "sluzby_na_palube1            -1.269e+00  3.259e-01  -3.894 9.85e-05 ***\n",
       "sluzby_na_palube2            -1.222e+00  3.259e-01  -3.751 0.000176 ***\n",
       "sluzby_na_palube3            -1.181e+00  3.259e-01  -3.624 0.000291 ***\n",
       "sluzby_na_palube4            -1.113e+00  3.259e-01  -3.416 0.000636 ***\n",
       "sluzby_na_palube5            -1.018e+00  3.259e-01  -3.123 0.001789 ** \n",
       "sluzby_pro_prostor_na_nohy1  -2.708e-01  3.254e-02  -8.321  < 2e-16 ***\n",
       "sluzby_pro_prostor_na_nohy2  -2.360e-01  3.239e-02  -7.286 3.21e-13 ***\n",
       "sluzby_pro_prostor_na_nohy3  -2.599e-01  3.240e-02  -8.022 1.04e-15 ***\n",
       "sluzby_pro_prostor_na_nohy4  -7.221e-02  3.234e-02  -2.233 0.025565 *  \n",
       "sluzby_pro_prostor_na_nohy5  -7.608e-02  3.236e-02  -2.351 0.018725 *  \n",
       "manipulace_s_batohem2        -9.445e-03  1.006e-02  -0.939 0.347700    \n",
       "manipulace_s_batohem3        -1.159e-01  9.162e-03 -12.644  < 2e-16 ***\n",
       "manipulace_s_batohem4        -4.553e-02  8.947e-03  -5.089 3.61e-07 ***\n",
       "manipulace_s_batohem5         3.584e-02  9.396e-03   3.814 0.000137 ***\n",
       "checkin_sluzba1              -1.876e-01  6.707e-03 -27.968  < 2e-16 ***\n",
       "checkin_sluzba2              -1.571e-01  6.701e-03 -23.438  < 2e-16 ***\n",
       "checkin_sluzba3              -8.903e-02  5.001e-03 -17.802  < 2e-16 ***\n",
       "checkin_sluzba4              -9.363e-02  4.965e-03 -18.858  < 2e-16 ***\n",
       "checkin_sluzba5                      NA         NA      NA       NA    \n",
       "cistota1                     -2.740e-02  9.735e-03  -2.815 0.004882 ** \n",
       "cistota2                     -4.312e-02  8.803e-03  -4.898 9.69e-07 ***\n",
       "cistota3                     -1.628e-01  7.039e-03 -23.128  < 2e-16 ***\n",
       "cistota4                     -1.008e-01  5.721e-03 -17.627  < 2e-16 ***\n",
       "cistota5                             NA         NA      NA       NA    \n",
       "online_nastup1               -3.020e-02  9.929e-03  -3.041 0.002357 ** \n",
       "online_nastup2               -8.885e-02  9.527e-03  -9.325  < 2e-16 ***\n",
       "online_nastup3                8.980e-03  6.476e-03   1.387 0.165542    \n",
       "online_nastup4               -5.604e-02  6.368e-03  -8.800  < 2e-16 ***\n",
       "online_nastup5                       NA         NA      NA       NA    \n",
       "zpozdeni_odletu_v_minutach    5.382e-04  1.705e-04   3.156 0.001598 ** \n",
       "zpozdeni_priletu_v_minutach  -1.392e-03  1.683e-04  -8.268  < 2e-16 ***\n",
       "---\n",
       "Signif. codes:  0 '***' 0.001 '**' 0.01 '*' 0.05 '.' 0.1 ' ' 1\n",
       "\n",
       "Residual standard error: 0.6075 on 129413 degrees of freedom\n",
       "Multiple R-squared:  0.6279,\tAdjusted R-squared:  0.6277 \n",
       "F-statistic:  2991 on 73 and 129413 DF,  p-value: < 2.2e-16\n"
      ]
     },
     "metadata": {},
     "output_type": "display_data"
    }
   ],
   "source": [
    "# Provedení lineární regrese\n",
    "lm_model <- lm(spokojenost ~ pohlavi + vzdalenost_letu +typ_cestovani+trida+vzdalenost_letu+\n",
    "               komfort_sedadla+cas_odlet_prilet_pohodlnost+jidlo_a_piti+poloha_gate+wifi_na_palube+zabava_na_palube+\n",
    "               online_podpora+snadnost_online_rezervace+sluzby_na_palube+sluzby_pro_prostor_na_nohy+\n",
    "               manipulace_s_batohem+checkin_sluzba+cistota+online_nastup+zpozdeni_odletu_v_minutach+\n",
    "               zpozdeni_priletu_v_minutach, data = f)\n",
    "\n",
    "# Výpis výsledků regrese\n",
    "summary(lm_model)"
   ]
  },
  {
   "cell_type": "code",
   "execution_count": 124,
   "id": "885a84b0",
   "metadata": {},
   "outputs": [
    {
     "data": {
      "image/png": "[encoded data removed]",
      "text/plain": [
       "plot without title"
      ]
     },
     "metadata": {
      "image/png": {
       "height": 420,
       "width": 420
      }
     },
     "output_type": "display_data"
    }
   ],
   "source": [
    "library(rpart)\n",
    "library(rpart.plot)\n",
    "\n",
    "tree_model <- rpart(spokojenost ~ ., data = f, method = \"class\")\n",
    "\n",
    "\n",
    "# Vykreslení rozhodovacího stromu pomocí rpart.plot\n",
    "rpart.plot(tree_model, box.palette = \"Blues\", shadow.col = \"gray\", nn = TRUE, type = 3)"
   ]
  },
  {
   "cell_type": "code",
   "execution_count": 125,
   "id": "31da563b",
   "metadata": {},
   "outputs": [
    {
     "ename": "ERROR",
     "evalue": "Error in eval(expr, envir, enclos): object 'kmeans_model' not found\n",
     "output_type": "error",
     "traceback": [
      "Error in eval(expr, envir, enclos): object 'kmeans_model' not found\nTraceback:\n"
     ]
    }
   ],
   "source": [
    "f$cluster <- kmeans_model$cluster\n",
    "\n",
    "# Výběr proměnných pro vizualizaci\n",
    "vars <- c(f$komfort_sedadla, f$jidlo_a_piti)\n",
    "\n",
    "# Vytvoření grafu rozptylu s přiřazením shluků k barevným skupinám\n",
    "ggplot(f, aes(x = komfort_sedadla, y = jidlo_a_piti, color = factor(cluster))) +\n",
    "  geom_point() +\n",
    "  labs(x = \"Komfort sedadla\", y = \"Jídlo a pití\", color = \"Shluk\") +\n",
    "  theme_minimal()"
   ]
  }
 ],
 "metadata": {
  "kernelspec": {
   "display_name": "R",
   "language": "R",
   "name": "ir"
  },
  "language_info": {
   "codemirror_mode": "r",
   "file_extension": ".r",
   "mimetype": "text/x-r-source",
   "name": "R",
   "pygments_lexer": "r",
   "version": "4.1.3"
  }
 },
 "nbformat": 4,
 "nbformat_minor": 5
}
